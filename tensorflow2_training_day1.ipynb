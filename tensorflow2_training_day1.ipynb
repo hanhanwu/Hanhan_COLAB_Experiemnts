{
  "nbformat": 4,
  "nbformat_minor": 0,
  "metadata": {
    "colab": {
      "name": "tensorflow2_training_day1.ipynb",
      "provenance": [],
      "collapsed_sections": [],
      "authorship_tag": "ABX9TyOG9mJG7omseTU6SIOBziPb",
      "include_colab_link": true
    },
    "kernelspec": {
      "name": "python3",
      "display_name": "Python 3"
    }
  },
  "cells": [
    {
      "cell_type": "markdown",
      "metadata": {
        "id": "view-in-github",
        "colab_type": "text"
      },
      "source": [
        "<a href=\"https://colab.research.google.com/github/hanhanwu/Hanhan_COLAB_Experiemnts/blob/master/tensorflow2_training_day1.ipynb\" target=\"_parent\"><img src=\"https://colab.research.google.com/assets/colab-badge.svg\" alt=\"Open In Colab\"/></a>"
      ]
    },
    {
      "cell_type": "markdown",
      "metadata": {
        "id": "VOBC7tJByU22",
        "colab_type": "text"
      },
      "source": [
        "## Replace Tensorflow 1 to Tensorflow 2"
      ]
    },
    {
      "cell_type": "code",
      "metadata": {
        "id": "6az51vIYySLw",
        "colab_type": "code",
        "colab": {}
      },
      "source": [
        "!pip uninstall tensorflow\n",
        "\n",
        "!pip install tensorflow==2.0.0"
      ],
      "execution_count": 0,
      "outputs": []
    },
    {
      "cell_type": "code",
      "metadata": {
        "id": "p3RgEpzC4fdK",
        "colab_type": "code",
        "colab": {
          "base_uri": "https://localhost:8080/",
          "height": 34
        },
        "outputId": "d6f0d105-b9a2-4636-8f91-add58c637b69"
      },
      "source": [
        "from google.cloud import bigquery\n",
        "import seaborn as sns\n",
        "import matplotlib.pyplot as plt\n",
        "import pandas as pd\n",
        "import numpy as np\n",
        "import shutil\n",
        "import os, json, math\n",
        "import tensorflow as tf\n",
        "print(\"TensorFlow version: \",tf.version.VERSION)"
      ],
      "execution_count": 1,
      "outputs": [
        {
          "output_type": "stream",
          "text": [
            "TensorFlow version:  2.0.0\n"
          ],
          "name": "stdout"
        }
      ]
    },
    {
      "cell_type": "markdown",
      "metadata": {
        "id": "jmj11HTsGXJW",
        "colab_type": "text"
      },
      "source": [
        "## Query Data Input\n",
        "\n",
        "I got the data from a public dataset though Google BigQuery.\n",
        "\n",
        "Run the query below here:\n",
        "https://console.cloud.google.com/bigquery?p=nyc-tlc&d=yellow&t=trips&page=table,\n",
        "and save the query results.\n",
        "\n",
        "```\n",
        "SELECT\n",
        "    FORMAT_TIMESTAMP(\"%Y-%m-%d %H:%M:%S %Z\", pickup_datetime) AS pickup_datetime,\n",
        "    pickup_longitude, pickup_latitude, \n",
        "    dropoff_longitude, dropoff_latitude,\n",
        "    passenger_count,\n",
        "    trip_distance,\n",
        "    tolls_amount,\n",
        "    fare_amount,\n",
        "    total_amount\n",
        "  FROM\n",
        "    `nyc-tlc.yellow.trips`\n",
        "  WHERE\n",
        "    ABS(MOD(FARM_FINGERPRINT(CAST(pickup_datetime AS STRING)), 100000)) = 1\n",
        "    AND trip_distance > 0 AND fare_amount >= 2.5\n",
        "\n",
        "```"
      ]
    },
    {
      "cell_type": "markdown",
      "metadata": {
        "id": "D_TV7K-IsEhP",
        "colab_type": "text"
      },
      "source": [
        "## Data Preprocessing"
      ]
    },
    {
      "cell_type": "code",
      "metadata": {
        "id": "iHsdplb-rrbF",
        "colab_type": "code",
        "colab": {
          "base_uri": "https://localhost:8080/",
          "height": 334
        },
        "outputId": "92d99e58-c45a-473b-bc58-84234cc15c05"
      },
      "source": [
        "trips = pd.read_csv('trips.csv')\n",
        "print(trips.shape)\n",
        "\n",
        "trips.describe()"
      ],
      "execution_count": 2,
      "outputs": [
        {
          "output_type": "stream",
          "text": [
            "(10716, 10)\n"
          ],
          "name": "stdout"
        },
        {
          "output_type": "execute_result",
          "data": {
            "text/html": [
              "<div>\n",
              "<style scoped>\n",
              "    .dataframe tbody tr th:only-of-type {\n",
              "        vertical-align: middle;\n",
              "    }\n",
              "\n",
              "    .dataframe tbody tr th {\n",
              "        vertical-align: top;\n",
              "    }\n",
              "\n",
              "    .dataframe thead th {\n",
              "        text-align: right;\n",
              "    }\n",
              "</style>\n",
              "<table border=\"1\" class=\"dataframe\">\n",
              "  <thead>\n",
              "    <tr style=\"text-align: right;\">\n",
              "      <th></th>\n",
              "      <th>pickup_longitude</th>\n",
              "      <th>pickup_latitude</th>\n",
              "      <th>dropoff_longitude</th>\n",
              "      <th>dropoff_latitude</th>\n",
              "      <th>passenger_count</th>\n",
              "      <th>trip_distance</th>\n",
              "      <th>tolls_amount</th>\n",
              "      <th>fare_amount</th>\n",
              "      <th>total_amount</th>\n",
              "    </tr>\n",
              "  </thead>\n",
              "  <tbody>\n",
              "    <tr>\n",
              "      <th>count</th>\n",
              "      <td>10716.000000</td>\n",
              "      <td>10716.000000</td>\n",
              "      <td>10716.000000</td>\n",
              "      <td>10716.000000</td>\n",
              "      <td>10716.000000</td>\n",
              "      <td>10716.000000</td>\n",
              "      <td>10716.000000</td>\n",
              "      <td>10716.000000</td>\n",
              "      <td>10716.000000</td>\n",
              "    </tr>\n",
              "    <tr>\n",
              "      <th>mean</th>\n",
              "      <td>-72.602192</td>\n",
              "      <td>40.002372</td>\n",
              "      <td>-72.594838</td>\n",
              "      <td>40.002052</td>\n",
              "      <td>1.650056</td>\n",
              "      <td>2.856395</td>\n",
              "      <td>0.226428</td>\n",
              "      <td>11.109446</td>\n",
              "      <td>13.217078</td>\n",
              "    </tr>\n",
              "    <tr>\n",
              "      <th>std</th>\n",
              "      <td>9.982373</td>\n",
              "      <td>5.474670</td>\n",
              "      <td>10.004324</td>\n",
              "      <td>5.474648</td>\n",
              "      <td>1.283577</td>\n",
              "      <td>3.322024</td>\n",
              "      <td>1.135934</td>\n",
              "      <td>9.137710</td>\n",
              "      <td>10.953156</td>\n",
              "    </tr>\n",
              "    <tr>\n",
              "      <th>min</th>\n",
              "      <td>-74.258183</td>\n",
              "      <td>0.000000</td>\n",
              "      <td>-74.260472</td>\n",
              "      <td>0.000000</td>\n",
              "      <td>0.000000</td>\n",
              "      <td>0.010000</td>\n",
              "      <td>0.000000</td>\n",
              "      <td>2.500000</td>\n",
              "      <td>2.500000</td>\n",
              "    </tr>\n",
              "    <tr>\n",
              "      <th>25%</th>\n",
              "      <td>-73.992153</td>\n",
              "      <td>40.735936</td>\n",
              "      <td>-73.991566</td>\n",
              "      <td>40.734310</td>\n",
              "      <td>1.000000</td>\n",
              "      <td>1.040000</td>\n",
              "      <td>0.000000</td>\n",
              "      <td>6.000000</td>\n",
              "      <td>7.300000</td>\n",
              "    </tr>\n",
              "    <tr>\n",
              "      <th>50%</th>\n",
              "      <td>-73.981851</td>\n",
              "      <td>40.753264</td>\n",
              "      <td>-73.980373</td>\n",
              "      <td>40.752956</td>\n",
              "      <td>1.000000</td>\n",
              "      <td>1.770000</td>\n",
              "      <td>0.000000</td>\n",
              "      <td>8.500000</td>\n",
              "      <td>10.000000</td>\n",
              "    </tr>\n",
              "    <tr>\n",
              "      <th>75%</th>\n",
              "      <td>-73.967400</td>\n",
              "      <td>40.767340</td>\n",
              "      <td>-73.964142</td>\n",
              "      <td>40.767510</td>\n",
              "      <td>2.000000</td>\n",
              "      <td>3.160000</td>\n",
              "      <td>0.000000</td>\n",
              "      <td>12.500000</td>\n",
              "      <td>14.600000</td>\n",
              "    </tr>\n",
              "    <tr>\n",
              "      <th>max</th>\n",
              "      <td>0.000000</td>\n",
              "      <td>41.366138</td>\n",
              "      <td>0.000000</td>\n",
              "      <td>41.366138</td>\n",
              "      <td>6.000000</td>\n",
              "      <td>42.800000</td>\n",
              "      <td>16.000000</td>\n",
              "      <td>179.000000</td>\n",
              "      <td>179.000000</td>\n",
              "    </tr>\n",
              "  </tbody>\n",
              "</table>\n",
              "</div>"
            ],
            "text/plain": [
              "       pickup_longitude  pickup_latitude  ...   fare_amount  total_amount\n",
              "count      10716.000000     10716.000000  ...  10716.000000  10716.000000\n",
              "mean         -72.602192        40.002372  ...     11.109446     13.217078\n",
              "std            9.982373         5.474670  ...      9.137710     10.953156\n",
              "min          -74.258183         0.000000  ...      2.500000      2.500000\n",
              "25%          -73.992153        40.735936  ...      6.000000      7.300000\n",
              "50%          -73.981851        40.753264  ...      8.500000     10.000000\n",
              "75%          -73.967400        40.767340  ...     12.500000     14.600000\n",
              "max            0.000000        41.366138  ...    179.000000    179.000000\n",
              "\n",
              "[8 rows x 9 columns]"
            ]
          },
          "metadata": {
            "tags": []
          },
          "execution_count": 2
        }
      ]
    },
    {
      "cell_type": "code",
      "metadata": {
        "id": "Fmy9rs1NrtqR",
        "colab_type": "code",
        "colab": {
          "base_uri": "https://localhost:8080/",
          "height": 297
        },
        "outputId": "3416d740-d534-463a-b614-143261fc3515"
      },
      "source": [
        "def preprocess(trips_in):\n",
        "  trips = trips_in.copy(deep=True)\n",
        "  trips.fare_amount = trips.fare_amount + trips.tolls_amount\n",
        "  del trips['tolls_amount']\n",
        "  del trips['total_amount']\n",
        "  del trips['trip_distance'] # we won't know this in advance!\n",
        "\n",
        "  qc = np.all([\\\n",
        "             trips['pickup_longitude'] > -78, \\\n",
        "             trips['pickup_longitude'] < -70, \\\n",
        "             trips['dropoff_longitude'] > -78, \\\n",
        "             trips['dropoff_longitude'] < -70, \\\n",
        "             trips['pickup_latitude'] > 37, \\\n",
        "             trips['pickup_latitude'] < 45, \\\n",
        "             trips['dropoff_latitude'] > 37, \\\n",
        "             trips['dropoff_latitude'] < 45, \\\n",
        "             trips['passenger_count'] > 0,\n",
        "            ], axis=0)\n",
        "  return trips[qc]\n",
        "\n",
        "tripsqc = preprocess(trips)\n",
        "tripsqc.describe()"
      ],
      "execution_count": 3,
      "outputs": [
        {
          "output_type": "execute_result",
          "data": {
            "text/html": [
              "<div>\n",
              "<style scoped>\n",
              "    .dataframe tbody tr th:only-of-type {\n",
              "        vertical-align: middle;\n",
              "    }\n",
              "\n",
              "    .dataframe tbody tr th {\n",
              "        vertical-align: top;\n",
              "    }\n",
              "\n",
              "    .dataframe thead th {\n",
              "        text-align: right;\n",
              "    }\n",
              "</style>\n",
              "<table border=\"1\" class=\"dataframe\">\n",
              "  <thead>\n",
              "    <tr style=\"text-align: right;\">\n",
              "      <th></th>\n",
              "      <th>pickup_longitude</th>\n",
              "      <th>pickup_latitude</th>\n",
              "      <th>dropoff_longitude</th>\n",
              "      <th>dropoff_latitude</th>\n",
              "      <th>passenger_count</th>\n",
              "      <th>fare_amount</th>\n",
              "    </tr>\n",
              "  </thead>\n",
              "  <tbody>\n",
              "    <tr>\n",
              "      <th>count</th>\n",
              "      <td>10476.000000</td>\n",
              "      <td>10476.000000</td>\n",
              "      <td>10476.000000</td>\n",
              "      <td>10476.000000</td>\n",
              "      <td>10476.000000</td>\n",
              "      <td>10476.000000</td>\n",
              "    </tr>\n",
              "    <tr>\n",
              "      <th>mean</th>\n",
              "      <td>-73.975206</td>\n",
              "      <td>40.751526</td>\n",
              "      <td>-73.974373</td>\n",
              "      <td>40.751199</td>\n",
              "      <td>1.653303</td>\n",
              "      <td>11.349003</td>\n",
              "    </tr>\n",
              "    <tr>\n",
              "      <th>std</th>\n",
              "      <td>0.038547</td>\n",
              "      <td>0.029187</td>\n",
              "      <td>0.039086</td>\n",
              "      <td>0.033147</td>\n",
              "      <td>1.278827</td>\n",
              "      <td>9.878630</td>\n",
              "    </tr>\n",
              "    <tr>\n",
              "      <th>min</th>\n",
              "      <td>-74.258183</td>\n",
              "      <td>40.452290</td>\n",
              "      <td>-74.260472</td>\n",
              "      <td>40.417750</td>\n",
              "      <td>1.000000</td>\n",
              "      <td>2.500000</td>\n",
              "    </tr>\n",
              "    <tr>\n",
              "      <th>25%</th>\n",
              "      <td>-73.992336</td>\n",
              "      <td>40.737600</td>\n",
              "      <td>-73.991739</td>\n",
              "      <td>40.735904</td>\n",
              "      <td>1.000000</td>\n",
              "      <td>6.000000</td>\n",
              "    </tr>\n",
              "    <tr>\n",
              "      <th>50%</th>\n",
              "      <td>-73.982090</td>\n",
              "      <td>40.754020</td>\n",
              "      <td>-73.980780</td>\n",
              "      <td>40.753597</td>\n",
              "      <td>1.000000</td>\n",
              "      <td>8.500000</td>\n",
              "    </tr>\n",
              "    <tr>\n",
              "      <th>75%</th>\n",
              "      <td>-73.968517</td>\n",
              "      <td>40.767774</td>\n",
              "      <td>-73.965851</td>\n",
              "      <td>40.767921</td>\n",
              "      <td>2.000000</td>\n",
              "      <td>12.500000</td>\n",
              "    </tr>\n",
              "    <tr>\n",
              "      <th>max</th>\n",
              "      <td>-73.137393</td>\n",
              "      <td>41.366138</td>\n",
              "      <td>-73.137393</td>\n",
              "      <td>41.366138</td>\n",
              "      <td>6.000000</td>\n",
              "      <td>179.000000</td>\n",
              "    </tr>\n",
              "  </tbody>\n",
              "</table>\n",
              "</div>"
            ],
            "text/plain": [
              "       pickup_longitude  pickup_latitude  ...  passenger_count   fare_amount\n",
              "count      10476.000000     10476.000000  ...     10476.000000  10476.000000\n",
              "mean         -73.975206        40.751526  ...         1.653303     11.349003\n",
              "std            0.038547         0.029187  ...         1.278827      9.878630\n",
              "min          -74.258183        40.452290  ...         1.000000      2.500000\n",
              "25%          -73.992336        40.737600  ...         1.000000      6.000000\n",
              "50%          -73.982090        40.754020  ...         1.000000      8.500000\n",
              "75%          -73.968517        40.767774  ...         2.000000     12.500000\n",
              "max          -73.137393        41.366138  ...         6.000000    179.000000\n",
              "\n",
              "[8 rows x 6 columns]"
            ]
          },
          "metadata": {
            "tags": []
          },
          "execution_count": 3
        }
      ]
    },
    {
      "cell_type": "code",
      "metadata": {
        "id": "k2JuFHwUrv4J",
        "colab_type": "code",
        "colab": {
          "base_uri": "https://localhost:8080/",
          "height": 663
        },
        "outputId": "11d81d26-f699-45d4-a484-262177a855be"
      },
      "source": [
        "shuffled = tripsqc.sample(frac=1)\n",
        "trainsize = int(len(shuffled['fare_amount']) * 0.70)\n",
        "validsize = int(len(shuffled['fare_amount']) * 0.15)\n",
        "\n",
        "df_train = shuffled.iloc[:trainsize, :]\n",
        "df_valid = shuffled.iloc[trainsize:(trainsize+validsize), :]\n",
        "df_test = shuffled.iloc[(trainsize+validsize):, :]\n",
        "\n",
        "print(df_train.shape, df_valid, df_test)\n",
        "df_train.head()"
      ],
      "execution_count": 4,
      "outputs": [
        {
          "output_type": "stream",
          "text": [
            "(7333, 7)               pickup_datetime  pickup_longitude  ...  passenger_count  fare_amount\n",
            "1032  2009-01-03 23:03:21 UTC        -73.981123  ...                1         7.40\n",
            "1232  2015-05-21 19:49:34 UTC        -73.972557  ...                1        28.50\n",
            "185   2013-12-06 14:55:00 UTC        -73.950282  ...                2        22.00\n",
            "115   2009-05-27 20:37:00 UTC        -73.977602  ...                1        37.85\n",
            "1726  2013-12-06 14:55:00 UTC        -73.996420  ...                1         4.00\n",
            "...                       ...               ...  ...              ...          ...\n",
            "5170  2012-09-01 18:16:04 UTC        -73.978177  ...                2        10.50\n",
            "7652  2009-12-07 20:49:00 UTC        -73.987735  ...                1        10.10\n",
            "8602  2012-07-24 17:33:09 UTC        -73.962727  ...                2        11.70\n",
            "842   2009-05-27 20:37:00 UTC        -73.874505  ...                2        26.25\n",
            "4772  2013-01-29 05:21:00 UTC        -73.983727  ...                6         9.50\n",
            "\n",
            "[1571 rows x 7 columns]                pickup_datetime  pickup_longitude  ...  passenger_count  fare_amount\n",
            "10408  2010-12-21 13:08:00 UTC        -73.990958  ...                4          8.9\n",
            "4970   2014-09-10 07:23:17 UTC        -73.979572  ...                1         10.0\n",
            "10085  2009-05-26 19:22:49 UTC        -73.989143  ...                1          5.7\n",
            "514    2012-03-04 00:57:00 UTC        -73.955437  ...                6         17.7\n",
            "9651   2012-07-05 14:18:00 UTC        -73.976200  ...                1         11.3\n",
            "...                        ...               ...  ...              ...          ...\n",
            "2505   2012-11-19 17:41:00 UTC        -73.955958  ...                1          5.5\n",
            "5412   2012-11-23 14:11:19 UTC        -73.976846  ...                1         11.0\n",
            "7489   2011-03-19 03:32:00 UTC        -73.982357  ...                1          8.1\n",
            "7352   2010-02-04 16:41:42 UTC        -73.992719  ...                1          7.3\n",
            "1688   2015-05-22 23:23:16 UTC        -73.956932  ...                2          4.0\n",
            "\n",
            "[1572 rows x 7 columns]\n"
          ],
          "name": "stdout"
        },
        {
          "output_type": "execute_result",
          "data": {
            "text/html": [
              "<div>\n",
              "<style scoped>\n",
              "    .dataframe tbody tr th:only-of-type {\n",
              "        vertical-align: middle;\n",
              "    }\n",
              "\n",
              "    .dataframe tbody tr th {\n",
              "        vertical-align: top;\n",
              "    }\n",
              "\n",
              "    .dataframe thead th {\n",
              "        text-align: right;\n",
              "    }\n",
              "</style>\n",
              "<table border=\"1\" class=\"dataframe\">\n",
              "  <thead>\n",
              "    <tr style=\"text-align: right;\">\n",
              "      <th></th>\n",
              "      <th>pickup_datetime</th>\n",
              "      <th>pickup_longitude</th>\n",
              "      <th>pickup_latitude</th>\n",
              "      <th>dropoff_longitude</th>\n",
              "      <th>dropoff_latitude</th>\n",
              "      <th>passenger_count</th>\n",
              "      <th>fare_amount</th>\n",
              "    </tr>\n",
              "  </thead>\n",
              "  <tbody>\n",
              "    <tr>\n",
              "      <th>7330</th>\n",
              "      <td>2012-03-04 00:57:00 UTC</td>\n",
              "      <td>-73.997593</td>\n",
              "      <td>40.741450</td>\n",
              "      <td>-73.992210</td>\n",
              "      <td>40.725512</td>\n",
              "      <td>3</td>\n",
              "      <td>7.3</td>\n",
              "    </tr>\n",
              "    <tr>\n",
              "      <th>10600</th>\n",
              "      <td>2011-11-02 19:09:52 UTC</td>\n",
              "      <td>-73.996700</td>\n",
              "      <td>40.763400</td>\n",
              "      <td>-74.002200</td>\n",
              "      <td>40.737700</td>\n",
              "      <td>1</td>\n",
              "      <td>10.9</td>\n",
              "    </tr>\n",
              "    <tr>\n",
              "      <th>1209</th>\n",
              "      <td>2015-06-29 07:57:07 UTC</td>\n",
              "      <td>-73.951134</td>\n",
              "      <td>40.785755</td>\n",
              "      <td>-74.004387</td>\n",
              "      <td>40.707428</td>\n",
              "      <td>1</td>\n",
              "      <td>25.0</td>\n",
              "    </tr>\n",
              "    <tr>\n",
              "      <th>6197</th>\n",
              "      <td>2009-05-27 20:37:00 UTC</td>\n",
              "      <td>-73.954580</td>\n",
              "      <td>40.774058</td>\n",
              "      <td>-73.992832</td>\n",
              "      <td>40.758532</td>\n",
              "      <td>1</td>\n",
              "      <td>14.5</td>\n",
              "    </tr>\n",
              "    <tr>\n",
              "      <th>4015</th>\n",
              "      <td>2014-03-21 09:14:34 UTC</td>\n",
              "      <td>-73.997633</td>\n",
              "      <td>40.756639</td>\n",
              "      <td>-73.984063</td>\n",
              "      <td>40.762877</td>\n",
              "      <td>1</td>\n",
              "      <td>8.0</td>\n",
              "    </tr>\n",
              "  </tbody>\n",
              "</table>\n",
              "</div>"
            ],
            "text/plain": [
              "               pickup_datetime  pickup_longitude  ...  passenger_count  fare_amount\n",
              "7330   2012-03-04 00:57:00 UTC        -73.997593  ...                3          7.3\n",
              "10600  2011-11-02 19:09:52 UTC        -73.996700  ...                1         10.9\n",
              "1209   2015-06-29 07:57:07 UTC        -73.951134  ...                1         25.0\n",
              "6197   2009-05-27 20:37:00 UTC        -73.954580  ...                1         14.5\n",
              "4015   2014-03-21 09:14:34 UTC        -73.997633  ...                1          8.0\n",
              "\n",
              "[5 rows x 7 columns]"
            ]
          },
          "metadata": {
            "tags": []
          },
          "execution_count": 4
        }
      ]
    },
    {
      "cell_type": "code",
      "metadata": {
        "id": "6frpQjzQsOLh",
        "colab_type": "code",
        "colab": {
          "base_uri": "https://localhost:8080/",
          "height": 297
        },
        "outputId": "5a988164-28e5-4e8e-8ed8-a8933be290be"
      },
      "source": [
        "df_train.describe()"
      ],
      "execution_count": 5,
      "outputs": [
        {
          "output_type": "execute_result",
          "data": {
            "text/html": [
              "<div>\n",
              "<style scoped>\n",
              "    .dataframe tbody tr th:only-of-type {\n",
              "        vertical-align: middle;\n",
              "    }\n",
              "\n",
              "    .dataframe tbody tr th {\n",
              "        vertical-align: top;\n",
              "    }\n",
              "\n",
              "    .dataframe thead th {\n",
              "        text-align: right;\n",
              "    }\n",
              "</style>\n",
              "<table border=\"1\" class=\"dataframe\">\n",
              "  <thead>\n",
              "    <tr style=\"text-align: right;\">\n",
              "      <th></th>\n",
              "      <th>pickup_longitude</th>\n",
              "      <th>pickup_latitude</th>\n",
              "      <th>dropoff_longitude</th>\n",
              "      <th>dropoff_latitude</th>\n",
              "      <th>passenger_count</th>\n",
              "      <th>fare_amount</th>\n",
              "    </tr>\n",
              "  </thead>\n",
              "  <tbody>\n",
              "    <tr>\n",
              "      <th>count</th>\n",
              "      <td>7333.000000</td>\n",
              "      <td>7333.000000</td>\n",
              "      <td>7333.000000</td>\n",
              "      <td>7333.000000</td>\n",
              "      <td>7333.000000</td>\n",
              "      <td>7333.000000</td>\n",
              "    </tr>\n",
              "    <tr>\n",
              "      <th>mean</th>\n",
              "      <td>-73.975276</td>\n",
              "      <td>40.751773</td>\n",
              "      <td>-73.974628</td>\n",
              "      <td>40.751416</td>\n",
              "      <td>1.647348</td>\n",
              "      <td>11.242284</td>\n",
              "    </tr>\n",
              "    <tr>\n",
              "      <th>std</th>\n",
              "      <td>0.038443</td>\n",
              "      <td>0.029398</td>\n",
              "      <td>0.038906</td>\n",
              "      <td>0.033401</td>\n",
              "      <td>1.282730</td>\n",
              "      <td>9.905993</td>\n",
              "    </tr>\n",
              "    <tr>\n",
              "      <th>min</th>\n",
              "      <td>-74.258183</td>\n",
              "      <td>40.452290</td>\n",
              "      <td>-74.260472</td>\n",
              "      <td>40.417750</td>\n",
              "      <td>1.000000</td>\n",
              "      <td>2.500000</td>\n",
              "    </tr>\n",
              "    <tr>\n",
              "      <th>25%</th>\n",
              "      <td>-73.992191</td>\n",
              "      <td>40.737737</td>\n",
              "      <td>-73.991730</td>\n",
              "      <td>40.736207</td>\n",
              "      <td>1.000000</td>\n",
              "      <td>6.000000</td>\n",
              "    </tr>\n",
              "    <tr>\n",
              "      <th>50%</th>\n",
              "      <td>-73.982085</td>\n",
              "      <td>40.754329</td>\n",
              "      <td>-73.980845</td>\n",
              "      <td>40.753687</td>\n",
              "      <td>1.000000</td>\n",
              "      <td>8.500000</td>\n",
              "    </tr>\n",
              "    <tr>\n",
              "      <th>75%</th>\n",
              "      <td>-73.968689</td>\n",
              "      <td>40.767851</td>\n",
              "      <td>-73.966152</td>\n",
              "      <td>40.768180</td>\n",
              "      <td>2.000000</td>\n",
              "      <td>12.500000</td>\n",
              "    </tr>\n",
              "    <tr>\n",
              "      <th>max</th>\n",
              "      <td>-73.137393</td>\n",
              "      <td>41.366138</td>\n",
              "      <td>-73.137393</td>\n",
              "      <td>41.366138</td>\n",
              "      <td>6.000000</td>\n",
              "      <td>179.000000</td>\n",
              "    </tr>\n",
              "  </tbody>\n",
              "</table>\n",
              "</div>"
            ],
            "text/plain": [
              "       pickup_longitude  pickup_latitude  ...  passenger_count  fare_amount\n",
              "count       7333.000000      7333.000000  ...      7333.000000  7333.000000\n",
              "mean         -73.975276        40.751773  ...         1.647348    11.242284\n",
              "std            0.038443         0.029398  ...         1.282730     9.905993\n",
              "min          -74.258183        40.452290  ...         1.000000     2.500000\n",
              "25%          -73.992191        40.737737  ...         1.000000     6.000000\n",
              "50%          -73.982085        40.754329  ...         1.000000     8.500000\n",
              "75%          -73.968689        40.767851  ...         2.000000    12.500000\n",
              "max          -73.137393        41.366138  ...         6.000000   179.000000\n",
              "\n",
              "[8 rows x 6 columns]"
            ]
          },
          "metadata": {
            "tags": []
          },
          "execution_count": 5
        }
      ]
    },
    {
      "cell_type": "code",
      "metadata": {
        "id": "HPNTjSsrtAbh",
        "colab_type": "code",
        "colab": {
          "base_uri": "https://localhost:8080/",
          "height": 88
        },
        "outputId": "6a322059-54fb-4e7e-bce6-a9d26a5bfa4b"
      },
      "source": [
        "def to_csv(df, filename):\n",
        "  outdf = df.copy(deep=False)\n",
        "  outdf.loc[:, 'key'] = np.arange(0, len(outdf)) # rownumber as key\n",
        "  # reorder columns so that target is first column\n",
        "  cols = outdf.columns.tolist()\n",
        "  cols.remove('fare_amount')\n",
        "  cols.insert(0, 'fare_amount')\n",
        "  print (cols)  # new order of columns\n",
        "  outdf = outdf[cols]\n",
        "  outdf.to_csv(filename, header=False, index_label=False, index=False)\n",
        "\n",
        "to_csv(df_train, 'taxi-train.csv')\n",
        "to_csv(df_valid, 'taxi-valid.csv')\n",
        "to_csv(df_test, 'taxi-test.csv')"
      ],
      "execution_count": 6,
      "outputs": [
        {
          "output_type": "stream",
          "text": [
            "['fare_amount', 'pickup_datetime', 'pickup_longitude', 'pickup_latitude', 'dropoff_longitude', 'dropoff_latitude', 'passenger_count', 'key']\n",
            "['fare_amount', 'pickup_datetime', 'pickup_longitude', 'pickup_latitude', 'dropoff_longitude', 'dropoff_latitude', 'passenger_count', 'key']\n",
            "['fare_amount', 'pickup_datetime', 'pickup_longitude', 'pickup_latitude', 'dropoff_longitude', 'dropoff_latitude', 'passenger_count', 'key']\n"
          ],
          "name": "stdout"
        }
      ]
    },
    {
      "cell_type": "code",
      "metadata": {
        "id": "mHYaGI0qtJ2U",
        "colab_type": "code",
        "colab": {
          "base_uri": "https://localhost:8080/",
          "height": 85
        },
        "outputId": "ec5fd201-0fed-4140-f722-6a7348c843e7"
      },
      "source": [
        "# verify data exists\n",
        "!ls -l *.csv"
      ],
      "execution_count": 7,
      "outputs": [
        {
          "output_type": "stream",
          "text": [
            "-rw-r--r-- 1 root root 133393 Feb 14 22:20 taxi-test.csv\n",
            "-rw-r--r-- 1 root root 626281 Feb 14 22:20 taxi-train.csv\n",
            "-rw-r--r-- 1 root root 133749 Feb 14 22:20 taxi-valid.csv\n",
            "-rw-r--r-- 1 root root 931256 Feb 14 21:50 trips.csv\n"
          ],
          "name": "stdout"
        }
      ]
    },
    {
      "cell_type": "markdown",
      "metadata": {
        "id": "zrKVOg65yiob",
        "colab_type": "text"
      },
      "source": [
        "## Train a Keras Model with Simple Feature Engineering"
      ]
    },
    {
      "cell_type": "code",
      "metadata": {
        "id": "X4tC7ShrtQiN",
        "colab_type": "code",
        "colab": {}
      },
      "source": [
        "# Seperate features and the label\n",
        "def features_and_labels(row_data):\n",
        "    for unwanted_col in ['key']:  # keep the pickup_datetime!\n",
        "        row_data.pop(unwanted_col)\n",
        "    label = row_data.pop(LABEL_COLUMN)\n",
        "    return row_data, label  # features, label\n",
        "\n",
        "# load the training data\n",
        "def load_dataset(data_input, batch_size=1, mode=tf.estimator.ModeKeys.EVAL):\n",
        "    dataset = (tf.data.experimental.make_csv_dataset(data_input, batch_size, CSV_COLUMNS, DEFAULTS)\n",
        "               .map(features_and_labels) # features, label\n",
        "               )\n",
        "    if mode == tf.estimator.ModeKeys.TRAIN:\n",
        "        print(\"Repeating training dataset indefinitely\")\n",
        "        dataset = dataset.shuffle(1000).repeat()\n",
        "    dataset = dataset.prefetch(1) # take advantage of multi-threading; 1=AUTOTUNE\n",
        "    return dataset\n",
        "\n",
        "# Convert datetime string to datetime type\n",
        "def parse_datetime(s):\n",
        "    if type(s) is not str:\n",
        "        s = s.numpy().decode('utf-8') # if it is a Tensor\n",
        "    return datetime.datetime.strptime(s, \"%Y-%m-%d %H:%M:%S %Z\")"
      ],
      "execution_count": 0,
      "outputs": []
    },
    {
      "cell_type": "code",
      "metadata": {
        "id": "TV_L4NKi1WVo",
        "colab_type": "code",
        "colab": {}
      },
      "source": [
        "train_input= 'taxi_train.*'\n",
        "OUTDIR = './trained_model'\n",
        "\n",
        "CSV_COLUMNS  = ['fare_amount',  'pickup_datetime',\n",
        "                'pickup_longitude', 'pickup_latitude', \n",
        "                'dropoff_longitude', 'dropoff_latitude', \n",
        "                'passenger_count', 'key']\n",
        "LABEL_COLUMN = 'fare_amount'\n",
        "DEFAULTS     = [[0.0],['na'],[0.0],[0.0],[0.0],[0.0],[0.0],['na']]\n",
        "\n",
        "NBUCKETS = 10  # for feature crossing\n",
        "TRAIN_BATCH_SIZE = 32\n",
        "NUM_TRAIN_EXAMPLES = 10000 * 5 # remember the training dataset repeats, so this will wrap around\n",
        "NUM_EVALS = 5  # evaluate this many times\n",
        "NUM_EVAL_EXAMPLES = 10000 # enough to get a reasonable sample, but no so much that it slows down"
      ],
      "execution_count": 0,
      "outputs": []
    },
    {
      "cell_type": "code",
      "metadata": {
        "id": "64LEN7F505YK",
        "colab_type": "code",
        "colab": {
          "base_uri": "https://localhost:8080/",
          "height": 1000
        },
        "outputId": "72506f84-de24-4c64-bd93-af8770182bd4"
      },
      "source": [
        "## Add transformations\n",
        "def euclidean(params):\n",
        "    lon1, lat1, lon2, lat2 = params\n",
        "    londiff = lon2 - lon1\n",
        "    latdiff = lat2 - lat1\n",
        "    return tf.sqrt(londiff*londiff + latdiff*latdiff)\n",
        "\n",
        "DAYS = ['Sun', 'Mon', 'Tue', 'Wed', 'Thu', 'Fri', 'Sat']\n",
        "def get_dayofweek(s):\n",
        "    ts = parse_datetime(s)\n",
        "    return DAYS[ts.weekday()]\n",
        "\n",
        "@tf.function\n",
        "def dayofweek(ts_in):\n",
        "    return tf.map_fn(\n",
        "        lambda s: tf.py_function(get_dayofweek, inp=[s], Tout=tf.string),\n",
        "        ts_in\n",
        "    )\n",
        "\n",
        "@tf.function\n",
        "def fare_thresh(x):\n",
        "    return 60 * tf.keras.activations.relu(x)\n",
        "\n",
        "def transform(inputs, NUMERIC_COLS, STRING_COLS):\n",
        "    print(\"BEFORE TRANSFORMATION\")\n",
        "    print(\"INPUTS:\", inputs.keys())\n",
        "    \n",
        "    # Pass-through columns\n",
        "    transformed = inputs.copy()\n",
        "    del transformed['pickup_datetime']\n",
        "    \n",
        "    feature_columns = {\n",
        "        colname: tf.feature_column.numeric_column(colname)\n",
        "           for colname in NUMERIC_COLS\n",
        "    }\n",
        "    \n",
        "    # scale the lat, lon values to be in 0, 1\n",
        "    if True:\n",
        "        for lon_col in ['pickup_longitude', 'dropoff_longitude']:  # in range -70 to -78\n",
        "            transformed[lon_col] = tf.keras.layers.Lambda(\n",
        "                lambda x: (x+78)/8.0, \n",
        "                name='scale_{}'.format(lon_col)\n",
        "            )(inputs[lon_col])\n",
        "        for lat_col in ['pickup_latitude', 'dropoff_latitude']: # in range 37 to 45\n",
        "            transformed[lat_col] = tf.keras.layers.Lambda(\n",
        "                lambda x: (x-37)/8.0, \n",
        "                name='scale_{}'.format(lat_col)\n",
        "            )(inputs[lat_col])\n",
        "\n",
        "    # add Euclidean distance. Doesn't have to be accurate calculation because NN will calibrate it\n",
        "    if True:\n",
        "        transformed['euclidean'] = tf.keras.layers.Lambda(euclidean, name='euclidean')([\n",
        "            inputs['pickup_longitude'],\n",
        "            inputs['pickup_latitude'],\n",
        "            inputs['dropoff_longitude'],\n",
        "            inputs['dropoff_latitude']\n",
        "        ])\n",
        "        feature_columns['euclidean'] = tf.feature_column.numeric_column('euclidean')\n",
        "    \n",
        "    # hour of day from timestamp of form '2010-02-08 09:17:00+00:00'\n",
        "    if True:\n",
        "        transformed['hourofday'] = tf.keras.layers.Lambda(\n",
        "            lambda x: tf.strings.to_number(tf.strings.substr(x, 11, 2), out_type=tf.dtypes.int32),\n",
        "            name='hourofday'\n",
        "        )(inputs['pickup_datetime'])\n",
        "        feature_columns['hourofday'] = tf.feature_column.indicator_column(\n",
        "            tf.feature_column.categorical_column_with_identity('hourofday', num_buckets=24))\n",
        "\n",
        "    if False:\n",
        "        # https://buganizer.corp.google.com/issues/137795281\n",
        "        # day of week is hard because there is no TensorFlow function for date handling\n",
        "        transformed['dayofweek'] = tf.keras.layers.Lambda(\n",
        "            lambda x: dayofweek(x),\n",
        "            name='dayofweek_pyfun'\n",
        "        )(inputs['pickup_datetime'])\n",
        "        transformed['dayofweek'] = tf.keras.layers.Reshape((), name='dayofweek')(transformed['dayofweek'])\n",
        "        feature_columns['dayofweek'] = tf.feature_column.indicator_column(\n",
        "            tf.feature_column.categorical_column_with_vocabulary_list(\n",
        "              'dayofweek', vocabulary_list = DAYS))\n",
        "    \n",
        "    if True:\n",
        "        # https://buganizer.corp.google.com/issues/135479527\n",
        "        # featurecross lat, lon into nxn buckets, then embed\n",
        "        nbuckets = NBUCKETS\n",
        "        latbuckets = np.linspace(0, 1, nbuckets).tolist()\n",
        "        lonbuckets = np.linspace(0, 1, nbuckets).tolist()\n",
        "        b_plat = tf.feature_column.bucketized_column(feature_columns['pickup_latitude'], latbuckets)\n",
        "        b_dlat = tf.feature_column.bucketized_column(feature_columns['dropoff_latitude'], latbuckets)\n",
        "        b_plon = tf.feature_column.bucketized_column(feature_columns['pickup_longitude'], lonbuckets)\n",
        "        b_dlon = tf.feature_column.bucketized_column(feature_columns['dropoff_longitude'], lonbuckets)\n",
        "        ploc = tf.feature_column.crossed_column([b_plat, b_plon], nbuckets * nbuckets)\n",
        "        dloc = tf.feature_column.crossed_column([b_dlat, b_dlon], nbuckets * nbuckets)\n",
        "        pd_pair = tf.feature_column.crossed_column([ploc, dloc], nbuckets ** 4 )\n",
        "        feature_columns['pickup_and_dropoff'] = tf.feature_column.embedding_column(pd_pair, 100)\n",
        "\n",
        "    print(\"AFTER TRANSFORMATION\")\n",
        "    print(\"TRANSFORMED:\", transformed.keys())\n",
        "    print(\"FEATURES\", feature_columns.keys())   \n",
        "    return transformed, feature_columns\n",
        "\n",
        "def rmse(y_true, y_pred):\n",
        "    return tf.sqrt(tf.reduce_mean(tf.square(y_pred - y_true))) \n",
        "\n",
        "def build_dnn_model():\n",
        "    # input layer is all float except for pickup_datetime which is a string\n",
        "    STRING_COLS = ['pickup_datetime']\n",
        "    NUMERIC_COLS = set(CSV_COLUMNS) - set([LABEL_COLUMN, 'key']) - set(STRING_COLS)\n",
        "    print(STRING_COLS)\n",
        "    print(NUMERIC_COLS)\n",
        "    inputs = {\n",
        "        colname : tf.keras.layers.Input(name=colname, shape=(), dtype='float32')\n",
        "           for colname in NUMERIC_COLS\n",
        "    }\n",
        "    inputs.update({\n",
        "        colname : tf.keras.layers.Input(name=colname, shape=(), dtype='string')\n",
        "           for colname in STRING_COLS\n",
        "    })\n",
        "    \n",
        "    # transforms\n",
        "    transformed, feature_columns = transform(inputs, NUMERIC_COLS, STRING_COLS)\n",
        "    dnn_inputs = tf.keras.layers.DenseFeatures(feature_columns.values())(transformed)\n",
        "\n",
        "    # two hidden layers of [32, 8] just in like the BQML DNN\n",
        "    h1 = tf.keras.layers.Dense(32, activation='relu', name='h1')(dnn_inputs)\n",
        "    h2 = tf.keras.layers.Dense(8, activation='relu', name='h2')(h1)\n",
        "\n",
        "    if False:\n",
        "        # https://buganizer.corp.google.com/issues/136476088\n",
        "        # final output would normally have a linear activation because this is regression\n",
        "        # However, we know something about the taxi problem (fares are +ve and tend to be below $60).\n",
        "        # Use that here. (You can verify by running this query):\n",
        "        # SELECT APPROX_QUANTILES(fare_amount, 100) FROM serverlessml.cleaned_training_data\n",
        "        output = tf.keras.layers.Dense(1, activation=fare_thresh, name='fare')(h2)\n",
        "    else:\n",
        "        output = tf.keras.layers.Dense(1, name='fare')(h2)\n",
        "    \n",
        "    model = tf.keras.models.Model(inputs, output)\n",
        "    model.compile(optimizer='adam', loss='mse', metrics=[rmse, 'mse'])\n",
        "    return model\n",
        "\n",
        "model = build_dnn_model()\n",
        "print(model.summary())"
      ],
      "execution_count": 14,
      "outputs": [
        {
          "output_type": "stream",
          "text": [
            "['pickup_datetime']\n",
            "{'dropoff_longitude', 'pickup_latitude', 'passenger_count', 'pickup_longitude', 'dropoff_latitude'}\n",
            "BEFORE TRANSFORMATION\n",
            "INPUTS: dict_keys(['dropoff_longitude', 'pickup_latitude', 'passenger_count', 'pickup_longitude', 'dropoff_latitude', 'pickup_datetime'])\n",
            "AFTER TRANSFORMATION\n",
            "TRANSFORMED: dict_keys(['dropoff_longitude', 'pickup_latitude', 'passenger_count', 'pickup_longitude', 'dropoff_latitude', 'euclidean', 'hourofday'])\n",
            "FEATURES dict_keys(['dropoff_longitude', 'pickup_latitude', 'passenger_count', 'pickup_longitude', 'dropoff_latitude', 'euclidean', 'hourofday', 'pickup_and_dropoff'])\n",
            "WARNING:tensorflow:From /usr/local/lib/python3.6/dist-packages/tensorflow_core/python/feature_column/feature_column_v2.py:4276: IndicatorColumn._variable_shape (from tensorflow.python.feature_column.feature_column_v2) is deprecated and will be removed in a future version.\n",
            "Instructions for updating:\n",
            "The old _FeatureColumn APIs are being deprecated. Please use the new FeatureColumn APIs instead.\n",
            "WARNING:tensorflow:From /usr/local/lib/python3.6/dist-packages/tensorflow_core/python/feature_column/feature_column_v2.py:4331: IdentityCategoricalColumn._num_buckets (from tensorflow.python.feature_column.feature_column_v2) is deprecated and will be removed in a future version.\n",
            "Instructions for updating:\n",
            "The old _FeatureColumn APIs are being deprecated. Please use the new FeatureColumn APIs instead.\n",
            "Model: \"model\"\n",
            "__________________________________________________________________________________________________\n",
            "Layer (type)                    Output Shape         Param #     Connected to                     \n",
            "==================================================================================================\n",
            "dropoff_latitude (InputLayer)   [(None,)]            0                                            \n",
            "__________________________________________________________________________________________________\n",
            "dropoff_longitude (InputLayer)  [(None,)]            0                                            \n",
            "__________________________________________________________________________________________________\n",
            "pickup_longitude (InputLayer)   [(None,)]            0                                            \n",
            "__________________________________________________________________________________________________\n",
            "pickup_latitude (InputLayer)    [(None,)]            0                                            \n",
            "__________________________________________________________________________________________________\n",
            "pickup_datetime (InputLayer)    [(None,)]            0                                            \n",
            "__________________________________________________________________________________________________\n",
            "scale_dropoff_latitude (Lambda) (None,)              0           dropoff_latitude[0][0]           \n",
            "__________________________________________________________________________________________________\n",
            "scale_dropoff_longitude (Lambda (None,)              0           dropoff_longitude[0][0]          \n",
            "__________________________________________________________________________________________________\n",
            "euclidean (Lambda)              (None,)              0           pickup_longitude[0][0]           \n",
            "                                                                 pickup_latitude[0][0]            \n",
            "                                                                 dropoff_longitude[0][0]          \n",
            "                                                                 dropoff_latitude[0][0]           \n",
            "__________________________________________________________________________________________________\n",
            "hourofday (Lambda)              (None,)              0           pickup_datetime[0][0]            \n",
            "__________________________________________________________________________________________________\n",
            "passenger_count (InputLayer)    [(None,)]            0                                            \n",
            "__________________________________________________________________________________________________\n",
            "scale_pickup_latitude (Lambda)  (None,)              0           pickup_latitude[0][0]            \n",
            "__________________________________________________________________________________________________\n",
            "scale_pickup_longitude (Lambda) (None,)              0           pickup_longitude[0][0]           \n",
            "__________________________________________________________________________________________________\n",
            "dense_features (DenseFeatures)  (None, 130)          1000000     scale_dropoff_latitude[0][0]     \n",
            "                                                                 scale_dropoff_longitude[0][0]    \n",
            "                                                                 euclidean[0][0]                  \n",
            "                                                                 hourofday[0][0]                  \n",
            "                                                                 passenger_count[0][0]            \n",
            "                                                                 scale_pickup_latitude[0][0]      \n",
            "                                                                 scale_pickup_longitude[0][0]     \n",
            "__________________________________________________________________________________________________\n",
            "h1 (Dense)                      (None, 32)           4192        dense_features[0][0]             \n",
            "__________________________________________________________________________________________________\n",
            "h2 (Dense)                      (None, 8)            264         h1[0][0]                         \n",
            "__________________________________________________________________________________________________\n",
            "fare (Dense)                    (None, 1)            9           h2[0][0]                         \n",
            "==================================================================================================\n",
            "Total params: 1,004,465\n",
            "Trainable params: 1,004,465\n",
            "Non-trainable params: 0\n",
            "__________________________________________________________________________________________________\n",
            "None\n"
          ],
          "name": "stdout"
        }
      ]
    },
    {
      "cell_type": "code",
      "metadata": {
        "id": "jhoTwF-x1I5H",
        "colab_type": "code",
        "colab": {
          "base_uri": "https://localhost:8080/",
          "height": 537
        },
        "outputId": "a5348584-12ab-43e2-cc89-d38112734ecb"
      },
      "source": [
        "# Visualize the NN model\n",
        "tf.keras.utils.plot_model(model, 'dnn_model.png', show_shapes=False, rankdir='LR')"
      ],
      "execution_count": 15,
      "outputs": [
        {
          "output_type": "execute_result",
          "data": {
            "image/png": "[encoded data removed]",
            "text/plain": [
              "<IPython.core.display.Image object>"
            ]
          },
          "metadata": {
            "tags": []
          },
          "execution_count": 15
        }
      ]
    },
    {
      "cell_type": "markdown",
      "metadata": {
        "id": "juy_gu_z_FIZ",
        "colab_type": "text"
      },
      "source": [
        "### Train the model"
      ]
    },
    {
      "cell_type": "code",
      "metadata": {
        "id": "GIFtrqJQ9Gr-",
        "colab_type": "code",
        "colab": {
          "base_uri": "https://localhost:8080/",
          "height": 513
        },
        "outputId": "095511a3-520c-44d7-e176-bee3fb38cf93"
      },
      "source": [
        "trainds = load_dataset('taxi-train*', TRAIN_BATCH_SIZE, tf.estimator.ModeKeys.TRAIN)\n",
        "evalds = load_dataset('taxi-valid*', 1000, tf.estimator.ModeKeys.EVAL).take(NUM_EVAL_EXAMPLES//10000) # evaluate on 1/10 final evaluation set\n",
        "\n",
        "steps_per_epoch = NUM_TRAIN_EXAMPLES // (TRAIN_BATCH_SIZE * NUM_EVALS)\n",
        "\n",
        "shutil.rmtree('{}/checkpoints/'.format(OUTDIR), ignore_errors=True)\n",
        "checkpoint_path = '{}/checkpoints/taxi'.format(OUTDIR)\n",
        "cp_callback = tf.keras.callbacks.ModelCheckpoint(checkpoint_path, \n",
        "                                                 save_weights_only=True,\n",
        "                                                 verbose=1)\n",
        "\n",
        "history = model.fit(trainds, \n",
        "                    validation_data=evalds,\n",
        "                    epochs=NUM_EVALS, \n",
        "                    steps_per_epoch=steps_per_epoch,\n",
        "                    verbose=2, # 0=silent, 1=progress bar, 2=one line per epoch\n",
        "                    callbacks=[cp_callback])"
      ],
      "execution_count": 16,
      "outputs": [
        {
          "output_type": "stream",
          "text": [
            "WARNING:tensorflow:From /usr/local/lib/python3.6/dist-packages/tensorflow_core/python/data/experimental/ops/readers.py:521: parallel_interleave (from tensorflow.python.data.experimental.ops.interleave_ops) is deprecated and will be removed in a future version.\n",
            "Instructions for updating:\n",
            "Use `tf.data.Dataset.interleave(map_func, cycle_length, block_length, num_parallel_calls=tf.data.experimental.AUTOTUNE)` instead. If sloppy execution is desired, use `tf.data.Options.experimental_determinstic`.\n",
            "WARNING:tensorflow:From /usr/local/lib/python3.6/dist-packages/tensorflow_core/python/data/experimental/ops/readers.py:215: shuffle_and_repeat (from tensorflow.python.data.experimental.ops.shuffle_ops) is deprecated and will be removed in a future version.\n",
            "Instructions for updating:\n",
            "Use `tf.data.Dataset.shuffle(buffer_size, seed)` followed by `tf.data.Dataset.repeat(count)`. Static tf.data optimizations will take care of using the fused implementation.\n",
            "Repeating training dataset indefinitely\n",
            "Train for 312 steps, validate for 1 steps\n",
            "Epoch 1/5\n",
            "\n",
            "Epoch 00001: saving model to ./trained_model/checkpoints/taxi\n",
            "312/312 - 7s - loss: 123.9720 - rmse: 10.3419 - mse: 123.9720 - val_loss: 89.3693 - val_rmse: 9.4535 - val_mse: 89.3693\n",
            "Epoch 2/5\n",
            "\n",
            "Epoch 00002: saving model to ./trained_model/checkpoints/taxi\n",
            "312/312 - 5s - loss: 91.8040 - rmse: 9.0389 - mse: 91.8041 - val_loss: 88.2372 - val_rmse: 9.3935 - val_mse: 88.2372\n",
            "Epoch 3/5\n",
            "\n",
            "Epoch 00003: saving model to ./trained_model/checkpoints/taxi\n",
            "312/312 - 5s - loss: 106.3830 - rmse: 9.3593 - mse: 106.3831 - val_loss: 86.9821 - val_rmse: 9.3264 - val_mse: 86.9821\n",
            "Epoch 4/5\n",
            "\n",
            "Epoch 00004: saving model to ./trained_model/checkpoints/taxi\n",
            "312/312 - 5s - loss: 92.4007 - rmse: 9.0599 - mse: 92.4007 - val_loss: 86.1499 - val_rmse: 9.2817 - val_mse: 86.1499\n",
            "Epoch 5/5\n",
            "\n",
            "Epoch 00005: saving model to ./trained_model/checkpoints/taxi\n",
            "312/312 - 5s - loss: 83.2942 - rmse: 8.4905 - mse: 83.2942 - val_loss: 83.1618 - val_rmse: 9.1193 - val_mse: 83.1618\n"
          ],
          "name": "stdout"
        }
      ]
    },
    {
      "cell_type": "code",
      "metadata": {
        "id": "UrhfeRhO_TEC",
        "colab_type": "code",
        "colab": {
          "base_uri": "https://localhost:8080/",
          "height": 350
        },
        "outputId": "5821d728-cfa9-4c41-dfb8-35f54383c5c0"
      },
      "source": [
        "\n",
        "# plot\n",
        "import matplotlib.pyplot as plt\n",
        "nrows = 1\n",
        "ncols = 2\n",
        "fig = plt.figure(figsize=(10, 5))\n",
        "\n",
        "for idx, key in enumerate(['loss', 'rmse']):\n",
        "    ax = fig.add_subplot(nrows, ncols, idx+1)\n",
        "    plt.plot(history.history[key])\n",
        "    plt.plot(history.history['val_{}'.format(key)])\n",
        "    plt.title('model {}'.format(key))\n",
        "    plt.ylabel(key)\n",
        "    plt.xlabel('epoch')\n",
        "    plt.legend(['train', 'validation'], loc='upper left');"
      ],
      "execution_count": 17,
      "outputs": [
        {
          "output_type": "display_data",
          "data": {
            "image/png": "[encoded data removed]",
            "text/plain": [
              "<Figure size 720x360 with 2 Axes>"
            ]
          },
          "metadata": {
            "tags": []
          }
        }
      ]
    },
    {
      "cell_type": "code",
      "metadata": {
        "id": "8j6v-qp5DjSf",
        "colab_type": "code",
        "colab": {
          "base_uri": "https://localhost:8080/",
          "height": 51
        },
        "outputId": "d4b63331-1a65-4d29-eb7b-28bff6a11eff"
      },
      "source": [
        "# Evaluate on all the valudation set\n",
        "## 1000 here is batch size\n",
        "evalds = load_dataset('taxi-test*', 1000, tf.estimator.ModeKeys.EVAL).take(NUM_EVAL_EXAMPLES//1000)\n",
        "model.evaluate(evalds)"
      ],
      "execution_count": 26,
      "outputs": [
        {
          "output_type": "stream",
          "text": [
            "10/10 [==============================] - 0s 26ms/step - loss: 95.6402 - rmse: 9.7667 - mse: 95.6402\n"
          ],
          "name": "stdout"
        },
        {
          "output_type": "execute_result",
          "data": {
            "text/plain": [
              "[95.64020309448242, 9.76665, 95.64019]"
            ]
          },
          "metadata": {
            "tags": []
          },
          "execution_count": 26
        }
      ]
    },
    {
      "cell_type": "markdown",
      "metadata": {
        "id": "Xz4xi5--FbJr",
        "colab_type": "text"
      },
      "source": [
        "### Save the Model"
      ]
    },
    {
      "cell_type": "code",
      "metadata": {
        "id": "3vEXOuYyFdi6",
        "colab_type": "code",
        "colab": {
          "base_uri": "https://localhost:8080/",
          "height": 105
        },
        "outputId": "c94138de-1bff-404e-c417-068143683534"
      },
      "source": [
        "import datetime\n",
        "OUTPUT_DIR = os.path.join(OUTDIR, 'export/savedmodel')\n",
        "if OUTPUT_DIR[:5] != 'gs://':\n",
        "    shutil.rmtree(OUTPUT_DIR, ignore_errors=True)\n",
        "EXPORT_PATH = os.path.join(OUTPUT_DIR, datetime.datetime.now().strftime('%Y%m%d%H%M%S'))\n",
        "tf.saved_model.save(model, EXPORT_PATH) # with default serving function"
      ],
      "execution_count": 27,
      "outputs": [
        {
          "output_type": "stream",
          "text": [
            "WARNING:tensorflow:From /usr/local/lib/python3.6/dist-packages/tensorflow_core/python/ops/resource_variable_ops.py:1781: calling BaseResourceVariable.__init__ (from tensorflow.python.ops.resource_variable_ops) with constraint is deprecated and will be removed in a future version.\n",
            "Instructions for updating:\n",
            "If using Keras pass *_constraint arguments to layers.\n",
            "INFO:tensorflow:Assets written to: ./trained_model/export/savedmodel/20200214234349/assets\n"
          ],
          "name": "stdout"
        }
      ]
    },
    {
      "cell_type": "code",
      "metadata": {
        "id": "58SVQMVnFkLY",
        "colab_type": "code",
        "colab": {
          "base_uri": "https://localhost:8080/",
          "height": 544
        },
        "outputId": "4b70fae8-5661-49fb-85f7-712608157c53"
      },
      "source": [
        "!saved_model_cli show --tag_set serve --signature_def serving_default --dir {EXPORT_PATH}"
      ],
      "execution_count": 28,
      "outputs": [
        {
          "output_type": "stream",
          "text": [
            "The given SavedModel SignatureDef contains the following input(s):\n",
            "  inputs['dropoff_latitude'] tensor_info:\n",
            "      dtype: DT_FLOAT\n",
            "      shape: (-1)\n",
            "      name: serving_default_dropoff_latitude:0\n",
            "  inputs['dropoff_longitude'] tensor_info:\n",
            "      dtype: DT_FLOAT\n",
            "      shape: (-1)\n",
            "      name: serving_default_dropoff_longitude:0\n",
            "  inputs['passenger_count'] tensor_info:\n",
            "      dtype: DT_FLOAT\n",
            "      shape: (-1)\n",
            "      name: serving_default_passenger_count:0\n",
            "  inputs['pickup_datetime'] tensor_info:\n",
            "      dtype: DT_STRING\n",
            "      shape: (-1)\n",
            "      name: serving_default_pickup_datetime:0\n",
            "  inputs['pickup_latitude'] tensor_info:\n",
            "      dtype: DT_FLOAT\n",
            "      shape: (-1)\n",
            "      name: serving_default_pickup_latitude:0\n",
            "  inputs['pickup_longitude'] tensor_info:\n",
            "      dtype: DT_FLOAT\n",
            "      shape: (-1)\n",
            "      name: serving_default_pickup_longitude:0\n",
            "The given SavedModel SignatureDef contains the following output(s):\n",
            "  outputs['fare'] tensor_info:\n",
            "      dtype: DT_FLOAT\n",
            "      shape: (-1, 1)\n",
            "      name: StatefulPartitionedCall:0\n",
            "Method name is: tensorflow/serving/predict\n"
          ],
          "name": "stdout"
        }
      ]
    },
    {
      "cell_type": "code",
      "metadata": {
        "id": "PsdorLPpF_Gj",
        "colab_type": "code",
        "colab": {
          "base_uri": "https://localhost:8080/",
          "height": 119
        },
        "outputId": "a7277478-c097-4887-8ac0-0bd0c74b7194"
      },
      "source": [
        "!find {EXPORT_PATH}\n",
        "os.environ['EXPORT_PATH'] = EXPORT_PATH"
      ],
      "execution_count": 29,
      "outputs": [
        {
          "output_type": "stream",
          "text": [
            "./trained_model/export/savedmodel/20200214234349\n",
            "./trained_model/export/savedmodel/20200214234349/variables\n",
            "./trained_model/export/savedmodel/20200214234349/variables/variables.index\n",
            "./trained_model/export/savedmodel/20200214234349/variables/variables.data-00000-of-00001\n",
            "./trained_model/export/savedmodel/20200214234349/saved_model.pb\n",
            "./trained_model/export/savedmodel/20200214234349/assets\n"
          ],
          "name": "stdout"
        }
      ]
    },
    {
      "cell_type": "markdown",
      "metadata": {
        "id": "KBle_XtPG-3Y",
        "colab_type": "text"
      },
      "source": [
        "## Reference\n",
        "\n",
        "https://github.com/GoogleCloudPlatform/training-data-analyst/tree/master/quests/serverlessml"
      ]
    }
  ]
}