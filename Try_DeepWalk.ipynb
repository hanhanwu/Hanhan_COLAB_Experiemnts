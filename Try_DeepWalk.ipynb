{
  "nbformat": 4,
  "nbformat_minor": 0,
  "metadata": {
    "colab": {
      "name": "Try_DeepWalk.ipynb",
      "provenance": [],
      "collapsed_sections": [],
      "toc_visible": true,
      "authorship_tag": "ABX9TyMTg4hCeL5v60kKWjOheFR/",
      "include_colab_link": true
    },
    "kernelspec": {
      "name": "python3",
      "display_name": "Python 3"
    },
    "accelerator": "GPU"
  },
  "cells": [
    {
      "cell_type": "markdown",
      "metadata": {
        "id": "view-in-github",
        "colab_type": "text"
      },
      "source": [
        "<a href=\"https://colab.research.google.com/github/hanhanwu/Hanhan_COLAB_Experiemnts/blob/master/Try_DeepWalk.ipynb\" target=\"_parent\"><img src=\"https://colab.research.google.com/assets/colab-badge.svg\" alt=\"Open In Colab\"/></a>"
      ]
    },
    {
      "cell_type": "code",
      "metadata": {
        "id": "UJkU8ofsNos0",
        "colab_type": "code",
        "outputId": "8856fe0c-998c-4b99-abe9-10189ee9a684",
        "colab": {
          "base_uri": "https://localhost:8080/",
          "height": 122
        }
      },
      "source": [
        "from google.colab import drive\n",
        "drive.mount('/content/drive')"
      ],
      "execution_count": 1,
      "outputs": [
        {
          "output_type": "stream",
          "text": [
            "Go to this URL in a browser: https://accounts.google.com/o/oauth2/auth?client_id=947318989803-6bn6qk8qdgf4n4g3pfee6491hc0brc4i.apps.googleusercontent.com&redirect_uri=urn%3aietf%3awg%3aoauth%3a2.0%3aoob&response_type=code&scope=email%20https%3a%2f%2fwww.googleapis.com%2fauth%2fdocs.test%20https%3a%2f%2fwww.googleapis.com%2fauth%2fdrive%20https%3a%2f%2fwww.googleapis.com%2fauth%2fdrive.photos.readonly%20https%3a%2f%2fwww.googleapis.com%2fauth%2fpeopleapi.readonly\n",
            "\n",
            "Enter your authorization code:\n",
            "··········\n",
            "Mounted at /content/drive\n"
          ],
          "name": "stdout"
        }
      ]
    },
    {
      "cell_type": "markdown",
      "metadata": {
        "id": "_ZwlG6l4OUSS",
        "colab_type": "text"
      },
      "source": [
        "I got generated the graph by using `seealsology`\n",
        "\n",
        "* https://densitydesign.github.io/strumentalia-seealsology/\n",
        "* It does web crawling for any wiki-page you typed in and creates a graph for you to download.\n",
        "* I used \"environment protection\" and \"global warming\" 2 wiki pages"
      ]
    },
    {
      "cell_type": "code",
      "metadata": {
        "id": "GaP4vCP5OQwE",
        "colab_type": "code",
        "colab": {}
      },
      "source": [
        "import networkx as nx\n",
        "import pandas as pd\n",
        "import numpy as np\n",
        "import random\n",
        "from tqdm import tqdm\n",
        "\n",
        "import matplotlib.pyplot as plt\n",
        "%matplotlib inline"
      ],
      "execution_count": 0,
      "outputs": []
    },
    {
      "cell_type": "markdown",
      "metadata": {
        "id": "dj5_bCAtURxJ",
        "colab_type": "text"
      },
      "source": [
        "## Extract RandomWalk Sequeces from the Graph"
      ]
    },
    {
      "cell_type": "code",
      "metadata": {
        "id": "wXuMAW73OypC",
        "colab_type": "code",
        "outputId": "81a2f246-bc00-4b6b-a979-aee6a1283bec",
        "colab": {
          "base_uri": "https://localhost:8080/",
          "height": 204
        }
      },
      "source": [
        "graph_df = pd.read_csv(\"environment_wiki_graph.tsv\", sep = \"\\t\")\n",
        "graph_df.head()"
      ],
      "execution_count": 3,
      "outputs": [
        {
          "output_type": "execute_result",
          "data": {
            "text/html": [
              "<div>\n",
              "<style scoped>\n",
              "    .dataframe tbody tr th:only-of-type {\n",
              "        vertical-align: middle;\n",
              "    }\n",
              "\n",
              "    .dataframe tbody tr th {\n",
              "        vertical-align: top;\n",
              "    }\n",
              "\n",
              "    .dataframe thead th {\n",
              "        text-align: right;\n",
              "    }\n",
              "</style>\n",
              "<table border=\"1\" class=\"dataframe\">\n",
              "  <thead>\n",
              "    <tr style=\"text-align: right;\">\n",
              "      <th></th>\n",
              "      <th>source</th>\n",
              "      <th>target</th>\n",
              "      <th>depth</th>\n",
              "    </tr>\n",
              "  </thead>\n",
              "  <tbody>\n",
              "    <tr>\n",
              "      <th>0</th>\n",
              "      <td>environmental protection</td>\n",
              "      <td>biodiversity</td>\n",
              "      <td>1</td>\n",
              "    </tr>\n",
              "    <tr>\n",
              "      <th>1</th>\n",
              "      <td>environmental protection</td>\n",
              "      <td>carbon offset</td>\n",
              "      <td>1</td>\n",
              "    </tr>\n",
              "    <tr>\n",
              "      <th>2</th>\n",
              "      <td>environmental protection</td>\n",
              "      <td>citizen science</td>\n",
              "      <td>1</td>\n",
              "    </tr>\n",
              "    <tr>\n",
              "      <th>3</th>\n",
              "      <td>environmental protection</td>\n",
              "      <td>conservation biology</td>\n",
              "      <td>1</td>\n",
              "    </tr>\n",
              "    <tr>\n",
              "      <th>4</th>\n",
              "      <td>environmental protection</td>\n",
              "      <td>conservation movement</td>\n",
              "      <td>1</td>\n",
              "    </tr>\n",
              "  </tbody>\n",
              "</table>\n",
              "</div>"
            ],
            "text/plain": [
              "                     source                 target  depth\n",
              "0  environmental protection           biodiversity      1\n",
              "1  environmental protection          carbon offset      1\n",
              "2  environmental protection        citizen science      1\n",
              "3  environmental protection   conservation biology      1\n",
              "4  environmental protection  conservation movement      1"
            ]
          },
          "metadata": {
            "tags": []
          },
          "execution_count": 3
        }
      ]
    },
    {
      "cell_type": "code",
      "metadata": {
        "id": "IiQhsRAuY8IL",
        "colab_type": "code",
        "outputId": "1fc2a1e6-6ef0-422d-906a-41f48ec1965f",
        "colab": {
          "base_uri": "https://localhost:8080/",
          "height": 544
        }
      },
      "source": [
        "graph_df['source'].value_counts()"
      ],
      "execution_count": 4,
      "outputs": [
        {
          "output_type": "execute_result",
          "data": {
            "text/plain": [
              "sustainable development                 38\n",
              "environmentalism                        38\n",
              "natural resource management             34\n",
              "sustainability                          34\n",
              "environmental movement                  31\n",
              "ecology movement                        31\n",
              "natural capital                         27\n",
              "environmental protection                25\n",
              "conservation movement                   24\n",
              "environmental racism                    23\n",
              "earth day                               23\n",
              "conservation biology                    20\n",
              "carbon offset                           19\n",
              "anthropocene                            19\n",
              "planetary boundaries                    13\n",
              "public information and participation    13\n",
              "participation (decision making)         13\n",
              "green solutions                         13\n",
              "citizen science                         13\n",
              "holocene extinction                     13\n",
              "renewable resource                      11\n",
              "biodiversity                             9\n",
              "environmental governance                 9\n",
              "global cooling                           8\n",
              "environmental personhood                 5\n",
              "environmental law                        5\n",
              "environmental organizations              4\n",
              "global warming                           4\n",
              "green party                              2\n",
              "environmental globalization              2\n",
              "Name: source, dtype: int64"
            ]
          },
          "metadata": {
            "tags": []
          },
          "execution_count": 4
        }
      ]
    },
    {
      "cell_type": "code",
      "metadata": {
        "id": "4fZbKgdsO9Vx",
        "colab_type": "code",
        "outputId": "53f8f06d-94d2-4c14-bb11-8006628a717f",
        "colab": {
          "base_uri": "https://localhost:8080/",
          "height": 34
        }
      },
      "source": [
        "# construct the graph\n",
        "G = nx.from_pandas_edgelist(graph_df, \"source\", \"target\", \n",
        "                            edge_attr=True, create_using=nx.Graph())\n",
        "G"
      ],
      "execution_count": 5,
      "outputs": [
        {
          "output_type": "execute_result",
          "data": {
            "text/plain": [
              "<networkx.classes.graph.Graph at 0x7f9809e4b518>"
            ]
          },
          "metadata": {
            "tags": []
          },
          "execution_count": 5
        }
      ]
    },
    {
      "cell_type": "code",
      "metadata": {
        "id": "Qx8BbfVkTqyP",
        "colab_type": "code",
        "outputId": "62931df5-96a4-4f2c-8107-678fa663d8e8",
        "colab": {
          "base_uri": "https://localhost:8080/",
          "height": 34
        }
      },
      "source": [
        "# The number of nodes\n",
        "len(G)"
      ],
      "execution_count": 6,
      "outputs": [
        {
          "output_type": "execute_result",
          "data": {
            "text/plain": [
              "367"
            ]
          },
          "metadata": {
            "tags": []
          },
          "execution_count": 6
        }
      ]
    },
    {
      "cell_type": "code",
      "metadata": {
        "id": "_6XgVxttURad",
        "colab_type": "code",
        "colab": {}
      },
      "source": [
        "def random_walk(source_node, sequence_len):\n",
        "  \"\"\"\n",
        "  For a souce node, get its neighbours that not in the random-walk sequence,\n",
        "  randomly select a neighbour as the next source node,\n",
        "  repeat until reaches to the max length or there is no node to choose.\n",
        "\n",
        "  NOTE: No need to set seed for random, cuz we want each time to generate\n",
        "        a different sequence when call this function.\n",
        "  \"\"\"\n",
        "  random_walk_sequence = [source_node]\n",
        "\n",
        "  for i in range(sequence_len - 1):\n",
        "    target_nodes = list(G.neighbors(source_node))\n",
        "    target_nodes = list(set(target_nodes) - set(random_walk_sequence))\n",
        "    if len(target_nodes) == 0:\n",
        "      break\n",
        "\n",
        "    selected_node = random.choice(target_nodes)\n",
        "    random_walk_sequence.append(selected_node)\n",
        "    source_node = selected_node\n",
        "\n",
        "  return random_walk_sequence"
      ],
      "execution_count": 0,
      "outputs": []
    },
    {
      "cell_type": "code",
      "metadata": {
        "id": "YN9eZuNbY36a",
        "colab_type": "code",
        "outputId": "dcf14f39-aabd-49db-b220-2858d59eda1e",
        "colab": {
          "base_uri": "https://localhost:8080/",
          "height": 136
        }
      },
      "source": [
        "random_walk('sustainable development', 7)"
      ],
      "execution_count": 8,
      "outputs": [
        {
          "output_type": "execute_result",
          "data": {
            "text/plain": [
              "['sustainable development',\n",
              " 'environmental justice',\n",
              " 'environmental movement',\n",
              " 'natural environment',\n",
              " 'conservation movement',\n",
              " 'water conservation',\n",
              " 'conservation biology']"
            ]
          },
          "metadata": {
            "tags": []
          },
          "execution_count": 8
        }
      ]
    },
    {
      "cell_type": "code",
      "metadata": {
        "id": "JE9mRubPZDrB",
        "colab_type": "code",
        "outputId": "c6db1fbf-d8e2-4eae-dbcf-450042b6a791",
        "colab": {
          "base_uri": "https://localhost:8080/",
          "height": 51
        }
      },
      "source": [
        "# get random_walk sequences for all the nodes\n",
        "all_nodes = list(G.nodes)\n",
        "\n",
        "random_walks = []\n",
        "for n in tqdm(all_nodes):  # tqdm is to show the progress\n",
        "  for i in range(4):\n",
        "    random_walks.append(random_walk(n, 10))\n",
        "\n",
        "print(len(random_walks))"
      ],
      "execution_count": 9,
      "outputs": [
        {
          "output_type": "stream",
          "text": [
            "100%|██████████| 367/367 [00:00<00:00, 11672.22it/s]"
          ],
          "name": "stderr"
        },
        {
          "output_type": "stream",
          "text": [
            "1468\n"
          ],
          "name": "stdout"
        },
        {
          "output_type": "stream",
          "text": [
            "\n"
          ],
          "name": "stderr"
        }
      ]
    },
    {
      "cell_type": "code",
      "metadata": {
        "id": "mH0pYkA3ifUF",
        "colab_type": "code",
        "outputId": "56ce28dd-0cd1-4044-b142-62172ddf3732",
        "colab": {
          "base_uri": "https://localhost:8080/",
          "height": 119
        }
      },
      "source": [
        "for seq in random_walks[4:10]:\n",
        "  print(seq)"
      ],
      "execution_count": 10,
      "outputs": [
        {
          "output_type": "stream",
          "text": [
            "['biodiversity', 'ecological indicator']\n",
            "['biodiversity', 'bioversity international']\n",
            "['biodiversity', 'international day for biological diversity']\n",
            "['biodiversity', 'zero-force evolutionary law']\n",
            "['carbon offset', 'carbon footprint', 'earth day', 'copenhagen accord']\n",
            "['carbon offset', 'clean development mechanism']\n"
          ],
          "name": "stdout"
        }
      ]
    },
    {
      "cell_type": "markdown",
      "metadata": {
        "id": "XJwPYyh9UHMt",
        "colab_type": "text"
      },
      "source": [
        "## Train Skip-Gram\n",
        "\n",
        "* [Relevant Params for Word2Vec here](https://radimrehurek.com/gensim/models/word2vec.html#gensim.models.word2vec.Word2Vec)"
      ]
    },
    {
      "cell_type": "code",
      "metadata": {
        "id": "n8jCLhK1UL_q",
        "colab_type": "code",
        "colab": {}
      },
      "source": [
        "from gensim.models import Word2Vec\n",
        "\n",
        "# maximum distance between current node to predicted node is 3\n",
        "# negative sampling, random 10 noise words\n",
        "# learning rate linearly decrease from alpha to min alpha\n",
        "model = Word2Vec(window = 4, sg = 1, hs = 0,\n",
        "                 negative = 10, \n",
        "                 alpha=0.03, min_alpha=0.0007, \n",
        "                 seed = 10)\n",
        "\n",
        "model.build_vocab(random_walks, progress_per=2) # process 2 nodes before updating progress"
      ],
      "execution_count": 0,
      "outputs": []
    },
    {
      "cell_type": "code",
      "metadata": {
        "id": "EMlJAlyhXrYE",
        "colab_type": "code",
        "colab": {
          "base_uri": "https://localhost:8080/",
          "height": 34
        },
        "outputId": "70e5ea8b-c75e-403b-fa14-a7e528b4488c"
      },
      "source": [
        "# By default in Word2Vec, each node is represented by a fixed length 100\n",
        "model.train(random_walks, total_examples = model.corpus_count, epochs=20, report_delay=1)"
      ],
      "execution_count": 17,
      "outputs": [
        {
          "output_type": "execute_result",
          "data": {
            "text/plain": [
              "(86695, 127320)"
            ]
          },
          "metadata": {
            "tags": []
          },
          "execution_count": 17
        }
      ]
    },
    {
      "cell_type": "code",
      "metadata": {
        "id": "qiaZBDiuYzpE",
        "colab_type": "code",
        "colab": {
          "base_uri": "https://localhost:8080/",
          "height": 187
        },
        "outputId": "e38579f2-e93f-4294-be5b-60505a04c67f"
      },
      "source": [
        "import warnings\n",
        "warnings.filterwarnings('ignore')\n",
        "\n",
        "# with trained model, find similar sequence\n",
        "## But input here has to be in the vocabulary\n",
        "model.similar_by_word('earth day')"
      ],
      "execution_count": 19,
      "outputs": [
        {
          "output_type": "execute_result",
          "data": {
            "text/plain": [
              "[(\"expo '74\", 0.8673896789550781),\n",
              " ('world environment day', 0.8634650707244873),\n",
              " ('international mother earth day', 0.8435598611831665),\n",
              " ('earth charter', 0.8424967527389526),\n",
              " ('copenhagen accord', 0.8382109999656677),\n",
              " ('earth strike', 0.8329126834869385),\n",
              " ('pale blue dot', 0.8311952352523804),\n",
              " ('politics of global warming', 0.8281704187393188),\n",
              " ('under2 coalition', 0.8239361047744751),\n",
              " ('paris agreement', 0.8235969543457031)]"
            ]
          },
          "metadata": {
            "tags": []
          },
          "execution_count": 19
        }
      ]
    },
    {
      "cell_type": "code",
      "metadata": {
        "id": "oj1ieMnUY_XU",
        "colab_type": "code",
        "colab": {
          "base_uri": "https://localhost:8080/",
          "height": 34
        },
        "outputId": "e62c4b31-1b57-4de0-b40f-858a0f9e83f1"
      },
      "source": [
        "model.similarity('carbon footprint', 'earth day')"
      ],
      "execution_count": 23,
      "outputs": [
        {
          "output_type": "execute_result",
          "data": {
            "text/plain": [
              "0.7180756"
            ]
          },
          "metadata": {
            "tags": []
          },
          "execution_count": 23
        }
      ]
    },
    {
      "cell_type": "code",
      "metadata": {
        "id": "nUteKq8vZ3Qy",
        "colab_type": "code",
        "colab": {}
      },
      "source": [
        ""
      ],
      "execution_count": 0,
      "outputs": []
    }
  ]
}