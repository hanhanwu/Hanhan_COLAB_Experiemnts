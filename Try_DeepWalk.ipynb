{
  "nbformat": 4,
  "nbformat_minor": 0,
  "metadata": {
    "colab": {
      "name": "Try_DeepWalk.ipynb",
      "provenance": [],
      "collapsed_sections": [],
      "toc_visible": true,
      "authorship_tag": "ABX9TyPUg8iWeSdUKuulncnGjWBZ",
      "include_colab_link": true
    },
    "kernelspec": {
      "name": "python3",
      "display_name": "Python 3"
    },
    "accelerator": "GPU"
  },
  "cells": [
    {
      "cell_type": "markdown",
      "metadata": {
        "id": "view-in-github",
        "colab_type": "text"
      },
      "source": [
        "<a href=\"https://colab.research.google.com/github/hanhanwu/Hanhan_COLAB_Experiemnts/blob/master/Try_DeepWalk.ipynb\" target=\"_parent\"><img src=\"https://colab.research.google.com/assets/colab-badge.svg\" alt=\"Open In Colab\"/></a>"
      ]
    },
    {
      "cell_type": "code",
      "metadata": {
        "id": "UJkU8ofsNos0",
        "colab_type": "code",
        "outputId": "160fcdf7-f451-4c60-ba0d-e4bcd0486c77",
        "colab": {
          "base_uri": "https://localhost:8080/",
          "height": 122
        }
      },
      "source": [
        "from google.colab import drive\n",
        "drive.mount('/content/drive')"
      ],
      "execution_count": 1,
      "outputs": [
        {
          "output_type": "stream",
          "text": [
            "Go to this URL in a browser: https://accounts.google.com/o/oauth2/auth?client_id=947318989803-6bn6qk8qdgf4n4g3pfee6491hc0brc4i.apps.googleusercontent.com&redirect_uri=urn%3aietf%3awg%3aoauth%3a2.0%3aoob&response_type=code&scope=email%20https%3a%2f%2fwww.googleapis.com%2fauth%2fdocs.test%20https%3a%2f%2fwww.googleapis.com%2fauth%2fdrive%20https%3a%2f%2fwww.googleapis.com%2fauth%2fdrive.photos.readonly%20https%3a%2f%2fwww.googleapis.com%2fauth%2fpeopleapi.readonly\n",
            "\n",
            "Enter your authorization code:\n",
            "··········\n",
            "Mounted at /content/drive\n"
          ],
          "name": "stdout"
        }
      ]
    },
    {
      "cell_type": "markdown",
      "metadata": {
        "id": "_ZwlG6l4OUSS",
        "colab_type": "text"
      },
      "source": [
        "I got generated the graph by using `seealsology`\n",
        "\n",
        "* https://densitydesign.github.io/strumentalia-seealsology/\n",
        "* It does web crawling for any wiki-page you typed in and creates a graph for you to download.\n",
        "* I used \"environment protection\" and \"global warming\" 2 wiki pages"
      ]
    },
    {
      "cell_type": "code",
      "metadata": {
        "id": "GaP4vCP5OQwE",
        "colab_type": "code",
        "colab": {}
      },
      "source": [
        "import networkx as nx\n",
        "import pandas as pd\n",
        "import numpy as np\n",
        "import random\n",
        "from tqdm import tqdm\n",
        "\n",
        "import matplotlib.pyplot as plt\n",
        "%matplotlib inline"
      ],
      "execution_count": 0,
      "outputs": []
    },
    {
      "cell_type": "markdown",
      "metadata": {
        "id": "dj5_bCAtURxJ",
        "colab_type": "text"
      },
      "source": [
        "## Extract RandomWalk Sequeces from the Graph"
      ]
    },
    {
      "cell_type": "code",
      "metadata": {
        "id": "wXuMAW73OypC",
        "colab_type": "code",
        "outputId": "bfc95a13-7fac-4d01-e931-f2bf2a4b172c",
        "colab": {
          "base_uri": "https://localhost:8080/",
          "height": 204
        }
      },
      "source": [
        "graph_df = pd.read_csv(\"environment_wiki_graph.tsv\", sep = \"\\t\")\n",
        "graph_df.head()"
      ],
      "execution_count": 3,
      "outputs": [
        {
          "output_type": "execute_result",
          "data": {
            "text/html": [
              "<div>\n",
              "<style scoped>\n",
              "    .dataframe tbody tr th:only-of-type {\n",
              "        vertical-align: middle;\n",
              "    }\n",
              "\n",
              "    .dataframe tbody tr th {\n",
              "        vertical-align: top;\n",
              "    }\n",
              "\n",
              "    .dataframe thead th {\n",
              "        text-align: right;\n",
              "    }\n",
              "</style>\n",
              "<table border=\"1\" class=\"dataframe\">\n",
              "  <thead>\n",
              "    <tr style=\"text-align: right;\">\n",
              "      <th></th>\n",
              "      <th>source</th>\n",
              "      <th>target</th>\n",
              "      <th>depth</th>\n",
              "    </tr>\n",
              "  </thead>\n",
              "  <tbody>\n",
              "    <tr>\n",
              "      <th>0</th>\n",
              "      <td>environmental protection</td>\n",
              "      <td>biodiversity</td>\n",
              "      <td>1</td>\n",
              "    </tr>\n",
              "    <tr>\n",
              "      <th>1</th>\n",
              "      <td>environmental protection</td>\n",
              "      <td>carbon offset</td>\n",
              "      <td>1</td>\n",
              "    </tr>\n",
              "    <tr>\n",
              "      <th>2</th>\n",
              "      <td>environmental protection</td>\n",
              "      <td>citizen science</td>\n",
              "      <td>1</td>\n",
              "    </tr>\n",
              "    <tr>\n",
              "      <th>3</th>\n",
              "      <td>environmental protection</td>\n",
              "      <td>conservation biology</td>\n",
              "      <td>1</td>\n",
              "    </tr>\n",
              "    <tr>\n",
              "      <th>4</th>\n",
              "      <td>environmental protection</td>\n",
              "      <td>conservation movement</td>\n",
              "      <td>1</td>\n",
              "    </tr>\n",
              "  </tbody>\n",
              "</table>\n",
              "</div>"
            ],
            "text/plain": [
              "                     source                 target  depth\n",
              "0  environmental protection           biodiversity      1\n",
              "1  environmental protection          carbon offset      1\n",
              "2  environmental protection        citizen science      1\n",
              "3  environmental protection   conservation biology      1\n",
              "4  environmental protection  conservation movement      1"
            ]
          },
          "metadata": {
            "tags": []
          },
          "execution_count": 3
        }
      ]
    },
    {
      "cell_type": "code",
      "metadata": {
        "id": "IiQhsRAuY8IL",
        "colab_type": "code",
        "outputId": "abe1065b-4634-4d06-a837-8b300ea76a7d",
        "colab": {
          "base_uri": "https://localhost:8080/",
          "height": 544
        }
      },
      "source": [
        "graph_df['source'].value_counts()"
      ],
      "execution_count": 4,
      "outputs": [
        {
          "output_type": "execute_result",
          "data": {
            "text/plain": [
              "sustainable development                 38\n",
              "environmentalism                        38\n",
              "sustainability                          34\n",
              "natural resource management             34\n",
              "environmental movement                  31\n",
              "ecology movement                        31\n",
              "natural capital                         27\n",
              "environmental protection                25\n",
              "conservation movement                   24\n",
              "earth day                               23\n",
              "environmental racism                    23\n",
              "conservation biology                    20\n",
              "anthropocene                            19\n",
              "carbon offset                           19\n",
              "participation (decision making)         13\n",
              "citizen science                         13\n",
              "holocene extinction                     13\n",
              "public information and participation    13\n",
              "green solutions                         13\n",
              "planetary boundaries                    13\n",
              "renewable resource                      11\n",
              "biodiversity                             9\n",
              "environmental governance                 9\n",
              "global cooling                           8\n",
              "environmental personhood                 5\n",
              "environmental law                        5\n",
              "environmental organizations              4\n",
              "global warming                           4\n",
              "environmental globalization              2\n",
              "green party                              2\n",
              "Name: source, dtype: int64"
            ]
          },
          "metadata": {
            "tags": []
          },
          "execution_count": 4
        }
      ]
    },
    {
      "cell_type": "code",
      "metadata": {
        "id": "4fZbKgdsO9Vx",
        "colab_type": "code",
        "outputId": "f7fce3ba-969e-4a16-83a4-e031a12e67a4",
        "colab": {
          "base_uri": "https://localhost:8080/",
          "height": 34
        }
      },
      "source": [
        "# construct the graph\n",
        "G = nx.from_pandas_edgelist(graph_df, \"source\", \"target\", \n",
        "                            edge_attr=True, create_using=nx.Graph())\n",
        "G"
      ],
      "execution_count": 5,
      "outputs": [
        {
          "output_type": "execute_result",
          "data": {
            "text/plain": [
              "<networkx.classes.graph.Graph at 0x7f59e10f04a8>"
            ]
          },
          "metadata": {
            "tags": []
          },
          "execution_count": 5
        }
      ]
    },
    {
      "cell_type": "code",
      "metadata": {
        "id": "Qx8BbfVkTqyP",
        "colab_type": "code",
        "outputId": "d860c742-c231-4ee8-ae64-21f2ed18b178",
        "colab": {
          "base_uri": "https://localhost:8080/",
          "height": 34
        }
      },
      "source": [
        "# The number of nodes\n",
        "len(G)"
      ],
      "execution_count": 6,
      "outputs": [
        {
          "output_type": "execute_result",
          "data": {
            "text/plain": [
              "367"
            ]
          },
          "metadata": {
            "tags": []
          },
          "execution_count": 6
        }
      ]
    },
    {
      "cell_type": "code",
      "metadata": {
        "id": "_6XgVxttURad",
        "colab_type": "code",
        "colab": {}
      },
      "source": [
        "def random_walk(source_node, sequence_len):\n",
        "  \"\"\"\n",
        "  For a souce node, get its neighbours that not in the random-walk sequence,\n",
        "  randomly select a neighbour as the next source node,\n",
        "  repeat until reaches to the max length or there is no node to choose.\n",
        "\n",
        "  NOTE: No need to set seed for random, cuz we want each time to generate\n",
        "        a different sequence when call this function.\n",
        "  \"\"\"\n",
        "  random_walk_sequence = [source_node]\n",
        "\n",
        "  for i in range(sequence_len - 1):\n",
        "    target_nodes = list(G.neighbors(source_node))\n",
        "    target_nodes = list(set(target_nodes) - set(random_walk_sequence))\n",
        "    if len(target_nodes) == 0:\n",
        "      break\n",
        "\n",
        "    selected_node = random.choice(target_nodes)\n",
        "    random_walk_sequence.append(selected_node)\n",
        "    source_node = selected_node\n",
        "\n",
        "  return random_walk_sequence"
      ],
      "execution_count": 0,
      "outputs": []
    },
    {
      "cell_type": "code",
      "metadata": {
        "id": "YN9eZuNbY36a",
        "colab_type": "code",
        "outputId": "c02e7553-82b3-4f57-947d-a32fb4ad7e63",
        "colab": {
          "base_uri": "https://localhost:8080/",
          "height": 136
        }
      },
      "source": [
        "random_walk('sustainable development', 7)"
      ],
      "execution_count": 8,
      "outputs": [
        {
          "output_type": "execute_result",
          "data": {
            "text/plain": [
              "['sustainable development',\n",
              " 'ecological footprint',\n",
              " 'natural capital',\n",
              " 'ecological economics',\n",
              " 'environmental movement',\n",
              " 'timeline of environmental events',\n",
              " 'ecology movement']"
            ]
          },
          "metadata": {
            "tags": []
          },
          "execution_count": 8
        }
      ]
    },
    {
      "cell_type": "code",
      "metadata": {
        "id": "JE9mRubPZDrB",
        "colab_type": "code",
        "outputId": "7fbfbe8c-330b-4dbc-cd08-45ce1658cacb",
        "colab": {
          "base_uri": "https://localhost:8080/",
          "height": 51
        }
      },
      "source": [
        "# get random_walk sequences for all the nodes\n",
        "all_nodes = list(G.nodes)\n",
        "\n",
        "random_walks = []\n",
        "for n in tqdm(all_nodes):  # tqdm is to show the progress\n",
        "  for i in range(4):\n",
        "    random_walks.append(random_walk(n, 10))\n",
        "\n",
        "print(len(random_walks))"
      ],
      "execution_count": 9,
      "outputs": [
        {
          "output_type": "stream",
          "text": [
            "100%|██████████| 367/367 [00:00<00:00, 13871.15it/s]"
          ],
          "name": "stderr"
        },
        {
          "output_type": "stream",
          "text": [
            "1468\n"
          ],
          "name": "stdout"
        },
        {
          "output_type": "stream",
          "text": [
            "\n"
          ],
          "name": "stderr"
        }
      ]
    },
    {
      "cell_type": "code",
      "metadata": {
        "id": "mH0pYkA3ifUF",
        "colab_type": "code",
        "outputId": "b67822b8-d5f0-4850-c509-4bc2910a19a9",
        "colab": {
          "base_uri": "https://localhost:8080/",
          "height": 139
        }
      },
      "source": [
        "for seq in random_walks[4:10]:\n",
        "  print(seq)"
      ],
      "execution_count": 10,
      "outputs": [
        {
          "output_type": "stream",
          "text": [
            "['biodiversity', 'environmental protection', 'renewable resource', 'scarcity']\n",
            "['biodiversity', 'natural resource management', 'environmentalism', 'religion and environmentalism']\n",
            "['biodiversity', 'defaunation', 'anthropocene', 'anthropocentrism', 'holocene extinction', 'extinction rebellion']\n",
            "['biodiversity', 'deforestation and climate change']\n",
            "['carbon offset', 'gold standard (carbon offset standard)']\n",
            "['carbon offset', 'environmental protection', 'renewable resource', 'exploitation of natural resources']\n"
          ],
          "name": "stdout"
        }
      ]
    },
    {
      "cell_type": "markdown",
      "metadata": {
        "id": "XJwPYyh9UHMt",
        "colab_type": "text"
      },
      "source": [
        "## Train Skip-Gram\n",
        "\n",
        "* [Relevant Params for Word2Vec here](https://radimrehurek.com/gensim/models/word2vec.html#gensim.models.word2vec.Word2Vec)\n",
        "* Each sequence has been converted as a vector"
      ]
    },
    {
      "cell_type": "code",
      "metadata": {
        "id": "n8jCLhK1UL_q",
        "colab_type": "code",
        "colab": {}
      },
      "source": [
        "from gensim.models import Word2Vec\n",
        "\n",
        "# maximum distance between current node to predicted node is 3\n",
        "# negative sampling, random 10 noise words\n",
        "# learning rate linearly decrease from alpha to min alpha\n",
        "model = Word2Vec(window = 4, sg = 1, hs = 0,\n",
        "                 negative = 10, \n",
        "                 alpha=0.03, min_alpha=0.0007, \n",
        "                 seed = 10)\n",
        "\n",
        "model.build_vocab(random_walks, progress_per=2) # process 2 nodes before updating progress"
      ],
      "execution_count": 0,
      "outputs": []
    },
    {
      "cell_type": "code",
      "metadata": {
        "id": "EMlJAlyhXrYE",
        "colab_type": "code",
        "outputId": "11000837-c596-41de-878c-db032c29f936",
        "colab": {
          "base_uri": "https://localhost:8080/",
          "height": 34
        }
      },
      "source": [
        "# By default in Word2Vec, each node is represented by a fixed length 100\n",
        "model.train(random_walks, total_examples = model.corpus_count, epochs=20, report_delay=1)"
      ],
      "execution_count": 12,
      "outputs": [
        {
          "output_type": "execute_result",
          "data": {
            "text/plain": [
              "(86765, 128940)"
            ]
          },
          "metadata": {
            "tags": []
          },
          "execution_count": 12
        }
      ]
    },
    {
      "cell_type": "code",
      "metadata": {
        "id": "qiaZBDiuYzpE",
        "colab_type": "code",
        "outputId": "c2bd8526-e1df-44bf-b1bb-93d2decb888b",
        "colab": {
          "base_uri": "https://localhost:8080/",
          "height": 187
        }
      },
      "source": [
        "import warnings\n",
        "warnings.filterwarnings('ignore')\n",
        "\n",
        "# with trained model, find similar sequence\n",
        "## But input here has to be in the vocabulary\n",
        "model.similar_by_word('earth day')"
      ],
      "execution_count": 13,
      "outputs": [
        {
          "output_type": "execute_result",
          "data": {
            "text/plain": [
              "[('carbon footprint', 0.9416614174842834),\n",
              " ('capacity factor', 0.936726450920105),\n",
              " ('under2 coalition', 0.9267891049385071),\n",
              " (\"expo '74\", 0.9267367124557495),\n",
              " ('earth charter', 0.9129364490509033),\n",
              " ('international year of soil', 0.9115010499954224),\n",
              " ('arbor day', 0.9063382148742676),\n",
              " ('international mother earth day', 0.9058635234832764),\n",
              " ('environmental organizations', 0.9047513008117676),\n",
              " ('paris agreement', 0.9005597233772278)]"
            ]
          },
          "metadata": {
            "tags": []
          },
          "execution_count": 13
        }
      ]
    },
    {
      "cell_type": "code",
      "metadata": {
        "id": "oj1ieMnUY_XU",
        "colab_type": "code",
        "outputId": "a40b73c0-f8da-42c7-a673-2a19959148b8",
        "colab": {
          "base_uri": "https://localhost:8080/",
          "height": 34
        }
      },
      "source": [
        "model.similarity('carbon footprint', 'earth day')"
      ],
      "execution_count": 14,
      "outputs": [
        {
          "output_type": "execute_result",
          "data": {
            "text/plain": [
              "0.9416614"
            ]
          },
          "metadata": {
            "tags": []
          },
          "execution_count": 14
        }
      ]
    },
    {
      "cell_type": "markdown",
      "metadata": {
        "id": "XHkgACmHhv7r",
        "colab_type": "text"
      },
      "source": [
        "## Plot Sequences Similarity\n",
        "\n",
        "* Each sequence is a vector here, it uses PCA to convert the sequence into 2D data and plot on the chart to show the similarity between each sequence."
      ]
    },
    {
      "cell_type": "code",
      "metadata": {
        "id": "D_N4nXYzhxlL",
        "colab_type": "code",
        "colab": {
          "base_uri": "https://localhost:8080/",
          "height": 306
        },
        "outputId": "0c57c78f-1aec-4cf6-d6c3-f0dc32e01b78"
      },
      "source": [
        "from sklearn.decomposition import PCA\n",
        "\n",
        "sequence_lst = []\n",
        "for lst in random_walks[4:10]:\n",
        "  sequence_lst.extend(lst)\n",
        "\n",
        "sequence_set = list(set(sequence_lst))\n",
        "print(len(sequence_set))\n",
        "sequence_set"
      ],
      "execution_count": 24,
      "outputs": [
        {
          "output_type": "stream",
          "text": [
            "16\n"
          ],
          "name": "stdout"
        },
        {
          "output_type": "execute_result",
          "data": {
            "text/plain": [
              "['extinction rebellion',\n",
              " 'exploitation of natural resources',\n",
              " 'religion and environmentalism',\n",
              " 'environmental protection',\n",
              " 'scarcity',\n",
              " 'carbon offset',\n",
              " 'natural resource management',\n",
              " 'gold standard (carbon offset standard)',\n",
              " 'biodiversity',\n",
              " 'holocene extinction',\n",
              " 'environmentalism',\n",
              " 'anthropocene',\n",
              " 'deforestation and climate change',\n",
              " 'renewable resource',\n",
              " 'anthropocentrism',\n",
              " 'defaunation']"
            ]
          },
          "metadata": {
            "tags": []
          },
          "execution_count": 24
        }
      ]
    },
    {
      "cell_type": "code",
      "metadata": {
        "id": "UbSAhmXPniO5",
        "colab_type": "code",
        "colab": {
          "base_uri": "https://localhost:8080/",
          "height": 255
        },
        "outputId": "afa34789-f9de-4337-a709-21ad604b77d1"
      },
      "source": [
        "X = model[sequence_set]\n",
        "print(X.shape)\n",
        "X"
      ],
      "execution_count": 23,
      "outputs": [
        {
          "output_type": "stream",
          "text": [
            "(16, 100)\n"
          ],
          "name": "stdout"
        },
        {
          "output_type": "execute_result",
          "data": {
            "text/plain": [
              "array([[ 0.0071329 ,  0.5419132 , -0.05533326, ..., -0.00709814,\n",
              "        -0.2168985 , -0.10374338],\n",
              "       [-0.28402457,  0.1762333 ,  0.06491642, ...,  0.05715574,\n",
              "        -0.39485523,  0.10492297],\n",
              "       [-0.2540203 , -0.09598973,  0.19103777, ...,  0.11251009,\n",
              "        -0.10816719,  0.13597834],\n",
              "       ...,\n",
              "       [-0.40342227,  0.26623264,  0.13955012, ...,  0.02814982,\n",
              "        -0.49016762,  0.11395775],\n",
              "       [ 0.05622272,  0.71513563, -0.06964932, ..., -0.0366265 ,\n",
              "        -0.24119274, -0.17285071],\n",
              "       [ 0.03344935,  0.53277206, -0.12705998, ...,  0.09697701,\n",
              "        -0.24933705, -0.13331059]], dtype=float32)"
            ]
          },
          "metadata": {
            "tags": []
          },
          "execution_count": 23
        }
      ]
    },
    {
      "cell_type": "code",
      "metadata": {
        "id": "ZTRPO_frnpcI",
        "colab_type": "code",
        "colab": {
          "base_uri": "https://localhost:8080/",
          "height": 289
        },
        "outputId": "6d17564e-0265-4c31-e96f-aea27b7116bf"
      },
      "source": [
        "pca = PCA(n_components=2)\n",
        "output_2d = pca.fit_transform(X)\n",
        "\n",
        "output_2d"
      ],
      "execution_count": 32,
      "outputs": [
        {
          "output_type": "execute_result",
          "data": {
            "text/plain": [
              "array([[ 9.9444389e-01,  1.7476518e-01],\n",
              "       [-8.4018934e-01, -6.7648447e-01],\n",
              "       [-8.9759511e-01,  5.3965735e-01],\n",
              "       [-1.1686203e+00,  3.3529219e-01],\n",
              "       [-6.9640785e-01, -5.6981868e-01],\n",
              "       [-5.9176272e-01,  1.2477756e+00],\n",
              "       [-1.0217527e+00, -8.7005639e-01],\n",
              "       [-5.7500565e-01,  7.9027724e-01],\n",
              "       [ 5.2902442e-01, -7.5555283e-01],\n",
              "       [ 1.7853456e+00,  2.4060905e-01],\n",
              "       [-1.1197624e+00,  8.5717988e-01],\n",
              "       [ 1.8574934e+00, -6.6762485e-02],\n",
              "       [-3.6717478e-02, -1.0554388e-03],\n",
              "       [-9.2168266e-01, -1.1734073e+00],\n",
              "       [ 1.5769484e+00,  2.1087483e-01],\n",
              "       [ 1.1262401e+00, -2.8329429e-01]], dtype=float32)"
            ]
          },
          "metadata": {
            "tags": []
          },
          "execution_count": 32
        }
      ]
    },
    {
      "cell_type": "code",
      "metadata": {
        "id": "Dwtv_NScppVp",
        "colab_type": "code",
        "colab": {
          "base_uri": "https://localhost:8080/",
          "height": 444
        },
        "outputId": "b7fe4518-854c-4bb5-adde-2b6a9345c744"
      },
      "source": [
        "plt.figure(figsize=(9, 7))\n",
        "\n",
        "plt.scatter(output_2d[:, 0], output_2d[:, 1], color='g')\n",
        "for i,  sequence in enumerate(sequence_set):\n",
        "  plt.annotate(sequence, xy=(output_2d[i, 0], output_2d[i, 1]), color='purple')\n",
        "  plt.title('Plot with PCA')\n",
        "        \n",
        "plt.show()"
      ],
      "execution_count": 33,
      "outputs": [
        {
          "output_type": "display_data",
          "data": {
            "image/png": "[encoded data removed]",
            "text/plain": [
              "<Figure size 648x504 with 1 Axes>"
            ]
          },
          "metadata": {
            "tags": []
          }
        }
      ]
    },
    {
      "cell_type": "markdown",
      "metadata": {
        "id": "sVdX-ysHrUdf",
        "colab_type": "text"
      },
      "source": [
        "### Replace PCA with t-SNE\n",
        "\n",
        "Wondering whether there will be any structure difference."
      ]
    },
    {
      "cell_type": "code",
      "metadata": {
        "id": "wpefEJPirf4j",
        "colab_type": "code",
        "colab": {
          "base_uri": "https://localhost:8080/",
          "height": 289
        },
        "outputId": "c1c421f3-3cf5-4c18-891c-7cd1af4e5dfc"
      },
      "source": [
        "from sklearn.manifold import TSNE\n",
        "\n",
        "output_2d = TSNE(n_components=2).fit_transform(X)\n",
        "output_2d"
      ],
      "execution_count": 34,
      "outputs": [
        {
          "output_type": "execute_result",
          "data": {
            "text/plain": [
              "array([[-121.50858 , -138.59216 ],\n",
              "       [  94.26443 ,  172.90782 ],\n",
              "       [ -27.715925,  184.72836 ],\n",
              "       [ -16.834784, -191.83905 ],\n",
              "       [-114.79316 ,  -23.54879 ],\n",
              "       [ 165.57234 ,  -54.777496],\n",
              "       [  66.36455 ,  -16.445017],\n",
              "       [-147.95229 ,  164.71706 ],\n",
              "       [ 144.23003 ,   62.776688],\n",
              "       [ -24.681862,    9.864247],\n",
              "       [ -23.938444,  -85.10334 ],\n",
              "       [  77.745804, -127.31301 ],\n",
              "       [-193.26569 ,   55.10619 ],\n",
              "       [ -81.7816  ,   84.58692 ],\n",
              "       [  31.064302,   88.21838 ],\n",
              "       [-213.42982 ,  -63.981052]], dtype=float32)"
            ]
          },
          "metadata": {
            "tags": []
          },
          "execution_count": 34
        }
      ]
    },
    {
      "cell_type": "code",
      "metadata": {
        "id": "VoiWRT1ergdd",
        "colab_type": "code",
        "colab": {
          "base_uri": "https://localhost:8080/",
          "height": 444
        },
        "outputId": "a0b1bfd5-89f5-4b6a-c705-a3553307f186"
      },
      "source": [
        "plt.figure(figsize=(9, 7))\n",
        "\n",
        "plt.scatter(output_2d[:, 0], output_2d[:, 1], color='g')\n",
        "for i,  sequence in enumerate(sequence_set):\n",
        "  plt.annotate(sequence, xy=(output_2d[i, 0], output_2d[i, 1]), color='purple')\n",
        "  plt.title('Plot with t-SNE')\n",
        "        \n",
        "plt.show()"
      ],
      "execution_count": 35,
      "outputs": [
        {
          "output_type": "display_data",
          "data": {
            "image/png": "[encoded data removed]",
            "text/plain": [
              "<Figure size 648x504 with 1 Axes>"
            ]
          },
          "metadata": {
            "tags": []
          }
        }
      ]
    }
  ]
}