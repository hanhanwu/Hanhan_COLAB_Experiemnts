{
  "nbformat": 4,
  "nbformat_minor": 0,
  "metadata": {
    "colab": {
      "name": "Try_DeepWalk.ipynb",
      "provenance": [],
      "collapsed_sections": [],
      "authorship_tag": "ABX9TyOklDCrKHf3W69uBUIgA1Yj",
      "include_colab_link": true
    },
    "kernelspec": {
      "name": "python3",
      "display_name": "Python 3"
    },
    "accelerator": "GPU"
  },
  "cells": [
    {
      "cell_type": "markdown",
      "metadata": {
        "id": "view-in-github",
        "colab_type": "text"
      },
      "source": [
        "<a href=\"https://colab.research.google.com/github/hanhanwu/Hanhan_COLAB_Experiemnts/blob/master/Try_DeepWalk.ipynb\" target=\"_parent\"><img src=\"https://colab.research.google.com/assets/colab-badge.svg\" alt=\"Open In Colab\"/></a>"
      ]
    },
    {
      "cell_type": "code",
      "metadata": {
        "id": "UJkU8ofsNos0",
        "colab_type": "code",
        "outputId": "4a4c9cfd-fc52-4f19-9ade-414a313f9e1e",
        "colab": {
          "base_uri": "https://localhost:8080/",
          "height": 122
        }
      },
      "source": [
        "from google.colab import drive\n",
        "drive.mount('/content/drive')"
      ],
      "execution_count": 1,
      "outputs": [
        {
          "output_type": "stream",
          "text": [
            "Go to this URL in a browser: https://accounts.google.com/o/oauth2/auth?client_id=947318989803-6bn6qk8qdgf4n4g3pfee6491hc0brc4i.apps.googleusercontent.com&redirect_uri=urn%3aietf%3awg%3aoauth%3a2.0%3aoob&response_type=code&scope=email%20https%3a%2f%2fwww.googleapis.com%2fauth%2fdocs.test%20https%3a%2f%2fwww.googleapis.com%2fauth%2fdrive%20https%3a%2f%2fwww.googleapis.com%2fauth%2fdrive.photos.readonly%20https%3a%2f%2fwww.googleapis.com%2fauth%2fpeopleapi.readonly\n",
            "\n",
            "Enter your authorization code:\n",
            "··········\n",
            "Mounted at /content/drive\n"
          ],
          "name": "stdout"
        }
      ]
    },
    {
      "cell_type": "markdown",
      "metadata": {
        "id": "_ZwlG6l4OUSS",
        "colab_type": "text"
      },
      "source": [
        "I got generated the graph by using `seealsology`\n",
        "\n",
        "* https://densitydesign.github.io/strumentalia-seealsology/\n",
        "* It does web crawling for any wiki-page you typed in and creates a graph for you to download.\n",
        "* I used \"environment protection\" and \"global warming\" 2 wiki pages"
      ]
    },
    {
      "cell_type": "code",
      "metadata": {
        "id": "GaP4vCP5OQwE",
        "colab_type": "code",
        "colab": {}
      },
      "source": [
        "import networkx as nx\n",
        "import pandas as pd\n",
        "import numpy as np\n",
        "import random\n",
        "from tqdm import tqdm\n",
        "from sklearn.decomposition import PCA\n",
        "\n",
        "import matplotlib.pyplot as plt\n",
        "%matplotlib inline"
      ],
      "execution_count": 0,
      "outputs": []
    },
    {
      "cell_type": "code",
      "metadata": {
        "id": "wXuMAW73OypC",
        "colab_type": "code",
        "outputId": "d60edd9f-7b4e-40eb-8422-15fbb3aef436",
        "colab": {
          "base_uri": "https://localhost:8080/",
          "height": 204
        }
      },
      "source": [
        "graph_df = pd.read_csv(\"environment_wiki_graph.tsv\", sep = \"\\t\")\n",
        "graph_df.head()"
      ],
      "execution_count": 12,
      "outputs": [
        {
          "output_type": "execute_result",
          "data": {
            "text/html": [
              "<div>\n",
              "<style scoped>\n",
              "    .dataframe tbody tr th:only-of-type {\n",
              "        vertical-align: middle;\n",
              "    }\n",
              "\n",
              "    .dataframe tbody tr th {\n",
              "        vertical-align: top;\n",
              "    }\n",
              "\n",
              "    .dataframe thead th {\n",
              "        text-align: right;\n",
              "    }\n",
              "</style>\n",
              "<table border=\"1\" class=\"dataframe\">\n",
              "  <thead>\n",
              "    <tr style=\"text-align: right;\">\n",
              "      <th></th>\n",
              "      <th>source</th>\n",
              "      <th>target</th>\n",
              "      <th>depth</th>\n",
              "    </tr>\n",
              "  </thead>\n",
              "  <tbody>\n",
              "    <tr>\n",
              "      <th>0</th>\n",
              "      <td>environmental protection</td>\n",
              "      <td>biodiversity</td>\n",
              "      <td>1</td>\n",
              "    </tr>\n",
              "    <tr>\n",
              "      <th>1</th>\n",
              "      <td>environmental protection</td>\n",
              "      <td>carbon offset</td>\n",
              "      <td>1</td>\n",
              "    </tr>\n",
              "    <tr>\n",
              "      <th>2</th>\n",
              "      <td>environmental protection</td>\n",
              "      <td>citizen science</td>\n",
              "      <td>1</td>\n",
              "    </tr>\n",
              "    <tr>\n",
              "      <th>3</th>\n",
              "      <td>environmental protection</td>\n",
              "      <td>conservation biology</td>\n",
              "      <td>1</td>\n",
              "    </tr>\n",
              "    <tr>\n",
              "      <th>4</th>\n",
              "      <td>environmental protection</td>\n",
              "      <td>conservation movement</td>\n",
              "      <td>1</td>\n",
              "    </tr>\n",
              "  </tbody>\n",
              "</table>\n",
              "</div>"
            ],
            "text/plain": [
              "                     source                 target  depth\n",
              "0  environmental protection           biodiversity      1\n",
              "1  environmental protection          carbon offset      1\n",
              "2  environmental protection        citizen science      1\n",
              "3  environmental protection   conservation biology      1\n",
              "4  environmental protection  conservation movement      1"
            ]
          },
          "metadata": {
            "tags": []
          },
          "execution_count": 12
        }
      ]
    },
    {
      "cell_type": "code",
      "metadata": {
        "id": "IiQhsRAuY8IL",
        "colab_type": "code",
        "outputId": "3abaf721-b988-4cd9-e0d8-367becac06fb",
        "colab": {
          "base_uri": "https://localhost:8080/",
          "height": 544
        }
      },
      "source": [
        "graph_df['source'].value_counts()"
      ],
      "execution_count": 13,
      "outputs": [
        {
          "output_type": "execute_result",
          "data": {
            "text/plain": [
              "environmentalism                        38\n",
              "sustainable development                 38\n",
              "sustainability                          34\n",
              "natural resource management             34\n",
              "ecology movement                        31\n",
              "environmental movement                  31\n",
              "natural capital                         27\n",
              "environmental protection                25\n",
              "conservation movement                   24\n",
              "earth day                               23\n",
              "environmental racism                    23\n",
              "conservation biology                    20\n",
              "anthropocene                            19\n",
              "carbon offset                           19\n",
              "citizen science                         13\n",
              "public information and participation    13\n",
              "participation (decision making)         13\n",
              "green solutions                         13\n",
              "planetary boundaries                    13\n",
              "holocene extinction                     13\n",
              "renewable resource                      11\n",
              "biodiversity                             9\n",
              "environmental governance                 9\n",
              "global cooling                           8\n",
              "environmental law                        5\n",
              "environmental personhood                 5\n",
              "global warming                           4\n",
              "environmental organizations              4\n",
              "environmental globalization              2\n",
              "green party                              2\n",
              "Name: source, dtype: int64"
            ]
          },
          "metadata": {
            "tags": []
          },
          "execution_count": 13
        }
      ]
    },
    {
      "cell_type": "code",
      "metadata": {
        "id": "4fZbKgdsO9Vx",
        "colab_type": "code",
        "outputId": "b4266033-c44a-4199-cf0f-799f40af85c0",
        "colab": {
          "base_uri": "https://localhost:8080/",
          "height": 34
        }
      },
      "source": [
        "# construct the graph\n",
        "G = nx.from_pandas_edgelist(graph_df, \"source\", \"target\", \n",
        "                            edge_attr=True, create_using=nx.Graph())\n",
        "G"
      ],
      "execution_count": 14,
      "outputs": [
        {
          "output_type": "execute_result",
          "data": {
            "text/plain": [
              "<networkx.classes.graph.Graph at 0x7f81077abeb8>"
            ]
          },
          "metadata": {
            "tags": []
          },
          "execution_count": 14
        }
      ]
    },
    {
      "cell_type": "code",
      "metadata": {
        "id": "Qx8BbfVkTqyP",
        "colab_type": "code",
        "outputId": "c2f14fc5-dfec-4f37-c825-7a2765d1b405",
        "colab": {
          "base_uri": "https://localhost:8080/",
          "height": 34
        }
      },
      "source": [
        "# The number of nodes\n",
        "len(G)"
      ],
      "execution_count": 15,
      "outputs": [
        {
          "output_type": "execute_result",
          "data": {
            "text/plain": [
              "367"
            ]
          },
          "metadata": {
            "tags": []
          },
          "execution_count": 15
        }
      ]
    },
    {
      "cell_type": "code",
      "metadata": {
        "id": "_6XgVxttURad",
        "colab_type": "code",
        "colab": {}
      },
      "source": [
        "def random_walk(source_node, sequence_len):\n",
        "  \"\"\"\n",
        "  For a souce node, get its neighbours that not in the random-walk sequence,\n",
        "  randomly select a neighbour as the next source node,\n",
        "  repeat until reaches to the max length or there is no node to choose.\n",
        "\n",
        "  NOTE: No need to set seed for random, cuz we want each time to generate\n",
        "        a different sequence when call this function.\n",
        "  \"\"\"\n",
        "  random_walk_sequence = [source_node]\n",
        "\n",
        "  for i in range(sequence_len - 1):\n",
        "    target_nodes = list(G.neighbors(source_node))\n",
        "    target_nodes = list(set(target_nodes) - set(random_walk_sequence))\n",
        "    if len(target_nodes) == 0:\n",
        "      break\n",
        "\n",
        "    selected_node = random.choice(target_nodes)\n",
        "    random_walk_sequence.append(selected_node)\n",
        "    source_node = selected_node\n",
        "\n",
        "  return random_walk_sequence"
      ],
      "execution_count": 0,
      "outputs": []
    },
    {
      "cell_type": "code",
      "metadata": {
        "id": "YN9eZuNbY36a",
        "colab_type": "code",
        "outputId": "cffd33c5-0a6d-41e8-c8e6-13f5bdead9cd",
        "colab": {
          "base_uri": "https://localhost:8080/",
          "height": 85
        }
      },
      "source": [
        "random_walk('sustainable development', 7)"
      ],
      "execution_count": 43,
      "outputs": [
        {
          "output_type": "execute_result",
          "data": {
            "text/plain": [
              "['sustainable development',\n",
              " 'circles of sustainability',\n",
              " 'sustainability',\n",
              " 'world cities summit']"
            ]
          },
          "metadata": {
            "tags": []
          },
          "execution_count": 43
        }
      ]
    },
    {
      "cell_type": "code",
      "metadata": {
        "id": "JE9mRubPZDrB",
        "colab_type": "code",
        "colab": {
          "base_uri": "https://localhost:8080/",
          "height": 51
        },
        "outputId": "63e35416-a7cb-47c9-ac12-e507788c9796"
      },
      "source": [
        "# get random_walk sequences for all the nodes\n",
        "all_nodes = list(G.nodes)\n",
        "\n",
        "random_walks = []\n",
        "for n in tqdm(all_nodes):  # tqdm is to show the progress\n",
        "  for i in range(4):\n",
        "    random_walks.append(random_walk(n, 10))\n",
        "\n",
        "print(len(random_walks))"
      ],
      "execution_count": 40,
      "outputs": [
        {
          "output_type": "stream",
          "text": [
            "100%|██████████| 367/367 [00:00<00:00, 14716.01it/s]"
          ],
          "name": "stderr"
        },
        {
          "output_type": "stream",
          "text": [
            "1468\n"
          ],
          "name": "stdout"
        },
        {
          "output_type": "stream",
          "text": [
            "\n"
          ],
          "name": "stderr"
        }
      ]
    },
    {
      "cell_type": "code",
      "metadata": {
        "id": "mH0pYkA3ifUF",
        "colab_type": "code",
        "colab": {
          "base_uri": "https://localhost:8080/",
          "height": 119
        },
        "outputId": "565e6149-c53c-441f-9be0-5732a6d49053"
      },
      "source": [
        "for seq in random_walks[4:10]:\n",
        "  print(seq)"
      ],
      "execution_count": 41,
      "outputs": [
        {
          "output_type": "stream",
          "text": [
            "['biodiversity', 'deforestation and climate change']\n",
            "['biodiversity', 'defaunation', 'anthropocene', 'meghalayan']\n",
            "['biodiversity', 'bioversity international']\n",
            "['biodiversity', \"world scientists' warning to humanity\", 'anthropocene', 'novel ecosystem']\n",
            "['carbon offset', 'carbon sequestration']\n",
            "['carbon offset', 'personal carbon trading']\n"
          ],
          "name": "stdout"
        }
      ]
    },
    {
      "cell_type": "code",
      "metadata": {
        "id": "-Uemwpepjwxy",
        "colab_type": "code",
        "colab": {}
      },
      "source": [
        ""
      ],
      "execution_count": 0,
      "outputs": []
    }
  ]
}