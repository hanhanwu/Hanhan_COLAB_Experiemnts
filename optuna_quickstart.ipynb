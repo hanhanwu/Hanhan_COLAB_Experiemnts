{
  "nbformat": 4,
  "nbformat_minor": 0,
  "metadata": {
    "kernelspec": {
      "display_name": "Python 3",
      "language": "python",
      "name": "python3"
    },
    "language_info": {
      "codemirror_mode": {
        "name": "ipython",
        "version": 3
      },
      "file_extension": ".py",
      "mimetype": "text/x-python",
      "name": "python",
      "nbconvert_exporter": "python",
      "pygments_lexer": "ipython3",
      "version": "3.7.4"
    },
    "colab": {
      "name": "optuna_quickstart.ipynb",
      "provenance": [],
      "collapsed_sections": [],
      "include_colab_link": true
    }
  },
  "cells": [
    {
      "cell_type": "markdown",
      "metadata": {
        "id": "view-in-github",
        "colab_type": "text"
      },
      "source": [
        "<a href=\"https://colab.research.google.com/github/hanhanwu/Hanhan_COLAB_Experiemnts/blob/master/optuna_quickstart.ipynb\" target=\"_parent\"><img src=\"https://colab.research.google.com/assets/colab-badge.svg\" alt=\"Open In Colab\"/></a>"
      ]
    },
    {
      "cell_type": "markdown",
      "metadata": {
        "id": "XVpsqTEsPQTS"
      },
      "source": [
        "# A Quick Introduction to Optuna\n",
        "\n",
        "This Jupyter notebook goes through the basic usage of Optuna.\n",
        "\n",
        "- Install Optuna\n",
        "- Write a training algorithm that involves hyperparameters\n",
        "  - Read train/valid data\n",
        "  - Define and train model\n",
        "  - Evaluate model\n",
        "- Use Optuna to tune the hyperparameters (hyperparameter optimization, HPO)\n",
        "- Visualize HPO"
      ]
    },
    {
      "cell_type": "markdown",
      "metadata": {
        "id": "RIF_stFaPQTU"
      },
      "source": [
        "## Install `optuna`\n",
        "\n",
        "Optuna can be installed via `pip` or `conda`."
      ]
    },
    {
      "cell_type": "code",
      "metadata": {
        "id": "ExPD5QnuPQTV",
        "outputId": "afdc53a0-a079-46bf-936e-e0347c49ac15",
        "colab": {
          "base_uri": "https://localhost:8080/"
        }
      },
      "source": [
        "!pip install --quiet optuna"
      ],
      "execution_count": null,
      "outputs": [
        {
          "output_type": "stream",
          "text": [
            "\u001b[?25l\r\u001b[K     |█▎                              | 10kB 22.2MB/s eta 0:00:01\r\u001b[K     |██▌                             | 20kB 1.8MB/s eta 0:00:01\r\u001b[K     |███▉                            | 30kB 2.6MB/s eta 0:00:01\r\u001b[K     |█████                           | 40kB 3.4MB/s eta 0:00:01\r\u001b[K     |██████▍                         | 51kB 2.1MB/s eta 0:00:01\r\u001b[K     |███████▋                        | 61kB 2.5MB/s eta 0:00:01\r\u001b[K     |████████▉                       | 71kB 2.9MB/s eta 0:00:01\r\u001b[K     |██████████▏                     | 81kB 3.3MB/s eta 0:00:01\r\u001b[K     |███████████▍                    | 92kB 2.5MB/s eta 0:00:01\r\u001b[K     |████████████▊                   | 102kB 2.8MB/s eta 0:00:01\r\u001b[K     |██████████████                  | 112kB 2.8MB/s eta 0:00:01\r\u001b[K     |███████████████▏                | 122kB 2.8MB/s eta 0:00:01\r\u001b[K     |████████████████▌               | 133kB 2.8MB/s eta 0:00:01\r\u001b[K     |█████████████████▊              | 143kB 2.8MB/s eta 0:00:01\r\u001b[K     |███████████████████             | 153kB 2.8MB/s eta 0:00:01\r\u001b[K     |████████████████████▎           | 163kB 2.8MB/s eta 0:00:01\r\u001b[K     |█████████████████████▌          | 174kB 2.8MB/s eta 0:00:01\r\u001b[K     |██████████████████████▉         | 184kB 2.8MB/s eta 0:00:01\r\u001b[K     |████████████████████████        | 194kB 2.8MB/s eta 0:00:01\r\u001b[K     |█████████████████████████▍      | 204kB 2.8MB/s eta 0:00:01\r\u001b[K     |██████████████████████████▋     | 215kB 2.8MB/s eta 0:00:01\r\u001b[K     |███████████████████████████▉    | 225kB 2.8MB/s eta 0:00:01\r\u001b[K     |█████████████████████████████▏  | 235kB 2.8MB/s eta 0:00:01\r\u001b[K     |██████████████████████████████▍ | 245kB 2.8MB/s eta 0:00:01\r\u001b[K     |███████████████████████████████▊| 256kB 2.8MB/s eta 0:00:01\r\u001b[K     |████████████████████████████████| 266kB 2.8MB/s \n",
            "\u001b[?25h  Installing build dependencies ... \u001b[?25l\u001b[?25hdone\n",
            "  Getting requirements to build wheel ... \u001b[?25l\u001b[?25hdone\n",
            "    Preparing wheel metadata ... \u001b[?25l\u001b[?25hdone\n",
            "\u001b[K     |████████████████████████████████| 81kB 9.0MB/s \n",
            "\u001b[K     |████████████████████████████████| 163kB 54.3MB/s \n",
            "\u001b[K     |████████████████████████████████| 51kB 4.8MB/s \n",
            "\u001b[K     |████████████████████████████████| 112kB 54.0MB/s \n",
            "\u001b[K     |████████████████████████████████| 143kB 45.6MB/s \n",
            "\u001b[K     |████████████████████████████████| 81kB 8.8MB/s \n",
            "\u001b[?25h  Building wheel for optuna (PEP 517) ... \u001b[?25l\u001b[?25hdone\n",
            "  Building wheel for PrettyTable (setup.py) ... \u001b[?25l\u001b[?25hdone\n",
            "  Building wheel for pyperclip (setup.py) ... \u001b[?25l\u001b[?25hdone\n"
          ],
          "name": "stdout"
        }
      ]
    },
    {
      "cell_type": "code",
      "metadata": {
        "id": "Q6zZCHR_PQTZ",
        "outputId": "b74d902b-aa05-4e4f-a9ad-0029d1b0abbc",
        "colab": {
          "base_uri": "https://localhost:8080/",
          "height": 35
        }
      },
      "source": [
        "import optuna\n",
        "\n",
        "optuna.__version__"
      ],
      "execution_count": null,
      "outputs": [
        {
          "output_type": "execute_result",
          "data": {
            "application/vnd.google.colaboratory.intrinsic+json": {
              "type": "string"
            },
            "text/plain": [
              "'2.3.0'"
            ]
          },
          "metadata": {
            "tags": []
          },
          "execution_count": 3
        }
      ]
    },
    {
      "cell_type": "markdown",
      "metadata": {
        "id": "xMZSEhb-PQTc"
      },
      "source": [
        "## Optimize Hyperparameters\n",
        "\n",
        "### Define a simple scikit-learn model\n",
        "\n",
        "We start with a simple random forest model to classify flowers in the Iris dataset. We define a function called `objective` that encapsulates the whole training process and outputs the accuracy of the model."
      ]
    },
    {
      "cell_type": "code",
      "metadata": {
        "id": "fa7qOp6NTGFD"
      },
      "source": [
        "import sklearn.datasets\n",
        "import sklearn.ensemble\n",
        "import sklearn.model_selection"
      ],
      "execution_count": null,
      "outputs": []
    },
    {
      "cell_type": "code",
      "metadata": {
        "id": "6QzgZ3K-PQTc"
      },
      "source": [
        "def objective():\n",
        "    iris = sklearn.datasets.load_iris()  # Prepare the data.\n",
        "    \n",
        "    clf = sklearn.ensemble.RandomForestClassifier(    \n",
        "        n_estimators=5, max_depth=3)  # Define the model.\n",
        "    \n",
        "    return sklearn.model_selection.cross_val_score(\n",
        "        clf, iris.data, iris.target, n_jobs=-1, cv=3).mean()  # Train and evaluate the model.\n",
        "\n",
        "print('Accuracy: {}'.format(objective()))"
      ],
      "execution_count": null,
      "outputs": []
    },
    {
      "cell_type": "markdown",
      "metadata": {
        "id": "r5KnxLiTPQTf"
      },
      "source": [
        "### Optimize hyperparameters of the model\n",
        "\n",
        "The hyperparameters of the above algorithm are `n_estimators` and `max_depth` for which we can try different values to see if the model accuracy can be improved. The `objective` function is modified to accept a trial object. This trial has several methods for sampling hyperparameters. We create a study to run the hyperparameter optimization and finally read the best hyperparameters."
      ]
    },
    {
      "cell_type": "code",
      "metadata": {
        "id": "63xgBommPQTg"
      },
      "source": [
        "import optuna\n",
        "\n",
        "def objective(trial):\n",
        "    iris = sklearn.datasets.load_iris()\n",
        "    \n",
        "    n_estimators = trial.suggest_int('n_estimators', 2, 20)\n",
        "    max_depth = int(trial.suggest_float('max_depth', 1, 32, log=True))\n",
        "    \n",
        "    clf = sklearn.ensemble.RandomForestClassifier(\n",
        "        n_estimators=n_estimators, max_depth=max_depth)\n",
        "    \n",
        "    return sklearn.model_selection.cross_val_score(\n",
        "        clf, iris.data, iris.target, n_jobs=-1, cv=3).mean()\n",
        "\n",
        "study = optuna.create_study(direction='maximize')\n",
        "study.optimize(objective, n_trials=100)\n",
        "\n",
        "trial = study.best_trial\n",
        "\n",
        "print('Accuracy: {}'.format(trial.value))\n",
        "print(\"Best hyperparameters: {}\".format(trial.params))"
      ],
      "execution_count": null,
      "outputs": []
    },
    {
      "cell_type": "markdown",
      "metadata": {
        "id": "o_N8YdI1PQTk"
      },
      "source": [
        "It is possible to condition hyperparameters using Python `if` statements. We can for instance include another classifier, a support vector machine, in our HPO and define hyperparameters specific to the random forest model and the support vector machine."
      ]
    },
    {
      "cell_type": "code",
      "metadata": {
        "id": "ev92eOx3PQTl",
        "outputId": "106b0f4b-d5b1-41d3-ba5b-4f4e5bd01c95",
        "colab": {
          "base_uri": "https://localhost:8080/"
        }
      },
      "source": [
        "import sklearn.svm\n",
        "\n",
        "def objective(trial):\n",
        "    iris = sklearn.datasets.load_iris()\n",
        "\n",
        "    classifier = trial.suggest_categorical('classifier', ['RandomForest', 'SVC'])\n",
        "    \n",
        "    if classifier == 'RandomForest':\n",
        "        n_estimators = trial.suggest_int('n_estimators', 2, 20)\n",
        "        max_depth = int(trial.suggest_float('max_depth', 1, 32, log=True))\n",
        "\n",
        "        clf = sklearn.ensemble.RandomForestClassifier(\n",
        "            n_estimators=n_estimators, max_depth=max_depth)\n",
        "    else:\n",
        "        c = trial.suggest_float('svc_c', 1e-10, 1e10, log=True)\n",
        "        \n",
        "        clf = sklearn.svm.SVC(C=c, gamma='auto')\n",
        "\n",
        "    return sklearn.model_selection.cross_val_score(\n",
        "        clf, iris.data, iris.target, n_jobs=-1, cv=3).mean()\n",
        "\n",
        "study = optuna.create_study(direction='maximize')\n",
        "study.optimize(objective, n_trials=100)\n",
        "\n",
        "trial = study.best_trial\n",
        "\n",
        "print('Accuracy: {}'.format(trial.value))\n",
        "print(\"Best hyperparameters: {}\".format(trial.params))"
      ],
      "execution_count": null,
      "outputs": [
        {
          "output_type": "stream",
          "text": [
            "\u001b[32m[I 2020-11-07 20:01:17,585]\u001b[0m A new study created in memory with name: no-name-21e9d677-f88a-4938-b681-8a0199eac851\u001b[0m\n",
            "\u001b[32m[I 2020-11-07 20:01:18,681]\u001b[0m Trial 0 finished with value: 0.9533333333333333 and parameters: {'classifier': 'RandomForest', 'n_estimators': 13, 'max_depth': 3.8568867328591665}. Best is trial 0 with value: 0.9533333333333333.\u001b[0m\n",
            "\u001b[32m[I 2020-11-07 20:01:18,750]\u001b[0m Trial 1 finished with value: 0.9666666666666667 and parameters: {'classifier': 'RandomForest', 'n_estimators': 15, 'max_depth': 3.0118134007693236}. Best is trial 1 with value: 0.9666666666666667.\u001b[0m\n",
            "\u001b[32m[I 2020-11-07 20:01:18,828]\u001b[0m Trial 2 finished with value: 0.9666666666666667 and parameters: {'classifier': 'RandomForest', 'n_estimators': 19, 'max_depth': 8.127633068621309}. Best is trial 1 with value: 0.9666666666666667.\u001b[0m\n",
            "\u001b[32m[I 2020-11-07 20:01:18,916]\u001b[0m Trial 3 finished with value: 0.9466666666666667 and parameters: {'classifier': 'RandomForest', 'n_estimators': 20, 'max_depth': 1.1911132650185514}. Best is trial 1 with value: 0.9666666666666667.\u001b[0m\n",
            "\u001b[32m[I 2020-11-07 20:01:18,939]\u001b[0m Trial 4 finished with value: 0.9466666666666667 and parameters: {'classifier': 'RandomForest', 'n_estimators': 2, 'max_depth': 2.8578286087109257}. Best is trial 1 with value: 0.9666666666666667.\u001b[0m\n",
            "\u001b[32m[I 2020-11-07 20:01:18,954]\u001b[0m Trial 5 finished with value: 0.94 and parameters: {'classifier': 'SVC', 'svc_c': 0.08212863744972139}. Best is trial 1 with value: 0.9666666666666667.\u001b[0m\n",
            "\u001b[32m[I 2020-11-07 20:01:18,967]\u001b[0m Trial 6 finished with value: 0.96 and parameters: {'classifier': 'SVC', 'svc_c': 30.119149786272967}. Best is trial 1 with value: 0.9666666666666667.\u001b[0m\n",
            "\u001b[32m[I 2020-11-07 20:01:19,011]\u001b[0m Trial 7 finished with value: 0.9266666666666667 and parameters: {'classifier': 'RandomForest', 'n_estimators': 9, 'max_depth': 1.3413638436822453}. Best is trial 1 with value: 0.9666666666666667.\u001b[0m\n",
            "\u001b[32m[I 2020-11-07 20:01:19,025]\u001b[0m Trial 8 finished with value: 0.32 and parameters: {'classifier': 'SVC', 'svc_c': 1.4386031301238793e-05}. Best is trial 1 with value: 0.9666666666666667.\u001b[0m\n",
            "\u001b[32m[I 2020-11-07 20:01:19,041]\u001b[0m Trial 9 finished with value: 0.96 and parameters: {'classifier': 'SVC', 'svc_c': 135953.08600305484}. Best is trial 1 with value: 0.9666666666666667.\u001b[0m\n",
            "\u001b[32m[I 2020-11-07 20:01:19,102]\u001b[0m Trial 10 finished with value: 0.9466666666666667 and parameters: {'classifier': 'RandomForest', 'n_estimators': 13, 'max_depth': 27.343588138319017}. Best is trial 1 with value: 0.9666666666666667.\u001b[0m\n",
            "\u001b[32m[I 2020-11-07 20:01:19,188]\u001b[0m Trial 11 finished with value: 0.96 and parameters: {'classifier': 'RandomForest', 'n_estimators': 20, 'max_depth': 14.020237968749075}. Best is trial 1 with value: 0.9666666666666667.\u001b[0m\n",
            "\u001b[32m[I 2020-11-07 20:01:19,268]\u001b[0m Trial 12 finished with value: 0.9533333333333333 and parameters: {'classifier': 'RandomForest', 'n_estimators': 16, 'max_depth': 8.307932255035578}. Best is trial 1 with value: 0.9666666666666667.\u001b[0m\n",
            "\u001b[32m[I 2020-11-07 20:01:19,347]\u001b[0m Trial 13 finished with value: 0.96 and parameters: {'classifier': 'RandomForest', 'n_estimators': 17, 'max_depth': 7.273472184687604}. Best is trial 1 with value: 0.9666666666666667.\u001b[0m\n",
            "\u001b[32m[I 2020-11-07 20:01:19,391]\u001b[0m Trial 14 finished with value: 0.9333333333333332 and parameters: {'classifier': 'RandomForest', 'n_estimators': 8, 'max_depth': 2.2587007073663656}. Best is trial 1 with value: 0.9666666666666667.\u001b[0m\n",
            "\u001b[32m[I 2020-11-07 20:01:19,465]\u001b[0m Trial 15 finished with value: 0.96 and parameters: {'classifier': 'RandomForest', 'n_estimators': 17, 'max_depth': 14.444579703362619}. Best is trial 1 with value: 0.9666666666666667.\u001b[0m\n",
            "\u001b[32m[I 2020-11-07 20:01:19,548]\u001b[0m Trial 16 finished with value: 0.9533333333333333 and parameters: {'classifier': 'RandomForest', 'n_estimators': 20, 'max_depth': 5.080470533348521}. Best is trial 1 with value: 0.9666666666666667.\u001b[0m\n",
            "\u001b[32m[I 2020-11-07 20:01:19,617]\u001b[0m Trial 17 finished with value: 0.9466666666666667 and parameters: {'classifier': 'RandomForest', 'n_estimators': 15, 'max_depth': 2.106078585037581}. Best is trial 1 with value: 0.9666666666666667.\u001b[0m\n",
            "\u001b[32m[I 2020-11-07 20:01:19,675]\u001b[0m Trial 18 finished with value: 0.96 and parameters: {'classifier': 'RandomForest', 'n_estimators': 11, 'max_depth': 9.276445754077923}. Best is trial 1 with value: 0.9666666666666667.\u001b[0m\n",
            "\u001b[32m[I 2020-11-07 20:01:19,753]\u001b[0m Trial 19 finished with value: 0.9466666666666667 and parameters: {'classifier': 'RandomForest', 'n_estimators': 18, 'max_depth': 3.8709068992837037}. Best is trial 1 with value: 0.9666666666666667.\u001b[0m\n",
            "\u001b[32m[I 2020-11-07 20:01:19,816]\u001b[0m Trial 20 finished with value: 0.9666666666666667 and parameters: {'classifier': 'RandomForest', 'n_estimators': 14, 'max_depth': 15.25893286215967}. Best is trial 1 with value: 0.9666666666666667.\u001b[0m\n",
            "\u001b[32m[I 2020-11-07 20:01:19,880]\u001b[0m Trial 21 finished with value: 0.96 and parameters: {'classifier': 'RandomForest', 'n_estimators': 14, 'max_depth': 26.784038037397156}. Best is trial 1 with value: 0.9666666666666667.\u001b[0m\n",
            "\u001b[32m[I 2020-11-07 20:01:19,938]\u001b[0m Trial 22 finished with value: 0.9666666666666667 and parameters: {'classifier': 'RandomForest', 'n_estimators': 12, 'max_depth': 14.32436632943313}. Best is trial 1 with value: 0.9666666666666667.\u001b[0m\n",
            "\u001b[32m[I 2020-11-07 20:01:19,995]\u001b[0m Trial 23 finished with value: 0.9466666666666667 and parameters: {'classifier': 'RandomForest', 'n_estimators': 11, 'max_depth': 20.350534425798024}. Best is trial 1 with value: 0.9666666666666667.\u001b[0m\n",
            "\u001b[32m[I 2020-11-07 20:01:20,072]\u001b[0m Trial 24 finished with value: 0.9533333333333333 and parameters: {'classifier': 'RandomForest', 'n_estimators': 18, 'max_depth': 5.774027198572303}. Best is trial 1 with value: 0.9666666666666667.\u001b[0m\n",
            "\u001b[32m[I 2020-11-07 20:01:20,111]\u001b[0m Trial 25 finished with value: 0.9533333333333333 and parameters: {'classifier': 'RandomForest', 'n_estimators': 6, 'max_depth': 10.024770355516987}. Best is trial 1 with value: 0.9666666666666667.\u001b[0m\n",
            "\u001b[32m[I 2020-11-07 20:01:20,168]\u001b[0m Trial 26 finished with value: 0.9533333333333333 and parameters: {'classifier': 'RandomForest', 'n_estimators': 12, 'max_depth': 11.07829561211451}. Best is trial 1 with value: 0.9666666666666667.\u001b[0m\n",
            "\u001b[32m[I 2020-11-07 20:01:20,184]\u001b[0m Trial 27 finished with value: 0.96 and parameters: {'classifier': 'SVC', 'svc_c': 7953415795.540567}. Best is trial 1 with value: 0.9666666666666667.\u001b[0m\n",
            "\u001b[32m[I 2020-11-07 20:01:20,238]\u001b[0m Trial 28 finished with value: 0.96 and parameters: {'classifier': 'RandomForest', 'n_estimators': 9, 'max_depth': 6.096046070009788}. Best is trial 1 with value: 0.9666666666666667.\u001b[0m\n",
            "\u001b[32m[I 2020-11-07 20:01:20,308]\u001b[0m Trial 29 finished with value: 0.9733333333333333 and parameters: {'classifier': 'RandomForest', 'n_estimators': 15, 'max_depth': 3.9828763240550744}. Best is trial 29 with value: 0.9733333333333333.\u001b[0m\n",
            "\u001b[32m[I 2020-11-07 20:01:20,378]\u001b[0m Trial 30 finished with value: 0.9666666666666667 and parameters: {'classifier': 'RandomForest', 'n_estimators': 14, 'max_depth': 20.106401916687908}. Best is trial 29 with value: 0.9733333333333333.\u001b[0m\n",
            "\u001b[32m[I 2020-11-07 20:01:20,446]\u001b[0m Trial 31 finished with value: 0.96 and parameters: {'classifier': 'RandomForest', 'n_estimators': 15, 'max_depth': 2.898009884963993}. Best is trial 29 with value: 0.9733333333333333.\u001b[0m\n",
            "\u001b[32m[I 2020-11-07 20:01:20,523]\u001b[0m Trial 32 finished with value: 0.9666666666666667 and parameters: {'classifier': 'RandomForest', 'n_estimators': 18, 'max_depth': 4.300346249347934}. Best is trial 29 with value: 0.9733333333333333.\u001b[0m\n",
            "\u001b[32m[I 2020-11-07 20:01:20,584]\u001b[0m Trial 33 finished with value: 0.96 and parameters: {'classifier': 'RandomForest', 'n_estimators': 13, 'max_depth': 4.53598693430065}. Best is trial 29 with value: 0.9733333333333333.\u001b[0m\n",
            "\u001b[32m[I 2020-11-07 20:01:20,657]\u001b[0m Trial 34 finished with value: 0.9466666666666667 and parameters: {'classifier': 'RandomForest', 'n_estimators': 16, 'max_depth': 1.7445597571302975}. Best is trial 29 with value: 0.9733333333333333.\u001b[0m\n",
            "\u001b[32m[I 2020-11-07 20:01:20,738]\u001b[0m Trial 35 finished with value: 0.9466666666666667 and parameters: {'classifier': 'RandomForest', 'n_estimators': 19, 'max_depth': 3.566438497312481}. Best is trial 29 with value: 0.9733333333333333.\u001b[0m\n",
            "\u001b[32m[I 2020-11-07 20:01:20,807]\u001b[0m Trial 36 finished with value: 0.9666666666666667 and parameters: {'classifier': 'RandomForest', 'n_estimators': 15, 'max_depth': 3.1029966491095093}. Best is trial 29 with value: 0.9733333333333333.\u001b[0m\n",
            "\u001b[32m[I 2020-11-07 20:01:20,823]\u001b[0m Trial 37 finished with value: 0.96 and parameters: {'classifier': 'SVC', 'svc_c': 6701632069.084664}. Best is trial 29 with value: 0.9733333333333333.\u001b[0m\n",
            "\u001b[32m[I 2020-11-07 20:01:20,901]\u001b[0m Trial 38 finished with value: 0.9666666666666667 and parameters: {'classifier': 'RandomForest', 'n_estimators': 18, 'max_depth': 4.4580588021977565}. Best is trial 29 with value: 0.9733333333333333.\u001b[0m\n",
            "\u001b[32m[I 2020-11-07 20:01:20,918]\u001b[0m Trial 39 finished with value: 0.32 and parameters: {'classifier': 'SVC', 'svc_c': 1.256179529463363e-10}. Best is trial 29 with value: 0.9733333333333333.\u001b[0m\n",
            "\u001b[32m[I 2020-11-07 20:01:20,990]\u001b[0m Trial 40 finished with value: 0.9666666666666667 and parameters: {'classifier': 'RandomForest', 'n_estimators': 16, 'max_depth': 3.1471556021924236}. Best is trial 29 with value: 0.9733333333333333.\u001b[0m\n",
            "\u001b[32m[I 2020-11-07 20:01:21,071]\u001b[0m Trial 41 finished with value: 0.9666666666666667 and parameters: {'classifier': 'RandomForest', 'n_estimators': 18, 'max_depth': 4.27796716389359}. Best is trial 29 with value: 0.9733333333333333.\u001b[0m\n",
            "\u001b[32m[I 2020-11-07 20:01:21,135]\u001b[0m Trial 42 finished with value: 0.96 and parameters: {'classifier': 'RandomForest', 'n_estimators': 14, 'max_depth': 6.674913358547365}. Best is trial 29 with value: 0.9733333333333333.\u001b[0m\n",
            "\u001b[32m[I 2020-11-07 20:01:21,209]\u001b[0m Trial 43 finished with value: 0.9533333333333333 and parameters: {'classifier': 'RandomForest', 'n_estimators': 16, 'max_depth': 2.1819169249114942}. Best is trial 29 with value: 0.9733333333333333.\u001b[0m\n",
            "\u001b[32m[I 2020-11-07 20:01:21,296]\u001b[0m Trial 44 finished with value: 0.9533333333333333 and parameters: {'classifier': 'RandomForest', 'n_estimators': 19, 'max_depth': 3.9909301624142133}. Best is trial 29 with value: 0.9733333333333333.\u001b[0m\n",
            "\u001b[32m[I 2020-11-07 20:01:21,356]\u001b[0m Trial 45 finished with value: 0.9466666666666667 and parameters: {'classifier': 'RandomForest', 'n_estimators': 12, 'max_depth': 2.529001891623122}. Best is trial 29 with value: 0.9733333333333333.\u001b[0m\n",
            "\u001b[32m[I 2020-11-07 20:01:21,420]\u001b[0m Trial 46 finished with value: 0.96 and parameters: {'classifier': 'RandomForest', 'n_estimators': 13, 'max_depth': 20.121038457313393}. Best is trial 29 with value: 0.9733333333333333.\u001b[0m\n",
            "\u001b[32m[I 2020-11-07 20:01:21,481]\u001b[0m Trial 47 finished with value: 0.96 and parameters: {'classifier': 'RandomForest', 'n_estimators': 10, 'max_depth': 11.282596785881827}. Best is trial 29 with value: 0.9733333333333333.\u001b[0m\n",
            "\u001b[32m[I 2020-11-07 20:01:21,545]\u001b[0m Trial 48 finished with value: 0.9533333333333333 and parameters: {'classifier': 'RandomForest', 'n_estimators': 12, 'max_depth': 31.038531926446748}. Best is trial 29 with value: 0.9733333333333333.\u001b[0m\n",
            "\u001b[32m[I 2020-11-07 20:01:21,624]\u001b[0m Trial 49 finished with value: 0.9533333333333333 and parameters: {'classifier': 'RandomForest', 'n_estimators': 18, 'max_depth': 4.698022971441656}. Best is trial 29 with value: 0.9733333333333333.\u001b[0m\n",
            "\u001b[32m[I 2020-11-07 20:01:21,641]\u001b[0m Trial 50 finished with value: 0.32 and parameters: {'classifier': 'SVC', 'svc_c': 2.32394327230274e-10}. Best is trial 29 with value: 0.9733333333333333.\u001b[0m\n",
            "\u001b[32m[I 2020-11-07 20:01:21,708]\u001b[0m Trial 51 finished with value: 0.9466666666666667 and parameters: {'classifier': 'RandomForest', 'n_estimators': 14, 'max_depth': 18.31018002009102}. Best is trial 29 with value: 0.9733333333333333.\u001b[0m\n",
            "\u001b[32m[I 2020-11-07 20:01:21,781]\u001b[0m Trial 52 finished with value: 0.9533333333333333 and parameters: {'classifier': 'RandomForest', 'n_estimators': 16, 'max_depth': 17.70056984590678}. Best is trial 29 with value: 0.9733333333333333.\u001b[0m\n",
            "\u001b[32m[I 2020-11-07 20:01:21,847]\u001b[0m Trial 53 finished with value: 0.9666666666666667 and parameters: {'classifier': 'RandomForest', 'n_estimators': 14, 'max_depth': 15.169973413694798}. Best is trial 29 with value: 0.9733333333333333.\u001b[0m\n",
            "\u001b[32m[I 2020-11-07 20:01:21,918]\u001b[0m Trial 54 finished with value: 0.9666666666666667 and parameters: {'classifier': 'RandomForest', 'n_estimators': 15, 'max_depth': 13.972425234078301}. Best is trial 29 with value: 0.9733333333333333.\u001b[0m\n",
            "\u001b[32m[I 2020-11-07 20:01:21,983]\u001b[0m Trial 55 finished with value: 0.9666666666666667 and parameters: {'classifier': 'RandomForest', 'n_estimators': 13, 'max_depth': 12.361135012768825}. Best is trial 29 with value: 0.9733333333333333.\u001b[0m\n",
            "\u001b[32m[I 2020-11-07 20:01:22,052]\u001b[0m Trial 56 finished with value: 0.96 and parameters: {'classifier': 'RandomForest', 'n_estimators': 15, 'max_depth': 25.547359557471406}. Best is trial 29 with value: 0.9733333333333333.\u001b[0m\n",
            "\u001b[32m[I 2020-11-07 20:01:22,127]\u001b[0m Trial 57 finished with value: 0.9733333333333333 and parameters: {'classifier': 'RandomForest', 'n_estimators': 17, 'max_depth': 3.3820150286666877}. Best is trial 29 with value: 0.9733333333333333.\u001b[0m\n",
            "\u001b[32m[I 2020-11-07 20:01:22,204]\u001b[0m Trial 58 finished with value: 0.96 and parameters: {'classifier': 'RandomForest', 'n_estimators': 17, 'max_depth': 3.2132130472519846}. Best is trial 29 with value: 0.9733333333333333.\u001b[0m\n",
            "\u001b[32m[I 2020-11-07 20:01:22,292]\u001b[0m Trial 59 finished with value: 0.8733333333333334 and parameters: {'classifier': 'RandomForest', 'n_estimators': 17, 'max_depth': 1.8683704248105755}. Best is trial 29 with value: 0.9733333333333333.\u001b[0m\n",
            "\u001b[32m[I 2020-11-07 20:01:22,381]\u001b[0m Trial 60 finished with value: 0.9533333333333333 and parameters: {'classifier': 'RandomForest', 'n_estimators': 20, 'max_depth': 5.1726644151490815}. Best is trial 29 with value: 0.9733333333333333.\u001b[0m\n",
            "\u001b[32m[I 2020-11-07 20:01:22,463]\u001b[0m Trial 61 finished with value: 0.9666666666666667 and parameters: {'classifier': 'RandomForest', 'n_estimators': 19, 'max_depth': 4.008442648014766}. Best is trial 29 with value: 0.9733333333333333.\u001b[0m\n",
            "\u001b[32m[I 2020-11-07 20:01:22,528]\u001b[0m Trial 62 finished with value: 0.96 and parameters: {'classifier': 'RandomForest', 'n_estimators': 13, 'max_depth': 12.544757598569216}. Best is trial 29 with value: 0.9733333333333333.\u001b[0m\n",
            "\u001b[32m[I 2020-11-07 20:01:22,613]\u001b[0m Trial 63 finished with value: 0.9533333333333333 and parameters: {'classifier': 'RandomForest', 'n_estimators': 19, 'max_depth': 4.168953520249082}. Best is trial 29 with value: 0.9733333333333333.\u001b[0m\n",
            "\u001b[32m[I 2020-11-07 20:01:22,688]\u001b[0m Trial 64 finished with value: 0.9533333333333333 and parameters: {'classifier': 'RandomForest', 'n_estimators': 16, 'max_depth': 2.565275920890108}. Best is trial 29 with value: 0.9733333333333333.\u001b[0m\n",
            "\u001b[32m[I 2020-11-07 20:01:22,772]\u001b[0m Trial 65 finished with value: 0.9466666666666667 and parameters: {'classifier': 'RandomForest', 'n_estimators': 17, 'max_depth': 3.430284058496372}. Best is trial 29 with value: 0.9733333333333333.\u001b[0m\n",
            "\u001b[32m[I 2020-11-07 20:01:22,843]\u001b[0m Trial 66 finished with value: 0.96 and parameters: {'classifier': 'RandomForest', 'n_estimators': 15, 'max_depth': 7.3534475053857244}. Best is trial 29 with value: 0.9733333333333333.\u001b[0m\n",
            "\u001b[32m[I 2020-11-07 20:01:22,925]\u001b[0m Trial 67 finished with value: 0.9533333333333333 and parameters: {'classifier': 'RandomForest', 'n_estimators': 17, 'max_depth': 2.7198711657862473}. Best is trial 29 with value: 0.9733333333333333.\u001b[0m\n",
            "\u001b[32m[I 2020-11-07 20:01:22,996]\u001b[0m Trial 68 finished with value: 0.9466666666666667 and parameters: {'classifier': 'RandomForest', 'n_estimators': 14, 'max_depth': 15.828767165259752}. Best is trial 29 with value: 0.9733333333333333.\u001b[0m\n",
            "\u001b[32m[I 2020-11-07 20:01:23,069]\u001b[0m Trial 69 finished with value: 0.9666666666666667 and parameters: {'classifier': 'RandomForest', 'n_estimators': 15, 'max_depth': 8.520324235807966}. Best is trial 29 with value: 0.9733333333333333.\u001b[0m\n",
            "\u001b[32m[I 2020-11-07 20:01:23,139]\u001b[0m Trial 70 finished with value: 0.96 and parameters: {'classifier': 'RandomForest', 'n_estimators': 14, 'max_depth': 24.61052252751452}. Best is trial 29 with value: 0.9733333333333333.\u001b[0m\n",
            "\u001b[32m[I 2020-11-07 20:01:23,204]\u001b[0m Trial 71 finished with value: 0.9466666666666667 and parameters: {'classifier': 'RandomForest', 'n_estimators': 12, 'max_depth': 13.089195601622711}. Best is trial 29 with value: 0.9733333333333333.\u001b[0m\n",
            "\u001b[32m[I 2020-11-07 20:01:23,300]\u001b[0m Trial 72 finished with value: 0.9533333333333333 and parameters: {'classifier': 'RandomForest', 'n_estimators': 17, 'max_depth': 5.184404014735994}. Best is trial 29 with value: 0.9733333333333333.\u001b[0m\n",
            "\u001b[32m[I 2020-11-07 20:01:23,376]\u001b[0m Trial 73 finished with value: 0.9666666666666667 and parameters: {'classifier': 'RandomForest', 'n_estimators': 14, 'max_depth': 16.022151914662825}. Best is trial 29 with value: 0.9733333333333333.\u001b[0m\n",
            "\u001b[32m[I 2020-11-07 20:01:23,451]\u001b[0m Trial 74 finished with value: 0.9466666666666667 and parameters: {'classifier': 'RandomForest', 'n_estimators': 15, 'max_depth': 9.175079182809801}. Best is trial 29 with value: 0.9733333333333333.\u001b[0m\n",
            "\u001b[32m[I 2020-11-07 20:01:23,539]\u001b[0m Trial 75 finished with value: 0.94 and parameters: {'classifier': 'RandomForest', 'n_estimators': 20, 'max_depth': 3.6507797009523246}. Best is trial 29 with value: 0.9733333333333333.\u001b[0m\n",
            "\u001b[32m[I 2020-11-07 20:01:23,566]\u001b[0m Trial 76 finished with value: 0.9266666666666666 and parameters: {'classifier': 'RandomForest', 'n_estimators': 2, 'max_depth': 5.7928004075329005}. Best is trial 29 with value: 0.9733333333333333.\u001b[0m\n",
            "\u001b[32m[I 2020-11-07 20:01:23,639]\u001b[0m Trial 77 finished with value: 0.94 and parameters: {'classifier': 'RandomForest', 'n_estimators': 16, 'max_depth': 2.9233658891039287}. Best is trial 29 with value: 0.9733333333333333.\u001b[0m\n",
            "\u001b[32m[I 2020-11-07 20:01:23,656]\u001b[0m Trial 78 finished with value: 0.32 and parameters: {'classifier': 'SVC', 'svc_c': 2.7397807256165852e-06}. Best is trial 29 with value: 0.9733333333333333.\u001b[0m\n",
            "\u001b[32m[I 2020-11-07 20:01:23,730]\u001b[0m Trial 79 finished with value: 0.9533333333333333 and parameters: {'classifier': 'RandomForest', 'n_estimators': 13, 'max_depth': 20.145519829571146}. Best is trial 29 with value: 0.9733333333333333.\u001b[0m\n",
            "\u001b[32m[I 2020-11-07 20:01:23,784]\u001b[0m Trial 80 finished with value: 0.9666666666666667 and parameters: {'classifier': 'RandomForest', 'n_estimators': 10, 'max_depth': 12.061043220865566}. Best is trial 29 with value: 0.9733333333333333.\u001b[0m\n",
            "\u001b[32m[I 2020-11-07 20:01:23,853]\u001b[0m Trial 81 finished with value: 0.9466666666666667 and parameters: {'classifier': 'RandomForest', 'n_estimators': 15, 'max_depth': 15.532702153251682}. Best is trial 29 with value: 0.9733333333333333.\u001b[0m\n",
            "\u001b[32m[I 2020-11-07 20:01:23,918]\u001b[0m Trial 82 finished with value: 0.94 and parameters: {'classifier': 'RandomForest', 'n_estimators': 13, 'max_depth': 23.31352360053216}. Best is trial 29 with value: 0.9733333333333333.\u001b[0m\n",
            "\u001b[32m[I 2020-11-07 20:01:23,996]\u001b[0m Trial 83 finished with value: 0.9466666666666667 and parameters: {'classifier': 'RandomForest', 'n_estimators': 18, 'max_depth': 3.161007765418124}. Best is trial 29 with value: 0.9733333333333333.\u001b[0m\n",
            "\u001b[32m[I 2020-11-07 20:01:24,069]\u001b[0m Trial 84 finished with value: 0.9533333333333333 and parameters: {'classifier': 'RandomForest', 'n_estimators': 16, 'max_depth': 3.413053354323102}. Best is trial 29 with value: 0.9733333333333333.\u001b[0m\n",
            "\u001b[32m[I 2020-11-07 20:01:24,127]\u001b[0m Trial 85 finished with value: 0.96 and parameters: {'classifier': 'RandomForest', 'n_estimators': 11, 'max_depth': 9.654997186494413}. Best is trial 29 with value: 0.9733333333333333.\u001b[0m\n",
            "\u001b[32m[I 2020-11-07 20:01:24,209]\u001b[0m Trial 86 finished with value: 0.96 and parameters: {'classifier': 'RandomForest', 'n_estimators': 18, 'max_depth': 4.4682907155014915}. Best is trial 29 with value: 0.9733333333333333.\u001b[0m\n",
            "\u001b[32m[I 2020-11-07 20:01:24,297]\u001b[0m Trial 87 finished with value: 0.96 and parameters: {'classifier': 'RandomForest', 'n_estimators': 19, 'max_depth': 4.826585525681335}. Best is trial 29 with value: 0.9733333333333333.\u001b[0m\n",
            "\u001b[32m[I 2020-11-07 20:01:24,380]\u001b[0m Trial 88 finished with value: 0.9533333333333333 and parameters: {'classifier': 'RandomForest', 'n_estimators': 19, 'max_depth': 3.8695944763765717}. Best is trial 29 with value: 0.9733333333333333.\u001b[0m\n",
            "\u001b[32m[I 2020-11-07 20:01:24,461]\u001b[0m Trial 89 finished with value: 0.96 and parameters: {'classifier': 'RandomForest', 'n_estimators': 18, 'max_depth': 6.4250663769236995}. Best is trial 29 with value: 0.9733333333333333.\u001b[0m\n",
            "\u001b[32m[I 2020-11-07 20:01:24,522]\u001b[0m Trial 90 finished with value: 0.9666666666666667 and parameters: {'classifier': 'RandomForest', 'n_estimators': 12, 'max_depth': 17.8210397781769}. Best is trial 29 with value: 0.9733333333333333.\u001b[0m\n",
            "\u001b[32m[I 2020-11-07 20:01:24,605]\u001b[0m Trial 91 finished with value: 0.96 and parameters: {'classifier': 'RandomForest', 'n_estimators': 18, 'max_depth': 4.258164400089842}. Best is trial 29 with value: 0.9733333333333333.\u001b[0m\n",
            "\u001b[32m[I 2020-11-07 20:01:24,675]\u001b[0m Trial 92 finished with value: 0.96 and parameters: {'classifier': 'RandomForest', 'n_estimators': 15, 'max_depth': 13.887184106590434}. Best is trial 29 with value: 0.9733333333333333.\u001b[0m\n",
            "\u001b[32m[I 2020-11-07 20:01:24,740]\u001b[0m Trial 93 finished with value: 0.9533333333333333 and parameters: {'classifier': 'RandomForest', 'n_estimators': 14, 'max_depth': 22.489745675218344}. Best is trial 29 with value: 0.9733333333333333.\u001b[0m\n",
            "\u001b[32m[I 2020-11-07 20:01:24,786]\u001b[0m Trial 94 finished with value: 0.9533333333333333 and parameters: {'classifier': 'RandomForest', 'n_estimators': 8, 'max_depth': 10.354826436394136}. Best is trial 29 with value: 0.9733333333333333.\u001b[0m\n",
            "\u001b[32m[I 2020-11-07 20:01:24,858]\u001b[0m Trial 95 finished with value: 0.9533333333333333 and parameters: {'classifier': 'RandomForest', 'n_estimators': 16, 'max_depth': 3.7240682700737557}. Best is trial 29 with value: 0.9733333333333333.\u001b[0m\n",
            "\u001b[32m[I 2020-11-07 20:01:24,876]\u001b[0m Trial 96 finished with value: 0.96 and parameters: {'classifier': 'SVC', 'svc_c': 207327.77309680026}. Best is trial 29 with value: 0.9733333333333333.\u001b[0m\n",
            "\u001b[32m[I 2020-11-07 20:01:24,932]\u001b[0m Trial 97 finished with value: 0.9466666666666667 and parameters: {'classifier': 'RandomForest', 'n_estimators': 10, 'max_depth': 11.880408583250974}. Best is trial 29 with value: 0.9733333333333333.\u001b[0m\n",
            "\u001b[32m[I 2020-11-07 20:01:24,989]\u001b[0m Trial 98 finished with value: 0.9533333333333333 and parameters: {'classifier': 'RandomForest', 'n_estimators': 9, 'max_depth': 16.536495158964435}. Best is trial 29 with value: 0.9733333333333333.\u001b[0m\n",
            "\u001b[32m[I 2020-11-07 20:01:25,044]\u001b[0m Trial 99 finished with value: 0.94 and parameters: {'classifier': 'RandomForest', 'n_estimators': 10, 'max_depth': 7.480979535338041}. Best is trial 29 with value: 0.9733333333333333.\u001b[0m\n"
          ],
          "name": "stderr"
        },
        {
          "output_type": "stream",
          "text": [
            "Accuracy: 0.9733333333333333\n",
            "Best hyperparameters: {'classifier': 'RandomForest', 'n_estimators': 15, 'max_depth': 3.9828763240550744}\n"
          ],
          "name": "stdout"
        }
      ]
    },
    {
      "cell_type": "markdown",
      "metadata": {
        "id": "nwbHbVc0PQTo"
      },
      "source": [
        "### Plotting the study\n",
        "\n",
        "Plotting the optimization history of the study."
      ]
    },
    {
      "cell_type": "code",
      "metadata": {
        "id": "if7HFoKcPQTo",
        "outputId": "bbf4dfba-6017-4bcc-fe4c-43e8061108dc",
        "colab": {
          "base_uri": "https://localhost:8080/",
          "height": 542
        }
      },
      "source": [
        "optuna.visualization.plot_optimization_history(study)"
      ],
      "execution_count": null,
      "outputs": [
        {
          "output_type": "display_data",
          "data": {
            "text/html": [
              "<html>\n",
              "<head><meta charset=\"utf-8\" /></head>\n",
              "<body>\n",
              "    <div>\n",
              "            <script src=\"https://cdnjs.cloudflare.com/ajax/libs/mathjax/2.7.5/MathJax.js?config=TeX-AMS-MML_SVG\"></script><script type=\"text/javascript\">if (window.MathJax) {MathJax.Hub.Config({SVG: {font: \"STIX-Web\"}});}</script>\n",
              "                <script type=\"text/javascript\">window.PlotlyConfig = {MathJaxConfig: 'local'};</script>\n",
              "        <script src=\"https://cdn.plot.ly/plotly-latest.min.js\"></script>    \n",
              "            <div id=\"e2a5441e-b4fe-4da6-a422-b0afd9634b74\" class=\"plotly-graph-div\" style=\"height:525px; width:100%;\"></div>\n",
              "            <script type=\"text/javascript\">\n",
              "                \n",
              "                    window.PLOTLYENV=window.PLOTLYENV || {};\n",
              "                    \n",
              "                if (document.getElementById(\"e2a5441e-b4fe-4da6-a422-b0afd9634b74\")) {\n",
              "                    Plotly.newPlot(\n",
              "                        'e2a5441e-b4fe-4da6-a422-b0afd9634b74',\n",
              "                        [{\"mode\": \"markers\", \"name\": \"Objective Value\", \"type\": \"scatter\", \"x\": [0, 1, 2, 3, 4, 5, 6, 7, 8, 9, 10, 11, 12, 13, 14, 15, 16, 17, 18, 19, 20, 21, 22, 23, 24, 25, 26, 27, 28, 29, 30, 31, 32, 33, 34, 35, 36, 37, 38, 39, 40, 41, 42, 43, 44, 45, 46, 47, 48, 49, 50, 51, 52, 53, 54, 55, 56, 57, 58, 59, 60, 61, 62, 63, 64, 65, 66, 67, 68, 69, 70, 71, 72, 73, 74, 75, 76, 77, 78, 79, 80, 81, 82, 83, 84, 85, 86, 87, 88, 89, 90, 91, 92, 93, 94, 95, 96, 97, 98, 99], \"y\": [0.9533333333333333, 0.9666666666666667, 0.9666666666666667, 0.9466666666666667, 0.9466666666666667, 0.94, 0.96, 0.9266666666666667, 0.32, 0.96, 0.9466666666666667, 0.96, 0.9533333333333333, 0.96, 0.9333333333333332, 0.96, 0.9533333333333333, 0.9466666666666667, 0.96, 0.9466666666666667, 0.9666666666666667, 0.96, 0.9666666666666667, 0.9466666666666667, 0.9533333333333333, 0.9533333333333333, 0.9533333333333333, 0.96, 0.96, 0.9733333333333333, 0.9666666666666667, 0.96, 0.9666666666666667, 0.96, 0.9466666666666667, 0.9466666666666667, 0.9666666666666667, 0.96, 0.9666666666666667, 0.32, 0.9666666666666667, 0.9666666666666667, 0.96, 0.9533333333333333, 0.9533333333333333, 0.9466666666666667, 0.96, 0.96, 0.9533333333333333, 0.9533333333333333, 0.32, 0.9466666666666667, 0.9533333333333333, 0.9666666666666667, 0.9666666666666667, 0.9666666666666667, 0.96, 0.9733333333333333, 0.96, 0.8733333333333334, 0.9533333333333333, 0.9666666666666667, 0.96, 0.9533333333333333, 0.9533333333333333, 0.9466666666666667, 0.96, 0.9533333333333333, 0.9466666666666667, 0.9666666666666667, 0.96, 0.9466666666666667, 0.9533333333333333, 0.9666666666666667, 0.9466666666666667, 0.94, 0.9266666666666666, 0.94, 0.32, 0.9533333333333333, 0.9666666666666667, 0.9466666666666667, 0.94, 0.9466666666666667, 0.9533333333333333, 0.96, 0.96, 0.96, 0.9533333333333333, 0.96, 0.9666666666666667, 0.96, 0.96, 0.9533333333333333, 0.9533333333333333, 0.9533333333333333, 0.96, 0.9466666666666667, 0.9533333333333333, 0.94]}, {\"name\": \"Best Value\", \"type\": \"scatter\", \"x\": [0, 1, 2, 3, 4, 5, 6, 7, 8, 9, 10, 11, 12, 13, 14, 15, 16, 17, 18, 19, 20, 21, 22, 23, 24, 25, 26, 27, 28, 29, 30, 31, 32, 33, 34, 35, 36, 37, 38, 39, 40, 41, 42, 43, 44, 45, 46, 47, 48, 49, 50, 51, 52, 53, 54, 55, 56, 57, 58, 59, 60, 61, 62, 63, 64, 65, 66, 67, 68, 69, 70, 71, 72, 73, 74, 75, 76, 77, 78, 79, 80, 81, 82, 83, 84, 85, 86, 87, 88, 89, 90, 91, 92, 93, 94, 95, 96, 97, 98, 99], \"y\": [0.9533333333333333, 0.9666666666666667, 0.9666666666666667, 0.9666666666666667, 0.9666666666666667, 0.9666666666666667, 0.9666666666666667, 0.9666666666666667, 0.9666666666666667, 0.9666666666666667, 0.9666666666666667, 0.9666666666666667, 0.9666666666666667, 0.9666666666666667, 0.9666666666666667, 0.9666666666666667, 0.9666666666666667, 0.9666666666666667, 0.9666666666666667, 0.9666666666666667, 0.9666666666666667, 0.9666666666666667, 0.9666666666666667, 0.9666666666666667, 0.9666666666666667, 0.9666666666666667, 0.9666666666666667, 0.9666666666666667, 0.9666666666666667, 0.9733333333333333, 0.9733333333333333, 0.9733333333333333, 0.9733333333333333, 0.9733333333333333, 0.9733333333333333, 0.9733333333333333, 0.9733333333333333, 0.9733333333333333, 0.9733333333333333, 0.9733333333333333, 0.9733333333333333, 0.9733333333333333, 0.9733333333333333, 0.9733333333333333, 0.9733333333333333, 0.9733333333333333, 0.9733333333333333, 0.9733333333333333, 0.9733333333333333, 0.9733333333333333, 0.9733333333333333, 0.9733333333333333, 0.9733333333333333, 0.9733333333333333, 0.9733333333333333, 0.9733333333333333, 0.9733333333333333, 0.9733333333333333, 0.9733333333333333, 0.9733333333333333, 0.9733333333333333, 0.9733333333333333, 0.9733333333333333, 0.9733333333333333, 0.9733333333333333, 0.9733333333333333, 0.9733333333333333, 0.9733333333333333, 0.9733333333333333, 0.9733333333333333, 0.9733333333333333, 0.9733333333333333, 0.9733333333333333, 0.9733333333333333, 0.9733333333333333, 0.9733333333333333, 0.9733333333333333, 0.9733333333333333, 0.9733333333333333, 0.9733333333333333, 0.9733333333333333, 0.9733333333333333, 0.9733333333333333, 0.9733333333333333, 0.9733333333333333, 0.9733333333333333, 0.9733333333333333, 0.9733333333333333, 0.9733333333333333, 0.9733333333333333, 0.9733333333333333, 0.9733333333333333, 0.9733333333333333, 0.9733333333333333, 0.9733333333333333, 0.9733333333333333, 0.9733333333333333, 0.9733333333333333, 0.9733333333333333, 0.9733333333333333]}],\n",
              "                        {\"template\": {\"data\": {\"bar\": [{\"error_x\": {\"color\": \"#2a3f5f\"}, \"error_y\": {\"color\": \"#2a3f5f\"}, \"marker\": {\"line\": {\"color\": \"#E5ECF6\", \"width\": 0.5}}, \"type\": \"bar\"}], \"barpolar\": [{\"marker\": {\"line\": {\"color\": \"#E5ECF6\", \"width\": 0.5}}, \"type\": \"barpolar\"}], \"carpet\": [{\"aaxis\": {\"endlinecolor\": \"#2a3f5f\", \"gridcolor\": \"white\", \"linecolor\": \"white\", \"minorgridcolor\": \"white\", \"startlinecolor\": \"#2a3f5f\"}, \"baxis\": {\"endlinecolor\": \"#2a3f5f\", \"gridcolor\": \"white\", \"linecolor\": \"white\", \"minorgridcolor\": \"white\", \"startlinecolor\": \"#2a3f5f\"}, \"type\": \"carpet\"}], \"choropleth\": [{\"colorbar\": {\"outlinewidth\": 0, \"ticks\": \"\"}, \"type\": \"choropleth\"}], \"contour\": [{\"colorbar\": {\"outlinewidth\": 0, \"ticks\": \"\"}, \"colorscale\": [[0.0, \"#0d0887\"], [0.1111111111111111, \"#46039f\"], [0.2222222222222222, \"#7201a8\"], [0.3333333333333333, \"#9c179e\"], [0.4444444444444444, \"#bd3786\"], [0.5555555555555556, \"#d8576b\"], [0.6666666666666666, \"#ed7953\"], [0.7777777777777778, \"#fb9f3a\"], [0.8888888888888888, \"#fdca26\"], [1.0, \"#f0f921\"]], \"type\": \"contour\"}], \"contourcarpet\": [{\"colorbar\": {\"outlinewidth\": 0, \"ticks\": \"\"}, \"type\": \"contourcarpet\"}], \"heatmap\": [{\"colorbar\": {\"outlinewidth\": 0, \"ticks\": \"\"}, \"colorscale\": [[0.0, \"#0d0887\"], [0.1111111111111111, \"#46039f\"], [0.2222222222222222, \"#7201a8\"], [0.3333333333333333, \"#9c179e\"], [0.4444444444444444, \"#bd3786\"], [0.5555555555555556, \"#d8576b\"], [0.6666666666666666, \"#ed7953\"], [0.7777777777777778, \"#fb9f3a\"], [0.8888888888888888, \"#fdca26\"], [1.0, \"#f0f921\"]], \"type\": \"heatmap\"}], \"heatmapgl\": [{\"colorbar\": {\"outlinewidth\": 0, \"ticks\": \"\"}, \"colorscale\": [[0.0, \"#0d0887\"], [0.1111111111111111, \"#46039f\"], [0.2222222222222222, \"#7201a8\"], [0.3333333333333333, \"#9c179e\"], [0.4444444444444444, \"#bd3786\"], [0.5555555555555556, \"#d8576b\"], [0.6666666666666666, \"#ed7953\"], [0.7777777777777778, \"#fb9f3a\"], [0.8888888888888888, \"#fdca26\"], [1.0, \"#f0f921\"]], \"type\": \"heatmapgl\"}], \"histogram\": [{\"marker\": {\"colorbar\": {\"outlinewidth\": 0, \"ticks\": \"\"}}, \"type\": \"histogram\"}], \"histogram2d\": [{\"colorbar\": {\"outlinewidth\": 0, \"ticks\": \"\"}, \"colorscale\": [[0.0, \"#0d0887\"], [0.1111111111111111, \"#46039f\"], [0.2222222222222222, \"#7201a8\"], [0.3333333333333333, \"#9c179e\"], [0.4444444444444444, \"#bd3786\"], [0.5555555555555556, \"#d8576b\"], [0.6666666666666666, \"#ed7953\"], [0.7777777777777778, \"#fb9f3a\"], [0.8888888888888888, \"#fdca26\"], [1.0, \"#f0f921\"]], \"type\": \"histogram2d\"}], \"histogram2dcontour\": [{\"colorbar\": {\"outlinewidth\": 0, \"ticks\": \"\"}, \"colorscale\": [[0.0, \"#0d0887\"], [0.1111111111111111, \"#46039f\"], [0.2222222222222222, \"#7201a8\"], [0.3333333333333333, \"#9c179e\"], [0.4444444444444444, \"#bd3786\"], [0.5555555555555556, \"#d8576b\"], [0.6666666666666666, \"#ed7953\"], [0.7777777777777778, \"#fb9f3a\"], [0.8888888888888888, \"#fdca26\"], [1.0, \"#f0f921\"]], \"type\": \"histogram2dcontour\"}], \"mesh3d\": [{\"colorbar\": {\"outlinewidth\": 0, \"ticks\": \"\"}, \"type\": \"mesh3d\"}], \"parcoords\": [{\"line\": {\"colorbar\": {\"outlinewidth\": 0, \"ticks\": \"\"}}, \"type\": \"parcoords\"}], \"pie\": [{\"automargin\": true, \"type\": \"pie\"}], \"scatter\": [{\"marker\": {\"colorbar\": {\"outlinewidth\": 0, \"ticks\": \"\"}}, \"type\": \"scatter\"}], \"scatter3d\": [{\"line\": {\"colorbar\": {\"outlinewidth\": 0, \"ticks\": \"\"}}, \"marker\": {\"colorbar\": {\"outlinewidth\": 0, \"ticks\": \"\"}}, \"type\": \"scatter3d\"}], \"scattercarpet\": [{\"marker\": {\"colorbar\": {\"outlinewidth\": 0, \"ticks\": \"\"}}, \"type\": \"scattercarpet\"}], \"scattergeo\": [{\"marker\": {\"colorbar\": {\"outlinewidth\": 0, \"ticks\": \"\"}}, \"type\": \"scattergeo\"}], \"scattergl\": [{\"marker\": {\"colorbar\": {\"outlinewidth\": 0, \"ticks\": \"\"}}, \"type\": \"scattergl\"}], \"scattermapbox\": [{\"marker\": {\"colorbar\": {\"outlinewidth\": 0, \"ticks\": \"\"}}, \"type\": \"scattermapbox\"}], \"scatterpolar\": [{\"marker\": {\"colorbar\": {\"outlinewidth\": 0, \"ticks\": \"\"}}, \"type\": \"scatterpolar\"}], \"scatterpolargl\": [{\"marker\": {\"colorbar\": {\"outlinewidth\": 0, \"ticks\": \"\"}}, \"type\": \"scatterpolargl\"}], \"scatterternary\": [{\"marker\": {\"colorbar\": {\"outlinewidth\": 0, \"ticks\": \"\"}}, \"type\": \"scatterternary\"}], \"surface\": [{\"colorbar\": {\"outlinewidth\": 0, \"ticks\": \"\"}, \"colorscale\": [[0.0, \"#0d0887\"], [0.1111111111111111, \"#46039f\"], [0.2222222222222222, \"#7201a8\"], [0.3333333333333333, \"#9c179e\"], [0.4444444444444444, \"#bd3786\"], [0.5555555555555556, \"#d8576b\"], [0.6666666666666666, \"#ed7953\"], [0.7777777777777778, \"#fb9f3a\"], [0.8888888888888888, \"#fdca26\"], [1.0, \"#f0f921\"]], \"type\": \"surface\"}], \"table\": [{\"cells\": {\"fill\": {\"color\": \"#EBF0F8\"}, \"line\": {\"color\": \"white\"}}, \"header\": {\"fill\": {\"color\": \"#C8D4E3\"}, \"line\": {\"color\": \"white\"}}, \"type\": \"table\"}]}, \"layout\": {\"annotationdefaults\": {\"arrowcolor\": \"#2a3f5f\", \"arrowhead\": 0, \"arrowwidth\": 1}, \"coloraxis\": {\"colorbar\": {\"outlinewidth\": 0, \"ticks\": \"\"}}, \"colorscale\": {\"diverging\": [[0, \"#8e0152\"], [0.1, \"#c51b7d\"], [0.2, \"#de77ae\"], [0.3, \"#f1b6da\"], [0.4, \"#fde0ef\"], [0.5, \"#f7f7f7\"], [0.6, \"#e6f5d0\"], [0.7, \"#b8e186\"], [0.8, \"#7fbc41\"], [0.9, \"#4d9221\"], [1, \"#276419\"]], \"sequential\": [[0.0, \"#0d0887\"], [0.1111111111111111, \"#46039f\"], [0.2222222222222222, \"#7201a8\"], [0.3333333333333333, \"#9c179e\"], [0.4444444444444444, \"#bd3786\"], [0.5555555555555556, \"#d8576b\"], [0.6666666666666666, \"#ed7953\"], [0.7777777777777778, \"#fb9f3a\"], [0.8888888888888888, \"#fdca26\"], [1.0, \"#f0f921\"]], \"sequentialminus\": [[0.0, \"#0d0887\"], [0.1111111111111111, \"#46039f\"], [0.2222222222222222, \"#7201a8\"], [0.3333333333333333, \"#9c179e\"], [0.4444444444444444, \"#bd3786\"], [0.5555555555555556, \"#d8576b\"], [0.6666666666666666, \"#ed7953\"], [0.7777777777777778, \"#fb9f3a\"], [0.8888888888888888, \"#fdca26\"], [1.0, \"#f0f921\"]]}, \"colorway\": [\"#636efa\", \"#EF553B\", \"#00cc96\", \"#ab63fa\", \"#FFA15A\", \"#19d3f3\", \"#FF6692\", \"#B6E880\", \"#FF97FF\", \"#FECB52\"], \"font\": {\"color\": \"#2a3f5f\"}, \"geo\": {\"bgcolor\": \"white\", \"lakecolor\": \"white\", \"landcolor\": \"#E5ECF6\", \"showlakes\": true, \"showland\": true, \"subunitcolor\": \"white\"}, \"hoverlabel\": {\"align\": \"left\"}, \"hovermode\": \"closest\", \"mapbox\": {\"style\": \"light\"}, \"paper_bgcolor\": \"white\", \"plot_bgcolor\": \"#E5ECF6\", \"polar\": {\"angularaxis\": {\"gridcolor\": \"white\", \"linecolor\": \"white\", \"ticks\": \"\"}, \"bgcolor\": \"#E5ECF6\", \"radialaxis\": {\"gridcolor\": \"white\", \"linecolor\": \"white\", \"ticks\": \"\"}}, \"scene\": {\"xaxis\": {\"backgroundcolor\": \"#E5ECF6\", \"gridcolor\": \"white\", \"gridwidth\": 2, \"linecolor\": \"white\", \"showbackground\": true, \"ticks\": \"\", \"zerolinecolor\": \"white\"}, \"yaxis\": {\"backgroundcolor\": \"#E5ECF6\", \"gridcolor\": \"white\", \"gridwidth\": 2, \"linecolor\": \"white\", \"showbackground\": true, \"ticks\": \"\", \"zerolinecolor\": \"white\"}, \"zaxis\": {\"backgroundcolor\": \"#E5ECF6\", \"gridcolor\": \"white\", \"gridwidth\": 2, \"linecolor\": \"white\", \"showbackground\": true, \"ticks\": \"\", \"zerolinecolor\": \"white\"}}, \"shapedefaults\": {\"line\": {\"color\": \"#2a3f5f\"}}, \"ternary\": {\"aaxis\": {\"gridcolor\": \"white\", \"linecolor\": \"white\", \"ticks\": \"\"}, \"baxis\": {\"gridcolor\": \"white\", \"linecolor\": \"white\", \"ticks\": \"\"}, \"bgcolor\": \"#E5ECF6\", \"caxis\": {\"gridcolor\": \"white\", \"linecolor\": \"white\", \"ticks\": \"\"}}, \"title\": {\"x\": 0.05}, \"xaxis\": {\"automargin\": true, \"gridcolor\": \"white\", \"linecolor\": \"white\", \"ticks\": \"\", \"title\": {\"standoff\": 15}, \"zerolinecolor\": \"white\", \"zerolinewidth\": 2}, \"yaxis\": {\"automargin\": true, \"gridcolor\": \"white\", \"linecolor\": \"white\", \"ticks\": \"\", \"title\": {\"standoff\": 15}, \"zerolinecolor\": \"white\", \"zerolinewidth\": 2}}}, \"title\": {\"text\": \"Optimization History Plot\"}, \"xaxis\": {\"title\": {\"text\": \"#Trials\"}}, \"yaxis\": {\"title\": {\"text\": \"Objective Value\"}}},\n",
              "                        {\"responsive\": true}\n",
              "                    ).then(function(){\n",
              "                            \n",
              "var gd = document.getElementById('e2a5441e-b4fe-4da6-a422-b0afd9634b74');\n",
              "var x = new MutationObserver(function (mutations, observer) {{\n",
              "        var display = window.getComputedStyle(gd).display;\n",
              "        if (!display || display === 'none') {{\n",
              "            console.log([gd, 'removed!']);\n",
              "            Plotly.purge(gd);\n",
              "            observer.disconnect();\n",
              "        }}\n",
              "}});\n",
              "\n",
              "// Listen for the removal of the full notebook cells\n",
              "var notebookContainer = gd.closest('#notebook-container');\n",
              "if (notebookContainer) {{\n",
              "    x.observe(notebookContainer, {childList: true});\n",
              "}}\n",
              "\n",
              "// Listen for the clearing of the current output cell\n",
              "var outputEl = gd.closest('.output');\n",
              "if (outputEl) {{\n",
              "    x.observe(outputEl, {childList: true});\n",
              "}}\n",
              "\n",
              "                        })\n",
              "                };\n",
              "                \n",
              "            </script>\n",
              "        </div>\n",
              "</body>\n",
              "</html>"
            ]
          },
          "metadata": {
            "tags": []
          }
        }
      ]
    },
    {
      "cell_type": "markdown",
      "metadata": {
        "id": "uv9xEKdHPQTr"
      },
      "source": [
        "Plotting the accuracies for each hyperparameter for each trial."
      ]
    },
    {
      "cell_type": "code",
      "metadata": {
        "id": "0jMhVQfUPQTs",
        "outputId": "bf289be5-ec47-4015-bf00-94e971050a46",
        "colab": {
          "base_uri": "https://localhost:8080/",
          "height": 562
        }
      },
      "source": [
        "optuna.visualization.plot_slice(study)"
      ],
      "execution_count": null,
      "outputs": [
        {
          "output_type": "display_data",
          "data": {
            "text/html": [
              "<html>\n",
              "<head><meta charset=\"utf-8\" /></head>\n",
              "<body>\n",
              "    <div>\n",
              "            <script src=\"https://cdnjs.cloudflare.com/ajax/libs/mathjax/2.7.5/MathJax.js?config=TeX-AMS-MML_SVG\"></script><script type=\"text/javascript\">if (window.MathJax) {MathJax.Hub.Config({SVG: {font: \"STIX-Web\"}});}</script>\n",
              "                <script type=\"text/javascript\">window.PlotlyConfig = {MathJaxConfig: 'local'};</script>\n",
              "        <script src=\"https://cdn.plot.ly/plotly-latest.min.js\"></script>    \n",
              "            <div id=\"d975dc1a-baf5-4a50-8dc4-dcc1b1fa2db9\" class=\"plotly-graph-div\" style=\"height:525px; width:1200px;\"></div>\n",
              "            <script type=\"text/javascript\">\n",
              "                \n",
              "                    window.PLOTLYENV=window.PLOTLYENV || {};\n",
              "                    \n",
              "                if (document.getElementById(\"d975dc1a-baf5-4a50-8dc4-dcc1b1fa2db9\")) {\n",
              "                    Plotly.newPlot(\n",
              "                        'd975dc1a-baf5-4a50-8dc4-dcc1b1fa2db9',\n",
              "                        [{\"marker\": {\"color\": [0, 1, 2, 3, 4, 5, 6, 7, 8, 9, 10, 11, 12, 13, 14, 15, 16, 17, 18, 19, 20, 21, 22, 23, 24, 25, 26, 27, 28, 29, 30, 31, 32, 33, 34, 35, 36, 37, 38, 39, 40, 41, 42, 43, 44, 45, 46, 47, 48, 49, 50, 51, 52, 53, 54, 55, 56, 57, 58, 59, 60, 61, 62, 63, 64, 65, 66, 67, 68, 69, 70, 71, 72, 73, 74, 75, 76, 77, 78, 79, 80, 81, 82, 83, 84, 85, 86, 87, 88, 89, 90, 91, 92, 93, 94, 95, 96, 97, 98, 99], \"colorbar\": {\"title\": {\"text\": \"#Trials\"}, \"x\": 1.0, \"xpad\": 40}, \"colorscale\": [[0.0, \"rgb(247,251,255)\"], [0.125, \"rgb(222,235,247)\"], [0.25, \"rgb(198,219,239)\"], [0.375, \"rgb(158,202,225)\"], [0.5, \"rgb(107,174,214)\"], [0.625, \"rgb(66,146,198)\"], [0.75, \"rgb(33,113,181)\"], [0.875, \"rgb(8,81,156)\"], [1.0, \"rgb(8,48,107)\"]], \"line\": {\"color\": \"Grey\", \"width\": 0.5}, \"showscale\": true}, \"mode\": \"markers\", \"showlegend\": false, \"type\": \"scatter\", \"x\": [\"RandomForest\", \"RandomForest\", \"RandomForest\", \"RandomForest\", \"RandomForest\", \"SVC\", \"SVC\", \"RandomForest\", \"SVC\", \"SVC\", \"RandomForest\", \"RandomForest\", \"RandomForest\", \"RandomForest\", \"RandomForest\", \"RandomForest\", \"RandomForest\", \"RandomForest\", \"RandomForest\", \"RandomForest\", \"RandomForest\", \"RandomForest\", \"RandomForest\", \"RandomForest\", \"RandomForest\", \"RandomForest\", \"RandomForest\", \"SVC\", \"RandomForest\", \"RandomForest\", \"RandomForest\", \"RandomForest\", \"RandomForest\", \"RandomForest\", \"RandomForest\", \"RandomForest\", \"RandomForest\", \"SVC\", \"RandomForest\", \"SVC\", \"RandomForest\", \"RandomForest\", \"RandomForest\", \"RandomForest\", \"RandomForest\", \"RandomForest\", \"RandomForest\", \"RandomForest\", \"RandomForest\", \"RandomForest\", \"SVC\", \"RandomForest\", \"RandomForest\", \"RandomForest\", \"RandomForest\", \"RandomForest\", \"RandomForest\", \"RandomForest\", \"RandomForest\", \"RandomForest\", \"RandomForest\", \"RandomForest\", \"RandomForest\", \"RandomForest\", \"RandomForest\", \"RandomForest\", \"RandomForest\", \"RandomForest\", \"RandomForest\", \"RandomForest\", \"RandomForest\", \"RandomForest\", \"RandomForest\", \"RandomForest\", \"RandomForest\", \"RandomForest\", \"RandomForest\", \"RandomForest\", \"SVC\", \"RandomForest\", \"RandomForest\", \"RandomForest\", \"RandomForest\", \"RandomForest\", \"RandomForest\", \"RandomForest\", \"RandomForest\", \"RandomForest\", \"RandomForest\", \"RandomForest\", \"RandomForest\", \"RandomForest\", \"RandomForest\", \"RandomForest\", \"RandomForest\", \"RandomForest\", \"SVC\", \"RandomForest\", \"RandomForest\", \"RandomForest\"], \"xaxis\": \"x\", \"y\": [0.9533333333333333, 0.9666666666666667, 0.9666666666666667, 0.9466666666666667, 0.9466666666666667, 0.94, 0.96, 0.9266666666666667, 0.32, 0.96, 0.9466666666666667, 0.96, 0.9533333333333333, 0.96, 0.9333333333333332, 0.96, 0.9533333333333333, 0.9466666666666667, 0.96, 0.9466666666666667, 0.9666666666666667, 0.96, 0.9666666666666667, 0.9466666666666667, 0.9533333333333333, 0.9533333333333333, 0.9533333333333333, 0.96, 0.96, 0.9733333333333333, 0.9666666666666667, 0.96, 0.9666666666666667, 0.96, 0.9466666666666667, 0.9466666666666667, 0.9666666666666667, 0.96, 0.9666666666666667, 0.32, 0.9666666666666667, 0.9666666666666667, 0.96, 0.9533333333333333, 0.9533333333333333, 0.9466666666666667, 0.96, 0.96, 0.9533333333333333, 0.9533333333333333, 0.32, 0.9466666666666667, 0.9533333333333333, 0.9666666666666667, 0.9666666666666667, 0.9666666666666667, 0.96, 0.9733333333333333, 0.96, 0.8733333333333334, 0.9533333333333333, 0.9666666666666667, 0.96, 0.9533333333333333, 0.9533333333333333, 0.9466666666666667, 0.96, 0.9533333333333333, 0.9466666666666667, 0.9666666666666667, 0.96, 0.9466666666666667, 0.9533333333333333, 0.9666666666666667, 0.9466666666666667, 0.94, 0.9266666666666666, 0.94, 0.32, 0.9533333333333333, 0.9666666666666667, 0.9466666666666667, 0.94, 0.9466666666666667, 0.9533333333333333, 0.96, 0.96, 0.96, 0.9533333333333333, 0.96, 0.9666666666666667, 0.96, 0.96, 0.9533333333333333, 0.9533333333333333, 0.9533333333333333, 0.96, 0.9466666666666667, 0.9533333333333333, 0.94], \"yaxis\": \"y\"}, {\"marker\": {\"color\": [0, 1, 2, 3, 4, 7, 10, 11, 12, 13, 14, 15, 16, 17, 18, 19, 20, 21, 22, 23, 24, 25, 26, 28, 29, 30, 31, 32, 33, 34, 35, 36, 38, 40, 41, 42, 43, 44, 45, 46, 47, 48, 49, 51, 52, 53, 54, 55, 56, 57, 58, 59, 60, 61, 62, 63, 64, 65, 66, 67, 68, 69, 70, 71, 72, 73, 74, 75, 76, 77, 79, 80, 81, 82, 83, 84, 85, 86, 87, 88, 89, 90, 91, 92, 93, 94, 95, 97, 98, 99], \"colorbar\": {\"title\": {\"text\": \"#Trials\"}, \"x\": 1.0, \"xpad\": 40}, \"colorscale\": [[0.0, \"rgb(247,251,255)\"], [0.125, \"rgb(222,235,247)\"], [0.25, \"rgb(198,219,239)\"], [0.375, \"rgb(158,202,225)\"], [0.5, \"rgb(107,174,214)\"], [0.625, \"rgb(66,146,198)\"], [0.75, \"rgb(33,113,181)\"], [0.875, \"rgb(8,81,156)\"], [1.0, \"rgb(8,48,107)\"]], \"line\": {\"color\": \"Grey\", \"width\": 0.5}, \"showscale\": false}, \"mode\": \"markers\", \"showlegend\": false, \"type\": \"scatter\", \"x\": [3.8568867328591665, 3.0118134007693236, 8.127633068621309, 1.1911132650185514, 2.8578286087109257, 1.3413638436822453, 27.343588138319017, 14.020237968749075, 8.307932255035578, 7.273472184687604, 2.2587007073663656, 14.444579703362619, 5.080470533348521, 2.106078585037581, 9.276445754077923, 3.8709068992837037, 15.25893286215967, 26.784038037397156, 14.32436632943313, 20.350534425798024, 5.774027198572303, 10.024770355516987, 11.07829561211451, 6.096046070009788, 3.9828763240550744, 20.106401916687908, 2.898009884963993, 4.300346249347934, 4.53598693430065, 1.7445597571302975, 3.566438497312481, 3.1029966491095093, 4.4580588021977565, 3.1471556021924236, 4.27796716389359, 6.674913358547365, 2.1819169249114942, 3.9909301624142133, 2.529001891623122, 20.121038457313393, 11.282596785881827, 31.038531926446748, 4.698022971441656, 18.31018002009102, 17.70056984590678, 15.169973413694798, 13.972425234078301, 12.361135012768825, 25.547359557471406, 3.3820150286666877, 3.2132130472519846, 1.8683704248105755, 5.1726644151490815, 4.008442648014766, 12.544757598569216, 4.168953520249082, 2.565275920890108, 3.430284058496372, 7.3534475053857244, 2.7198711657862473, 15.828767165259752, 8.520324235807966, 24.61052252751452, 13.089195601622711, 5.184404014735994, 16.022151914662825, 9.175079182809801, 3.6507797009523246, 5.7928004075329005, 2.9233658891039287, 20.145519829571146, 12.061043220865566, 15.532702153251682, 23.31352360053216, 3.161007765418124, 3.413053354323102, 9.654997186494413, 4.4682907155014915, 4.826585525681335, 3.8695944763765717, 6.4250663769236995, 17.8210397781769, 4.258164400089842, 13.887184106590434, 22.489745675218344, 10.354826436394136, 3.7240682700737557, 11.880408583250974, 16.536495158964435, 7.480979535338041], \"xaxis\": \"x2\", \"y\": [0.9533333333333333, 0.9666666666666667, 0.9666666666666667, 0.9466666666666667, 0.9466666666666667, 0.9266666666666667, 0.9466666666666667, 0.96, 0.9533333333333333, 0.96, 0.9333333333333332, 0.96, 0.9533333333333333, 0.9466666666666667, 0.96, 0.9466666666666667, 0.9666666666666667, 0.96, 0.9666666666666667, 0.9466666666666667, 0.9533333333333333, 0.9533333333333333, 0.9533333333333333, 0.96, 0.9733333333333333, 0.9666666666666667, 0.96, 0.9666666666666667, 0.96, 0.9466666666666667, 0.9466666666666667, 0.9666666666666667, 0.9666666666666667, 0.9666666666666667, 0.9666666666666667, 0.96, 0.9533333333333333, 0.9533333333333333, 0.9466666666666667, 0.96, 0.96, 0.9533333333333333, 0.9533333333333333, 0.9466666666666667, 0.9533333333333333, 0.9666666666666667, 0.9666666666666667, 0.9666666666666667, 0.96, 0.9733333333333333, 0.96, 0.8733333333333334, 0.9533333333333333, 0.9666666666666667, 0.96, 0.9533333333333333, 0.9533333333333333, 0.9466666666666667, 0.96, 0.9533333333333333, 0.9466666666666667, 0.9666666666666667, 0.96, 0.9466666666666667, 0.9533333333333333, 0.9666666666666667, 0.9466666666666667, 0.94, 0.9266666666666666, 0.94, 0.9533333333333333, 0.9666666666666667, 0.9466666666666667, 0.94, 0.9466666666666667, 0.9533333333333333, 0.96, 0.96, 0.96, 0.9533333333333333, 0.96, 0.9666666666666667, 0.96, 0.96, 0.9533333333333333, 0.9533333333333333, 0.9533333333333333, 0.9466666666666667, 0.9533333333333333, 0.94], \"yaxis\": \"y2\"}, {\"marker\": {\"color\": [0, 1, 2, 3, 4, 7, 10, 11, 12, 13, 14, 15, 16, 17, 18, 19, 20, 21, 22, 23, 24, 25, 26, 28, 29, 30, 31, 32, 33, 34, 35, 36, 38, 40, 41, 42, 43, 44, 45, 46, 47, 48, 49, 51, 52, 53, 54, 55, 56, 57, 58, 59, 60, 61, 62, 63, 64, 65, 66, 67, 68, 69, 70, 71, 72, 73, 74, 75, 76, 77, 79, 80, 81, 82, 83, 84, 85, 86, 87, 88, 89, 90, 91, 92, 93, 94, 95, 97, 98, 99], \"colorbar\": {\"title\": {\"text\": \"#Trials\"}, \"x\": 1.0, \"xpad\": 40}, \"colorscale\": [[0.0, \"rgb(247,251,255)\"], [0.125, \"rgb(222,235,247)\"], [0.25, \"rgb(198,219,239)\"], [0.375, \"rgb(158,202,225)\"], [0.5, \"rgb(107,174,214)\"], [0.625, \"rgb(66,146,198)\"], [0.75, \"rgb(33,113,181)\"], [0.875, \"rgb(8,81,156)\"], [1.0, \"rgb(8,48,107)\"]], \"line\": {\"color\": \"Grey\", \"width\": 0.5}, \"showscale\": false}, \"mode\": \"markers\", \"showlegend\": false, \"type\": \"scatter\", \"x\": [13, 15, 19, 20, 2, 9, 13, 20, 16, 17, 8, 17, 20, 15, 11, 18, 14, 14, 12, 11, 18, 6, 12, 9, 15, 14, 15, 18, 13, 16, 19, 15, 18, 16, 18, 14, 16, 19, 12, 13, 10, 12, 18, 14, 16, 14, 15, 13, 15, 17, 17, 17, 20, 19, 13, 19, 16, 17, 15, 17, 14, 15, 14, 12, 17, 14, 15, 20, 2, 16, 13, 10, 15, 13, 18, 16, 11, 18, 19, 19, 18, 12, 18, 15, 14, 8, 16, 10, 9, 10], \"xaxis\": \"x3\", \"y\": [0.9533333333333333, 0.9666666666666667, 0.9666666666666667, 0.9466666666666667, 0.9466666666666667, 0.9266666666666667, 0.9466666666666667, 0.96, 0.9533333333333333, 0.96, 0.9333333333333332, 0.96, 0.9533333333333333, 0.9466666666666667, 0.96, 0.9466666666666667, 0.9666666666666667, 0.96, 0.9666666666666667, 0.9466666666666667, 0.9533333333333333, 0.9533333333333333, 0.9533333333333333, 0.96, 0.9733333333333333, 0.9666666666666667, 0.96, 0.9666666666666667, 0.96, 0.9466666666666667, 0.9466666666666667, 0.9666666666666667, 0.9666666666666667, 0.9666666666666667, 0.9666666666666667, 0.96, 0.9533333333333333, 0.9533333333333333, 0.9466666666666667, 0.96, 0.96, 0.9533333333333333, 0.9533333333333333, 0.9466666666666667, 0.9533333333333333, 0.9666666666666667, 0.9666666666666667, 0.9666666666666667, 0.96, 0.9733333333333333, 0.96, 0.8733333333333334, 0.9533333333333333, 0.9666666666666667, 0.96, 0.9533333333333333, 0.9533333333333333, 0.9466666666666667, 0.96, 0.9533333333333333, 0.9466666666666667, 0.9666666666666667, 0.96, 0.9466666666666667, 0.9533333333333333, 0.9666666666666667, 0.9466666666666667, 0.94, 0.9266666666666666, 0.94, 0.9533333333333333, 0.9666666666666667, 0.9466666666666667, 0.94, 0.9466666666666667, 0.9533333333333333, 0.96, 0.96, 0.96, 0.9533333333333333, 0.96, 0.9666666666666667, 0.96, 0.96, 0.9533333333333333, 0.9533333333333333, 0.9533333333333333, 0.9466666666666667, 0.9533333333333333, 0.94], \"yaxis\": \"y3\"}, {\"marker\": {\"color\": [5, 6, 8, 9, 27, 37, 39, 50, 78, 96], \"colorbar\": {\"title\": {\"text\": \"#Trials\"}, \"x\": 1.0, \"xpad\": 40}, \"colorscale\": [[0.0, \"rgb(247,251,255)\"], [0.125, \"rgb(222,235,247)\"], [0.25, \"rgb(198,219,239)\"], [0.375, \"rgb(158,202,225)\"], [0.5, \"rgb(107,174,214)\"], [0.625, \"rgb(66,146,198)\"], [0.75, \"rgb(33,113,181)\"], [0.875, \"rgb(8,81,156)\"], [1.0, \"rgb(8,48,107)\"]], \"line\": {\"color\": \"Grey\", \"width\": 0.5}, \"showscale\": false}, \"mode\": \"markers\", \"showlegend\": false, \"type\": \"scatter\", \"x\": [0.08212863744972139, 30.119149786272967, 1.4386031301238793e-05, 135953.08600305484, 7953415795.540567, 6701632069.084664, 1.256179529463363e-10, 2.32394327230274e-10, 2.7397807256165852e-06, 207327.77309680026], \"xaxis\": \"x4\", \"y\": [0.94, 0.96, 0.32, 0.96, 0.96, 0.96, 0.32, 0.32, 0.32, 0.96], \"yaxis\": \"y4\"}],\n",
              "                        {\"template\": {\"data\": {\"bar\": [{\"error_x\": {\"color\": \"#2a3f5f\"}, \"error_y\": {\"color\": \"#2a3f5f\"}, \"marker\": {\"line\": {\"color\": \"#E5ECF6\", \"width\": 0.5}}, \"type\": \"bar\"}], \"barpolar\": [{\"marker\": {\"line\": {\"color\": \"#E5ECF6\", \"width\": 0.5}}, \"type\": \"barpolar\"}], \"carpet\": [{\"aaxis\": {\"endlinecolor\": \"#2a3f5f\", \"gridcolor\": \"white\", \"linecolor\": \"white\", \"minorgridcolor\": \"white\", \"startlinecolor\": \"#2a3f5f\"}, \"baxis\": {\"endlinecolor\": \"#2a3f5f\", \"gridcolor\": \"white\", \"linecolor\": \"white\", \"minorgridcolor\": \"white\", \"startlinecolor\": \"#2a3f5f\"}, \"type\": \"carpet\"}], \"choropleth\": [{\"colorbar\": {\"outlinewidth\": 0, \"ticks\": \"\"}, \"type\": \"choropleth\"}], \"contour\": [{\"colorbar\": {\"outlinewidth\": 0, \"ticks\": \"\"}, \"colorscale\": [[0.0, \"#0d0887\"], [0.1111111111111111, \"#46039f\"], [0.2222222222222222, \"#7201a8\"], [0.3333333333333333, \"#9c179e\"], [0.4444444444444444, \"#bd3786\"], [0.5555555555555556, \"#d8576b\"], [0.6666666666666666, \"#ed7953\"], [0.7777777777777778, \"#fb9f3a\"], [0.8888888888888888, \"#fdca26\"], [1.0, \"#f0f921\"]], \"type\": \"contour\"}], \"contourcarpet\": [{\"colorbar\": {\"outlinewidth\": 0, \"ticks\": \"\"}, \"type\": \"contourcarpet\"}], \"heatmap\": [{\"colorbar\": {\"outlinewidth\": 0, \"ticks\": \"\"}, \"colorscale\": [[0.0, \"#0d0887\"], [0.1111111111111111, \"#46039f\"], [0.2222222222222222, \"#7201a8\"], [0.3333333333333333, \"#9c179e\"], [0.4444444444444444, \"#bd3786\"], [0.5555555555555556, \"#d8576b\"], [0.6666666666666666, \"#ed7953\"], [0.7777777777777778, \"#fb9f3a\"], [0.8888888888888888, \"#fdca26\"], [1.0, \"#f0f921\"]], \"type\": \"heatmap\"}], \"heatmapgl\": [{\"colorbar\": {\"outlinewidth\": 0, \"ticks\": \"\"}, \"colorscale\": [[0.0, \"#0d0887\"], [0.1111111111111111, \"#46039f\"], [0.2222222222222222, \"#7201a8\"], [0.3333333333333333, \"#9c179e\"], [0.4444444444444444, \"#bd3786\"], [0.5555555555555556, \"#d8576b\"], [0.6666666666666666, \"#ed7953\"], [0.7777777777777778, \"#fb9f3a\"], [0.8888888888888888, \"#fdca26\"], [1.0, \"#f0f921\"]], \"type\": \"heatmapgl\"}], \"histogram\": [{\"marker\": {\"colorbar\": {\"outlinewidth\": 0, \"ticks\": \"\"}}, \"type\": \"histogram\"}], \"histogram2d\": [{\"colorbar\": {\"outlinewidth\": 0, \"ticks\": \"\"}, \"colorscale\": [[0.0, \"#0d0887\"], [0.1111111111111111, \"#46039f\"], [0.2222222222222222, \"#7201a8\"], [0.3333333333333333, \"#9c179e\"], [0.4444444444444444, \"#bd3786\"], [0.5555555555555556, \"#d8576b\"], [0.6666666666666666, \"#ed7953\"], [0.7777777777777778, \"#fb9f3a\"], [0.8888888888888888, \"#fdca26\"], [1.0, \"#f0f921\"]], \"type\": \"histogram2d\"}], \"histogram2dcontour\": [{\"colorbar\": {\"outlinewidth\": 0, \"ticks\": \"\"}, \"colorscale\": [[0.0, \"#0d0887\"], [0.1111111111111111, \"#46039f\"], [0.2222222222222222, \"#7201a8\"], [0.3333333333333333, \"#9c179e\"], [0.4444444444444444, \"#bd3786\"], [0.5555555555555556, \"#d8576b\"], [0.6666666666666666, \"#ed7953\"], [0.7777777777777778, \"#fb9f3a\"], [0.8888888888888888, \"#fdca26\"], [1.0, \"#f0f921\"]], \"type\": \"histogram2dcontour\"}], \"mesh3d\": [{\"colorbar\": {\"outlinewidth\": 0, \"ticks\": \"\"}, \"type\": \"mesh3d\"}], \"parcoords\": [{\"line\": {\"colorbar\": {\"outlinewidth\": 0, \"ticks\": \"\"}}, \"type\": \"parcoords\"}], \"pie\": [{\"automargin\": true, \"type\": \"pie\"}], \"scatter\": [{\"marker\": {\"colorbar\": {\"outlinewidth\": 0, \"ticks\": \"\"}}, \"type\": \"scatter\"}], \"scatter3d\": [{\"line\": {\"colorbar\": {\"outlinewidth\": 0, \"ticks\": \"\"}}, \"marker\": {\"colorbar\": {\"outlinewidth\": 0, \"ticks\": \"\"}}, \"type\": \"scatter3d\"}], \"scattercarpet\": [{\"marker\": {\"colorbar\": {\"outlinewidth\": 0, \"ticks\": \"\"}}, \"type\": \"scattercarpet\"}], \"scattergeo\": [{\"marker\": {\"colorbar\": {\"outlinewidth\": 0, \"ticks\": \"\"}}, \"type\": \"scattergeo\"}], \"scattergl\": [{\"marker\": {\"colorbar\": {\"outlinewidth\": 0, \"ticks\": \"\"}}, \"type\": \"scattergl\"}], \"scattermapbox\": [{\"marker\": {\"colorbar\": {\"outlinewidth\": 0, \"ticks\": \"\"}}, \"type\": \"scattermapbox\"}], \"scatterpolar\": [{\"marker\": {\"colorbar\": {\"outlinewidth\": 0, \"ticks\": \"\"}}, \"type\": \"scatterpolar\"}], \"scatterpolargl\": [{\"marker\": {\"colorbar\": {\"outlinewidth\": 0, \"ticks\": \"\"}}, \"type\": \"scatterpolargl\"}], \"scatterternary\": [{\"marker\": {\"colorbar\": {\"outlinewidth\": 0, \"ticks\": \"\"}}, \"type\": \"scatterternary\"}], \"surface\": [{\"colorbar\": {\"outlinewidth\": 0, \"ticks\": \"\"}, \"colorscale\": [[0.0, \"#0d0887\"], [0.1111111111111111, \"#46039f\"], [0.2222222222222222, \"#7201a8\"], [0.3333333333333333, \"#9c179e\"], [0.4444444444444444, \"#bd3786\"], [0.5555555555555556, \"#d8576b\"], [0.6666666666666666, \"#ed7953\"], [0.7777777777777778, \"#fb9f3a\"], [0.8888888888888888, \"#fdca26\"], [1.0, \"#f0f921\"]], \"type\": \"surface\"}], \"table\": [{\"cells\": {\"fill\": {\"color\": \"#EBF0F8\"}, \"line\": {\"color\": \"white\"}}, \"header\": {\"fill\": {\"color\": \"#C8D4E3\"}, \"line\": {\"color\": \"white\"}}, \"type\": \"table\"}]}, \"layout\": {\"annotationdefaults\": {\"arrowcolor\": \"#2a3f5f\", \"arrowhead\": 0, \"arrowwidth\": 1}, \"coloraxis\": {\"colorbar\": {\"outlinewidth\": 0, \"ticks\": \"\"}}, \"colorscale\": {\"diverging\": [[0, \"#8e0152\"], [0.1, \"#c51b7d\"], [0.2, \"#de77ae\"], [0.3, \"#f1b6da\"], [0.4, \"#fde0ef\"], [0.5, \"#f7f7f7\"], [0.6, \"#e6f5d0\"], [0.7, \"#b8e186\"], [0.8, \"#7fbc41\"], [0.9, \"#4d9221\"], [1, \"#276419\"]], \"sequential\": [[0.0, \"#0d0887\"], [0.1111111111111111, \"#46039f\"], [0.2222222222222222, \"#7201a8\"], [0.3333333333333333, \"#9c179e\"], [0.4444444444444444, \"#bd3786\"], [0.5555555555555556, \"#d8576b\"], [0.6666666666666666, \"#ed7953\"], [0.7777777777777778, \"#fb9f3a\"], [0.8888888888888888, \"#fdca26\"], [1.0, \"#f0f921\"]], \"sequentialminus\": [[0.0, \"#0d0887\"], [0.1111111111111111, \"#46039f\"], [0.2222222222222222, \"#7201a8\"], [0.3333333333333333, \"#9c179e\"], [0.4444444444444444, \"#bd3786\"], [0.5555555555555556, \"#d8576b\"], [0.6666666666666666, \"#ed7953\"], [0.7777777777777778, \"#fb9f3a\"], [0.8888888888888888, \"#fdca26\"], [1.0, \"#f0f921\"]]}, \"colorway\": [\"#636efa\", \"#EF553B\", \"#00cc96\", \"#ab63fa\", \"#FFA15A\", \"#19d3f3\", \"#FF6692\", \"#B6E880\", \"#FF97FF\", \"#FECB52\"], \"font\": {\"color\": \"#2a3f5f\"}, \"geo\": {\"bgcolor\": \"white\", \"lakecolor\": \"white\", \"landcolor\": \"#E5ECF6\", \"showlakes\": true, \"showland\": true, \"subunitcolor\": \"white\"}, \"hoverlabel\": {\"align\": \"left\"}, \"hovermode\": \"closest\", \"mapbox\": {\"style\": \"light\"}, \"paper_bgcolor\": \"white\", \"plot_bgcolor\": \"#E5ECF6\", \"polar\": {\"angularaxis\": {\"gridcolor\": \"white\", \"linecolor\": \"white\", \"ticks\": \"\"}, \"bgcolor\": \"#E5ECF6\", \"radialaxis\": {\"gridcolor\": \"white\", \"linecolor\": \"white\", \"ticks\": \"\"}}, \"scene\": {\"xaxis\": {\"backgroundcolor\": \"#E5ECF6\", \"gridcolor\": \"white\", \"gridwidth\": 2, \"linecolor\": \"white\", \"showbackground\": true, \"ticks\": \"\", \"zerolinecolor\": \"white\"}, \"yaxis\": {\"backgroundcolor\": \"#E5ECF6\", \"gridcolor\": \"white\", \"gridwidth\": 2, \"linecolor\": \"white\", \"showbackground\": true, \"ticks\": \"\", \"zerolinecolor\": \"white\"}, \"zaxis\": {\"backgroundcolor\": \"#E5ECF6\", \"gridcolor\": \"white\", \"gridwidth\": 2, \"linecolor\": \"white\", \"showbackground\": true, \"ticks\": \"\", \"zerolinecolor\": \"white\"}}, \"shapedefaults\": {\"line\": {\"color\": \"#2a3f5f\"}}, \"ternary\": {\"aaxis\": {\"gridcolor\": \"white\", \"linecolor\": \"white\", \"ticks\": \"\"}, \"baxis\": {\"gridcolor\": \"white\", \"linecolor\": \"white\", \"ticks\": \"\"}, \"bgcolor\": \"#E5ECF6\", \"caxis\": {\"gridcolor\": \"white\", \"linecolor\": \"white\", \"ticks\": \"\"}}, \"title\": {\"x\": 0.05}, \"xaxis\": {\"automargin\": true, \"gridcolor\": \"white\", \"linecolor\": \"white\", \"ticks\": \"\", \"title\": {\"standoff\": 15}, \"zerolinecolor\": \"white\", \"zerolinewidth\": 2}, \"yaxis\": {\"automargin\": true, \"gridcolor\": \"white\", \"linecolor\": \"white\", \"ticks\": \"\", \"title\": {\"standoff\": 15}, \"zerolinecolor\": \"white\", \"zerolinewidth\": 2}}}, \"title\": {\"text\": \"Slice Plot\"}, \"width\": 1200, \"xaxis\": {\"anchor\": \"y\", \"domain\": [0.0, 0.2125], \"title\": {\"text\": \"classifier\"}}, \"xaxis2\": {\"anchor\": \"y2\", \"domain\": [0.2625, 0.475], \"title\": {\"text\": \"max_depth\"}, \"type\": \"log\"}, \"xaxis3\": {\"anchor\": \"y3\", \"domain\": [0.525, 0.7375], \"title\": {\"text\": \"n_estimators\"}}, \"xaxis4\": {\"anchor\": \"y4\", \"domain\": [0.7875, 1.0], \"title\": {\"text\": \"svc_c\"}, \"type\": \"log\"}, \"yaxis\": {\"anchor\": \"x\", \"domain\": [0.0, 1.0], \"title\": {\"text\": \"Objective Value\"}}, \"yaxis2\": {\"anchor\": \"x2\", \"domain\": [0.0, 1.0], \"matches\": \"y\", \"showticklabels\": false}, \"yaxis3\": {\"anchor\": \"x3\", \"domain\": [0.0, 1.0], \"matches\": \"y\", \"showticklabels\": false}, \"yaxis4\": {\"anchor\": \"x4\", \"domain\": [0.0, 1.0], \"matches\": \"y\", \"showticklabels\": false}},\n",
              "                        {\"responsive\": true}\n",
              "                    ).then(function(){\n",
              "                            \n",
              "var gd = document.getElementById('d975dc1a-baf5-4a50-8dc4-dcc1b1fa2db9');\n",
              "var x = new MutationObserver(function (mutations, observer) {{\n",
              "        var display = window.getComputedStyle(gd).display;\n",
              "        if (!display || display === 'none') {{\n",
              "            console.log([gd, 'removed!']);\n",
              "            Plotly.purge(gd);\n",
              "            observer.disconnect();\n",
              "        }}\n",
              "}});\n",
              "\n",
              "// Listen for the removal of the full notebook cells\n",
              "var notebookContainer = gd.closest('#notebook-container');\n",
              "if (notebookContainer) {{\n",
              "    x.observe(notebookContainer, {childList: true});\n",
              "}}\n",
              "\n",
              "// Listen for the clearing of the current output cell\n",
              "var outputEl = gd.closest('.output');\n",
              "if (outputEl) {{\n",
              "    x.observe(outputEl, {childList: true});\n",
              "}}\n",
              "\n",
              "                        })\n",
              "                };\n",
              "                \n",
              "            </script>\n",
              "        </div>\n",
              "</body>\n",
              "</html>"
            ]
          },
          "metadata": {
            "tags": []
          }
        }
      ]
    },
    {
      "cell_type": "markdown",
      "metadata": {
        "id": "7nKCLTRUPQTv"
      },
      "source": [
        "Plotting the accuracy surface for the hyperparameters involved in the random forest model."
      ]
    },
    {
      "cell_type": "code",
      "metadata": {
        "id": "Gk2vQo5HPQTv",
        "outputId": "c2cff0e3-97df-48ae-ee84-082a08078bd9",
        "colab": {
          "base_uri": "https://localhost:8080/",
          "height": 542
        }
      },
      "source": [
        "optuna.visualization.plot_contour(study, params=['n_estimators', 'max_depth'])"
      ],
      "execution_count": null,
      "outputs": [
        {
          "output_type": "display_data",
          "data": {
            "text/html": [
              "<html>\n",
              "<head><meta charset=\"utf-8\" /></head>\n",
              "<body>\n",
              "    <div>\n",
              "            <script src=\"https://cdnjs.cloudflare.com/ajax/libs/mathjax/2.7.5/MathJax.js?config=TeX-AMS-MML_SVG\"></script><script type=\"text/javascript\">if (window.MathJax) {MathJax.Hub.Config({SVG: {font: \"STIX-Web\"}});}</script>\n",
              "                <script type=\"text/javascript\">window.PlotlyConfig = {MathJaxConfig: 'local'};</script>\n",
              "        <script src=\"https://cdn.plot.ly/plotly-latest.min.js\"></script>    \n",
              "            <div id=\"41a0e8c7-9f92-4f78-9907-1c096f8ddbd8\" class=\"plotly-graph-div\" style=\"height:525px; width:100%;\"></div>\n",
              "            <script type=\"text/javascript\">\n",
              "                \n",
              "                    window.PLOTLYENV=window.PLOTLYENV || {};\n",
              "                    \n",
              "                if (document.getElementById(\"41a0e8c7-9f92-4f78-9907-1c096f8ddbd8\")) {\n",
              "                    Plotly.newPlot(\n",
              "                        '41a0e8c7-9f92-4f78-9907-1c096f8ddbd8',\n",
              "                        [{\"colorbar\": {\"title\": {\"text\": \"Objective Value\"}}, \"colorscale\": [[0, \"rgb(5,10,172)\"], [0.35, \"rgb(40,60,190)\"], [0.5, \"rgb(70,100,245)\"], [0.6, \"rgb(90,120,245)\"], [0.7, \"rgb(106,137,247)\"], [1, \"rgb(220,220,220)\"]], \"connectgaps\": true, \"contours\": {\"coloring\": \"heatmap\"}, \"hoverinfo\": \"none\", \"line\": {\"smoothing\": 1.3}, \"type\": \"contour\", \"x\": [1.0119420800276386, 1.1911132650185514, 1.3413638436822453, 1.7445597571302975, 1.8683704248105755, 2.106078585037581, 2.1819169249114942, 2.2587007073663656, 2.529001891623122, 2.565275920890108, 2.7198711657862473, 2.8578286087109257, 2.898009884963993, 2.9233658891039287, 3.0118134007693236, 3.1029966491095093, 3.1471556021924236, 3.161007765418124, 3.2132130472519846, 3.3820150286666877, 3.413053354323102, 3.430284058496372, 3.566438497312481, 3.6507797009523246, 3.7240682700737557, 3.8568867328591665, 3.8695944763765717, 3.8709068992837037, 3.9828763240550744, 3.9909301624142133, 4.008442648014766, 4.168953520249082, 4.258164400089842, 4.27796716389359, 4.300346249347934, 4.4580588021977565, 4.4682907155014915, 4.53598693430065, 4.698022971441656, 4.826585525681335, 5.080470533348521, 5.1726644151490815, 5.184404014735994, 5.774027198572303, 5.7928004075329005, 6.096046070009788, 6.4250663769236995, 6.674913358547365, 7.273472184687604, 7.3534475053857244, 7.480979535338041, 8.127633068621309, 8.307932255035578, 8.520324235807966, 9.175079182809801, 9.276445754077923, 9.654997186494413, 10.024770355516987, 10.354826436394136, 11.07829561211451, 11.282596785881827, 11.880408583250974, 12.061043220865566, 12.361135012768825, 12.544757598569216, 13.089195601622711, 13.887184106590434, 13.972425234078301, 14.020237968749075, 14.32436632943313, 14.444579703362619, 15.169973413694798, 15.25893286215967, 15.532702153251682, 15.828767165259752, 16.022151914662825, 16.536495158964435, 17.70056984590678, 17.8210397781769, 18.31018002009102, 20.106401916687908, 20.121038457313393, 20.145519829571146, 20.350534425798024, 22.489745675218344, 23.31352360053216, 24.61052252751452, 25.547359557471406, 26.784038037397156, 27.343588138319017, 31.038531926446748, 36.53411379363013], \"y\": [1.1, 2, 6, 8, 9, 10, 11, 12, 13, 14, 15, 16, 17, 18, 19, 20, 20.9], \"z\": [[null, null, null, null, null, null, null, null, null, null, null, null, null, null, null, null, null, null, null, null, null, null, null, null, null, null, null, null, null, null, null, null, null, null, null, null, null, null, null, null, null, null, null, null, null, null, null, null, null, null, null, null, null, null, null, null, null, null, null, null, null, null, null, null, null, null, null, null, null, null, null, null, null, null, null, null, null, null, null, null, null, null, null, null, null, null, null, null, null, null, null, null], [null, null, null, null, null, null, null, null, null, null, null, 0.9466666666666667, null, null, null, null, null, null, null, null, null, null, null, null, null, null, null, null, null, null, null, null, null, null, null, null, null, null, null, null, null, null, null, null, 0.9266666666666666, null, null, null, null, null, null, null, null, null, null, null, null, null, null, null, null, null, null, null, null, null, null, null, null, null, null, null, null, null, null, null, null, null, null, null, null, null, null, null, null, null, null, null, null, null, null, null], [null, null, null, null, null, null, null, null, null, null, null, null, null, null, null, null, null, null, null, null, null, null, null, null, null, null, null, null, null, null, null, null, null, null, null, null, null, null, null, null, null, null, null, null, null, null, null, null, null, null, null, null, null, null, null, null, null, 0.9533333333333333, null, null, null, null, null, null, null, null, null, null, null, null, null, null, null, null, null, null, null, null, null, null, null, null, null, null, null, null, null, null, null, null, null, null], [null, null, null, null, null, null, null, 0.9333333333333332, null, null, null, null, null, null, null, null, null, null, null, null, null, null, null, null, null, null, null, null, null, null, null, null, null, null, null, null, null, null, null, null, null, null, null, null, null, null, null, null, null, null, null, null, null, null, null, null, null, null, 0.9533333333333333, null, null, null, null, null, null, null, null, null, null, null, null, null, null, null, null, null, null, null, null, null, null, null, null, null, null, null, null, null, null, null, null, null], [null, null, 0.9266666666666667, null, null, null, null, null, null, null, null, null, null, null, null, null, null, null, null, null, null, null, null, null, null, null, null, null, null, null, null, null, null, null, null, null, null, null, null, null, null, null, null, null, null, 0.96, null, null, null, null, null, null, null, null, null, null, null, null, null, null, null, null, null, null, null, null, null, null, null, null, null, null, null, null, null, null, 0.9533333333333333, null, null, null, null, null, null, null, null, null, null, null, null, null, null, null], [null, null, null, null, null, null, null, null, null, null, null, null, null, null, null, null, null, null, null, null, null, null, null, null, null, null, null, null, null, null, null, null, null, null, null, null, null, null, null, null, null, null, null, null, null, null, null, null, null, null, 0.94, null, null, null, null, null, null, null, null, null, 0.96, 0.9466666666666667, 0.9666666666666667, null, null, null, null, null, null, null, null, null, null, null, null, null, null, null, null, null, null, null, null, null, null, null, null, null, null, null, null, null], [null, null, null, null, null, null, null, null, null, null, null, null, null, null, null, null, null, null, null, null, null, null, null, null, null, null, null, null, null, null, null, null, null, null, null, null, null, null, null, null, null, null, null, null, null, null, null, null, null, null, null, null, null, null, null, 0.96, 0.96, null, null, null, null, null, null, null, null, null, null, null, null, null, null, null, null, null, null, null, null, null, null, null, null, null, null, 0.9466666666666667, null, null, null, null, null, null, null, null], [null, null, null, null, null, null, null, null, 0.9466666666666667, null, null, null, null, null, null, null, null, null, null, null, null, null, null, null, null, null, null, null, null, null, null, null, null, null, null, null, null, null, null, null, null, null, null, null, null, null, null, null, null, null, null, null, null, null, null, null, null, null, null, 0.9533333333333333, null, null, null, null, null, 0.9466666666666667, null, null, null, 0.9666666666666667, null, null, null, null, null, null, null, null, 0.9666666666666667, null, null, null, null, null, null, null, null, null, null, null, 0.9533333333333333, null], [null, null, null, null, null, null, null, null, null, null, null, null, null, null, null, null, null, null, null, null, null, null, null, null, null, 0.9533333333333333, null, null, null, null, null, null, null, null, null, null, null, 0.96, null, null, null, null, null, null, null, null, null, null, null, null, null, null, null, null, null, null, null, null, null, null, null, null, null, 0.9666666666666667, 0.96, null, null, null, null, null, null, null, null, null, null, null, null, null, null, null, null, 0.96, 0.9533333333333333, null, null, 0.94, null, null, null, 0.9466666666666667, null, null], [null, null, null, null, null, null, null, null, null, null, null, null, null, null, null, null, null, null, null, null, null, null, null, null, null, null, null, null, null, null, null, null, null, null, null, null, null, null, null, null, null, null, null, null, null, null, null, 0.96, null, null, null, null, null, null, null, null, null, null, null, null, null, null, null, null, null, null, null, null, null, null, null, 0.9666666666666667, 0.9666666666666667, null, 0.9466666666666667, 0.9666666666666667, null, null, null, 0.9466666666666667, 0.9666666666666667, null, null, null, 0.9533333333333333, null, 0.96, null, 0.96, null, null, null], [null, null, null, null, null, 0.9466666666666667, null, null, null, null, null, null, 0.96, null, 0.9666666666666667, 0.9666666666666667, null, null, null, null, null, null, null, null, null, null, null, null, 0.9733333333333333, null, null, null, null, null, null, null, null, null, null, null, null, null, null, null, null, null, null, null, null, 0.96, null, null, null, 0.9666666666666667, 0.9466666666666667, null, null, null, null, null, null, null, null, null, null, null, 0.96, 0.9666666666666667, null, null, null, null, null, 0.9466666666666667, null, null, null, null, null, null, null, null, null, null, null, null, null, 0.96, null, null, null, null], [null, null, null, 0.9466666666666667, null, null, 0.9533333333333333, null, null, 0.9533333333333333, null, null, null, 0.94, null, null, 0.9666666666666667, null, null, null, 0.9533333333333333, null, null, null, 0.9533333333333333, null, null, null, null, null, null, null, null, null, null, null, null, null, null, null, null, null, null, null, null, null, null, null, null, null, null, null, 0.9533333333333333, null, null, null, null, null, null, null, null, null, null, null, null, null, null, null, null, null, null, null, null, null, null, null, null, 0.9533333333333333, null, null, null, null, null, null, null, null, null, null, null, null, null, null], [null, null, null, null, 0.8733333333333334, null, null, null, null, null, 0.9533333333333333, null, null, null, null, null, null, null, 0.96, 0.9733333333333333, null, 0.9466666666666667, null, null, null, null, null, null, null, null, null, null, null, null, null, null, null, null, null, null, null, null, 0.9533333333333333, null, null, null, null, null, 0.96, null, null, null, null, null, null, null, null, null, null, null, null, null, null, null, null, null, null, null, null, null, 0.96, null, null, null, null, null, null, null, null, null, null, null, null, null, null, null, null, null, null, null, null, null], [null, null, null, null, null, null, null, null, null, null, null, null, null, null, null, null, null, 0.9466666666666667, null, null, null, null, null, null, null, null, null, 0.9466666666666667, null, null, null, null, 0.96, 0.9666666666666667, 0.9666666666666667, 0.9666666666666667, 0.96, null, 0.9533333333333333, null, null, null, null, 0.9533333333333333, null, null, 0.96, null, null, null, null, null, null, null, null, null, null, null, null, null, null, null, null, null, null, null, null, null, null, null, null, null, null, null, null, null, null, null, null, null, null, null, null, null, null, null, null, null, null, null, null, null], [null, null, null, null, null, null, null, null, null, null, null, null, null, null, null, null, null, null, null, null, null, null, 0.9466666666666667, null, null, null, 0.9533333333333333, null, null, 0.9533333333333333, 0.9666666666666667, 0.9533333333333333, null, null, null, null, null, null, null, 0.96, null, null, null, null, null, null, null, null, null, null, null, 0.9666666666666667, null, null, null, null, null, null, null, null, null, null, null, null, null, null, null, null, null, null, null, null, null, null, null, null, null, null, null, null, null, null, null, null, null, null, null, null, null, null, null, null], [null, 0.9466666666666667, null, null, null, null, null, null, null, null, null, null, null, null, null, null, null, null, null, null, null, null, null, 0.94, null, null, null, null, null, null, null, null, null, null, null, null, null, null, null, null, 0.9533333333333333, 0.9533333333333333, null, null, null, null, null, null, null, null, null, null, null, null, null, null, null, null, null, null, null, null, null, null, null, null, null, null, 0.96, null, null, null, null, null, null, null, null, null, null, null, null, null, null, null, null, null, null, null, null, null, null, null], [null, null, null, null, null, null, null, null, null, null, null, null, null, null, null, null, null, null, null, null, null, null, null, null, null, null, null, null, null, null, null, null, null, null, null, null, null, null, null, null, null, null, null, null, null, null, null, null, null, null, null, null, null, null, null, null, null, null, null, null, null, null, null, null, null, null, null, null, null, null, null, null, null, null, null, null, null, null, null, null, null, null, null, null, null, null, null, null, null, null, null, null]]}, {\"marker\": {\"color\": \"black\", \"line\": {\"color\": \"Grey\", \"width\": 0.5}}, \"mode\": \"markers\", \"showlegend\": false, \"type\": \"scatter\", \"x\": [3.8568867328591665, 3.0118134007693236, 8.127633068621309, 1.1911132650185514, 2.8578286087109257, 1.3413638436822453, 27.343588138319017, 14.020237968749075, 8.307932255035578, 7.273472184687604, 2.2587007073663656, 14.444579703362619, 5.080470533348521, 2.106078585037581, 9.276445754077923, 3.8709068992837037, 15.25893286215967, 26.784038037397156, 14.32436632943313, 20.350534425798024, 5.774027198572303, 10.024770355516987, 11.07829561211451, 6.096046070009788, 3.9828763240550744, 20.106401916687908, 2.898009884963993, 4.300346249347934, 4.53598693430065, 1.7445597571302975, 3.566438497312481, 3.1029966491095093, 4.4580588021977565, 3.1471556021924236, 4.27796716389359, 6.674913358547365, 2.1819169249114942, 3.9909301624142133, 2.529001891623122, 20.121038457313393, 11.282596785881827, 31.038531926446748, 4.698022971441656, 18.31018002009102, 17.70056984590678, 15.169973413694798, 13.972425234078301, 12.361135012768825, 25.547359557471406, 3.3820150286666877, 3.2132130472519846, 1.8683704248105755, 5.1726644151490815, 4.008442648014766, 12.544757598569216, 4.168953520249082, 2.565275920890108, 3.430284058496372, 7.3534475053857244, 2.7198711657862473, 15.828767165259752, 8.520324235807966, 24.61052252751452, 13.089195601622711, 5.184404014735994, 16.022151914662825, 9.175079182809801, 3.6507797009523246, 5.7928004075329005, 2.9233658891039287, 20.145519829571146, 12.061043220865566, 15.532702153251682, 23.31352360053216, 3.161007765418124, 3.413053354323102, 9.654997186494413, 4.4682907155014915, 4.826585525681335, 3.8695944763765717, 6.4250663769236995, 17.8210397781769, 4.258164400089842, 13.887184106590434, 22.489745675218344, 10.354826436394136, 3.7240682700737557, 11.880408583250974, 16.536495158964435, 7.480979535338041], \"y\": [13, 15, 19, 20, 2, 9, 13, 20, 16, 17, 8, 17, 20, 15, 11, 18, 14, 14, 12, 11, 18, 6, 12, 9, 15, 14, 15, 18, 13, 16, 19, 15, 18, 16, 18, 14, 16, 19, 12, 13, 10, 12, 18, 14, 16, 14, 15, 13, 15, 17, 17, 17, 20, 19, 13, 19, 16, 17, 15, 17, 14, 15, 14, 12, 17, 14, 15, 20, 2, 16, 13, 10, 15, 13, 18, 16, 11, 18, 19, 19, 18, 12, 18, 15, 14, 8, 16, 10, 9, 10]}],\n",
              "                        {\"template\": {\"data\": {\"bar\": [{\"error_x\": {\"color\": \"#2a3f5f\"}, \"error_y\": {\"color\": \"#2a3f5f\"}, \"marker\": {\"line\": {\"color\": \"#E5ECF6\", \"width\": 0.5}}, \"type\": \"bar\"}], \"barpolar\": [{\"marker\": {\"line\": {\"color\": \"#E5ECF6\", \"width\": 0.5}}, \"type\": \"barpolar\"}], \"carpet\": [{\"aaxis\": {\"endlinecolor\": \"#2a3f5f\", \"gridcolor\": \"white\", \"linecolor\": \"white\", \"minorgridcolor\": \"white\", \"startlinecolor\": \"#2a3f5f\"}, \"baxis\": {\"endlinecolor\": \"#2a3f5f\", \"gridcolor\": \"white\", \"linecolor\": \"white\", \"minorgridcolor\": \"white\", \"startlinecolor\": \"#2a3f5f\"}, \"type\": \"carpet\"}], \"choropleth\": [{\"colorbar\": {\"outlinewidth\": 0, \"ticks\": \"\"}, \"type\": \"choropleth\"}], \"contour\": [{\"colorbar\": {\"outlinewidth\": 0, \"ticks\": \"\"}, \"colorscale\": [[0.0, \"#0d0887\"], [0.1111111111111111, \"#46039f\"], [0.2222222222222222, \"#7201a8\"], [0.3333333333333333, \"#9c179e\"], [0.4444444444444444, \"#bd3786\"], [0.5555555555555556, \"#d8576b\"], [0.6666666666666666, \"#ed7953\"], [0.7777777777777778, \"#fb9f3a\"], [0.8888888888888888, \"#fdca26\"], [1.0, \"#f0f921\"]], \"type\": \"contour\"}], \"contourcarpet\": [{\"colorbar\": {\"outlinewidth\": 0, \"ticks\": \"\"}, \"type\": \"contourcarpet\"}], \"heatmap\": [{\"colorbar\": {\"outlinewidth\": 0, \"ticks\": \"\"}, \"colorscale\": [[0.0, \"#0d0887\"], [0.1111111111111111, \"#46039f\"], [0.2222222222222222, \"#7201a8\"], [0.3333333333333333, \"#9c179e\"], [0.4444444444444444, \"#bd3786\"], [0.5555555555555556, \"#d8576b\"], [0.6666666666666666, \"#ed7953\"], [0.7777777777777778, \"#fb9f3a\"], [0.8888888888888888, \"#fdca26\"], [1.0, \"#f0f921\"]], \"type\": \"heatmap\"}], \"heatmapgl\": [{\"colorbar\": {\"outlinewidth\": 0, \"ticks\": \"\"}, \"colorscale\": [[0.0, \"#0d0887\"], [0.1111111111111111, \"#46039f\"], [0.2222222222222222, \"#7201a8\"], [0.3333333333333333, \"#9c179e\"], [0.4444444444444444, \"#bd3786\"], [0.5555555555555556, \"#d8576b\"], [0.6666666666666666, \"#ed7953\"], [0.7777777777777778, \"#fb9f3a\"], [0.8888888888888888, \"#fdca26\"], [1.0, \"#f0f921\"]], \"type\": \"heatmapgl\"}], \"histogram\": [{\"marker\": {\"colorbar\": {\"outlinewidth\": 0, \"ticks\": \"\"}}, \"type\": \"histogram\"}], \"histogram2d\": [{\"colorbar\": {\"outlinewidth\": 0, \"ticks\": \"\"}, \"colorscale\": [[0.0, \"#0d0887\"], [0.1111111111111111, \"#46039f\"], [0.2222222222222222, \"#7201a8\"], [0.3333333333333333, \"#9c179e\"], [0.4444444444444444, \"#bd3786\"], [0.5555555555555556, \"#d8576b\"], [0.6666666666666666, \"#ed7953\"], [0.7777777777777778, \"#fb9f3a\"], [0.8888888888888888, \"#fdca26\"], [1.0, \"#f0f921\"]], \"type\": \"histogram2d\"}], \"histogram2dcontour\": [{\"colorbar\": {\"outlinewidth\": 0, \"ticks\": \"\"}, \"colorscale\": [[0.0, \"#0d0887\"], [0.1111111111111111, \"#46039f\"], [0.2222222222222222, \"#7201a8\"], [0.3333333333333333, \"#9c179e\"], [0.4444444444444444, \"#bd3786\"], [0.5555555555555556, \"#d8576b\"], [0.6666666666666666, \"#ed7953\"], [0.7777777777777778, \"#fb9f3a\"], [0.8888888888888888, \"#fdca26\"], [1.0, \"#f0f921\"]], \"type\": \"histogram2dcontour\"}], \"mesh3d\": [{\"colorbar\": {\"outlinewidth\": 0, \"ticks\": \"\"}, \"type\": \"mesh3d\"}], \"parcoords\": [{\"line\": {\"colorbar\": {\"outlinewidth\": 0, \"ticks\": \"\"}}, \"type\": \"parcoords\"}], \"pie\": [{\"automargin\": true, \"type\": \"pie\"}], \"scatter\": [{\"marker\": {\"colorbar\": {\"outlinewidth\": 0, \"ticks\": \"\"}}, \"type\": \"scatter\"}], \"scatter3d\": [{\"line\": {\"colorbar\": {\"outlinewidth\": 0, \"ticks\": \"\"}}, \"marker\": {\"colorbar\": {\"outlinewidth\": 0, \"ticks\": \"\"}}, \"type\": \"scatter3d\"}], \"scattercarpet\": [{\"marker\": {\"colorbar\": {\"outlinewidth\": 0, \"ticks\": \"\"}}, \"type\": \"scattercarpet\"}], \"scattergeo\": [{\"marker\": {\"colorbar\": {\"outlinewidth\": 0, \"ticks\": \"\"}}, \"type\": \"scattergeo\"}], \"scattergl\": [{\"marker\": {\"colorbar\": {\"outlinewidth\": 0, \"ticks\": \"\"}}, \"type\": \"scattergl\"}], \"scattermapbox\": [{\"marker\": {\"colorbar\": {\"outlinewidth\": 0, \"ticks\": \"\"}}, \"type\": \"scattermapbox\"}], \"scatterpolar\": [{\"marker\": {\"colorbar\": {\"outlinewidth\": 0, \"ticks\": \"\"}}, \"type\": \"scatterpolar\"}], \"scatterpolargl\": [{\"marker\": {\"colorbar\": {\"outlinewidth\": 0, \"ticks\": \"\"}}, \"type\": \"scatterpolargl\"}], \"scatterternary\": [{\"marker\": {\"colorbar\": {\"outlinewidth\": 0, \"ticks\": \"\"}}, \"type\": \"scatterternary\"}], \"surface\": [{\"colorbar\": {\"outlinewidth\": 0, \"ticks\": \"\"}, \"colorscale\": [[0.0, \"#0d0887\"], [0.1111111111111111, \"#46039f\"], [0.2222222222222222, \"#7201a8\"], [0.3333333333333333, \"#9c179e\"], [0.4444444444444444, \"#bd3786\"], [0.5555555555555556, \"#d8576b\"], [0.6666666666666666, \"#ed7953\"], [0.7777777777777778, \"#fb9f3a\"], [0.8888888888888888, \"#fdca26\"], [1.0, \"#f0f921\"]], \"type\": \"surface\"}], \"table\": [{\"cells\": {\"fill\": {\"color\": \"#EBF0F8\"}, \"line\": {\"color\": \"white\"}}, \"header\": {\"fill\": {\"color\": \"#C8D4E3\"}, \"line\": {\"color\": \"white\"}}, \"type\": \"table\"}]}, \"layout\": {\"annotationdefaults\": {\"arrowcolor\": \"#2a3f5f\", \"arrowhead\": 0, \"arrowwidth\": 1}, \"coloraxis\": {\"colorbar\": {\"outlinewidth\": 0, \"ticks\": \"\"}}, \"colorscale\": {\"diverging\": [[0, \"#8e0152\"], [0.1, \"#c51b7d\"], [0.2, \"#de77ae\"], [0.3, \"#f1b6da\"], [0.4, \"#fde0ef\"], [0.5, \"#f7f7f7\"], [0.6, \"#e6f5d0\"], [0.7, \"#b8e186\"], [0.8, \"#7fbc41\"], [0.9, \"#4d9221\"], [1, \"#276419\"]], \"sequential\": [[0.0, \"#0d0887\"], [0.1111111111111111, \"#46039f\"], [0.2222222222222222, \"#7201a8\"], [0.3333333333333333, \"#9c179e\"], [0.4444444444444444, \"#bd3786\"], [0.5555555555555556, \"#d8576b\"], [0.6666666666666666, \"#ed7953\"], [0.7777777777777778, \"#fb9f3a\"], [0.8888888888888888, \"#fdca26\"], [1.0, \"#f0f921\"]], \"sequentialminus\": [[0.0, \"#0d0887\"], [0.1111111111111111, \"#46039f\"], [0.2222222222222222, \"#7201a8\"], [0.3333333333333333, \"#9c179e\"], [0.4444444444444444, \"#bd3786\"], [0.5555555555555556, \"#d8576b\"], [0.6666666666666666, \"#ed7953\"], [0.7777777777777778, \"#fb9f3a\"], [0.8888888888888888, \"#fdca26\"], [1.0, \"#f0f921\"]]}, \"colorway\": [\"#636efa\", \"#EF553B\", \"#00cc96\", \"#ab63fa\", \"#FFA15A\", \"#19d3f3\", \"#FF6692\", \"#B6E880\", \"#FF97FF\", \"#FECB52\"], \"font\": {\"color\": \"#2a3f5f\"}, \"geo\": {\"bgcolor\": \"white\", \"lakecolor\": \"white\", \"landcolor\": \"#E5ECF6\", \"showlakes\": true, \"showland\": true, \"subunitcolor\": \"white\"}, \"hoverlabel\": {\"align\": \"left\"}, \"hovermode\": \"closest\", \"mapbox\": {\"style\": \"light\"}, \"paper_bgcolor\": \"white\", \"plot_bgcolor\": \"#E5ECF6\", \"polar\": {\"angularaxis\": {\"gridcolor\": \"white\", \"linecolor\": \"white\", \"ticks\": \"\"}, \"bgcolor\": \"#E5ECF6\", \"radialaxis\": {\"gridcolor\": \"white\", \"linecolor\": \"white\", \"ticks\": \"\"}}, \"scene\": {\"xaxis\": {\"backgroundcolor\": \"#E5ECF6\", \"gridcolor\": \"white\", \"gridwidth\": 2, \"linecolor\": \"white\", \"showbackground\": true, \"ticks\": \"\", \"zerolinecolor\": \"white\"}, \"yaxis\": {\"backgroundcolor\": \"#E5ECF6\", \"gridcolor\": \"white\", \"gridwidth\": 2, \"linecolor\": \"white\", \"showbackground\": true, \"ticks\": \"\", \"zerolinecolor\": \"white\"}, \"zaxis\": {\"backgroundcolor\": \"#E5ECF6\", \"gridcolor\": \"white\", \"gridwidth\": 2, \"linecolor\": \"white\", \"showbackground\": true, \"ticks\": \"\", \"zerolinecolor\": \"white\"}}, \"shapedefaults\": {\"line\": {\"color\": \"#2a3f5f\"}}, \"ternary\": {\"aaxis\": {\"gridcolor\": \"white\", \"linecolor\": \"white\", \"ticks\": \"\"}, \"baxis\": {\"gridcolor\": \"white\", \"linecolor\": \"white\", \"ticks\": \"\"}, \"bgcolor\": \"#E5ECF6\", \"caxis\": {\"gridcolor\": \"white\", \"linecolor\": \"white\", \"ticks\": \"\"}}, \"title\": {\"x\": 0.05}, \"xaxis\": {\"automargin\": true, \"gridcolor\": \"white\", \"linecolor\": \"white\", \"ticks\": \"\", \"title\": {\"standoff\": 15}, \"zerolinecolor\": \"white\", \"zerolinewidth\": 2}, \"yaxis\": {\"automargin\": true, \"gridcolor\": \"white\", \"linecolor\": \"white\", \"ticks\": \"\", \"title\": {\"standoff\": 15}, \"zerolinecolor\": \"white\", \"zerolinewidth\": 2}}}, \"title\": {\"text\": \"Contour Plot\"}, \"xaxis\": {\"range\": [0.005155655740690475, 1.5626985771471134], \"title\": {\"text\": \"max_depth\"}, \"type\": \"log\"}, \"yaxis\": {\"range\": [1.1, 20.9], \"title\": {\"text\": \"n_estimators\"}}},\n",
              "                        {\"responsive\": true}\n",
              "                    ).then(function(){\n",
              "                            \n",
              "var gd = document.getElementById('41a0e8c7-9f92-4f78-9907-1c096f8ddbd8');\n",
              "var x = new MutationObserver(function (mutations, observer) {{\n",
              "        var display = window.getComputedStyle(gd).display;\n",
              "        if (!display || display === 'none') {{\n",
              "            console.log([gd, 'removed!']);\n",
              "            Plotly.purge(gd);\n",
              "            observer.disconnect();\n",
              "        }}\n",
              "}});\n",
              "\n",
              "// Listen for the removal of the full notebook cells\n",
              "var notebookContainer = gd.closest('#notebook-container');\n",
              "if (notebookContainer) {{\n",
              "    x.observe(notebookContainer, {childList: true});\n",
              "}}\n",
              "\n",
              "// Listen for the clearing of the current output cell\n",
              "var outputEl = gd.closest('.output');\n",
              "if (outputEl) {{\n",
              "    x.observe(outputEl, {childList: true});\n",
              "}}\n",
              "\n",
              "                        })\n",
              "                };\n",
              "                \n",
              "            </script>\n",
              "        </div>\n",
              "</body>\n",
              "</html>"
            ]
          },
          "metadata": {
            "tags": []
          }
        }
      ]
    },
    {
      "cell_type": "code",
      "metadata": {
        "id": "jeDgjYZoTSWf"
      },
      "source": [
        ""
      ],
      "execution_count": null,
      "outputs": []
    }
  ]
}