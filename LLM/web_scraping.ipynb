{
  "cells": [
    {
      "cell_type": "markdown",
      "metadata": {
        "id": "view-in-github",
        "colab_type": "text"
      },
      "source": [
        "<a href=\"https://colab.research.google.com/github/hanhanwu/Hanhan_COLAB_Experiemnts/blob/master/LLM/web_scraping.ipynb\" target=\"_parent\"><img src=\"https://colab.research.google.com/assets/colab-badge.svg\" alt=\"Open In Colab\"/></a>"
      ]
    },
    {
      "cell_type": "raw",
      "id": "e254cf03-49fc-4051-a4df-3a8e4e7d2688",
      "metadata": {
        "id": "e254cf03-49fc-4051-a4df-3a8e4e7d2688"
      },
      "source": [
        "---\n",
        "title: Web scraping\n",
        "---"
      ]
    },
    {
      "cell_type": "markdown",
      "id": "6605e7f7",
      "metadata": {
        "id": "6605e7f7"
      },
      "source": [
        "## Use case\n",
        "\n",
        "[Web research](https://blog.langchain.dev/automating-web-research/) is one of the killer LLM applications:\n",
        "\n",
        "* Users have [highlighted it](https://twitter.com/GregKamradt/status/1679913813297225729?s=20) as one of his top desired AI tools.\n",
        "* OSS repos like [gpt-researcher](https://github.com/assafelovic/gpt-researcher) are growing in popularity.\n",
        "\n",
        "![Image description](https://github.com/langchain-ai/langchain/blob/master/docs/static/img/web_scraping.png?raw=1)\n",
        "\n",
        "## Overview\n",
        "\n",
        "Gathering content from the web has a few components:\n",
        "\n",
        "* `Search`: Query to url (e.g., using `GoogleSearchAPIWrapper`).\n",
        "* `Loading`: Url to HTML  (e.g., using `AsyncHtmlLoader`, `AsyncChromiumLoader`, etc).\n",
        "* `Transforming`: HTML to formatted text (e.g., using `HTML2Text` or `Beautiful Soup`).\n",
        "\n",
        "## Quickstart"
      ]
    },
    {
      "cell_type": "code",
      "execution_count": 1,
      "id": "1803c182",
      "metadata": {
        "colab": {
          "base_uri": "https://localhost:8080/"
        },
        "id": "1803c182",
        "outputId": "4e4f9d91-0c4d-42db-9c57-c77e7771797c"
      },
      "outputs": [
        {
          "output_type": "stream",
          "name": "stdout",
          "text": [
            "\u001b[2K     \u001b[90m━━━━━━━━━━━━━━━━━━━━━━━━━━━━━━━━━━━━━━━━\u001b[0m \u001b[32m811.8/811.8 kB\u001b[0m \u001b[31m7.8 MB/s\u001b[0m eta \u001b[36m0:00:00\u001b[0m\n",
            "\u001b[2K     \u001b[90m━━━━━━━━━━━━━━━━━━━━━━━━━━━━━━━━━━━━━━━━\u001b[0m \u001b[32m37.4/37.4 MB\u001b[0m \u001b[31m34.7 MB/s\u001b[0m eta \u001b[36m0:00:00\u001b[0m\n",
            "\u001b[2K     \u001b[90m━━━━━━━━━━━━━━━━━━━━━━━━━━━━━━━━━━━━━━━━\u001b[0m \u001b[32m52.2/52.2 kB\u001b[0m \u001b[31m5.7 MB/s\u001b[0m eta \u001b[36m0:00:00\u001b[0m\n",
            "\u001b[2K     \u001b[90m━━━━━━━━━━━━━━━━━━━━━━━━━━━━━━━━━━━━━━━━\u001b[0m \u001b[32m239.4/239.4 kB\u001b[0m \u001b[31m22.5 MB/s\u001b[0m eta \u001b[36m0:00:00\u001b[0m\n",
            "\u001b[2K     \u001b[90m━━━━━━━━━━━━━━━━━━━━━━━━━━━━━━━━━━━━━━━━\u001b[0m \u001b[32m226.7/226.7 kB\u001b[0m \u001b[31m21.3 MB/s\u001b[0m eta \u001b[36m0:00:00\u001b[0m\n",
            "\u001b[2K     \u001b[90m━━━━━━━━━━━━━━━━━━━━━━━━━━━━━━━━━━━━━━━━\u001b[0m \u001b[32m2.0/2.0 MB\u001b[0m \u001b[31m40.8 MB/s\u001b[0m eta \u001b[36m0:00:00\u001b[0m\n",
            "\u001b[2K     \u001b[90m━━━━━━━━━━━━━━━━━━━━━━━━━━━━━━━━━━━━━━━━\u001b[0m \u001b[32m1.6/1.6 MB\u001b[0m \u001b[31m50.7 MB/s\u001b[0m eta \u001b[36m0:00:00\u001b[0m\n",
            "\u001b[2K     \u001b[90m━━━━━━━━━━━━━━━━━━━━━━━━━━━━━━━━━━━━━━━━\u001b[0m \u001b[32m55.4/55.4 kB\u001b[0m \u001b[31m6.1 MB/s\u001b[0m eta \u001b[36m0:00:00\u001b[0m\n",
            "\u001b[2K     \u001b[90m━━━━━━━━━━━━━━━━━━━━━━━━━━━━━━━━━━━━━━━━\u001b[0m \u001b[32m3.1/3.1 MB\u001b[0m \u001b[31m82.6 MB/s\u001b[0m eta \u001b[36m0:00:00\u001b[0m\n",
            "\u001b[2K     \u001b[90m━━━━━━━━━━━━━━━━━━━━━━━━━━━━━━━━━━━━━━━━\u001b[0m \u001b[32m49.4/49.4 kB\u001b[0m \u001b[31m6.0 MB/s\u001b[0m eta \u001b[36m0:00:00\u001b[0m\n",
            "\u001b[2K     \u001b[90m━━━━━━━━━━━━━━━━━━━━━━━━━━━━━━━━━━━━━━━━\u001b[0m \u001b[32m75.9/75.9 kB\u001b[0m \u001b[31m8.7 MB/s\u001b[0m eta \u001b[36m0:00:00\u001b[0m\n",
            "\u001b[2K     \u001b[90m━━━━━━━━━━━━━━━━━━━━━━━━━━━━━━━━━━━━━━━━\u001b[0m \u001b[32m76.9/76.9 kB\u001b[0m \u001b[31m8.8 MB/s\u001b[0m eta \u001b[36m0:00:00\u001b[0m\n",
            "\u001b[2K     \u001b[90m━━━━━━━━━━━━━━━━━━━━━━━━━━━━━━━━━━━━━━━━\u001b[0m \u001b[32m58.3/58.3 kB\u001b[0m \u001b[31m6.2 MB/s\u001b[0m eta \u001b[36m0:00:00\u001b[0m\n",
            "\u001b[?25hDownloading Chromium 121.0.6167.57 (playwright build v1097)\u001b[2m from https://playwright.azureedge.net/builds/chromium/1097/chromium-linux.zip\u001b[22m\n",
            "\u001b[1G152.8 MiB [] 0% 0.0s\u001b[0K\u001b[1G152.8 MiB [] 0% 14.7s\u001b[0K\u001b[1G152.8 MiB [] 0% 7.4s\u001b[0K\u001b[1G152.8 MiB [] 0% 5.4s\u001b[0K\u001b[1G152.8 MiB [] 1% 4.2s\u001b[0K\u001b[1G152.8 MiB [] 2% 3.8s\u001b[0K\u001b[1G152.8 MiB [] 2% 3.7s\u001b[0K\u001b[1G152.8 MiB [] 2% 3.9s\u001b[0K\u001b[1G152.8 MiB [] 3% 4.0s\u001b[0K\u001b[1G152.8 MiB [] 4% 3.5s\u001b[0K\u001b[1G152.8 MiB [] 4% 3.7s\u001b[0K\u001b[1G152.8 MiB [] 4% 3.8s\u001b[0K\u001b[1G152.8 MiB [] 5% 3.6s\u001b[0K\u001b[1G152.8 MiB [] 5% 3.5s\u001b[0K\u001b[1G152.8 MiB [] 6% 3.6s\u001b[0K\u001b[1G152.8 MiB [] 7% 3.7s\u001b[0K\u001b[1G152.8 MiB [] 7% 3.5s\u001b[0K\u001b[1G152.8 MiB [] 8% 3.4s\u001b[0K\u001b[1G152.8 MiB [] 9% 3.4s\u001b[0K\u001b[1G152.8 MiB [] 10% 3.3s\u001b[0K\u001b[1G152.8 MiB [] 11% 3.2s\u001b[0K\u001b[1G152.8 MiB [] 11% 3.1s\u001b[0K\u001b[1G152.8 MiB [] 12% 3.1s\u001b[0K\u001b[1G152.8 MiB [] 13% 2.9s\u001b[0K\u001b[1G152.8 MiB [] 14% 2.9s\u001b[0K\u001b[1G152.8 MiB [] 15% 2.8s\u001b[0K\u001b[1G152.8 MiB [] 16% 2.8s\u001b[0K\u001b[1G152.8 MiB [] 17% 2.7s\u001b[0K\u001b[1G152.8 MiB [] 18% 2.7s\u001b[0K\u001b[1G152.8 MiB [] 18% 2.8s\u001b[0K\u001b[1G152.8 MiB [] 18% 2.9s\u001b[0K\u001b[1G152.8 MiB [] 19% 2.9s\u001b[0K\u001b[1G152.8 MiB [] 20% 2.8s\u001b[0K\u001b[1G152.8 MiB [] 21% 2.7s\u001b[0K\u001b[1G152.8 MiB [] 22% 2.6s\u001b[0K\u001b[1G152.8 MiB [] 22% 2.5s\u001b[0K\u001b[1G152.8 MiB [] 23% 2.5s\u001b[0K\u001b[1G152.8 MiB [] 24% 2.4s\u001b[0K\u001b[1G152.8 MiB [] 25% 2.3s\u001b[0K\u001b[1G152.8 MiB [] 26% 2.3s\u001b[0K\u001b[1G152.8 MiB [] 27% 2.2s\u001b[0K\u001b[1G152.8 MiB [] 28% 2.2s\u001b[0K\u001b[1G152.8 MiB [] 29% 2.2s\u001b[0K\u001b[1G152.8 MiB [] 29% 2.1s\u001b[0K\u001b[1G152.8 MiB [] 30% 2.1s\u001b[0K\u001b[1G152.8 MiB [] 31% 2.0s\u001b[0K\u001b[1G152.8 MiB [] 32% 1.9s\u001b[0K\u001b[1G152.8 MiB [] 33% 1.9s\u001b[0K\u001b[1G152.8 MiB [] 34% 1.9s\u001b[0K\u001b[1G152.8 MiB [] 35% 1.8s\u001b[0K\u001b[1G152.8 MiB [] 36% 1.8s\u001b[0K\u001b[1G152.8 MiB [] 37% 1.7s\u001b[0K\u001b[1G152.8 MiB [] 38% 1.7s\u001b[0K\u001b[1G152.8 MiB [] 39% 1.6s\u001b[0K\u001b[1G152.8 MiB [] 40% 1.6s\u001b[0K\u001b[1G152.8 MiB [] 41% 1.5s\u001b[0K\u001b[1G152.8 MiB [] 42% 1.5s\u001b[0K\u001b[1G152.8 MiB [] 43% 1.5s\u001b[0K\u001b[1G152.8 MiB [] 44% 1.4s\u001b[0K\u001b[1G152.8 MiB [] 45% 1.4s\u001b[0K\u001b[1G152.8 MiB [] 46% 1.4s\u001b[0K\u001b[1G152.8 MiB [] 47% 1.4s\u001b[0K\u001b[1G152.8 MiB [] 48% 1.3s\u001b[0K\u001b[1G152.8 MiB [] 49% 1.3s\u001b[0K\u001b[1G152.8 MiB [] 50% 1.3s\u001b[0K\u001b[1G152.8 MiB [] 51% 1.3s\u001b[0K\u001b[1G152.8 MiB [] 52% 1.3s\u001b[0K\u001b[1G152.8 MiB [] 53% 1.2s\u001b[0K\u001b[1G152.8 MiB [] 54% 1.2s\u001b[0K\u001b[1G152.8 MiB [] 55% 1.2s\u001b[0K\u001b[1G152.8 MiB [] 56% 1.1s\u001b[0K\u001b[1G152.8 MiB [] 57% 1.1s\u001b[0K\u001b[1G152.8 MiB [] 58% 1.1s\u001b[0K\u001b[1G152.8 MiB [] 59% 1.1s\u001b[0K\u001b[1G152.8 MiB [] 60% 1.0s\u001b[0K\u001b[1G152.8 MiB [] 61% 1.0s\u001b[0K\u001b[1G152.8 MiB [] 62% 0.9s\u001b[0K\u001b[1G152.8 MiB [] 63% 0.9s\u001b[0K\u001b[1G152.8 MiB [] 64% 0.9s\u001b[0K\u001b[1G152.8 MiB [] 65% 0.9s\u001b[0K\u001b[1G152.8 MiB [] 66% 0.8s\u001b[0K\u001b[1G152.8 MiB [] 67% 0.8s\u001b[0K\u001b[1G152.8 MiB [] 68% 0.8s\u001b[0K\u001b[1G152.8 MiB [] 69% 0.8s\u001b[0K\u001b[1G152.8 MiB [] 70% 0.7s\u001b[0K\u001b[1G152.8 MiB [] 71% 0.7s\u001b[0K\u001b[1G152.8 MiB [] 72% 0.7s\u001b[0K\u001b[1G152.8 MiB [] 73% 0.6s\u001b[0K\u001b[1G152.8 MiB [] 74% 0.6s\u001b[0K\u001b[1G152.8 MiB [] 76% 0.6s\u001b[0K\u001b[1G152.8 MiB [] 77% 0.5s\u001b[0K\u001b[1G152.8 MiB [] 78% 0.5s\u001b[0K\u001b[1G152.8 MiB [] 79% 0.5s\u001b[0K\u001b[1G152.8 MiB [] 80% 0.5s\u001b[0K\u001b[1G152.8 MiB [] 81% 0.4s\u001b[0K\u001b[1G152.8 MiB [] 82% 0.4s\u001b[0K\u001b[1G152.8 MiB [] 83% 0.4s\u001b[0K\u001b[1G152.8 MiB [] 84% 0.4s\u001b[0K\u001b[1G152.8 MiB [] 85% 0.3s\u001b[0K\u001b[1G152.8 MiB [] 86% 0.3s\u001b[0K\u001b[1G152.8 MiB [] 87% 0.3s\u001b[0K\u001b[1G152.8 MiB [] 88% 0.3s\u001b[0K\u001b[1G152.8 MiB [] 89% 0.2s\u001b[0K\u001b[1G152.8 MiB [] 90% 0.2s\u001b[0K\u001b[1G152.8 MiB [] 91% 0.2s\u001b[0K\u001b[1G152.8 MiB [] 92% 0.2s\u001b[0K\u001b[1G152.8 MiB [] 93% 0.2s\u001b[0K\u001b[1G152.8 MiB [] 94% 0.1s\u001b[0K\u001b[1G152.8 MiB [] 95% 0.1s\u001b[0K\u001b[1G152.8 MiB [] 96% 0.1s\u001b[0K\u001b[1G152.8 MiB [] 97% 0.1s\u001b[0K\u001b[1G152.8 MiB [] 98% 0.0s\u001b[0K\u001b[1G152.8 MiB [] 99% 0.0s\u001b[0K\u001b[1G152.8 MiB [] 100% 0.0s\u001b[0K\n",
            "Chromium 121.0.6167.57 (playwright build v1097) downloaded to /root/.cache/ms-playwright/chromium-1097\n",
            "Downloading FFMPEG playwright build v1009\u001b[2m from https://playwright.azureedge.net/builds/ffmpeg/1009/ffmpeg-linux.zip\u001b[22m\n",
            "\u001b[1G2.6 MiB [] 0% 0.0s\u001b[0K\u001b[1G2.6 MiB [] 2% 0.6s\u001b[0K\u001b[1G2.6 MiB [] 12% 0.3s\u001b[0K\u001b[1G2.6 MiB [] 32% 0.1s\u001b[0K\u001b[1G2.6 MiB [] 47% 0.1s\u001b[0K\u001b[1G2.6 MiB [] 68% 0.0s\u001b[0K\u001b[1G2.6 MiB [] 91% 0.0s\u001b[0K\u001b[1G2.6 MiB [] 100% 0.0s\u001b[0K\n",
            "FFMPEG playwright build v1009 downloaded to /root/.cache/ms-playwright/ffmpeg-1009\n",
            "Downloading Firefox 121.0 (playwright build v1438)\u001b[2m from https://playwright.azureedge.net/builds/firefox/1438/firefox-ubuntu-22.04.zip\u001b[22m\n",
            "\u001b[1G82.2 MiB [] 0% 0.0s\u001b[0K\u001b[1G82.2 MiB [] 0% 7.7s\u001b[0K\u001b[1G82.2 MiB [] 0% 5.4s\u001b[0K\u001b[1G82.2 MiB [] 1% 4.6s\u001b[0K\u001b[1G82.2 MiB [] 1% 3.8s\u001b[0K\u001b[1G82.2 MiB [] 2% 3.5s\u001b[0K\u001b[1G82.2 MiB [] 2% 3.6s\u001b[0K\u001b[1G82.2 MiB [] 3% 3.5s\u001b[0K\u001b[1G82.2 MiB [] 4% 3.4s\u001b[0K\u001b[1G82.2 MiB [] 5% 3.4s\u001b[0K\u001b[1G82.2 MiB [] 5% 3.6s\u001b[0K\u001b[1G82.2 MiB [] 6% 3.5s\u001b[0K\u001b[1G82.2 MiB [] 7% 3.3s\u001b[0K\u001b[1G82.2 MiB [] 7% 3.4s\u001b[0K\u001b[1G82.2 MiB [] 8% 3.3s\u001b[0K\u001b[1G82.2 MiB [] 9% 3.5s\u001b[0K\u001b[1G82.2 MiB [] 9% 3.4s\u001b[0K\u001b[1G82.2 MiB [] 10% 3.3s\u001b[0K\u001b[1G82.2 MiB [] 11% 3.4s\u001b[0K\u001b[1G82.2 MiB [] 11% 3.2s\u001b[0K\u001b[1G82.2 MiB [] 12% 3.2s\u001b[0K\u001b[1G82.2 MiB [] 13% 3.2s\u001b[0K\u001b[1G82.2 MiB [] 13% 3.3s\u001b[0K\u001b[1G82.2 MiB [] 14% 3.3s\u001b[0K\u001b[1G82.2 MiB [] 14% 3.2s\u001b[0K\u001b[1G82.2 MiB [] 15% 3.2s\u001b[0K\u001b[1G82.2 MiB [] 16% 3.0s\u001b[0K\u001b[1G82.2 MiB [] 17% 3.0s\u001b[0K\u001b[1G82.2 MiB [] 18% 2.9s\u001b[0K\u001b[1G82.2 MiB [] 19% 2.9s\u001b[0K\u001b[1G82.2 MiB [] 19% 2.8s\u001b[0K\u001b[1G82.2 MiB [] 21% 2.7s\u001b[0K\u001b[1G82.2 MiB [] 22% 2.7s\u001b[0K\u001b[1G82.2 MiB [] 23% 2.6s\u001b[0K\u001b[1G82.2 MiB [] 24% 2.5s\u001b[0K\u001b[1G82.2 MiB [] 25% 2.5s\u001b[0K\u001b[1G82.2 MiB [] 26% 2.4s\u001b[0K\u001b[1G82.2 MiB [] 27% 2.4s\u001b[0K\u001b[1G82.2 MiB [] 28% 2.3s\u001b[0K\u001b[1G82.2 MiB [] 29% 2.2s\u001b[0K\u001b[1G82.2 MiB [] 31% 2.1s\u001b[0K\u001b[1G82.2 MiB [] 32% 2.1s\u001b[0K\u001b[1G82.2 MiB [] 33% 2.0s\u001b[0K\u001b[1G82.2 MiB [] 34% 1.9s\u001b[0K\u001b[1G82.2 MiB [] 35% 1.9s\u001b[0K\u001b[1G82.2 MiB [] 36% 1.8s\u001b[0K\u001b[1G82.2 MiB [] 37% 1.8s\u001b[0K\u001b[1G82.2 MiB [] 38% 1.8s\u001b[0K\u001b[1G82.2 MiB [] 39% 1.7s\u001b[0K\u001b[1G82.2 MiB [] 40% 1.7s\u001b[0K\u001b[1G82.2 MiB [] 41% 1.7s\u001b[0K\u001b[1G82.2 MiB [] 42% 1.6s\u001b[0K\u001b[1G82.2 MiB [] 43% 1.6s\u001b[0K\u001b[1G82.2 MiB [] 44% 1.5s\u001b[0K\u001b[1G82.2 MiB [] 46% 1.5s\u001b[0K\u001b[1G82.2 MiB [] 47% 1.4s\u001b[0K\u001b[1G82.2 MiB [] 49% 1.4s\u001b[0K\u001b[1G82.2 MiB [] 50% 1.3s\u001b[0K\u001b[1G82.2 MiB [] 52% 1.2s\u001b[0K\u001b[1G82.2 MiB [] 53% 1.2s\u001b[0K\u001b[1G82.2 MiB [] 56% 1.1s\u001b[0K\u001b[1G82.2 MiB [] 58% 1.0s\u001b[0K\u001b[1G82.2 MiB [] 60% 0.9s\u001b[0K\u001b[1G82.2 MiB [] 62% 0.9s\u001b[0K\u001b[1G82.2 MiB [] 63% 0.8s\u001b[0K\u001b[1G82.2 MiB [] 65% 0.7s\u001b[0K\u001b[1G82.2 MiB [] 67% 0.7s\u001b[0K\u001b[1G82.2 MiB [] 69% 0.6s\u001b[0K\u001b[1G82.2 MiB [] 71% 0.6s\u001b[0K\u001b[1G82.2 MiB [] 73% 0.5s\u001b[0K\u001b[1G82.2 MiB [] 75% 0.5s\u001b[0K\u001b[1G82.2 MiB [] 77% 0.4s\u001b[0K\u001b[1G82.2 MiB [] 79% 0.4s\u001b[0K\u001b[1G82.2 MiB [] 80% 0.4s\u001b[0K\u001b[1G82.2 MiB [] 82% 0.3s\u001b[0K\u001b[1G82.2 MiB [] 83% 0.3s\u001b[0K\u001b[1G82.2 MiB [] 84% 0.3s\u001b[0K\u001b[1G82.2 MiB [] 85% 0.3s\u001b[0K\u001b[1G82.2 MiB [] 86% 0.3s\u001b[0K\u001b[1G82.2 MiB [] 87% 0.2s\u001b[0K\u001b[1G82.2 MiB [] 88% 0.2s\u001b[0K\u001b[1G82.2 MiB [] 89% 0.2s\u001b[0K\u001b[1G82.2 MiB [] 90% 0.2s\u001b[0K\u001b[1G82.2 MiB [] 91% 0.2s\u001b[0K\u001b[1G82.2 MiB [] 93% 0.1s\u001b[0K\u001b[1G82.2 MiB [] 94% 0.1s\u001b[0K\u001b[1G82.2 MiB [] 95% 0.1s\u001b[0K\u001b[1G82.2 MiB [] 96% 0.1s\u001b[0K\u001b[1G82.2 MiB [] 97% 0.0s\u001b[0K\u001b[1G82.2 MiB [] 99% 0.0s\u001b[0K\u001b[1G82.2 MiB [] 100% 0.0s\u001b[0K\n",
            "Firefox 121.0 (playwright build v1438) downloaded to /root/.cache/ms-playwright/firefox-1438\n",
            "Downloading Webkit 17.4 (playwright build v1967)\u001b[2m from https://playwright.azureedge.net/builds/webkit/1967/webkit-ubuntu-22.04.zip\u001b[22m\n",
            "\u001b[1G84.8 MiB [] 0% 0.0s\u001b[0K\u001b[1G84.8 MiB [] 0% 12.4s\u001b[0K\u001b[1G84.8 MiB [] 0% 10.8s\u001b[0K\u001b[1G84.8 MiB [] 0% 8.4s\u001b[0K\u001b[1G84.8 MiB [] 1% 5.5s\u001b[0K\u001b[1G84.8 MiB [] 2% 4.4s\u001b[0K\u001b[1G84.8 MiB [] 2% 3.4s\u001b[0K\u001b[1G84.8 MiB [] 3% 3.0s\u001b[0K\u001b[1G84.8 MiB [] 4% 3.1s\u001b[0K\u001b[1G84.8 MiB [] 5% 3.0s\u001b[0K\u001b[1G84.8 MiB [] 5% 3.1s\u001b[0K\u001b[1G84.8 MiB [] 6% 2.9s\u001b[0K\u001b[1G84.8 MiB [] 7% 2.7s\u001b[0K\u001b[1G84.8 MiB [] 7% 3.0s\u001b[0K\u001b[1G84.8 MiB [] 8% 2.9s\u001b[0K\u001b[1G84.8 MiB [] 9% 2.8s\u001b[0K\u001b[1G84.8 MiB [] 10% 2.7s\u001b[0K\u001b[1G84.8 MiB [] 11% 2.6s\u001b[0K\u001b[1G84.8 MiB [] 12% 2.4s\u001b[0K\u001b[1G84.8 MiB [] 13% 2.4s\u001b[0K\u001b[1G84.8 MiB [] 14% 2.4s\u001b[0K\u001b[1G84.8 MiB [] 15% 2.3s\u001b[0K\u001b[1G84.8 MiB [] 16% 2.2s\u001b[0K\u001b[1G84.8 MiB [] 17% 2.1s\u001b[0K\u001b[1G84.8 MiB [] 18% 2.1s\u001b[0K\u001b[1G84.8 MiB [] 20% 2.0s\u001b[0K\u001b[1G84.8 MiB [] 21% 1.9s\u001b[0K\u001b[1G84.8 MiB [] 22% 1.8s\u001b[0K\u001b[1G84.8 MiB [] 23% 1.8s\u001b[0K\u001b[1G84.8 MiB [] 24% 1.8s\u001b[0K\u001b[1G84.8 MiB [] 24% 1.7s\u001b[0K\u001b[1G84.8 MiB [] 25% 1.8s\u001b[0K\u001b[1G84.8 MiB [] 26% 1.7s\u001b[0K\u001b[1G84.8 MiB [] 27% 1.6s\u001b[0K\u001b[1G84.8 MiB [] 28% 1.6s\u001b[0K\u001b[1G84.8 MiB [] 29% 1.6s\u001b[0K\u001b[1G84.8 MiB [] 30% 1.5s\u001b[0K\u001b[1G84.8 MiB [] 31% 1.5s\u001b[0K\u001b[1G84.8 MiB [] 32% 1.5s\u001b[0K\u001b[1G84.8 MiB [] 34% 1.4s\u001b[0K\u001b[1G84.8 MiB [] 35% 1.4s\u001b[0K\u001b[1G84.8 MiB [] 36% 1.3s\u001b[0K\u001b[1G84.8 MiB [] 38% 1.2s\u001b[0K\u001b[1G84.8 MiB [] 39% 1.2s\u001b[0K\u001b[1G84.8 MiB [] 40% 1.2s\u001b[0K\u001b[1G84.8 MiB [] 42% 1.1s\u001b[0K\u001b[1G84.8 MiB [] 43% 1.1s\u001b[0K\u001b[1G84.8 MiB [] 45% 1.0s\u001b[0K\u001b[1G84.8 MiB [] 46% 1.0s\u001b[0K\u001b[1G84.8 MiB [] 47% 1.0s\u001b[0K\u001b[1G84.8 MiB [] 48% 0.9s\u001b[0K\u001b[1G84.8 MiB [] 50% 0.9s\u001b[0K\u001b[1G84.8 MiB [] 51% 0.9s\u001b[0K\u001b[1G84.8 MiB [] 53% 0.8s\u001b[0K\u001b[1G84.8 MiB [] 55% 0.8s\u001b[0K\u001b[1G84.8 MiB [] 56% 0.8s\u001b[0K\u001b[1G84.8 MiB [] 58% 0.7s\u001b[0K\u001b[1G84.8 MiB [] 59% 0.7s\u001b[0K\u001b[1G84.8 MiB [] 61% 0.7s\u001b[0K\u001b[1G84.8 MiB [] 63% 0.6s\u001b[0K\u001b[1G84.8 MiB [] 65% 0.6s\u001b[0K\u001b[1G84.8 MiB [] 66% 0.6s\u001b[0K\u001b[1G84.8 MiB [] 67% 0.5s\u001b[0K\u001b[1G84.8 MiB [] 68% 0.5s\u001b[0K\u001b[1G84.8 MiB [] 70% 0.5s\u001b[0K\u001b[1G84.8 MiB [] 72% 0.4s\u001b[0K\u001b[1G84.8 MiB [] 73% 0.4s\u001b[0K\u001b[1G84.8 MiB [] 76% 0.4s\u001b[0K\u001b[1G84.8 MiB [] 77% 0.3s\u001b[0K\u001b[1G84.8 MiB [] 79% 0.3s\u001b[0K\u001b[1G84.8 MiB [] 81% 0.3s\u001b[0K\u001b[1G84.8 MiB [] 83% 0.2s\u001b[0K\u001b[1G84.8 MiB [] 85% 0.2s\u001b[0K\u001b[1G84.8 MiB [] 86% 0.2s\u001b[0K\u001b[1G84.8 MiB [] 88% 0.2s\u001b[0K\u001b[1G84.8 MiB [] 90% 0.1s\u001b[0K\u001b[1G84.8 MiB [] 92% 0.1s\u001b[0K\u001b[1G84.8 MiB [] 93% 0.1s\u001b[0K\u001b[1G84.8 MiB [] 95% 0.1s\u001b[0K\u001b[1G84.8 MiB [] 97% 0.0s\u001b[0K\u001b[1G84.8 MiB [] 99% 0.0s\u001b[0K\u001b[1G84.8 MiB [] 100% 0.0s\u001b[0K\n",
            "Webkit 17.4 (playwright build v1967) downloaded to /root/.cache/ms-playwright/webkit-1967\n"
          ]
        }
      ],
      "source": [
        "! pip install -q langchain-openai langchain playwright beautifulsoup4 cohere nest_asyncio html2text\n",
        "! playwright install\n",
        "\n",
        "# Set env var OPENAI_API_KEY or load from a .env file:\n",
        "# import dotenv\n",
        "# dotenv.load_dotenv()"
      ]
    },
    {
      "cell_type": "markdown",
      "id": "50741083",
      "metadata": {
        "id": "50741083"
      },
      "source": [
        "Scraping HTML content using a headless instance of Chromium.\n",
        "\n",
        "* The async nature of the scraping process is handled using Python's asyncio library.\n",
        "* The actual interaction with the web pages is handled by Playwright."
      ]
    },
    {
      "cell_type": "code",
      "execution_count": 3,
      "id": "cd457cb1",
      "metadata": {
        "id": "cd457cb1"
      },
      "outputs": [],
      "source": [
        "from langchain_community.document_loaders import AsyncChromiumLoader\n",
        "from langchain_community.document_transformers import BeautifulSoupTransformer\n",
        "import nest_asyncio\n",
        "nest_asyncio.apply()\n",
        "\n",
        "# Load HTML\n",
        "loader = AsyncChromiumLoader([\"https://www.wsj.com\"])\n",
        "html = loader.load()"
      ]
    },
    {
      "cell_type": "markdown",
      "id": "2a879806",
      "metadata": {
        "id": "2a879806"
      },
      "source": [
        "Scrape text content tags such as `<p>, <li>, <div>, and <a>` tags from the HTML content:\n",
        "\n",
        "* `<p>`: The paragraph tag. It defines a paragraph in HTML and is used to group together related sentences and/or phrases.\n",
        "\n",
        "* `<li>`: The list item tag. It is used within ordered (`<ol>`) and unordered (`<ul>`) lists to define individual items within the list.\n",
        "\n",
        "* `<div>`: The division tag. It is a block-level element used to group other inline or block-level elements.\n",
        "\n",
        "* `<a>`: The anchor tag. It is used to define hyperlinks.\n",
        "\n",
        "* `<span>`:  an inline container used to mark up a part of a text, or a part of a document.\n",
        "\n",
        "For many news websites (e.g., WSJ, CNN), headlines and summaries are all in `<span>` tags."
      ]
    },
    {
      "cell_type": "code",
      "execution_count": 4,
      "id": "141f206b",
      "metadata": {
        "id": "141f206b"
      },
      "outputs": [],
      "source": [
        "# Transform\n",
        "bs_transformer = BeautifulSoupTransformer()\n",
        "docs_transformed = bs_transformer.transform_documents(html, tags_to_extract=[\"span\"])"
      ]
    },
    {
      "cell_type": "code",
      "source": [
        "html"
      ],
      "metadata": {
        "id": "arC23xbrwwwh",
        "outputId": "7c491427-d200-4068-981a-6419a2df51f6",
        "colab": {
          "base_uri": "https://localhost:8080/"
        }
      },
      "id": "arC23xbrwwwh",
      "execution_count": 5,
      "outputs": [
        {
          "output_type": "execute_result",
          "data": {
            "text/plain": [
              "[Document(page_content='', metadata={'source': 'https://www.wsj.com'})]"
            ]
          },
          "metadata": {},
          "execution_count": 5
        }
      ]
    },
    {
      "cell_type": "code",
      "execution_count": 6,
      "id": "73ddb234",
      "metadata": {
        "colab": {
          "base_uri": "https://localhost:8080/",
          "height": 36
        },
        "id": "73ddb234",
        "outputId": "f9e952b0-8a25-43e1-e611-afc093db73ea"
      },
      "outputs": [
        {
          "output_type": "execute_result",
          "data": {
            "text/plain": [
              "''"
            ],
            "application/vnd.google.colaboratory.intrinsic+json": {
              "type": "string"
            }
          },
          "metadata": {},
          "execution_count": 6
        }
      ],
      "source": [
        "# Result\n",
        "docs_transformed[0].page_content[0:500]"
      ]
    },
    {
      "cell_type": "markdown",
      "id": "7d26d185",
      "metadata": {
        "id": "7d26d185"
      },
      "source": [
        "These `Documents` now are staged for downstream usage in various LLM apps, as discussed below.\n",
        "\n",
        "## Loader\n",
        "\n",
        "### AsyncHtmlLoader\n",
        "\n",
        "The [AsyncHtmlLoader](/docs/integrations/document_loaders/async_html) uses the `aiohttp` library to make asynchronous HTTP requests, suitable for simpler and lightweight scraping.\n",
        "\n",
        "### AsyncChromiumLoader\n",
        "\n",
        "The [AsyncChromiumLoader](/docs/integrations/document_loaders/async_chromium) uses Playwright to launch a Chromium instance, which can handle JavaScript rendering and more complex web interactions.\n",
        "\n",
        "Chromium is one of the browsers supported by Playwright, a library used to control browser automation.\n",
        "\n",
        "Headless mode means that the browser is running without a graphical user interface, which is commonly used for web scraping."
      ]
    },
    {
      "cell_type": "code",
      "execution_count": 6,
      "id": "8941e855",
      "metadata": {
        "colab": {
          "base_uri": "https://localhost:8080/"
        },
        "id": "8941e855",
        "outputId": "4918c2df-749d-4168-c473-f5c96906bc45"
      },
      "outputs": [
        {
          "output_type": "stream",
          "name": "stderr",
          "text": [
            "Fetching pages: 100%|##########| 2/2 [00:00<00:00,  4.37it/s]\n"
          ]
        }
      ],
      "source": [
        "from langchain_community.document_loaders import AsyncHtmlLoader\n",
        "\n",
        "urls = [\"https://www.espn.com\", \"https://lilianweng.github.io/posts/2023-06-23-agent/\"]\n",
        "loader = AsyncHtmlLoader(urls)\n",
        "docs = loader.load()"
      ]
    },
    {
      "cell_type": "markdown",
      "id": "e47f4bf0",
      "metadata": {
        "id": "e47f4bf0"
      },
      "source": [
        "## Transformer\n",
        "\n",
        "### HTML2Text\n",
        "\n",
        "[HTML2Text](/docs/integrations/document_transformers/html2text) provides a straightforward conversion of HTML content into plain text (with markdown-like formatting) without any specific tag manipulation.\n",
        "\n",
        "It's best suited for scenarios where the goal is to extract human-readable text without needing to manipulate specific HTML elements.\n",
        "\n",
        "### Beautiful Soup\n",
        "\n",
        "Beautiful Soup offers more fine-grained control over HTML content, enabling specific tag extraction, removal, and content cleaning.\n",
        "\n",
        "It's suited for cases where you want to extract specific information and clean up the HTML content according to your needs."
      ]
    },
    {
      "cell_type": "code",
      "execution_count": 7,
      "id": "99a7e2a8",
      "metadata": {
        "colab": {
          "base_uri": "https://localhost:8080/"
        },
        "id": "99a7e2a8",
        "outputId": "419309f5-ee4c-4698-f904-bb4619bc5cdd"
      },
      "outputs": [
        {
          "output_type": "stream",
          "name": "stderr",
          "text": [
            "Fetching pages: 100%|##########| 2/2 [00:00<00:00,  3.48it/s]\n"
          ]
        }
      ],
      "source": [
        "from langchain_community.document_loaders import AsyncHtmlLoader\n",
        "\n",
        "urls = [\"https://www.espn.com\", \"https://lilianweng.github.io/posts/2023-06-23-agent/\"]\n",
        "loader = AsyncHtmlLoader(urls)\n",
        "docs = loader.load()"
      ]
    },
    {
      "cell_type": "code",
      "execution_count": 8,
      "id": "a2cd3e8d",
      "metadata": {
        "colab": {
          "base_uri": "https://localhost:8080/",
          "height": 73
        },
        "id": "a2cd3e8d",
        "outputId": "5c27bbd6-7139-43f5-fea9-bd53cbedc409"
      },
      "outputs": [
        {
          "output_type": "execute_result",
          "data": {
            "text/plain": [
              "'Skip to main content  Skip to navigation\\n\\n<\\n\\n>\\n\\nMenu\\n\\n## ESPN\\n\\n  *   *   * scores\\n\\n  * NFL\\n  * NBA\\n  * NCAAM\\n  * NCAAW\\n  * NHL\\n  * Soccer\\n  * …\\n\\n    * MLB\\n    * NCAAF\\n    * Sports Betting\\n    * Boxing\\n    * CFL\\n    * NCAA\\n    * Cricket\\n    * F1\\n    * Golf\\n    * Horse\\n    * LLWS\\n    * MMA\\n    * NASCAR\\n    * NBA G League\\n    * Olympic Sports\\n    * PLL\\n    * Professional Wrestling\\n    * Racing\\n    * RN BB\\n    * RN FB\\n    * Rugby\\n    * Tennis\\n    * WNBA\\n    * X Games\\n    * XFL\\n\\n  * More ESPN\\n  * Fan'"
            ],
            "application/vnd.google.colaboratory.intrinsic+json": {
              "type": "string"
            }
          },
          "metadata": {},
          "execution_count": 8
        }
      ],
      "source": [
        "from langchain_community.document_transformers import Html2TextTransformer\n",
        "\n",
        "html2text = Html2TextTransformer()\n",
        "docs_transformed = html2text.transform_documents(docs)\n",
        "docs_transformed[0].page_content[0:500]"
      ]
    },
    {
      "cell_type": "markdown",
      "id": "8aef9861",
      "metadata": {
        "id": "8aef9861"
      },
      "source": [
        "## Scraping with extraction\n",
        "\n",
        "### LLM with function calling\n",
        "\n",
        "Web scraping is challenging for many reasons.\n",
        "\n",
        "One of them is the changing nature of modern websites' layouts and content, which requires modifying scraping scripts to accommodate the changes.\n",
        "\n",
        "Using Function (e.g., OpenAI) with an extraction chain, we avoid having to change your code constantly when websites change.\n",
        "\n",
        "We're using `gpt-3.5-turbo-0613` to guarantee access to OpenAI Functions feature (although this might be available to everyone by time of writing).\n",
        "\n",
        "We're also keeping `temperature` at `0` to keep randomness of the LLM down."
      ]
    },
    {
      "cell_type": "code",
      "source": [
        "from langchain_openai import ChatOpenAI\n",
        "\n",
        "llm = ChatOpenAI(temperature=0, model=\"gpt-3.5-turbo-0613\")"
      ],
      "metadata": {
        "id": "enJQqEN40z8h"
      },
      "id": "enJQqEN40z8h",
      "execution_count": null,
      "outputs": []
    },
    {
      "cell_type": "markdown",
      "id": "fc5757ce",
      "metadata": {
        "id": "fc5757ce"
      },
      "source": [
        "### Define a schema\n",
        "\n",
        "Next, you define a schema to specify what kind of data you want to extract.\n",
        "\n",
        "Here, the key names matter as they tell the LLM what kind of information they want.\n",
        "\n",
        "So, be as detailed as possible.\n",
        "\n",
        "In this example, we want to scrape only news article's name and summary from The Wall Street Journal website."
      ]
    },
    {
      "cell_type": "code",
      "execution_count": 10,
      "id": "95506f8e",
      "metadata": {
        "colab": {
          "base_uri": "https://localhost:8080/"
        },
        "id": "95506f8e",
        "outputId": "82ec153c-97cc-44e9-9663-34cebae162ce"
      },
      "outputs": [
        {
          "output_type": "stream",
          "name": "stderr",
          "text": [
            "/usr/local/lib/python3.10/dist-packages/sqlalchemy/sql/ddl.py:30: RuntimeWarning: coroutine 'AsyncChromiumLoader.ascrape_playwright' was never awaited\n",
            "  from .elements import ClauseElement\n",
            "RuntimeWarning: Enable tracemalloc to get the object allocation traceback\n"
          ]
        }
      ],
      "source": [
        "from langchain.chains import create_extraction_chain\n",
        "\n",
        "schema = {\n",
        "    \"properties\": {\n",
        "        \"news_article_title\": {\"type\": \"string\"},\n",
        "        \"news_article_summary\": {\"type\": \"string\"},\n",
        "    },\n",
        "    \"required\": [\"news_article_title\", \"news_article_summary\"],\n",
        "}\n",
        "\n",
        "\n",
        "def extract(content: str, schema: dict):\n",
        "    return create_extraction_chain(schema=schema, llm=llm).run(content)"
      ]
    },
    {
      "cell_type": "markdown",
      "id": "97f7de42",
      "metadata": {
        "id": "97f7de42"
      },
      "source": [
        "### Run the web scraper w/ BeautifulSoup\n",
        "\n",
        "As shown above, we'll be using `BeautifulSoupTransformer`."
      ]
    },
    {
      "cell_type": "code",
      "source": [
        "import pprint\n",
        "\n",
        "from langchain.text_splitter import RecursiveCharacterTextSplitter\n",
        "\n",
        "\n",
        "def scrape_with_playwright(urls, schema):\n",
        "    loader = AsyncChromiumLoader(urls)\n",
        "    docs = loader.load()\n",
        "    bs_transformer = BeautifulSoupTransformer()\n",
        "    docs_transformed = bs_transformer.transform_documents(\n",
        "        docs, tags_to_extract=[\"span\"]\n",
        "    )\n",
        "    print(\"Extracting content with LLM\")\n",
        "\n",
        "    # Grab the first 1000 tokens of the site\n",
        "    splitter = RecursiveCharacterTextSplitter.from_tiktoken_encoder(\n",
        "        chunk_size=1000, chunk_overlap=0\n",
        "    )\n",
        "    splits = splitter.split_documents(docs_transformed)\n",
        "\n",
        "    # Process the first split\n",
        "    extracted_content = extract(schema=schema, content=splits[0].page_content)\n",
        "    pprint.pprint(extracted_content)\n",
        "    return extracted_content\n",
        "\n",
        "\n",
        "urls = [\"https://www.wsj.com\"]\n",
        "extracted_content = scrape_with_playwright(urls, schema=schema)"
      ],
      "metadata": {
        "id": "0vz9GAZG09jG"
      },
      "id": "0vz9GAZG09jG",
      "execution_count": null,
      "outputs": []
    },
    {
      "cell_type": "markdown",
      "id": "a5a6f11e",
      "metadata": {
        "id": "a5a6f11e"
      },
      "source": [
        "## Research automation\n",
        "\n",
        "Related to scraping, we may want to answer specific questions using searched content.\n",
        "\n",
        "We can automate the process of [web research](https://blog.langchain.dev/automating-web-research/) using a retriever, such as the `WebResearchRetriever` ([docs](https://python.langchain.com/docs/modules/data_connection/retrievers/web_research)).\n",
        "\n",
        "![Image description](https://github.com/langchain-ai/langchain/blob/master/docs/static/img/web_research.png?raw=1)\n",
        "\n",
        "Copy requirements [from here](https://github.com/langchain-ai/web-explorer/blob/main/requirements.txt):\n",
        "\n",
        "`pip install -r requirements.txt`\n",
        "\n",
        "Set `GOOGLE_CSE_ID` and `GOOGLE_API_KEY`."
      ]
    },
    {
      "cell_type": "code",
      "execution_count": null,
      "id": "414f0d41",
      "metadata": {
        "id": "414f0d41"
      },
      "outputs": [],
      "source": [
        "from langchain.retrievers.web_research import WebResearchRetriever\n",
        "from langchain_community.utilities import GoogleSearchAPIWrapper\n",
        "from langchain_community.vectorstores import Chroma\n",
        "from langchain_openai import ChatOpenAI, OpenAIEmbeddings"
      ]
    },
    {
      "cell_type": "code",
      "execution_count": null,
      "id": "5d1ce098",
      "metadata": {
        "id": "5d1ce098"
      },
      "outputs": [],
      "source": [
        "# Vectorstore\n",
        "vectorstore = Chroma(\n",
        "    embedding_function=OpenAIEmbeddings(), persist_directory=\"./chroma_db_oai\"\n",
        ")\n",
        "\n",
        "# LLM\n",
        "llm = ChatOpenAI(temperature=0)\n",
        "\n",
        "# Search\n",
        "search = GoogleSearchAPIWrapper()"
      ]
    },
    {
      "cell_type": "markdown",
      "id": "6d808b9d",
      "metadata": {
        "id": "6d808b9d"
      },
      "source": [
        "Initialize retriever with the above tools to:\n",
        "    \n",
        "* Use an LLM to generate multiple relevant search queries (one LLM call)\n",
        "* Execute a search for each query\n",
        "* Choose the top K links per query  (multiple search calls in parallel)\n",
        "* Load the information from all chosen links (scrape pages in parallel)\n",
        "* Index those documents into a vectorstore\n",
        "* Find the most relevant documents for each original generated search query"
      ]
    },
    {
      "cell_type": "code",
      "execution_count": null,
      "id": "e3e3a589",
      "metadata": {
        "id": "e3e3a589"
      },
      "outputs": [],
      "source": [
        "# Initialize\n",
        "web_research_retriever = WebResearchRetriever.from_llm(\n",
        "    vectorstore=vectorstore, llm=llm, search=search\n",
        ")"
      ]
    },
    {
      "cell_type": "code",
      "execution_count": null,
      "id": "20655b74",
      "metadata": {
        "id": "20655b74",
        "outputId": "136589f1-5307-4ec2-d18c-5c1f8d9644c3"
      },
      "outputs": [
        {
          "name": "stderr",
          "output_type": "stream",
          "text": [
            "INFO:langchain.retrievers.web_research:Generating questions for Google Search ...\n",
            "INFO:langchain.retrievers.web_research:Questions for Google Search (raw): {'question': 'How do LLM Powered Autonomous Agents work?', 'text': LineList(lines=['1. What is the functioning principle of LLM Powered Autonomous Agents?\\n', '2. How do LLM Powered Autonomous Agents operate?\\n'])}\n",
            "INFO:langchain.retrievers.web_research:Questions for Google Search: ['1. What is the functioning principle of LLM Powered Autonomous Agents?\\n', '2. How do LLM Powered Autonomous Agents operate?\\n']\n",
            "INFO:langchain.retrievers.web_research:Searching for relevant urls ...\n",
            "INFO:langchain.retrievers.web_research:Searching for relevant urls ...\n",
            "INFO:langchain.retrievers.web_research:Search results: [{'title': 'LLM Powered Autonomous Agents | Hacker News', 'link': 'https://news.ycombinator.com/item?id=36488871', 'snippet': 'Jun 26, 2023 ... Exactly. A temperature of 0 means you always pick the highest probability token (i.e. the \"max\" function), while a temperature of 1 means you\\xa0...'}]\n",
            "INFO:langchain.retrievers.web_research:Searching for relevant urls ...\n",
            "INFO:langchain.retrievers.web_research:Search results: [{'title': \"LLM Powered Autonomous Agents | Lil'Log\", 'link': 'https://lilianweng.github.io/posts/2023-06-23-agent/', 'snippet': 'Jun 23, 2023 ... Task decomposition can be done (1) by LLM with simple prompting like \"Steps for XYZ.\\\\n1.\" , \"What are the subgoals for achieving XYZ?\" , (2) by\\xa0...'}]\n",
            "INFO:langchain.retrievers.web_research:New URLs to load: []\n",
            "INFO:langchain.retrievers.web_research:Grabbing most relevant splits from urls...\n"
          ]
        },
        {
          "data": {
            "text/plain": [
              "{'question': 'How do LLM Powered Autonomous Agents work?',\n",
              " 'answer': \"LLM-powered autonomous agents work by using LLM as the agent's brain, complemented by several key components such as planning, memory, and tool use. In terms of planning, the agent breaks down large tasks into smaller subgoals and can reflect and refine its actions based on past experiences. Memory is divided into short-term memory, which is used for in-context learning, and long-term memory, which allows the agent to retain and recall information over extended periods. Tool use involves the agent calling external APIs for additional information. These agents have been used in various applications, including scientific discovery and generative agents simulation.\",\n",
              " 'sources': ''}"
            ]
          },
          "execution_count": 44,
          "metadata": {},
          "output_type": "execute_result"
        }
      ],
      "source": [
        "# Run\n",
        "import logging\n",
        "\n",
        "logging.basicConfig()\n",
        "logging.getLogger(\"langchain.retrievers.web_research\").setLevel(logging.INFO)\n",
        "from langchain.chains import RetrievalQAWithSourcesChain\n",
        "\n",
        "user_input = \"How do LLM Powered Autonomous Agents work?\"\n",
        "qa_chain = RetrievalQAWithSourcesChain.from_chain_type(\n",
        "    llm, retriever=web_research_retriever\n",
        ")\n",
        "result = qa_chain({\"question\": user_input})\n",
        "result"
      ]
    },
    {
      "cell_type": "markdown",
      "id": "7a940df1",
      "metadata": {
        "id": "7a940df1"
      },
      "source": [
        "### Going deeper\n",
        "\n",
        "* Here's a [app](https://github.com/langchain-ai/web-explorer/tree/main) that wraps this retriever with a lighweight UI."
      ]
    },
    {
      "cell_type": "markdown",
      "id": "312c399e",
      "metadata": {
        "id": "312c399e"
      },
      "source": [
        "## Question answering over a website\n",
        "\n",
        "To answer questions over a specific website, you can use Apify's [Website Content Crawler](https://apify.com/apify/website-content-crawler) Actor, which can deeply crawl websites such as documentation, knowledge bases, help centers, or blogs,\n",
        "and extract text content from the web pages.\n",
        "\n",
        "In the example below, we will deeply crawl the Python documentation of LangChain's Chat LLM models and answer a question over it.\n",
        "\n",
        "First, install the requirements\n",
        "`pip install apify-client langchain-openai langchain chromadb tiktoken`\n",
        "\n",
        "Next, set `OPENAI_API_KEY` and `APIFY_API_TOKEN` in your environment variables.\n",
        "\n",
        "The full code follows:"
      ]
    },
    {
      "cell_type": "code",
      "execution_count": null,
      "id": "9b08da5e",
      "metadata": {
        "id": "9b08da5e",
        "outputId": "2fcceb9e-e251-4493-dd3f-1faab5209410"
      },
      "outputs": [
        {
          "name": "stdout",
          "output_type": "stream",
          "text": [
            " Yes, LangChain offers integration with OpenAI chat models. You can use the ChatOpenAI class to interact with OpenAI models.\n"
          ]
        }
      ],
      "source": [
        "from langchain.docstore.document import Document\n",
        "from langchain.indexes import VectorstoreIndexCreator\n",
        "from langchain_community.utilities import ApifyWrapper\n",
        "\n",
        "apify = ApifyWrapper()\n",
        "# Call the Actor to obtain text from the crawled webpages\n",
        "loader = apify.call_actor(\n",
        "    actor_id=\"apify/website-content-crawler\",\n",
        "    run_input={\n",
        "        \"startUrls\": [{\"url\": \"https://python.langchain.com/docs/integrations/chat/\"}]\n",
        "    },\n",
        "    dataset_mapping_function=lambda item: Document(\n",
        "        page_content=item[\"text\"] or \"\", metadata={\"source\": item[\"url\"]}\n",
        "    ),\n",
        ")\n",
        "\n",
        "# Create a vector store based on the crawled data\n",
        "index = VectorstoreIndexCreator().from_loaders([loader])\n",
        "\n",
        "# Query the vector store\n",
        "query = \"Are any OpenAI chat models integrated in LangChain?\"\n",
        "result = index.query(query)\n",
        "print(result)"
      ]
    }
  ],
  "metadata": {
    "kernelspec": {
      "display_name": "Python 3 (ipykernel)",
      "language": "python",
      "name": "python3"
    },
    "language_info": {
      "codemirror_mode": {
        "name": "ipython",
        "version": 3
      },
      "file_extension": ".py",
      "mimetype": "text/x-python",
      "name": "python",
      "nbconvert_exporter": "python",
      "pygments_lexer": "ipython3",
      "version": "3.9.1"
    },
    "colab": {
      "provenance": [],
      "include_colab_link": true
    }
  },
  "nbformat": 4,
  "nbformat_minor": 5
}