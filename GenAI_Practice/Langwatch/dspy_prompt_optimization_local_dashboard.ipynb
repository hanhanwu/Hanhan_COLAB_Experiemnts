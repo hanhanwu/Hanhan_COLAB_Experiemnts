{
 "cells": [
  {
   "cell_type": "markdown",
   "id": "6ffb2388",
   "metadata": {},
   "source": [
    "# DsPy Prompt Optimization with Local Langwatch\n",
    "\n",
    "* Notes\n",
    "  * In order to launch Langwatch locally, I need to comment the resources limit in `compse.yaml`"
   ]
  }
 ],
 "metadata": {
  "language_info": {
   "name": "python"
  }
 },
 "nbformat": 4,
 "nbformat_minor": 5
}
