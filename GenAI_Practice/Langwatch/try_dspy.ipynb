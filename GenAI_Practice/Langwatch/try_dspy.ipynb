{
  "cells": [
    {
      "cell_type": "markdown",
      "metadata": {
        "colab_type": "text",
        "id": "view-in-github"
      },
      "source": [
        "<a href=\"https://colab.research.google.com/github/hanhanwu/Hanhan_COLAB_Experiemnts/blob/master/GenAI_Practice/Langwatch/try_dspy.ipynb\" target=\"_parent\"><img src=\"https://colab.research.google.com/assets/colab-badge.svg\" alt=\"Open In Colab\"/></a>"
      ]
    },
    {
      "cell_type": "markdown",
      "metadata": {
        "id": "vtMIgQScxn3z"
      },
      "source": [
        "# Try DsPy for RAG Prompt Optimization\n"
      ]
    },
    {
      "cell_type": "code",
      "execution_count": 1,
      "metadata": {
        "id": "bv95l62uxm4-"
      },
      "outputs": [],
      "source": [
        "%%capture --no-stderr\n",
        "!pip install --upgrade nbformat\n",
        "%pip install -U --quiet dspy"
      ]
    },
    {
      "cell_type": "markdown",
      "metadata": {
        "id": "PTn0H1e35Gn9"
      },
      "source": [
        "## Prepare LLM\n",
        "\n",
        "* `http://20.102.90.50:2017/wiki17_abstracts` provides the sources for retrieval here"
      ]
    },
    {
      "cell_type": "code",
      "execution_count": null,
      "metadata": {
        "colab": {
          "base_uri": "https://localhost:8080/"
        },
        "id": "wt49L6d9yCBt",
        "outputId": "48096670-4094-4868-f597-54d763a807e0"
      },
      "outputs": [
        {
          "name": "stdout",
          "output_type": "stream",
          "text": [
            "LLM test response: ['Silicon Valley is located in the southern part of the San Francisco Bay Area in **Northern California, United States**.\\n']\n"
          ]
        }
      ],
      "source": [
        "import os\n",
        "import pandas as pd\n",
        "from getpass import getpass\n",
        "import dspy\n",
        "from pprint import pprint\n",
        "from google.colab import userdata\n",
        "from dspy.datasets import HotPotQA\n",
        "from dspy.teleprompt import MIPROv2\n",
        "\n",
        "\n",
        "# OPENAI_API_KEY = userdata.get('OPENAI_API_KEY')\n",
        "# llm = dspy.LM(\"openai/gpt-4.1-nano\", api_key=OPENAI_API_KEY)\n",
        "\n",
        "GOOGLE_AI_API_KEY = userdata.get('GOOGLE_AI_API_KEY')\n",
        "llm = dspy.LM(\"gemini/gemini-2.0-flash\", api_key=GOOGLE_AI_API_KEY)\n",
        "print(\"LLM test response:\", llm(\"Where's Silicon Valley?\"))\n",
        "\n",
        "# the retrieval model\n",
        "colbertv2_wiki17_abstracts = dspy.ColBERTv2(\n",
        "    url=\"http://20.102.90.50:2017/wiki17_abstracts\"\n",
        ")\n",
        "dspy.settings.configure(lm=llm, rm=colbertv2_wiki17_abstracts)"
      ]
    },
    {
      "cell_type": "markdown",
      "metadata": {
        "id": "yZh_Oz8RRRFD"
      },
      "source": [
        "## Preparing Dataset"
      ]
    },
    {
      "cell_type": "code",
      "execution_count": null,
      "metadata": {
        "colab": {
          "base_uri": "https://localhost:8080/",
          "height": 478,
          "referenced_widgets": [
            "53bf3b19d7c84e478653db8c7f05a19b",
            "52cc563e269246d6bc354c762710d029",
            "84ca470da6b240129a0da7b3cb04e2bb",
            "20f73f79950a455e8d3e1c1f0b428927",
            "e697094c2cfb4705a18b8d5346717969",
            "732cfcd98c8445bea773a0908bbecaf3",
            "5d350eceaec44e3282e4e9080a14b1b4",
            "1f0a6a75af764379a325eecb88213ff4",
            "8be2d7fada3d43ccae24d79121cd17ab",
            "24717a5a62614d9cae4f84a6c4929c0b",
            "923dcb85c2c5408fbb39af2031c59e10",
            "a07d2ad2d6224389ae615545f4610136",
            "d724de01c1c04d88994c2ea4b3ea2da2",
            "a3eac6212f65436182aaab02c7a12caa",
            "6293795f32ce43ca835df1362feee0e2",
            "53819a7ce783448e91dbe876d6b733fe",
            "35a88645f48648bd988980fa022c86c9",
            "8475d20a0c974b95b021a0cc1b124748",
            "23d2297847814183b74eb926efc2586b",
            "63c70cf387064afa87e116df47f3246e",
            "40f3430eb9024a90950cd808ca1f4243",
            "af91b3ce38c745efbff9d31392b6d14d",
            "d9adfe6aa7f142da909aed87325067ce",
            "63ee171c05a04f9ab0a05eec75c47707",
            "0dfbf4707bf34a2badf1f3886065e161",
            "64af3effc89449e2b74c2769e3fa4131",
            "8aeeb72ccc6945309757ebf2e5723c1d",
            "f8e81e3e9d1346aa857f07944a1baf4e",
            "a108992414c44877977e046d9e517003",
            "1eb57c8a6a8d40e781a07159f3398203",
            "143fe28a3c3042a6ba66c4bc9e8cea91",
            "e28348d9aa044c6f9caec4ace56bb934",
            "a3c5a7d29fce4ce6bd140236760bdaad",
            "cc754078900f44248bf0f7881c4942dc",
            "0a5459944c174f29b7d44ad85cc8e7e2",
            "fc0efe0e3bfe49d8bb786be361091867",
            "ff453119535d452490a4f3ad032e7252",
            "6d925446e39c40b4940137155c31a378",
            "bbf92126a9514e62b6168cd24817af53",
            "f1448d5594a843bf995c117e653e3579",
            "c904ac120e5e46f7bd780a3b670b6d85",
            "38def14144df4a81805f419bf23798ab",
            "b2d8bc1c6b014ef091f778d5296b6a85",
            "07b0c2b03c2a42f5a2f3f0fe469ee023",
            "82a439453acd471b971e8032e0307bb3",
            "bbbbbe0fc6814e8e8994fbb46b9f65c1",
            "5273ab5d31494e588876cab816b88ef0",
            "d635f782008d4f4fafd48c57fb2ab0ba",
            "f605e666b2f4482eb6adb379373f26ad",
            "4c17b37e03434730a3efda8de07624c9",
            "1d0672e4190e4d939fd32f0cebbbc014",
            "0cc20dfc43ac4525ac00e51adaa23e9b",
            "1ef3384a91844b99b2e951a8feac235f",
            "5f288f8d262b478da8d04b8af716c5ea",
            "68412adf635f4d9bab159047e1ce48fa",
            "c74c337c0ca4462b81eb6c431700fd17",
            "ac5f02b72a984e83933773908103c285",
            "aaeca3171832406ca60e6fb7daf7f817",
            "3fb101a718ab49f89aa386219e885e18",
            "6005065f63bf4cc2864527f7e46867b2",
            "95e81dac9fb349a590320adbb73cb6a7",
            "e56ea68fd8b04f6691dc5ed26bfc8270",
            "1ade2386d1ed41b1a966b7a11fa2bde2",
            "a235f72e1b3447f0bb8cf27384ce265a",
            "c4a81630a1f446a38c804389c2490309",
            "eb89dc30bcf5483496850db199112e4b",
            "b7b48923057f45a3867bc0207c315772",
            "e0e95a69a6ce4b9bbec2421e5dd625b9",
            "03299b7a061c49ad9d2d26ddf6d8b444",
            "47e7c3f227ce4ef3b1bf90ca6fdddc15",
            "44283141635648278e06db557a64270d",
            "044df148432e413fa85f6cccd3b1c0cc",
            "bc49d6274cd74cecb600d2125717172c",
            "7c87584e8fad46ce89146ec2e10dd0d4",
            "15108c298123415aa217a93fc01229a9",
            "a7cdcfeeb7354b96a534bc657598fc79",
            "6e45fda0945a4471997cb194eb03e619",
            "4cb1e0ccb61a4de9a3cc18bfc2565c76",
            "af166c2a3cf74f51861886b5a1169a90",
            "be81f86925874e51ba9864641be514c4",
            "33fb9d82d8274cd0a86b3c1c816d8fa7",
            "882e9b15e7fa49b7950ce3652dcf9651",
            "591950c2d6e7476db0f3d46a96f848f3",
            "0c9c5881dba6444d85bb1cb20795da6f",
            "35532fd6e0f44d0f9edc5a0b8540ad3f",
            "90e8f76c32ec4649a0d3b786236b7de2",
            "65fc515536404325bc9475ed8ce0e6c6",
            "ca73e53146444c7c9675b75b031e19d7"
          ]
        },
        "id": "EREveLxr5FJN",
        "outputId": "e33300bd-9137-436c-f30c-3df1c6e4d613"
      },
      "outputs": [
        {
          "name": "stderr",
          "output_type": "stream",
          "text": [
            "/usr/local/lib/python3.11/dist-packages/huggingface_hub/utils/_auth.py:94: UserWarning: \n",
            "The secret `HF_TOKEN` does not exist in your Colab secrets.\n",
            "To authenticate with the Hugging Face Hub, create a token in your settings tab (https://huggingface.co/settings/tokens), set it as secret in your Google Colab and restart your session.\n",
            "You will be able to reuse this secret in all of your notebooks.\n",
            "Please note that authentication is recommended but still optional to access public models or datasets.\n",
            "  warnings.warn(\n"
          ]
        },
        {
          "data": {
            "application/vnd.jupyter.widget-view+json": {
              "model_id": "53bf3b19d7c84e478653db8c7f05a19b",
              "version_major": 2,
              "version_minor": 0
            },
            "text/plain": [
              "README.md:   0%|          | 0.00/9.19k [00:00<?, ?B/s]"
            ]
          },
          "metadata": {},
          "output_type": "display_data"
        },
        {
          "data": {
            "application/vnd.jupyter.widget-view+json": {
              "model_id": "a07d2ad2d6224389ae615545f4610136",
              "version_major": 2,
              "version_minor": 0
            },
            "text/plain": [
              "hotpot_qa.py:   0%|          | 0.00/6.42k [00:00<?, ?B/s]"
            ]
          },
          "metadata": {},
          "output_type": "display_data"
        },
        {
          "data": {
            "application/vnd.jupyter.widget-view+json": {
              "model_id": "d9adfe6aa7f142da909aed87325067ce",
              "version_major": 2,
              "version_minor": 0
            },
            "text/plain": [
              "Downloading data:   0%|          | 0.00/566M [00:00<?, ?B/s]"
            ]
          },
          "metadata": {},
          "output_type": "display_data"
        },
        {
          "data": {
            "application/vnd.jupyter.widget-view+json": {
              "model_id": "cc754078900f44248bf0f7881c4942dc",
              "version_major": 2,
              "version_minor": 0
            },
            "text/plain": [
              "Downloading data:   0%|          | 0.00/47.5M [00:00<?, ?B/s]"
            ]
          },
          "metadata": {},
          "output_type": "display_data"
        },
        {
          "data": {
            "application/vnd.jupyter.widget-view+json": {
              "model_id": "82a439453acd471b971e8032e0307bb3",
              "version_major": 2,
              "version_minor": 0
            },
            "text/plain": [
              "Downloading data:   0%|          | 0.00/46.2M [00:00<?, ?B/s]"
            ]
          },
          "metadata": {},
          "output_type": "display_data"
        },
        {
          "data": {
            "application/vnd.jupyter.widget-view+json": {
              "model_id": "c74c337c0ca4462b81eb6c431700fd17",
              "version_major": 2,
              "version_minor": 0
            },
            "text/plain": [
              "Generating train split:   0%|          | 0/90447 [00:00<?, ? examples/s]"
            ]
          },
          "metadata": {},
          "output_type": "display_data"
        },
        {
          "data": {
            "application/vnd.jupyter.widget-view+json": {
              "model_id": "b7b48923057f45a3867bc0207c315772",
              "version_major": 2,
              "version_minor": 0
            },
            "text/plain": [
              "Generating validation split:   0%|          | 0/7405 [00:00<?, ? examples/s]"
            ]
          },
          "metadata": {},
          "output_type": "display_data"
        },
        {
          "data": {
            "application/vnd.jupyter.widget-view+json": {
              "model_id": "4cb1e0ccb61a4de9a3cc18bfc2565c76",
              "version_major": 2,
              "version_minor": 0
            },
            "text/plain": [
              "Generating test split:   0%|          | 0/7405 [00:00<?, ? examples/s]"
            ]
          },
          "metadata": {},
          "output_type": "display_data"
        },
        {
          "name": "stdout",
          "output_type": "stream",
          "text": [
            "\n",
            "32 50\n",
            "Example({'question': 'At My Window was released by which American singer-songwriter?', 'answer': 'John Townes Van Zandt'}) (input_keys={'question'})\n",
            "Example({'question': 'Pehchaan: The Face of Truth stars Vinod Khanna, Rati Agnihotri and which Indian actress, producer, and former model who also produced the film?', 'answer': 'Raveena Tandon', 'gold_titles': {'Raveena Tandon', 'Pehchaan: The Face of Truth'}}) (input_keys={'question'})\n"
          ]
        }
      ],
      "source": [
        "dataset = HotPotQA(train_seed=1, train_size=32, eval_seed=2025, dev_size=50, test_size=0)\n",
        "trainset = [x.with_inputs('question') for x in dataset.train]\n",
        "devset = [x.with_inputs('question') for x in dataset.dev]\n",
        "\n",
        "print()\n",
        "print(len(trainset), len(devset))\n",
        "print(trainset[0])\n",
        "print(devset[0])"
      ]
    },
    {
      "cell_type": "markdown",
      "metadata": {
        "id": "eDMFnJv4R4Ez"
      },
      "source": [
        "## Defining DsPy RAG"
      ]
    },
    {
      "cell_type": "code",
      "execution_count": 4,
      "metadata": {
        "colab": {
          "base_uri": "https://localhost:8080/"
        },
        "id": "gtwHn_RuRVaF",
        "outputId": "641e50f8-e681-4c39-e498-4a3c01b2d607"
      },
      "outputs": [
        {
          "name": "stdout",
          "output_type": "stream",
          "text": [
            "[Devset] Question: Twelve Inches is a compilation album by which 1980s British band?\n",
            "[Devset] Answer: Frankie Goes to Hollywood\n",
            "[Devset] Relevant Wikipedia Titles: {'Twelve Inches', 'Frankie Goes to Hollywood'}\n",
            "\n",
            "[Prediction] Question: Twelve Inches is a compilation album by which 1980s British band?\n",
            "[Prediction] Predicted Answer: Soft Cell, Bananarama, Spandau Ballet\n",
            "[Prediction] Reasoning: The question asks which 1980s British band released a compilation album called \"Twelve Inches\". I need to find a band that matches both criteria.\n",
            "The context provides three albums with \"Twelve Inches\" in the title: \"The Twelve Inch Singles\" by Soft Cell, \"The Twelve Inches of Bananarama\" by Bananarama, and \"The Twelve Inch Mixes\" by Spandau Ballet.\n",
            "Soft Cell, Bananarama, and Spandau Ballet are all British bands from the 1980s.\n"
          ]
        }
      ],
      "source": [
        "class GenerateAnswer(dspy.Signature):\n",
        "    \"\"\"Answer questions with short factoid answers.\"\"\"\n",
        "    context = dspy.InputField(desc=\"may contain relevant facts\")\n",
        "    question = dspy.InputField()\n",
        "    answer = dspy.OutputField(desc=\"often between 1 and 5 words\")\n",
        "\n",
        "\n",
        "class RAG(dspy.Module):\n",
        "    def __init__(self, num_passages=3):\n",
        "        super().__init__()\n",
        "        self.retrieve = dspy.Retrieve(k=num_passages)\n",
        "        self.generate_answer = dspy.ChainOfThought(GenerateAnswer)\n",
        "\n",
        "    def forward(self, question):\n",
        "        context = self.retrieve(question).passages\n",
        "        prediction = self.generate_answer(context=context, question=question)\n",
        "        return dspy.Prediction(context=context,\n",
        "                               answer=prediction.answer,\n",
        "                               reasoning=prediction.reasoning)\n",
        "\n",
        "\n",
        "dev_example = devset[12]\n",
        "print(f\"[Devset] Question: {dev_example.question}\")\n",
        "print(f\"[Devset] Answer: {dev_example.answer}\")\n",
        "print(f\"[Devset] Relevant Wikipedia Titles: {dev_example.gold_titles}\")\n",
        "print()\n",
        "\n",
        "generate_answer = RAG()\n",
        "pred = generate_answer(question=dev_example.question)\n",
        "print(f\"[Prediction] Question: {dev_example.question}\")\n",
        "print(f\"[Prediction] Predicted Answer: {pred.answer}\")\n",
        "print(f\"[Prediction] Reasoning: {pred.reasoning}\")"
      ]
    },
    {
      "cell_type": "code",
      "execution_count": null,
      "metadata": {
        "collapsed": true,
        "id": "zomfBJNbFy0D"
      },
      "outputs": [],
      "source": [
        "trial_logs = []\n",
        "\n",
        "def validate_context_and_answer(example, prediction):\n",
        "    gold = example.answer.strip().lower()\n",
        "    pred = prediction.answer.strip().lower()\n",
        "    score = int(gold == pred)\n",
        "\n",
        "    # Format similar to Langwatch's internal logging\n",
        "    log_entry = {\n",
        "        \"input\": {\n",
        "            \"question\": example.question,\n",
        "            \"context\": getattr(example, \"context\", \"\")\n",
        "        },\n",
        "        \"output\": {\n",
        "            \"answer\": pred\n",
        "        },\n",
        "        # Include prediction trace (as dict if possible)\n",
        "        \"trace\": prediction.__dict__ if hasattr(prediction, \"__dict__\") else str(prediction),\n",
        "        \"score\": score,\n",
        "        \"optimizer_name\": optimizer.__class__.__name__,\n",
        "    }\n",
        "    trial_logs.append(log_entry)\n",
        "\n",
        "    print(f\"[Trial] Q: {example.question} | Pred: {pred} | GT: {gold} | Score: {score}\")\n",
        "    return score\n",
        "\n",
        "\n",
        "optimizer = MIPROv2(\n",
        "    metric=validate_context_and_answer,\n",
        "    prompt_model=llm,\n",
        "    task_model=llm,\n",
        "    num_candidates=2,  # number of proposed instructions\n",
        "    init_temperature=0.7,\n",
        "    auto=None,\n",
        ")\n",
        "\n",
        "\n",
        "compiled_rag = optimizer.compile(\n",
        "    RAG(),\n",
        "    trainset=trainset,\n",
        "    num_trials=5,\n",
        "    max_bootstrapped_demos=2,\n",
        "    max_labeled_demos=3,\n",
        "    minibatch_size=4,\n",
        "    requires_permission_to_run=False\n",
        ")"
      ]
    },
    {
      "cell_type": "code",
      "execution_count": 6,
      "metadata": {
        "colab": {
          "base_uri": "https://localhost:8080/"
        },
        "id": "n-eJQmhJMMax",
        "outputId": "867acede-189e-47dd-d7ea-61ea5c00b0cd"
      },
      "outputs": [
        {
          "data": {
            "text/plain": [
              "generate_answer.predict = Predict(StringSignature(context, question -> reasoning, answer\n",
              "    instructions='Answer questions with short factoid answers.'\n",
              "    context = Field(annotation=str required=True json_schema_extra={'desc': 'may contain relevant facts', '__dspy_field_type': 'input', 'prefix': 'Context:'})\n",
              "    question = Field(annotation=str required=True json_schema_extra={'__dspy_field_type': 'input', 'prefix': 'Question:', 'desc': '${question}'})\n",
              "    reasoning = Field(annotation=str required=True json_schema_extra={'prefix': \"Reasoning: Let's think step by step in order to\", 'desc': '${reasoning}', '__dspy_field_type': 'output'})\n",
              "    answer = Field(annotation=str required=True json_schema_extra={'desc': 'often between 1 and 5 words', '__dspy_field_type': 'output', 'prefix': 'Answer:'})\n",
              "))"
            ]
          },
          "execution_count": 6,
          "metadata": {},
          "output_type": "execute_result"
        }
      ],
      "source": [
        "# optimized results\n",
        "compiled_rag"
      ]
    },
    {
      "cell_type": "code",
      "execution_count": 7,
      "metadata": {
        "colab": {
          "base_uri": "https://localhost:8080/"
        },
        "collapsed": true,
        "id": "SvWBVf9bFzZf",
        "outputId": "abb0632b-44db-45a3-b338-bc8755a51de7"
      },
      "outputs": [
        {
          "name": "stdout",
          "output_type": "stream",
          "text": [
            "\n",
            "--- Test on dev example ---\n",
            "Question: Pehchaan: The Face of Truth stars Vinod Khanna, Rati Agnihotri and which Indian actress, producer, and former model who also produced the film?\n",
            "Predicted Answer: Raveena Tandon\n",
            "Ground Truth: Raveena Tandon\n"
          ]
        }
      ],
      "source": [
        "# example output with optimized results\n",
        "dev_example = devset[0]\n",
        "pred = compiled_rag(question=dev_example.question)\n",
        "print(\"\\n--- Test on dev example ---\")\n",
        "print(f\"Question: {dev_example.question}\")\n",
        "print(f\"Predicted Answer: {pred.answer}\")\n",
        "print(f\"Ground Truth: {dev_example.answer}\")"
      ]
    },
    {
      "cell_type": "code",
      "execution_count": null,
      "metadata": {
        "colab": {
          "base_uri": "https://localhost:8080/"
        },
        "collapsed": true,
        "id": "f2YsQI6AJhwg",
        "outputId": "400e9dbb-b3fe-4b17-8135-12fdc4cce70c"
      },
      "outputs": [
        {
          "name": "stdout",
          "output_type": "stream",
          "text": [
            "41\n",
            "[{'input': {'context': '',\n",
            "            'question': 'Which American actress who made their film debut in '\n",
            "                        'the 1995 teen drama \"Kids\" was the co-founder of Voto '\n",
            "                        'Latino?'},\n",
            "  'optimizer_name': 'MIPROv2',\n",
            "  'output': {'answer': 'rosario dawson'},\n",
            "  'score': 1,\n",
            "  'trace': {'_completions': None,\n",
            "            '_lm_usage': None,\n",
            "            '_store': {'answer': 'Rosario Dawson',\n",
            "                       'context': ['Rosario Dawson | Rosario Isabel Dawson '\n",
            "                                   '(born May 9, 1979) is an American actress, '\n",
            "                                   'producer, singer, comic book writer, and '\n",
            "                                   'political activist. She made her film '\n",
            "                                   'debut in the 1995 teen drama \"Kids\". Her '\n",
            "                                   'subsequent film roles include \"He Got '\n",
            "                                   'Game\", \"Men in Black II\", \"25th Hour\", '\n",
            "                                   '\"Rent\", \"Sin City\", \"Death Proof\", \"Seven '\n",
            "                                   'Pounds\", \"\", and \"Top Five\". Dawson has '\n",
            "                                   'also provided voice-over work for Disney '\n",
            "                                   'and DC.',\n",
            "                                   'Sarai Gonzalez | Sarai Isaura Gonzalez '\n",
            "                                   '(born 2005) is an American Latina child '\n",
            "                                   'actress who made her professional debut at '\n",
            "                                   'the age of 11 on the Spanish-language '\n",
            "                                   '\"\"Soy Yo\"\" (\"That\\'s Me\") music video by '\n",
            "                                   'Bomba Estéreo. Cast as a \"nerdy\" tween '\n",
            "                                   'with a \"sassy\" and \"confident\" attitude, '\n",
            "                                   'her performance turned her into a \"Latina '\n",
            "                                   'icon\" for \"female empowerment, identity '\n",
            "                                   'and self-worth\". She subsequently appeared '\n",
            "                                   'in two get out the vote videos for Latinos '\n",
            "                                   'in advance of the 2016 United States '\n",
            "                                   'elections.',\n",
            "                                   'Gabriela (2001 film) | Gabriela is a 2001 '\n",
            "                                   'American romance film, starring Seidy '\n",
            "                                   'Lopez in the title role alongside Jaime '\n",
            "                                   'Gomez as her admirer Mike. The film has '\n",
            "                                   'been cited as an inspiration behind the '\n",
            "                                   'Premiere Weekend Club, which supports '\n",
            "                                   'Latino film-making.'],\n",
            "                       'reasoning': 'The context mentions that Rosario Dawson '\n",
            "                                    'made her film debut in the 1995 teen '\n",
            "                                    'drama \"Kids\". The context does not '\n",
            "                                    'mention anything about Voto Latino. '\n",
            "                                    'However, based on general knowledge, '\n",
            "                                    'Rosario Dawson is the co-founder of Voto '\n",
            "                                    'Latino.'}}},\n",
            " {'input': {'context': '',\n",
            "            'question': 'Having the combination of excellent foot speed and '\n",
            "                        'bat speed helped Eric Davis, create what kind of '\n",
            "                        'outfield for the Los Angeles Dodgers? '},\n",
            "  'optimizer_name': 'MIPROv2',\n",
            "  'output': {'answer': 'outfield of dreams'},\n",
            "  'score': 0,\n",
            "  'trace': {'_completions': None,\n",
            "            '_lm_usage': None,\n",
            "            '_store': {'answer': 'Outfield of Dreams',\n",
            "                       'context': ['Eric Davis (baseball) | Eric Keith Davis '\n",
            "                                   '(born May 29, 1962) is a former center '\n",
            "                                   'fielder for several Major League Baseball '\n",
            "                                   'teams. Davis was 21 years old when he '\n",
            "                                   'broke into the big leagues on May 19, 1984 '\n",
            "                                   'with the Cincinnati Reds, the team for '\n",
            "                                   'which he is most remembered. Blessed with '\n",
            "                                   'a rare combination of excellent foot speed '\n",
            "                                   'and bat speed, Davis became the first '\n",
            "                                   'major league player to hit at least 30 '\n",
            "                                   'home runs and steal at least 50 bases in '\n",
            "                                   'the same season in 1987.',\n",
            "                                   'Willie Davis (baseball) | William Henry '\n",
            "                                   'Davis, Jr. (April 15, 1940 – March 9, '\n",
            "                                   '2010) was a center fielder in Major League '\n",
            "                                   'Baseball who played most of his career for '\n",
            "                                   'the Los Angeles Dodgers. At the end of his '\n",
            "                                   'career he ranked seventh in major league '\n",
            "                                   'history in putouts (5449) and total '\n",
            "                                   'chances (5719) in the outfield, and third '\n",
            "                                   'in games in center field (2237). He was '\n",
            "                                   'ninth in National League history in total '\n",
            "                                   'outfield games (2274), and won Gold Glove '\n",
            "                                   'Awards from 1971 to 1973. He had 13 '\n",
            "                                   'seasons of 20 or more stolen bases, led '\n",
            "                                   'the NL in triples twice, and retired with '\n",
            "                                   'the fourth most triples (138) by any major '\n",
            "                                   'leaguer since 1945. He holds Los Angeles '\n",
            "                                   'club records (1958–present) for career '\n",
            "                                   'hits (2091), runs (1004), triples (110), '\n",
            "                                   'at bats (7495), total bases (3094) and '\n",
            "                                   'extra base hits (585). His 31-game hitting '\n",
            "                                   'streak in 1969 remains the longest by a '\n",
            "                                   'Dodger. At one point during the streak, '\n",
            "                                   'when the team was playing at home, the big '\n",
            "                                   'message board at Dodger Stadium quoted a '\n",
            "                                   'message from a telegram sent to Davis and '\n",
            "                                   \"the team from Zack Wheat, the team's \"\n",
            "                                   'former record holder, at his home in '\n",
            "                                   'Missouri.',\n",
            "                                   '1992 Los Angeles Dodgers season | The 1992 '\n",
            "                                   'Los Angeles Dodgers season was a poor one '\n",
            "                                   'for the team as it finished last in the '\n",
            "                                   'Western Division of the National League '\n",
            "                                   'with a record of 63 wins and 99 losses. '\n",
            "                                   'Despite boasting what was nicknamed the '\n",
            "                                   '\"Outfield of Dreams\", being manned by Eric '\n",
            "                                   'Davis, Brett Butler, and Darryl '\n",
            "                                   'Strawberry, injuries to key players and '\n",
            "                                   'slumps from others contributed to the '\n",
            "                                   \"franchise's worst season since moving to \"\n",
            "                                   'Los Angeles. Additionally, the Dodgers '\n",
            "                                   'cancelled four home games during the '\n",
            "                                   'season due to the L.A. Riots. Despite the '\n",
            "                                   'poor finish, the Dodgers had some hope for '\n",
            "                                   'the future as first baseman Eric Karros '\n",
            "                                   'won the National League Rookie of the Year '\n",
            "                                   'Award, the first of five consecutive '\n",
            "                                   'Dodger players to do so. The 1992 season '\n",
            "                                   'also saw the Dodgers drop television '\n",
            "                                   'station KTTV Ch.11 as their chief '\n",
            "                                   'broadcaster of Dodger baseball, ending a '\n",
            "                                   '34 year-35 consecutive season association '\n",
            "                                   'with that station. Additionally, it was '\n",
            "                                   'the first time the Dodgers lost 90 games '\n",
            "                                   'in a season since 1944.'],\n",
            "                       'reasoning': 'The context mentions that Eric Davis, '\n",
            "                                    'Brett Butler, and Darryl Strawberry '\n",
            "                                    'manned the \"Outfield of Dreams\" for the '\n",
            "                                    'Los Angeles Dodgers in 1992.'}}}]\n"
          ]
        }
      ],
      "source": [
        "print(len(trial_logs))\n",
        "pprint(trial_logs[:2])"
      ]
    },
    {
      "cell_type": "code",
      "execution_count": null,
      "metadata": {
        "id": "oEIIVA42bf4t"
      },
      "outputs": [],
      "source": [
        "output_filename = 'history_pprint.txt'\n",
        "\n",
        "with open(output_filename, 'w') as f:\n",
        "    for i, record in enumerate(llm.history):\n",
        "        import io\n",
        "        buffer = io.StringIO()\n",
        "        pprint(record, stream=buffer)\n",
        "        formatted_record = buffer.getvalue()\n",
        "        f.write(formatted_record)\n",
        "        f.write(\"\\n\\n\")"
      ]
    },
    {
      "cell_type": "markdown",
      "metadata": {},
      "source": [
        "### Processing History Records into Pandas Dataframe"
      ]
    },
    {
      "cell_type": "code",
      "execution_count": 2,
      "metadata": {},
      "outputs": [
        {
          "name": "stdout",
          "output_type": "stream",
          "text": [
            "Loaded 52 dictionaries.\n"
          ]
        }
      ],
      "source": [
        "import re\n",
        "\n",
        "def load_simple_dicts_from_txt(filepath):\n",
        "    with open(filepath, 'r', encoding='utf-8') as f:\n",
        "        content = f.read()\n",
        "    dict_strs = [block.strip() for block in content.split('\\n\\n') if block.strip()]\n",
        "    dicts = []\n",
        "    for dstr in dict_strs:\n",
        "        # Remove lines with custom objects (e.g., ModelResponse(...))\n",
        "        cleaned_lines = []\n",
        "        for line in dstr.splitlines():\n",
        "            if re.search(r'\\w+\\(.*\\)', line):  # line contains Something(...)\n",
        "                continue\n",
        "            cleaned_lines.append(line)\n",
        "        cleaned_str = '\\n'.join(cleaned_lines)\n",
        "        try:\n",
        "            d = eval(cleaned_str, {\"__builtins__\": None}, {})  # Use eval with no builtins for some safety\n",
        "            dicts.append(d)\n",
        "        except Exception as e:\n",
        "            print(f\"Failed to parse block:\\n{cleaned_str}\\nError: {e}\\n\")\n",
        "    return dicts\n",
        "\n",
        "# Example usage:\n",
        "dict_list = load_simple_dicts_from_txt('history_pprint.txt')\n",
        "print(f\"Loaded {len(dict_list)} dictionaries.\")"
      ]
    },
    {
      "cell_type": "code",
      "execution_count": 5,
      "metadata": {},
      "outputs": [
        {
          "name": "stdout",
          "output_type": "stream",
          "text": [
            "{'cost': 9.8e-06,\n",
            " 'kwargs': {},\n",
            " 'messages': None,\n",
            " 'model': 'gemini/gemini-2.0-flash',\n",
            " 'model_type': 'chat',\n",
            " 'outputs': ['Silicon Valley is located in the southern part of the San '\n",
            "             'Francisco Bay Area in **Northern California, United States**.\\n'],\n",
            " 'prompt': \"Where's Silicon Valley?\",\n",
            " 'response_model': 'gemini-2.0-flash',\n",
            " 'timestamp': '2025-06-01T20:56:37.113900',\n",
            " 'usage': {'completion_tokens': 23,\n",
            "           'completion_tokens_details': None,\n",
            "           'prompt_tokens': 6,\n",
            "           'total_tokens': 29},\n",
            " 'uuid': '24afc84b-fa12-4e5d-b21c-99bbde2df510'}\n"
          ]
        }
      ],
      "source": [
        "for record in dict_list:\n",
        "    pprint(record)\n",
        "    break"
      ]
    },
    {
      "cell_type": "code",
      "execution_count": null,
      "metadata": {},
      "outputs": [],
      "source": []
    }
  ],
  "metadata": {
    "colab": {
      "authorship_tag": "ABX9TyNS3NIEDyaoeTvsM3okVYrp",
      "include_colab_link": true,
      "provenance": []
    },
    "kernelspec": {
      "display_name": ".venv",
      "language": "python",
      "name": "python3"
    },
    "language_info": {
      "codemirror_mode": {
        "name": "ipython",
        "version": 3
      },
      "file_extension": ".py",
      "mimetype": "text/x-python",
      "name": "python",
      "nbconvert_exporter": "python",
      "pygments_lexer": "ipython3",
      "version": "3.13.2"
    }
  },
  "nbformat": 4,
  "nbformat_minor": 0
}
