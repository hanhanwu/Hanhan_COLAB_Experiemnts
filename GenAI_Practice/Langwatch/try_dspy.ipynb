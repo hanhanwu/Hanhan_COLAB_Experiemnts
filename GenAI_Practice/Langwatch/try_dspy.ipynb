{
  "nbformat": 4,
  "nbformat_minor": 0,
  "metadata": {
    "colab": {
      "provenance": [],
      "authorship_tag": "ABX9TyO/Tk66gkTXfCH9fupps0PL",
      "include_colab_link": true
    },
    "kernelspec": {
      "name": "python3",
      "display_name": "Python 3"
    },
    "language_info": {
      "name": "python"
    }
  },
  "cells": [
    {
      "cell_type": "markdown",
      "metadata": {
        "id": "view-in-github",
        "colab_type": "text"
      },
      "source": [
        "<a href=\"https://colab.research.google.com/github/hanhanwu/Hanhan_COLAB_Experiemnts/blob/master/GenAI_Practice/Langwatch/try_dspy.ipynb\" target=\"_parent\"><img src=\"https://colab.research.google.com/assets/colab-badge.svg\" alt=\"Open In Colab\"/></a>"
      ]
    },
    {
      "cell_type": "markdown",
      "source": [
        "# Try DsPy for RAG Prompt Optimization\n",
        "\n",
        "* https://github.com/hanhanwu/Hanhan_COLAB_Experiemnts/blob/master/GenAI_Practice/Langwatch/dspy_prompt_optimization_online_dashboard.ipynb\n",
        "* https://dspy.ai/tutorials/rag/"
      ],
      "metadata": {
        "id": "vtMIgQScxn3z"
      }
    },
    {
      "cell_type": "code",
      "execution_count": 1,
      "metadata": {
        "id": "bv95l62uxm4-"
      },
      "outputs": [],
      "source": [
        "%%capture --no-stderr\n",
        "!pip install --upgrade nbformat\n",
        "%pip install -U --quiet dspy"
      ]
    },
    {
      "cell_type": "markdown",
      "source": [
        "## Prepare LLM\n",
        "\n",
        "* `http://20.102.90.50:2017/wiki17_abstracts` provides the sources for retrieval here"
      ],
      "metadata": {
        "id": "PTn0H1e35Gn9"
      }
    },
    {
      "cell_type": "code",
      "source": [
        "import os\n",
        "import pandas as pd\n",
        "from getpass import getpass\n",
        "import dspy\n",
        "from google.colab import userdata\n",
        "\n",
        "\n",
        "# OPENAI_API_KEY = userdata.get('OPENAI_API_KEY')\n",
        "# llm = dspy.LM(\"openai/gpt-4.1-nano\", api_key=OPENAI_API_KEY)\n",
        "\n",
        "GOOGLE_AI_API_KEY = userdata.get('GOOGLE_AI_API_KEY')\n",
        "llm = dspy.LM(\"gemini/gemini-2.0-flash\", api_key=GOOGLE_AI_API_KEY)\n",
        "print(\"LLM test response:\", llm(\"Where's Silicon Valley?\"))\n",
        "\n",
        "# the retrieval model\n",
        "colbertv2_wiki17_abstracts = dspy.ColBERTv2(\n",
        "    url=\"http://20.102.90.50:2017/wiki17_abstracts\"\n",
        ")\n",
        "dspy.settings.configure(lm=llm, rm=colbertv2_wiki17_abstracts)"
      ],
      "metadata": {
        "id": "wt49L6d9yCBt",
        "outputId": "32ff5f42-ed9e-446b-9669-a109c6dbdb9b",
        "colab": {
          "base_uri": "https://localhost:8080/"
        }
      },
      "execution_count": 3,
      "outputs": [
        {
          "output_type": "stream",
          "name": "stdout",
          "text": [
            "LLM test response: ['Silicon Valley is located in the southern part of the San Francisco Bay Area in **Northern California, United States**.\\n']\n"
          ]
        }
      ]
    },
    {
      "cell_type": "markdown",
      "source": [
        "## Preparing Dataset"
      ],
      "metadata": {
        "id": "yZh_Oz8RRRFD"
      }
    },
    {
      "cell_type": "code",
      "source": [
        "from dspy.datasets import HotPotQA\n",
        "\n",
        "\n",
        "dataset = HotPotQA(train_seed=1, train_size=32, eval_seed=2025, dev_size=50, test_size=0)\n",
        "trainset = [x.with_inputs('question') for x in dataset.train]\n",
        "devset = [x.with_inputs('question') for x in dataset.dev]\n",
        "\n",
        "print()\n",
        "print(len(trainset), len(devset))\n",
        "print(trainset[0])\n",
        "print(devset[0])"
      ],
      "metadata": {
        "id": "EREveLxr5FJN",
        "outputId": "63e60d53-b246-47b0-b809-356839cca61c",
        "colab": {
          "base_uri": "https://localhost:8080/",
          "height": 478,
          "referenced_widgets": [
            "88bae7cac7c5479096dae84ba6e66588",
            "7d12fb83debe4ce0a4647b825c9d1a3a",
            "62506a792fb6465e90082ff0a5812c86",
            "1ac494193c2e429d99fada80cd445f21",
            "e98af9b7324b4255aa92161bc58777f5",
            "018bad882e1d4fba9117c258ac18f8a9",
            "587edcc061e344fcb1b8d7bdd13711d5",
            "0f7fed2abe364811a80d878ac940e01d",
            "4ed8cbf6614846dc9375a527dc8cf8cf",
            "d8cb48c9375041d5bf4b1da84677182f",
            "853b6e3a1083444d97f5a6444fd8e9b2",
            "957b31f520f84aecb2e0b00cc8785fa5",
            "92717c1fe90c4cabbf65208053fe0340",
            "6706a7e78a794fada8cc1daf02080391",
            "f72b9d93712749c1954b8f2796733fea",
            "2f89c0c096a7464c98d94d1e60f167e8",
            "c15b08240cfa424ca07419276d738872",
            "8e1ad5d09f6b466aa503071a51e9cd55",
            "4df5aac1b5e84f5d8e64e050c2691dd9",
            "5292490c37994579b4e0267ccdee3e98",
            "3693d502360b4414b2b19e223254ae36",
            "e79a4f912b9040b4a264738fb10f7272",
            "c772d0fcf7fb4ad1849a1acaccfa05fe",
            "0477a9ba08814364b4c1ac38b25488d2",
            "f3539e80e3784f0e9330c37f67436a3f",
            "b81bf00f3d9b4855ae9b5288ac8207ed",
            "4ea1b2f927bf4b149952d2a44bdebe63",
            "7dcbcdc9c8b4477fbbf564365a95aa49",
            "c046e44eee8c422bbdcb9555bf23155b",
            "88dd30d7e43a4a9da315ddfadbbbaa5d",
            "21f5c29c89dd4b0381173efaa336e09b",
            "7691513e6817426f824892b08a1d8c39",
            "e3df811e862444239e2d482d37bc1371",
            "d5c9436e8e8e47aaae17adcadd41bda9",
            "ab986c49bc104f3baf4ca436968a6d05",
            "0a8f2b296768415d936344fc2832e09a",
            "760dcd3af7164fffba3365cf1fb41c08",
            "634b0ad3f014490b8336aff855563691",
            "f95cf795f6a4402dab3dea2fbc9c74e8",
            "8db9a67691be4b85ac76e7f4f5a3d9ed",
            "d9ec17dbafee4471bd7f226298e731db",
            "d99806ce372f49e1951a8d1c3865f158",
            "ab465475a2184d61ba3f3486eb81d48a",
            "1c0d1e751ad5476189024b7bbda0785d",
            "65ff1b4e54094763a02c3d9fdeef093c",
            "0cfb0a7c0b88474894eec2cc7d026e7b",
            "bea2cb4fbe5748bd86c1aed57a5724f7",
            "6f456a6b33d14d31a71114f6220faa45",
            "a6884f6ee88c442780bab68293d8d0f5",
            "98689df1b7d24cad9e63fba1474d64c7",
            "8e3064975a2e4c98bc2e18af709370ff",
            "3537a2377b374805b7e91abf3186f6d9",
            "71bdcf597a694e52a2829643154bc509",
            "d227d98f250b4d01896fabdc9b21f581",
            "2bfb5c30483143aa8d9aff4e2194c759",
            "aab3474110884371adae600560a39708",
            "b0dd95d190bb48e1b976ebf34b43911a",
            "3e6a3581cc26496f9f3d5d71bc159384",
            "f49d11ae0b5a402e95b18f89f1267c69",
            "34236b252a664d2cad8c58022bfe633c",
            "015e7d8a6fe54a988cc0496a19d23e77",
            "6d53922160834a81b9b8bfb17f0c7128",
            "45bcd67ca4894ee39c7d53faa7661edd",
            "1d673e48c7d04d6ebed02ab6123c7c67",
            "061fc155923e42609329be36202b63b5",
            "efed7aa340f14d429e3e208facac7874",
            "869253801f00451db415632641166689",
            "109937a613e24d31bf63946e0e79980d",
            "b744e42aaa64400fbe205e9f032e7617",
            "297d9cf5fefe4401b36bd8e5378ec32a",
            "e2bd5bd6582440f994e9316260774dff",
            "4845aed27cc341b6948bc44cf369b5c2",
            "a4c0a0ca29d6456394bc1659e6a1b160",
            "85f9d2a2db524a2c8b31f88acb9eded1",
            "615806e5c0224dbc8ffef1f20f8bd17a",
            "b81308e4ec614373b4c9353fc6eace18",
            "6dcc630bff1944ed836621e13fde7011",
            "f9796369b65843ec8c3f3c3b20103864",
            "6359b005c2b54d21b2ddd330411811d3",
            "b51962f53c4b4da09a50e3657a662da3",
            "a9187656d3624a87853b2e2c71b8805d",
            "3d9dd292a90240ae874b16e9967428c8",
            "e63ce010196344b1a6adfbd899e3fdd9",
            "4e10a9ec8bf849c1a33d11e0af7926b2",
            "2c43f357888949b78d9768869c682a0a",
            "272d16f5d7314f2ea0b780284168f6b4",
            "eab062b8ac4242438d723871fc6cf76e",
            "4ea0e90b452d4de0938eda6aa02f6cc7"
          ]
        }
      },
      "execution_count": 4,
      "outputs": [
        {
          "output_type": "stream",
          "name": "stderr",
          "text": [
            "/usr/local/lib/python3.11/dist-packages/huggingface_hub/utils/_auth.py:94: UserWarning: \n",
            "The secret `HF_TOKEN` does not exist in your Colab secrets.\n",
            "To authenticate with the Hugging Face Hub, create a token in your settings tab (https://huggingface.co/settings/tokens), set it as secret in your Google Colab and restart your session.\n",
            "You will be able to reuse this secret in all of your notebooks.\n",
            "Please note that authentication is recommended but still optional to access public models or datasets.\n",
            "  warnings.warn(\n"
          ]
        },
        {
          "output_type": "display_data",
          "data": {
            "text/plain": [
              "README.md:   0%|          | 0.00/9.19k [00:00<?, ?B/s]"
            ],
            "application/vnd.jupyter.widget-view+json": {
              "version_major": 2,
              "version_minor": 0,
              "model_id": "88bae7cac7c5479096dae84ba6e66588"
            }
          },
          "metadata": {}
        },
        {
          "output_type": "display_data",
          "data": {
            "text/plain": [
              "hotpot_qa.py:   0%|          | 0.00/6.42k [00:00<?, ?B/s]"
            ],
            "application/vnd.jupyter.widget-view+json": {
              "version_major": 2,
              "version_minor": 0,
              "model_id": "957b31f520f84aecb2e0b00cc8785fa5"
            }
          },
          "metadata": {}
        },
        {
          "output_type": "display_data",
          "data": {
            "text/plain": [
              "Downloading data:   0%|          | 0.00/566M [00:00<?, ?B/s]"
            ],
            "application/vnd.jupyter.widget-view+json": {
              "version_major": 2,
              "version_minor": 0,
              "model_id": "c772d0fcf7fb4ad1849a1acaccfa05fe"
            }
          },
          "metadata": {}
        },
        {
          "output_type": "display_data",
          "data": {
            "text/plain": [
              "Downloading data:   0%|          | 0.00/47.5M [00:00<?, ?B/s]"
            ],
            "application/vnd.jupyter.widget-view+json": {
              "version_major": 2,
              "version_minor": 0,
              "model_id": "d5c9436e8e8e47aaae17adcadd41bda9"
            }
          },
          "metadata": {}
        },
        {
          "output_type": "display_data",
          "data": {
            "text/plain": [
              "Downloading data:   0%|          | 0.00/46.2M [00:00<?, ?B/s]"
            ],
            "application/vnd.jupyter.widget-view+json": {
              "version_major": 2,
              "version_minor": 0,
              "model_id": "65ff1b4e54094763a02c3d9fdeef093c"
            }
          },
          "metadata": {}
        },
        {
          "output_type": "display_data",
          "data": {
            "text/plain": [
              "Generating train split:   0%|          | 0/90447 [00:00<?, ? examples/s]"
            ],
            "application/vnd.jupyter.widget-view+json": {
              "version_major": 2,
              "version_minor": 0,
              "model_id": "aab3474110884371adae600560a39708"
            }
          },
          "metadata": {}
        },
        {
          "output_type": "display_data",
          "data": {
            "text/plain": [
              "Generating validation split:   0%|          | 0/7405 [00:00<?, ? examples/s]"
            ],
            "application/vnd.jupyter.widget-view+json": {
              "version_major": 2,
              "version_minor": 0,
              "model_id": "869253801f00451db415632641166689"
            }
          },
          "metadata": {}
        },
        {
          "output_type": "display_data",
          "data": {
            "text/plain": [
              "Generating test split:   0%|          | 0/7405 [00:00<?, ? examples/s]"
            ],
            "application/vnd.jupyter.widget-view+json": {
              "version_major": 2,
              "version_minor": 0,
              "model_id": "f9796369b65843ec8c3f3c3b20103864"
            }
          },
          "metadata": {}
        },
        {
          "output_type": "stream",
          "name": "stdout",
          "text": [
            "\n",
            "32 50\n",
            "Example({'question': 'At My Window was released by which American singer-songwriter?', 'answer': 'John Townes Van Zandt'}) (input_keys={'question'})\n",
            "Example({'question': 'Pehchaan: The Face of Truth stars Vinod Khanna, Rati Agnihotri and which Indian actress, producer, and former model who also produced the film?', 'answer': 'Raveena Tandon', 'gold_titles': {'Pehchaan: The Face of Truth', 'Raveena Tandon'}}) (input_keys={'question'})\n"
          ]
        }
      ]
    },
    {
      "cell_type": "markdown",
      "source": [
        "## Defining DsPy RAG"
      ],
      "metadata": {
        "id": "eDMFnJv4R4Ez"
      }
    },
    {
      "cell_type": "code",
      "source": [
        "class GenerateAnswer(dspy.Signature):\n",
        "    \"\"\"Answer questions with short factoid answers.\"\"\"\n",
        "    context = dspy.InputField(desc=\"may contain relevant facts\")\n",
        "    question = dspy.InputField()\n",
        "    answer = dspy.OutputField(desc=\"often between 1 and 5 words\")\n",
        "\n",
        "\n",
        "class RAG(dspy.Module):\n",
        "    def __init__(self, num_passages=3):\n",
        "        super().__init__()\n",
        "        self.retrieve = dspy.Retrieve(k=num_passages)\n",
        "        self.generate_answer = dspy.ChainOfThought(GenerateAnswer)\n",
        "\n",
        "    def forward(self, question):\n",
        "        context = self.retrieve(question).passages\n",
        "        prediction = self.generate_answer(context=context, question=question)\n",
        "        return dspy.Prediction(context=context,\n",
        "                               answer=prediction.answer,\n",
        "                               reasoning=prediction.reasoning)\n",
        "\n",
        "\n",
        "dev_example = devset[12]\n",
        "print(f\"[Devset] Question: {dev_example.question}\")\n",
        "print(f\"[Devset] Answer: {dev_example.answer}\")\n",
        "print(f\"[Devset] Relevant Wikipedia Titles: {dev_example.gold_titles}\")\n",
        "print()\n",
        "\n",
        "generate_answer = RAG()\n",
        "pred = generate_answer(question=dev_example.question)\n",
        "print(f\"[Prediction] Question: {dev_example.question}\")\n",
        "print(f\"[Prediction] Predicted Answer: {pred.answer}\")\n",
        "print(f\"[Prediction] Reasoning: {pred.reasoning}\")"
      ],
      "metadata": {
        "id": "gtwHn_RuRVaF",
        "outputId": "2a74846a-1a47-4415-f8a2-87af79693e62",
        "colab": {
          "base_uri": "https://localhost:8080/"
        }
      },
      "execution_count": 5,
      "outputs": [
        {
          "output_type": "stream",
          "name": "stdout",
          "text": [
            "[Devset] Question: Twelve Inches is a compilation album by which 1980s British band?\n",
            "[Devset] Answer: Frankie Goes to Hollywood\n",
            "[Devset] Relevant Wikipedia Titles: {'Twelve Inches', 'Frankie Goes to Hollywood'}\n",
            "\n",
            "[Prediction] Question: Twelve Inches is a compilation album by which 1980s British band?\n",
            "[Prediction] Predicted Answer: Bananarama\n",
            "[Prediction] Reasoning: The question asks which 1980s British band released a compilation album called \"Twelve Inches\". I need to find a band that matches both criteria.\n",
            "The context provides three albums with \"Twelve Inch\" in the title:\n",
            "- The Twelve Inch Singles by Soft Cell\n",
            "- The Twelve Inches of Bananarama by Bananarama\n",
            "- The Twelve Inch Mixes by Spandau Ballet\n",
            "\n",
            "All three bands are British and were active in the 1980s. However, the question asks for the album title \"Twelve Inches\", so the answer must be Bananarama.\n"
          ]
        }
      ]
    },
    {
      "cell_type": "markdown",
      "source": [
        "## Optimizing Prompts & Logging"
      ],
      "metadata": {
        "id": "euaIsif_tdeN"
      }
    },
    {
      "cell_type": "code",
      "source": [
        "from dspy.teleprompt import MIPROv2\n",
        "\n",
        "\n",
        "trial_logs = []\n",
        "\n",
        "def validate_context_and_answer(example, prediction):\n",
        "    gold = example.answer.strip().lower()\n",
        "    pred = prediction.answer.strip().lower()\n",
        "    score = int(gold == pred)\n",
        "\n",
        "    # Format similar to Langwatch's internal logging\n",
        "    log_entry = {\n",
        "        \"input\": {\n",
        "            \"question\": example.question,\n",
        "            \"context\": getattr(example, \"context\", \"\")\n",
        "        },\n",
        "        \"output\": {\n",
        "            \"answer\": pred\n",
        "        },\n",
        "        # Include prediction trace (as dict if possible)\n",
        "        \"trace\": prediction.__dict__ if hasattr(prediction, \"__dict__\") else str(prediction),\n",
        "        \"score\": score,\n",
        "        \"optimizer_name\": optimizer.__class__.__name__,\n",
        "    }\n",
        "    trial_logs.append(log_entry)\n",
        "\n",
        "    print(f\"[Trial] Q: {example.question} | Pred: {pred} | GT: {gold} | Score: {score}\")\n",
        "    return score\n",
        "\n",
        "\n",
        "# set up optimizer\n",
        "optimizer = MIPROv2(metric=validate_context_and_answer, prompt_model=llm,\n",
        "                    task_model=llm, num_candidates=2, init_temperature=0.7,\n",
        "                    auto=None)\n",
        "\n",
        "\n",
        "# compile\n",
        "compiled_rag = optimizer.compile(\n",
        "    RAG(),\n",
        "    trainset=trainset,\n",
        "    num_trials=10,\n",
        "    max_bootstrapped_demos=3,\n",
        "    max_labeled_demos=5,\n",
        "    minibatch_size=10,\n",
        "    requires_permission_to_run=False\n",
        ")"
      ],
      "metadata": {
        "id": "Pbf6GQtlT-lm",
        "colab": {
          "base_uri": "https://localhost:8080/"
        },
        "outputId": "75ec4600-7aaa-4237-c7e5-618b0499bda4"
      },
      "execution_count": 10,
      "outputs": [
        {
          "output_type": "stream",
          "name": "stderr",
          "text": [
            "2025/05/26 12:03:20 INFO dspy.teleprompt.mipro_optimizer_v2: \n",
            "==> STEP 1: BOOTSTRAP FEWSHOT EXAMPLES <==\n",
            "2025/05/26 12:03:20 INFO dspy.teleprompt.mipro_optimizer_v2: These will be used as few-shot example candidates for our program and for creating instructions.\n",
            "\n",
            "2025/05/26 12:03:20 INFO dspy.teleprompt.mipro_optimizer_v2: Bootstrapping N=2 sets of demonstrations...\n",
            "2025/05/26 12:03:20 INFO dspy.teleprompt.mipro_optimizer_v2: \n",
            "==> STEP 2: PROPOSE INSTRUCTION CANDIDATES <==\n",
            "2025/05/26 12:03:20 INFO dspy.teleprompt.mipro_optimizer_v2: We will use the few-shot examples from the previous step, a generated dataset summary, a summary of the program code, and a randomly selected prompting tip to propose instructions.\n",
            "2025/05/26 12:03:20 INFO dspy.teleprompt.mipro_optimizer_v2: \n",
            "Proposing N=2 instructions...\n",
            "\n",
            "2025/05/26 12:03:20 INFO dspy.teleprompt.mipro_optimizer_v2: Proposed Instructions for Predictor 0:\n",
            "\n",
            "2025/05/26 12:03:20 INFO dspy.teleprompt.mipro_optimizer_v2: 0: Answer questions with short factoid answers.\n",
            "\n",
            "2025/05/26 12:03:20 INFO dspy.teleprompt.mipro_optimizer_v2: 1: Provide concise, factoid answers to questions, supporting your answer with step-by-step reasoning based on the provided context.\n",
            "\n",
            "2025/05/26 12:03:20 INFO dspy.teleprompt.mipro_optimizer_v2: \n",
            "\n",
            "2025/05/26 12:03:20 INFO dspy.teleprompt.mipro_optimizer_v2: ==> STEP 3: FINDING OPTIMAL PROMPT PARAMETERS <==\n",
            "2025/05/26 12:03:20 INFO dspy.teleprompt.mipro_optimizer_v2: We will evaluate the program over a series of trials with different combinations of instructions and few-shot examples to find the optimal combination using Bayesian Optimization.\n",
            "\n",
            "2025/05/26 12:03:20 INFO dspy.teleprompt.mipro_optimizer_v2: == Trial 1 / 13 - Full Evaluation of Default Program ==\n"
          ]
        },
        {
          "output_type": "stream",
          "name": "stdout",
          "text": [
            "Bootstrapping set 1/2\n",
            "Bootstrapping set 2/2\n",
            "[Trial] Q: Which American actress who made their film debut in the 1995 teen drama \"Kids\" was the co-founder of Voto Latino? | Pred: rosario dawson | GT: rosario dawson | Score: 1\n",
            "[Trial] Q: Tombstone stared an actor born May 17, 1955 known as who? | Pred: unknown | GT: bill paxton | Score: 0\n",
            "[Trial] Q: What is the code name for the German offensive that started this Second World War engagement on the Eastern Front (a few hundred kilometers from Moscow) between Soviet and German forces, which included 102nd Infantry Division? | Pred: operation citadel | GT: operation citadel | Score: 1\n",
            "[Trial] Q: Samantha Cristoforetti and Mark Shuttleworth are both best known for being first in their field to go where?  | Pred: space | GT: space | Score: 1\n",
            "[Trial] Q: Which company distributed this 1977 American animated film produced by Walt Disney Productions for which Sherman Brothers wrote songs? | Pred: buena vista distribution company | GT: buena vista distribution | Score: 0\n",
            "[Trial] Q: Which Pakistani cricket umpire who won 3 consecutive ICC umpire of the year awards in 2009, 2010, and 2011 will be in the ICC World Twenty20? | Pred: aleem dar | GT: aleem sarwar dar | Score: 0\n",
            "[Trial] Q: \"Everything Has Changed\" is a song from an album released under which record label ? | Pred: cannot answer. | GT: big machine records | Score: 0\n",
            "[Trial] Q: Who is older, Aleksandr Danilovich Aleksandrov or Anatoly Fomenko? | Pred: cannot determine. | GT: aleksandr danilovich aleksandrov | Score: 0\n",
            "[Trial] Q: Having the combination of excellent foot speed and bat speed helped Eric Davis, create what kind of outfield for the Los Angeles Dodgers?  | Pred: outfield of dreams | GT: \"outfield of dreams\" | Score: 0\n",
            "[Trial] Q: The Organisation that allows a community to influence their operation or use and to enjoy the benefits arisingwas founded in what year? | Pred: 1992 | GT: 2010 | Score: 0\n",
            "Average Metric: 3.00 / 10 (30.0%):  36%|███▌      | 9/25 [00:00<00:00, 136.83it/s][Trial] Q: This American guitarist best known for her work with the Iron Maidens is an ancestor of a composer who was known as what? | Pred: johann strauss ii | GT: the waltz king | Score: 0\n",
            "Average Metric: 3.00 / 11 (27.3%):  44%|████▍     | 11/25 [00:01<00:02,  5.50it/s][Trial] Q: On the coast of what ocean is the birthplace of Diogal Sakho? | Pred: atlantic ocean | GT: atlantic | Score: 0\n",
            "Average Metric: 3.00 / 12 (25.0%):  48%|████▊     | 12/25 [00:02<00:02,  5.64it/s][Trial] Q: What person does Wormholes in fiction and Nathan Rosen have in common? | Pred: nathan rosen | GT: einstein | Score: 0\n",
            "Average Metric: 3.00 / 13 (23.1%):  48%|████▊     | 12/25 [00:02<00:02,  5.64it/s][Trial] Q: Are Baltasar Kormákur and John G. Avildsen both film producers? | Pred: cannot determine | GT: no | Score: 0\n",
            "Average Metric: 3.00 / 14 (21.4%):  52%|█████▏    | 13/25 [00:02<00:02,  5.64it/s][Trial] Q: What head of state position was held by Harry S Truman when he gave Harold E Wilson the Medal of Honor? | Pred: president of the united states | GT: president of the united states | Score: 1\n",
            "Average Metric: 4.00 / 15 (26.7%):  60%|██████    | 15/25 [00:02<00:01,  7.59it/s][Trial] Q: Do Stu Block and Johnny Bonnel's bands play the same type of music? | Pred: no | GT: no | Score: 1\n",
            "Average Metric: 5.00 / 16 (31.2%):  60%|██████    | 15/25 [00:02<00:01,  7.59it/s][Trial] Q: Who acted in the shot film The Shore and is also the youngest actress ever to play Ophelia in a Royal Shakespeare Company production of \"Hamlet.\" ? | Pred: kerry condon | GT: kerry condon | Score: 1\n",
            "Average Metric: 6.00 / 17 (35.3%):  68%|██████▊   | 17/25 [00:02<00:00,  8.37it/s][Trial] Q: How old is the fossil record of the order that contains the only strictly marine herbivorous mammal? | Pred: 50 million years old | GT: 50-million-year-old fossil record | Score: 0\n",
            "Average Metric: 6.00 / 18 (33.3%):  68%|██████▊   | 17/25 [00:02<00:00,  8.37it/s][Trial] Q: Who was the Tennis Masters Cup champion in 2000, Gustavo Kuerten or Stan Wawrinka? | Pred: gustavo kuerten | GT: gustavo kuerten | Score: 1\n",
            "Average Metric: 7.00 / 19 (36.8%):  76%|███████▌  | 19/25 [00:02<00:00,  8.76it/s][Trial] Q: What evening cable television station programming block has a show with Ashley Holliday as a cast member? | Pred: nick at nite | GT: nick at nite | Score: 1\n",
            "Average Metric: 8.00 / 20 (40.0%):  76%|███████▌  | 19/25 [00:03<00:00,  8.76it/s][Trial] Q: Which band had a longer hiatus, Juliette and the Licks or The Last Shadow Puppets? | Pred: the last shadow puppets | GT: the last shadow puppets | Score: 1\n",
            "Average Metric: 9.00 / 21 (42.9%):  84%|████████▍ | 21/25 [00:03<00:01,  3.88it/s][Trial] Q: Who composed \"Sunflower Slow Drag\" with the King of Ragtime? | Pred: scott hayden | GT: scott hayden | Score: 1\n",
            "Average Metric: 10.00 / 22 (45.5%):  84%|████████▍ | 21/25 [00:03<00:01,  3.88it/s][Trial] Q: Who was coach of the No. 9-ranked team that was upset in the NCAA Tournament by the 2014-15 UAB Blazers men's basketball team?   | Pred: coach's name not provided. | GT: fred hoiberg | Score: 0\n",
            "Average Metric: 10.00 / 23 (43.5%):  88%|████████▊ | 22/25 [00:04<00:00,  3.88it/s][Trial] Q: Remember Me Ballin' is a CD single by Indo G that features an American rapper born in what year? | Pred: cannot answer. | GT: 1979 | Score: 0\n",
            "Average Metric: 10.00 / 24 (41.7%):  96%|█████████▌| 24/25 [00:04<00:00,  5.68it/s][Trial] Q: Which movie was released first, Son of Flubber or Davy Crockett, King of the Wild Frontier? | Pred: davy crockett, king of the wild frontier | GT: davy crockett, king of the wild frontier | Score: 1\n",
            "Average Metric: 11.00 / 25 (44.0%): 100%|██████████| 25/25 [00:05<00:00,  4.72it/s]"
          ]
        },
        {
          "output_type": "stream",
          "name": "stderr",
          "text": [
            "2025/05/26 12:03:26 INFO dspy.evaluate.evaluate: Average Metric: 11 / 25 (44.0%)\n",
            "2025/05/26 12:03:26 INFO dspy.teleprompt.mipro_optimizer_v2: Default program score: 44.0\n",
            "\n",
            "/usr/local/lib/python3.11/dist-packages/optuna/_experimental.py:31: ExperimentalWarning: Argument ``multivariate`` is an experimental feature. The interface can change in the future.\n",
            "  warnings.warn(\n",
            "2025/05/26 12:03:26 INFO dspy.teleprompt.mipro_optimizer_v2: == Trial 2 / 13 - Minibatch ==\n"
          ]
        },
        {
          "output_type": "stream",
          "name": "stdout",
          "text": [
            "\n",
            "[Trial] Q: Which American actress who made their film debut in the 1995 teen drama \"Kids\" was the co-founder of Voto Latino? | Pred: rosario dawson | GT: rosario dawson | Score: 1\n",
            "[Trial] Q: Who is older, Aleksandr Danilovich Aleksandrov or Anatoly Fomenko? | Pred: cannot determine | GT: aleksandr danilovich aleksandrov | Score: 0\n",
            "[Trial] Q: What head of state position was held by Harry S Truman when he gave Harold E Wilson the Medal of Honor? | Pred: president of the united states | GT: president of the united states | Score: 1\n",
            "[Trial] Q: Do Stu Block and Johnny Bonnel's bands play the same type of music? | Pred: no | GT: no | Score: 1\n",
            "[Trial] Q: What person does Wormholes in fiction and Nathan Rosen have in common? | Pred: einstein-rosen bridge | GT: einstein | Score: 0\n",
            "[Trial] Q: What is the code name for the German offensive that started this Second World War engagement on the Eastern Front (a few hundred kilometers from Moscow) between Soviet and German forces, which included 102nd Infantry Division? | Pred: operation citadel | GT: operation citadel | Score: 1\n",
            "[Trial] Q: Who composed \"Sunflower Slow Drag\" with the King of Ragtime? | Pred: scott hayden | GT: scott hayden | Score: 1\n",
            "Average Metric: 5.00 / 7 (71.4%):  60%|██████    | 6/10 [00:00<00:00, 186.60it/s][Trial] Q: This American guitarist best known for her work with the Iron Maidens is an ancestor of a composer who was known as what? | Pred: austrian composer | GT: the waltz king | Score: 0\n",
            "Average Metric: 5.00 / 8 (62.5%):  80%|████████  | 8/10 [00:01<00:00,  5.39it/s][Trial] Q: Tombstone stared an actor born May 17, 1955 known as who? | Pred: cannot answer. | GT: bill paxton | Score: 0\n",
            "Average Metric: 5.00 / 9 (55.6%):  90%|█████████ | 9/10 [00:01<00:00,  5.49it/s]"
          ]
        },
        {
          "output_type": "stream",
          "name": "stderr",
          "text": [
            "2025/05/26 12:03:30 WARNING dspy.adapters.json_adapter: Failed to use structured output format, falling back to JSON mode.\n",
            "2025/05/26 12:03:35 ERROR dspy.utils.parallelizer: Error for Example({'question': \"Remember Me Ballin' is a CD single by Indo G that features an American rapper born in what year?\", 'answer': '1979'}) (input_keys={'question'}): Both structured output format and JSON mode failed. Please choose a model that supports `response_format` argument. Original error: litellm.RateLimitError: litellm.RateLimitError: VertexAIException - {\n",
            "  \"error\": {\n",
            "    \"code\": 429,\n",
            "    \"message\": \"You exceeded your current quota, please check your plan and billing details. For more information on this error, head to: https://ai.google.dev/gemini-api/docs/rate-limits.\",\n",
            "    \"status\": \"RESOURCE_EXHAUSTED\",\n",
            "    \"details\": [\n",
            "      {\n",
            "        \"@type\": \"type.googleapis.com/google.rpc.QuotaFailure\",\n",
            "        \"violations\": [\n",
            "          {\n",
            "            \"quotaMetric\": \"generativelanguage.googleapis.com/generate_content_free_tier_requests\",\n",
            "            \"quotaId\": \"GenerateRequestsPerMinutePerProjectPerModel-FreeTier\",\n",
            "            \"quotaDimensions\": {\n",
            "              \"location\": \"global\",\n",
            "              \"model\": \"gemini-2.0-flash\"\n",
            "            },\n",
            "            \"quotaValue\": \"15\"\n",
            "          }\n",
            "        ]\n",
            "      },\n",
            "      {\n",
            "        \"@type\": \"type.googleapis.com/google.rpc.Help\",\n",
            "        \"links\": [\n",
            "          {\n",
            "            \"description\": \"Learn more about Gemini API quotas\",\n",
            "            \"url\": \"https://ai.google.dev/gemini-api/docs/rate-limits\"\n",
            "          }\n",
            "        ]\n",
            "      },\n",
            "      {\n",
            "        \"@type\": \"type.googleapis.com/google.rpc.RetryInfo\",\n",
            "        \"retryDelay\": \"24s\"\n",
            "      }\n",
            "    ]\n",
            "  }\n",
            "}\n",
            ". Set `provide_traceback=True` for traceback.\n"
          ]
        },
        {
          "output_type": "stream",
          "name": "stdout",
          "text": [
            "Average Metric: 5.00 / 9 (55.6%): 100%|██████████| 10/10 [00:09<00:00,  1.10it/s]"
          ]
        },
        {
          "output_type": "stream",
          "name": "stderr",
          "text": [
            "2025/05/26 12:03:35 INFO dspy.evaluate.evaluate: Average Metric: 5.0 / 10 (50.0%)\n",
            "2025/05/26 12:03:35 INFO dspy.teleprompt.mipro_optimizer_v2: Score: 50.0 on minibatch of size 10 with parameters ['Predictor 0: Instruction 1', 'Predictor 0: Few-Shot Set 0'].\n",
            "2025/05/26 12:03:35 INFO dspy.teleprompt.mipro_optimizer_v2: Minibatch scores so far: [50.0]\n",
            "2025/05/26 12:03:35 INFO dspy.teleprompt.mipro_optimizer_v2: Full eval scores so far: [44.0]\n",
            "2025/05/26 12:03:35 INFO dspy.teleprompt.mipro_optimizer_v2: Best full score so far: 44.0\n",
            "2025/05/26 12:03:35 INFO dspy.teleprompt.mipro_optimizer_v2: =========================================\n",
            "\n",
            "\n",
            "2025/05/26 12:03:35 INFO dspy.teleprompt.mipro_optimizer_v2: == Trial 3 / 13 - Minibatch ==\n"
          ]
        },
        {
          "output_type": "stream",
          "name": "stdout",
          "text": [
            "\n",
            "[Trial] Q: Do Stu Block and Johnny Bonnel's bands play the same type of music? | Pred: no | GT: no | Score: 1\n",
            "[Trial] Q: Who was the Tennis Masters Cup champion in 2000, Gustavo Kuerten or Stan Wawrinka? | Pred: stan wawrinka | GT: gustavo kuerten | Score: 0\n",
            "[Trial] Q: Who composed \"Sunflower Slow Drag\" with the King of Ragtime? | Pred: scott hayden | GT: scott hayden | Score: 1\n",
            "[Trial] Q: Which movie was released first, Son of Flubber or Davy Crockett, King of the Wild Frontier? | Pred: davy crockett, king of the wild frontier | GT: davy crockett, king of the wild frontier | Score: 1\n",
            "[Trial] Q: Tombstone stared an actor born May 17, 1955 known as who? | Pred: cannot answer. | GT: bill paxton | Score: 0\n",
            "  0%|          | 0/10 [00:00<?, ?it/s][Trial] Q: Who acted in the shot film The Shore and is also the youngest actress ever to play Ophelia in a Royal Shakespeare Company production of \"Hamlet.\" ? | Pred: kerry condon | GT: kerry condon | Score: 1\n",
            "Average Metric: 2.00 / 3 (66.7%):  20%|██        | 2/10 [00:00<00:00, 347.27it/s]\n",
            "Average Metric: 4.00 / 7 (57.1%):  60%|██████    | 6/10 [00:00<00:00, 362.96it/s]"
          ]
        },
        {
          "output_type": "stream",
          "name": "stderr",
          "text": [
            "2025/05/26 12:03:40 WARNING dspy.adapters.json_adapter: Failed to use structured output format, falling back to JSON mode.\n",
            "2025/05/26 12:03:40 WARNING dspy.adapters.json_adapter: Failed to use structured output format, falling back to JSON mode.\n",
            "2025/05/26 12:03:40 WARNING dspy.adapters.json_adapter: Failed to use structured output format, falling back to JSON mode.\n",
            "2025/05/26 12:03:44 ERROR dspy.utils.parallelizer: Error for Example({'question': 'Samantha Cristoforetti and Mark Shuttleworth are both best known for being first in their field to go where? ', 'answer': 'space'}) (input_keys={'question'}): Both structured output format and JSON mode failed. Please choose a model that supports `response_format` argument. Original error: litellm.RateLimitError: litellm.RateLimitError: VertexAIException - {\n",
            "  \"error\": {\n",
            "    \"code\": 429,\n",
            "    \"message\": \"You exceeded your current quota, please check your plan and billing details. For more information on this error, head to: https://ai.google.dev/gemini-api/docs/rate-limits.\",\n",
            "    \"status\": \"RESOURCE_EXHAUSTED\",\n",
            "    \"details\": [\n",
            "      {\n",
            "        \"@type\": \"type.googleapis.com/google.rpc.QuotaFailure\",\n",
            "        \"violations\": [\n",
            "          {\n",
            "            \"quotaMetric\": \"generativelanguage.googleapis.com/generate_content_free_tier_requests\",\n",
            "            \"quotaId\": \"GenerateRequestsPerMinutePerProjectPerModel-FreeTier\",\n",
            "            \"quotaDimensions\": {\n",
            "              \"location\": \"global\",\n",
            "              \"model\": \"gemini-2.0-flash\"\n",
            "            },\n",
            "            \"quotaValue\": \"15\"\n",
            "          }\n",
            "        ]\n",
            "      },\n",
            "      {\n",
            "        \"@type\": \"type.googleapis.com/google.rpc.Help\",\n",
            "        \"links\": [\n",
            "          {\n",
            "            \"description\": \"Learn more about Gemini API quotas\",\n",
            "            \"url\": \"https://ai.google.dev/gemini-api/docs/rate-limits\"\n",
            "          }\n",
            "        ]\n",
            "      },\n",
            "      {\n",
            "        \"@type\": \"type.googleapis.com/google.rpc.RetryInfo\",\n",
            "        \"retryDelay\": \"15s\"\n",
            "      }\n",
            "    ]\n",
            "  }\n",
            "}\n",
            ". Set `provide_traceback=True` for traceback.\n"
          ]
        },
        {
          "output_type": "stream",
          "name": "stdout",
          "text": [
            "Average Metric: 4.00 / 7 (57.1%):  80%|████████  | 8/10 [00:09<00:02,  1.17s/it]"
          ]
        },
        {
          "output_type": "stream",
          "name": "stderr",
          "text": [
            "2025/05/26 12:03:45 ERROR dspy.utils.parallelizer: Error for Example({'question': 'Which band had a longer hiatus, Juliette and the Licks or The Last Shadow Puppets?', 'answer': 'The Last Shadow Puppets'}) (input_keys={'question'}): Both structured output format and JSON mode failed. Please choose a model that supports `response_format` argument. Original error: litellm.RateLimitError: litellm.RateLimitError: VertexAIException - {\n",
            "  \"error\": {\n",
            "    \"code\": 429,\n",
            "    \"message\": \"You exceeded your current quota, please check your plan and billing details. For more information on this error, head to: https://ai.google.dev/gemini-api/docs/rate-limits.\",\n",
            "    \"status\": \"RESOURCE_EXHAUSTED\",\n",
            "    \"details\": [\n",
            "      {\n",
            "        \"@type\": \"type.googleapis.com/google.rpc.QuotaFailure\",\n",
            "        \"violations\": [\n",
            "          {\n",
            "            \"quotaMetric\": \"generativelanguage.googleapis.com/generate_content_free_tier_requests\",\n",
            "            \"quotaId\": \"GenerateRequestsPerMinutePerProjectPerModel-FreeTier\",\n",
            "            \"quotaDimensions\": {\n",
            "              \"location\": \"global\",\n",
            "              \"model\": \"gemini-2.0-flash\"\n",
            "            },\n",
            "            \"quotaValue\": \"15\"\n",
            "          }\n",
            "        ]\n",
            "      },\n",
            "      {\n",
            "        \"@type\": \"type.googleapis.com/google.rpc.Help\",\n",
            "        \"links\": [\n",
            "          {\n",
            "            \"description\": \"Learn more about Gemini API quotas\",\n",
            "            \"url\": \"https://ai.google.dev/gemini-api/docs/rate-limits\"\n",
            "          }\n",
            "        ]\n",
            "      },\n",
            "      {\n",
            "        \"@type\": \"type.googleapis.com/google.rpc.RetryInfo\",\n",
            "        \"retryDelay\": \"14s\"\n",
            "      }\n",
            "    ]\n",
            "  }\n",
            "}\n",
            ". Set `provide_traceback=True` for traceback.\n"
          ]
        },
        {
          "output_type": "stream",
          "name": "stdout",
          "text": [
            "Average Metric: 4.00 / 7 (57.1%):  90%|█████████ | 9/10 [00:09<00:01,  1.03s/it]"
          ]
        },
        {
          "output_type": "stream",
          "name": "stderr",
          "text": [
            "2025/05/26 12:03:45 ERROR dspy.utils.parallelizer: Error for Example({'question': 'Which Pakistani cricket umpire who won 3 consecutive ICC umpire of the year awards in 2009, 2010, and 2011 will be in the ICC World Twenty20?', 'answer': 'Aleem Sarwar Dar'}) (input_keys={'question'}): Both structured output format and JSON mode failed. Please choose a model that supports `response_format` argument. Original error: litellm.RateLimitError: litellm.RateLimitError: VertexAIException - {\n",
            "  \"error\": {\n",
            "    \"code\": 429,\n",
            "    \"message\": \"You exceeded your current quota, please check your plan and billing details. For more information on this error, head to: https://ai.google.dev/gemini-api/docs/rate-limits.\",\n",
            "    \"status\": \"RESOURCE_EXHAUSTED\",\n",
            "    \"details\": [\n",
            "      {\n",
            "        \"@type\": \"type.googleapis.com/google.rpc.QuotaFailure\",\n",
            "        \"violations\": [\n",
            "          {\n",
            "            \"quotaMetric\": \"generativelanguage.googleapis.com/generate_content_free_tier_requests\",\n",
            "            \"quotaId\": \"GenerateRequestsPerMinutePerProjectPerModel-FreeTier\",\n",
            "            \"quotaDimensions\": {\n",
            "              \"model\": \"gemini-2.0-flash\",\n",
            "              \"location\": \"global\"\n",
            "            },\n",
            "            \"quotaValue\": \"15\"\n",
            "          }\n",
            "        ]\n",
            "      },\n",
            "      {\n",
            "        \"@type\": \"type.googleapis.com/google.rpc.Help\",\n",
            "        \"links\": [\n",
            "          {\n",
            "            \"description\": \"Learn more about Gemini API quotas\",\n",
            "            \"url\": \"https://ai.google.dev/gemini-api/docs/rate-limits\"\n",
            "          }\n",
            "        ]\n",
            "      },\n",
            "      {\n",
            "        \"@type\": \"type.googleapis.com/google.rpc.RetryInfo\",\n",
            "        \"retryDelay\": \"14s\"\n",
            "      }\n",
            "    ]\n",
            "  }\n",
            "}\n",
            ". Set `provide_traceback=True` for traceback.\n"
          ]
        },
        {
          "output_type": "stream",
          "name": "stdout",
          "text": [
            "Average Metric: 4.00 / 7 (57.1%): 100%|██████████| 10/10 [00:09<00:00,  1.02it/s]"
          ]
        },
        {
          "output_type": "stream",
          "name": "stderr",
          "text": [
            "2025/05/26 12:03:45 INFO dspy.evaluate.evaluate: Average Metric: 4.0 / 10 (40.0%)\n",
            "2025/05/26 12:03:45 INFO dspy.teleprompt.mipro_optimizer_v2: Score: 40.0 on minibatch of size 10 with parameters ['Predictor 0: Instruction 1', 'Predictor 0: Few-Shot Set 0'].\n",
            "2025/05/26 12:03:45 INFO dspy.teleprompt.mipro_optimizer_v2: Minibatch scores so far: [50.0, 40.0]\n",
            "2025/05/26 12:03:45 INFO dspy.teleprompt.mipro_optimizer_v2: Full eval scores so far: [44.0]\n",
            "2025/05/26 12:03:45 INFO dspy.teleprompt.mipro_optimizer_v2: Best full score so far: 44.0\n",
            "2025/05/26 12:03:45 INFO dspy.teleprompt.mipro_optimizer_v2: =========================================\n",
            "\n",
            "\n",
            "2025/05/26 12:03:45 INFO dspy.teleprompt.mipro_optimizer_v2: == Trial 4 / 13 - Minibatch ==\n"
          ]
        },
        {
          "output_type": "stream",
          "name": "stdout",
          "text": [
            "\n",
            "[Trial] Q: What head of state position was held by Harry S Truman when he gave Harold E Wilson the Medal of Honor? | Pred: president | GT: president of the united states | Score: 0\n",
            "[Trial] Q: What evening cable television station programming block has a show with Ashley Holliday as a cast member? | Pred: nick at nite | GT: nick at nite | Score: 1\n",
            "[Trial] Q: What is the code name for the German offensive that started this Second World War engagement on the Eastern Front (a few hundred kilometers from Moscow) between Soviet and German forces, which included 102nd Infantry Division? | Pred: operation citadel | GT: operation citadel | Score: 1\n",
            "[Trial] Q: This American guitarist best known for her work with the Iron Maidens is an ancestor of a composer who was known as what? | Pred: johann strauss ii | GT: the waltz king | Score: 0\n",
            "[Trial] Q: Who acted in the shot film The Shore and is also the youngest actress ever to play Ophelia in a Royal Shakespeare Company production of \"Hamlet.\" ? | Pred: kerry condon | GT: kerry condon | Score: 1\n",
            "[Trial] Q: \"Everything Has Changed\" is a song from an album released under which record label ? | Pred: big machine records | GT: big machine records | Score: 1\n",
            "[Trial] Q: Which Pakistani cricket umpire who won 3 consecutive ICC umpire of the year awards in 2009, 2010, and 2011 will be in the ICC World Twenty20? | Pred: aleem dar | GT: aleem sarwar dar | Score: 0\n",
            "[Trial] Q: Who was the Tennis Masters Cup champion in 2000, Gustavo Kuerten or Stan Wawrinka? | Pred: neither | GT: gustavo kuerten | Score: 0\n",
            "[Trial] Q: Who composed \"Sunflower Slow Drag\" with the King of Ragtime? | Pred: scott hayden | GT: scott hayden | Score: 1\n",
            "Average Metric: 5.00 / 9 (55.6%):  80%|████████  | 8/10 [00:00<00:00, 478.41it/s][Trial] Q: Having the combination of excellent foot speed and bat speed helped Eric Davis, create what kind of outfield for the Los Angeles Dodgers?  | Pred: outfield of dreams | GT: \"outfield of dreams\" | Score: 0\n",
            "Average Metric: 5.00 / 10 (50.0%): 100%|██████████| 10/10 [00:00<00:00, 139.18it/s]"
          ]
        },
        {
          "output_type": "stream",
          "name": "stderr",
          "text": [
            "2025/05/26 12:03:45 INFO dspy.evaluate.evaluate: Average Metric: 5 / 10 (50.0%)\n",
            "2025/05/26 12:03:45 INFO dspy.teleprompt.mipro_optimizer_v2: Score: 50.0 on minibatch of size 10 with parameters ['Predictor 0: Instruction 1', 'Predictor 0: Few-Shot Set 1'].\n",
            "2025/05/26 12:03:45 INFO dspy.teleprompt.mipro_optimizer_v2: Minibatch scores so far: [50.0, 40.0, 50.0]\n",
            "2025/05/26 12:03:45 INFO dspy.teleprompt.mipro_optimizer_v2: Full eval scores so far: [44.0]\n",
            "2025/05/26 12:03:45 INFO dspy.teleprompt.mipro_optimizer_v2: Best full score so far: 44.0\n",
            "2025/05/26 12:03:45 INFO dspy.teleprompt.mipro_optimizer_v2: =========================================\n",
            "\n",
            "\n",
            "2025/05/26 12:03:45 INFO dspy.teleprompt.mipro_optimizer_v2: == Trial 5 / 13 - Minibatch ==\n"
          ]
        },
        {
          "output_type": "stream",
          "name": "stdout",
          "text": [
            "\n",
            "[Trial] Q: Which movie was released first, Son of Flubber or Davy Crockett, King of the Wild Frontier? | Pred: davy crockett, king of the wild frontier | GT: davy crockett, king of the wild frontier | Score: 1\n",
            "[Trial] Q: The Organisation that allows a community to influence their operation or use and to enjoy the benefits arisingwas founded in what year? | Pred: 1992 | GT: 2010 | Score: 0\n",
            "[Trial] Q: Having the combination of excellent foot speed and bat speed helped Eric Davis, create what kind of outfield for the Los Angeles Dodgers?  | Pred: outfield of dreams | GT: \"outfield of dreams\" | Score: 0\n",
            "[Trial] Q: Who was coach of the No. 9-ranked team that was upset in the NCAA Tournament by the 2014-15 UAB Blazers men's basketball team?   | Pred: coach's name not provided. | GT: fred hoiberg | Score: 0\n",
            "[Trial] Q: Who is older, Aleksandr Danilovich Aleksandrov or Anatoly Fomenko? | Pred: cannot determine. | GT: aleksandr danilovich aleksandrov | Score: 0\n",
            "[Trial] Q: Tombstone stared an actor born May 17, 1955 known as who? | Pred: unknown | GT: bill paxton | Score: 0\n",
            "[Trial] Q: Who composed \"Sunflower Slow Drag\" with the King of Ragtime? | Pred: scott hayden | GT: scott hayden | Score: 1\n",
            "[Trial] Q: This American guitarist best known for her work with the Iron Maidens is an ancestor of a composer who was known as what? | Pred: johann strauss ii | GT: the waltz king | Score: 0\n",
            "[Trial] Q: Which American actress who made their film debut in the 1995 teen drama \"Kids\" was the co-founder of Voto Latino? | Pred: rosario dawson | GT: rosario dawson | Score: 1\n",
            "[Trial] Q: Who was the Tennis Masters Cup champion in 2000, Gustavo Kuerten or Stan Wawrinka? | Pred: gustavo kuerten | GT: gustavo kuerten | Score: 1\n",
            "Average Metric: 4.00 / 10 (40.0%): 100%|██████████| 10/10 [00:00<00:00, 1190.01it/s]"
          ]
        },
        {
          "output_type": "stream",
          "name": "stderr",
          "text": [
            "2025/05/26 12:03:45 INFO dspy.evaluate.evaluate: Average Metric: 4 / 10 (40.0%)\n",
            "2025/05/26 12:03:45 INFO dspy.teleprompt.mipro_optimizer_v2: Score: 40.0 on minibatch of size 10 with parameters ['Predictor 0: Instruction 0', 'Predictor 0: Few-Shot Set 0'].\n",
            "2025/05/26 12:03:45 INFO dspy.teleprompt.mipro_optimizer_v2: Minibatch scores so far: [50.0, 40.0, 50.0, 40.0]\n",
            "2025/05/26 12:03:45 INFO dspy.teleprompt.mipro_optimizer_v2: Full eval scores so far: [44.0]\n",
            "2025/05/26 12:03:45 INFO dspy.teleprompt.mipro_optimizer_v2: Best full score so far: 44.0\n",
            "2025/05/26 12:03:45 INFO dspy.teleprompt.mipro_optimizer_v2: =========================================\n",
            "\n",
            "\n",
            "2025/05/26 12:03:45 INFO dspy.teleprompt.mipro_optimizer_v2: == Trial 6 / 13 - Minibatch ==\n"
          ]
        },
        {
          "output_type": "stream",
          "name": "stdout",
          "text": [
            "\n",
            "  0%|          | 0/10 [00:00<?, ?it/s][Trial] Q: Are Baltasar Kormákur and John G. Avildsen both film producers? | Pred: i don't know. | GT: no | Score: 0\n",
            "Average Metric: 0.00 / 1 (0.0%):  10%|█         | 1/10 [00:02<00:22,  2.53s/it]"
          ]
        },
        {
          "output_type": "stream",
          "name": "stderr",
          "text": [
            "2025/05/26 12:03:51 WARNING dspy.adapters.json_adapter: Failed to use structured output format, falling back to JSON mode.\n",
            "2025/05/26 12:03:52 WARNING dspy.adapters.json_adapter: Failed to use structured output format, falling back to JSON mode.\n",
            "2025/05/26 12:03:53 WARNING dspy.adapters.json_adapter: Failed to use structured output format, falling back to JSON mode.\n",
            "2025/05/26 12:03:53 WARNING dspy.adapters.json_adapter: Failed to use structured output format, falling back to JSON mode.\n",
            "2025/05/26 12:03:53 WARNING dspy.adapters.json_adapter: Failed to use structured output format, falling back to JSON mode.\n",
            "2025/05/26 12:03:54 WARNING dspy.adapters.json_adapter: Failed to use structured output format, falling back to JSON mode.\n",
            "2025/05/26 12:03:54 WARNING dspy.adapters.json_adapter: Failed to use structured output format, falling back to JSON mode.\n",
            "2025/05/26 12:03:55 WARNING dspy.adapters.json_adapter: Failed to use structured output format, falling back to JSON mode.\n",
            "2025/05/26 12:03:56 ERROR dspy.utils.parallelizer: Error for Example({'question': 'Tombstone stared an actor born May 17, 1955 known as who?', 'answer': 'Bill Paxton'}) (input_keys={'question'}): Both structured output format and JSON mode failed. Please choose a model that supports `response_format` argument. Original error: litellm.RateLimitError: litellm.RateLimitError: VertexAIException - {\n",
            "  \"error\": {\n",
            "    \"code\": 429,\n",
            "    \"message\": \"You exceeded your current quota, please check your plan and billing details. For more information on this error, head to: https://ai.google.dev/gemini-api/docs/rate-limits.\",\n",
            "    \"status\": \"RESOURCE_EXHAUSTED\",\n",
            "    \"details\": [\n",
            "      {\n",
            "        \"@type\": \"type.googleapis.com/google.rpc.QuotaFailure\",\n",
            "        \"violations\": [\n",
            "          {\n",
            "            \"quotaMetric\": \"generativelanguage.googleapis.com/generate_content_free_tier_requests\",\n",
            "            \"quotaId\": \"GenerateRequestsPerMinutePerProjectPerModel-FreeTier\",\n",
            "            \"quotaDimensions\": {\n",
            "              \"location\": \"global\",\n",
            "              \"model\": \"gemini-2.0-flash\"\n",
            "            },\n",
            "            \"quotaValue\": \"15\"\n",
            "          }\n",
            "        ]\n",
            "      },\n",
            "      {\n",
            "        \"@type\": \"type.googleapis.com/google.rpc.Help\",\n",
            "        \"links\": [\n",
            "          {\n",
            "            \"description\": \"Learn more about Gemini API quotas\",\n",
            "            \"url\": \"https://ai.google.dev/gemini-api/docs/rate-limits\"\n",
            "          }\n",
            "        ]\n",
            "      },\n",
            "      {\n",
            "        \"@type\": \"type.googleapis.com/google.rpc.RetryInfo\",\n",
            "        \"retryDelay\": \"3s\"\n",
            "      }\n",
            "    ]\n",
            "  }\n",
            "}\n",
            ". Set `provide_traceback=True` for traceback.\n"
          ]
        },
        {
          "output_type": "stream",
          "name": "stdout",
          "text": [
            "Average Metric: 0.00 / 1 (0.0%):  20%|██        | 2/10 [00:10<00:46,  5.85s/it]"
          ]
        },
        {
          "output_type": "stream",
          "name": "stderr",
          "text": [
            "2025/05/26 12:03:57 ERROR dspy.utils.parallelizer: Error for Example({'question': 'Who acted in the shot film The Shore and is also the youngest actress ever to play Ophelia in a Royal Shakespeare Company production of \"Hamlet.\" ?', 'answer': 'Kerry Condon'}) (input_keys={'question'}): Both structured output format and JSON mode failed. Please choose a model that supports `response_format` argument. Original error: litellm.RateLimitError: litellm.RateLimitError: VertexAIException - {\n",
            "  \"error\": {\n",
            "    \"code\": 429,\n",
            "    \"message\": \"You exceeded your current quota, please check your plan and billing details. For more information on this error, head to: https://ai.google.dev/gemini-api/docs/rate-limits.\",\n",
            "    \"status\": \"RESOURCE_EXHAUSTED\",\n",
            "    \"details\": [\n",
            "      {\n",
            "        \"@type\": \"type.googleapis.com/google.rpc.QuotaFailure\",\n",
            "        \"violations\": [\n",
            "          {\n",
            "            \"quotaMetric\": \"generativelanguage.googleapis.com/generate_content_free_tier_requests\",\n",
            "            \"quotaId\": \"GenerateRequestsPerMinutePerProjectPerModel-FreeTier\",\n",
            "            \"quotaDimensions\": {\n",
            "              \"model\": \"gemini-2.0-flash\",\n",
            "              \"location\": \"global\"\n",
            "            },\n",
            "            \"quotaValue\": \"15\"\n",
            "          }\n",
            "        ]\n",
            "      },\n",
            "      {\n",
            "        \"@type\": \"type.googleapis.com/google.rpc.Help\",\n",
            "        \"links\": [\n",
            "          {\n",
            "            \"description\": \"Learn more about Gemini API quotas\",\n",
            "            \"url\": \"https://ai.google.dev/gemini-api/docs/rate-limits\"\n",
            "          }\n",
            "        ]\n",
            "      },\n",
            "      {\n",
            "        \"@type\": \"type.googleapis.com/google.rpc.RetryInfo\",\n",
            "        \"retryDelay\": \"2s\"\n",
            "      }\n",
            "    ]\n",
            "  }\n",
            "}\n",
            ". Set `provide_traceback=True` for traceback.\n"
          ]
        },
        {
          "output_type": "stream",
          "name": "stdout",
          "text": [
            "Average Metric: 0.00 / 1 (0.0%):  30%|███       | 3/10 [00:12<00:26,  3.86s/it]"
          ]
        },
        {
          "output_type": "stream",
          "name": "stderr",
          "text": [
            "2025/05/26 12:03:59 ERROR dspy.utils.parallelizer: Error for Example({'question': 'This American guitarist best known for her work with the Iron Maidens is an ancestor of a composer who was known as what?', 'answer': 'The Waltz King'}) (input_keys={'question'}): Both structured output format and JSON mode failed. Please choose a model that supports `response_format` argument. Original error: litellm.RateLimitError: litellm.RateLimitError: VertexAIException - {\n",
            "  \"error\": {\n",
            "    \"code\": 429,\n",
            "    \"message\": \"You exceeded your current quota, please check your plan and billing details. For more information on this error, head to: https://ai.google.dev/gemini-api/docs/rate-limits.\",\n",
            "    \"status\": \"RESOURCE_EXHAUSTED\",\n",
            "    \"details\": [\n",
            "      {\n",
            "        \"@type\": \"type.googleapis.com/google.rpc.QuotaFailure\",\n",
            "        \"violations\": [\n",
            "          {\n",
            "            \"quotaMetric\": \"generativelanguage.googleapis.com/generate_content_free_tier_requests\",\n",
            "            \"quotaId\": \"GenerateRequestsPerMinutePerProjectPerModel-FreeTier\",\n",
            "            \"quotaDimensions\": {\n",
            "              \"location\": \"global\",\n",
            "              \"model\": \"gemini-2.0-flash\"\n",
            "            },\n",
            "            \"quotaValue\": \"15\"\n",
            "          }\n",
            "        ]\n",
            "      },\n",
            "      {\n",
            "        \"@type\": \"type.googleapis.com/google.rpc.Help\",\n",
            "        \"links\": [\n",
            "          {\n",
            "            \"description\": \"Learn more about Gemini API quotas\",\n",
            "            \"url\": \"https://ai.google.dev/gemini-api/docs/rate-limits\"\n",
            "          }\n",
            "        ]\n",
            "      },\n",
            "      {\n",
            "        \"@type\": \"type.googleapis.com/google.rpc.RetryInfo\",\n",
            "        \"retryDelay\": \"0s\"\n",
            "      }\n",
            "    ]\n",
            "  }\n",
            "}\n",
            ". Set `provide_traceback=True` for traceback.\n"
          ]
        },
        {
          "output_type": "stream",
          "name": "stdout",
          "text": [
            "Average Metric: 0.00 / 1 (0.0%):  40%|████      | 4/10 [00:14<00:18,  3.09s/it]"
          ]
        },
        {
          "output_type": "stream",
          "name": "stderr",
          "text": [
            "2025/05/26 12:04:00 ERROR dspy.utils.parallelizer: Error for Example({'question': 'Which Pakistani cricket umpire who won 3 consecutive ICC umpire of the year awards in 2009, 2010, and 2011 will be in the ICC World Twenty20?', 'answer': 'Aleem Sarwar Dar'}) (input_keys={'question'}): Both structured output format and JSON mode failed. Please choose a model that supports `response_format` argument. Original error: litellm.RateLimitError: litellm.RateLimitError: VertexAIException - {\n",
            "  \"error\": {\n",
            "    \"code\": 429,\n",
            "    \"message\": \"You exceeded your current quota, please check your plan and billing details. For more information on this error, head to: https://ai.google.dev/gemini-api/docs/rate-limits.\",\n",
            "    \"status\": \"RESOURCE_EXHAUSTED\",\n",
            "    \"details\": [\n",
            "      {\n",
            "        \"@type\": \"type.googleapis.com/google.rpc.QuotaFailure\",\n",
            "        \"violations\": [\n",
            "          {\n",
            "            \"quotaMetric\": \"generativelanguage.googleapis.com/generate_content_free_tier_requests\",\n",
            "            \"quotaId\": \"GenerateRequestsPerMinutePerProjectPerModel-FreeTier\",\n",
            "            \"quotaDimensions\": {\n",
            "              \"location\": \"global\",\n",
            "              \"model\": \"gemini-2.0-flash\"\n",
            "            },\n",
            "            \"quotaValue\": \"15\"\n",
            "          }\n",
            "        ]\n",
            "      },\n",
            "      {\n",
            "        \"@type\": \"type.googleapis.com/google.rpc.Help\",\n",
            "        \"links\": [\n",
            "          {\n",
            "            \"description\": \"Learn more about Gemini API quotas\",\n",
            "            \"url\": \"https://ai.google.dev/gemini-api/docs/rate-limits\"\n",
            "          }\n",
            "        ]\n",
            "      },\n",
            "      {\n",
            "        \"@type\": \"type.googleapis.com/google.rpc.RetryInfo\",\n",
            "        \"retryDelay\": \"59s\"\n",
            "      }\n",
            "    ]\n",
            "  }\n",
            "}\n",
            ". Set `provide_traceback=True` for traceback.\n"
          ]
        },
        {
          "output_type": "stream",
          "name": "stdout",
          "text": [
            "Average Metric: 0.00 / 1 (0.0%):  50%|█████     | 5/10 [00:14<00:10,  2.07s/it]"
          ]
        },
        {
          "output_type": "stream",
          "name": "stderr",
          "text": [
            "2025/05/26 12:04:00 ERROR dspy.utils.parallelizer: Error for Example({'question': 'Which American actress who made their film debut in the 1995 teen drama \"Kids\" was the co-founder of Voto Latino?', 'answer': 'Rosario Dawson'}) (input_keys={'question'}): Both structured output format and JSON mode failed. Please choose a model that supports `response_format` argument. Original error: litellm.RateLimitError: litellm.RateLimitError: VertexAIException - {\n",
            "  \"error\": {\n",
            "    \"code\": 429,\n",
            "    \"message\": \"You exceeded your current quota, please check your plan and billing details. For more information on this error, head to: https://ai.google.dev/gemini-api/docs/rate-limits.\",\n",
            "    \"status\": \"RESOURCE_EXHAUSTED\",\n",
            "    \"details\": [\n",
            "      {\n",
            "        \"@type\": \"type.googleapis.com/google.rpc.QuotaFailure\",\n",
            "        \"violations\": [\n",
            "          {\n",
            "            \"quotaMetric\": \"generativelanguage.googleapis.com/generate_content_free_tier_requests\",\n",
            "            \"quotaId\": \"GenerateRequestsPerMinutePerProjectPerModel-FreeTier\",\n",
            "            \"quotaDimensions\": {\n",
            "              \"location\": \"global\",\n",
            "              \"model\": \"gemini-2.0-flash\"\n",
            "            },\n",
            "            \"quotaValue\": \"15\"\n",
            "          }\n",
            "        ]\n",
            "      },\n",
            "      {\n",
            "        \"@type\": \"type.googleapis.com/google.rpc.Help\",\n",
            "        \"links\": [\n",
            "          {\n",
            "            \"description\": \"Learn more about Gemini API quotas\",\n",
            "            \"url\": \"https://ai.google.dev/gemini-api/docs/rate-limits\"\n",
            "          }\n",
            "        ]\n",
            "      },\n",
            "      {\n",
            "        \"@type\": \"type.googleapis.com/google.rpc.RetryInfo\",\n",
            "        \"retryDelay\": \"59s\"\n",
            "      }\n",
            "    ]\n",
            "  }\n",
            "}\n",
            ". Set `provide_traceback=True` for traceback.\n"
          ]
        },
        {
          "output_type": "stream",
          "name": "stdout",
          "text": [
            "\rAverage Metric: 0.00 / 1 (0.0%):  50%|█████     | 5/10 [00:14<00:10,  2.07s/it]"
          ]
        },
        {
          "output_type": "stream",
          "name": "stderr",
          "text": [
            "2025/05/26 12:04:00 ERROR dspy.utils.parallelizer: Error for Example({'question': 'Who was the Tennis Masters Cup champion in 2000, Gustavo Kuerten or Stan Wawrinka?', 'answer': 'Gustavo Kuerten'}) (input_keys={'question'}): Both structured output format and JSON mode failed. Please choose a model that supports `response_format` argument. Original error: litellm.RateLimitError: litellm.RateLimitError: VertexAIException - {\n",
            "  \"error\": {\n",
            "    \"code\": 429,\n",
            "    \"message\": \"You exceeded your current quota, please check your plan and billing details. For more information on this error, head to: https://ai.google.dev/gemini-api/docs/rate-limits.\",\n",
            "    \"status\": \"RESOURCE_EXHAUSTED\",\n",
            "    \"details\": [\n",
            "      {\n",
            "        \"@type\": \"type.googleapis.com/google.rpc.QuotaFailure\",\n",
            "        \"violations\": [\n",
            "          {\n",
            "            \"quotaMetric\": \"generativelanguage.googleapis.com/generate_content_free_tier_requests\",\n",
            "            \"quotaId\": \"GenerateRequestsPerMinutePerProjectPerModel-FreeTier\",\n",
            "            \"quotaDimensions\": {\n",
            "              \"location\": \"global\",\n",
            "              \"model\": \"gemini-2.0-flash\"\n",
            "            },\n",
            "            \"quotaValue\": \"15\"\n",
            "          }\n",
            "        ]\n",
            "      },\n",
            "      {\n",
            "        \"@type\": \"type.googleapis.com/google.rpc.Help\",\n",
            "        \"links\": [\n",
            "          {\n",
            "            \"description\": \"Learn more about Gemini API quotas\",\n",
            "            \"url\": \"https://ai.google.dev/gemini-api/docs/rate-limits\"\n",
            "          }\n",
            "        ]\n",
            "      },\n",
            "      {\n",
            "        \"@type\": \"type.googleapis.com/google.rpc.RetryInfo\",\n",
            "        \"retryDelay\": \"59s\"\n",
            "      }\n",
            "    ]\n",
            "  }\n",
            "}\n",
            ". Set `provide_traceback=True` for traceback.\n"
          ]
        },
        {
          "output_type": "stream",
          "name": "stdout",
          "text": [
            "Average Metric: 0.00 / 1 (0.0%):  60%|██████    | 6/10 [00:14<00:05,  1.42s/it]"
          ]
        },
        {
          "output_type": "stream",
          "name": "stderr",
          "text": [
            "2025/05/26 12:04:00 ERROR dspy.utils.parallelizer: Error for Example({'question': 'Which band had a longer hiatus, Juliette and the Licks or The Last Shadow Puppets?', 'answer': 'The Last Shadow Puppets'}) (input_keys={'question'}): Both structured output format and JSON mode failed. Please choose a model that supports `response_format` argument. Original error: litellm.RateLimitError: litellm.RateLimitError: VertexAIException - {\n",
            "  \"error\": {\n",
            "    \"code\": 429,\n",
            "    \"message\": \"You exceeded your current quota, please check your plan and billing details. For more information on this error, head to: https://ai.google.dev/gemini-api/docs/rate-limits.\",\n",
            "    \"status\": \"RESOURCE_EXHAUSTED\",\n",
            "    \"details\": [\n",
            "      {\n",
            "        \"@type\": \"type.googleapis.com/google.rpc.QuotaFailure\",\n",
            "        \"violations\": [\n",
            "          {\n",
            "            \"quotaMetric\": \"generativelanguage.googleapis.com/generate_content_free_tier_requests\",\n",
            "            \"quotaId\": \"GenerateRequestsPerMinutePerProjectPerModel-FreeTier\",\n",
            "            \"quotaDimensions\": {\n",
            "              \"location\": \"global\",\n",
            "              \"model\": \"gemini-2.0-flash\"\n",
            "            },\n",
            "            \"quotaValue\": \"15\"\n",
            "          }\n",
            "        ]\n",
            "      },\n",
            "      {\n",
            "        \"@type\": \"type.googleapis.com/google.rpc.Help\",\n",
            "        \"links\": [\n",
            "          {\n",
            "            \"description\": \"Learn more about Gemini API quotas\",\n",
            "            \"url\": \"https://ai.google.dev/gemini-api/docs/rate-limits\"\n",
            "          }\n",
            "        ]\n",
            "      },\n",
            "      {\n",
            "        \"@type\": \"type.googleapis.com/google.rpc.RetryInfo\",\n",
            "        \"retryDelay\": \"59s\"\n",
            "      }\n",
            "    ]\n",
            "  }\n",
            "}\n",
            ". Set `provide_traceback=True` for traceback.\n"
          ]
        },
        {
          "output_type": "stream",
          "name": "stdout",
          "text": [
            "\rAverage Metric: 0.00 / 1 (0.0%):  70%|███████   | 7/10 [00:14<00:04,  1.42s/it]"
          ]
        },
        {
          "output_type": "stream",
          "name": "stderr",
          "text": [
            "2025/05/26 12:04:00 ERROR dspy.utils.parallelizer: Error for Example({'question': 'Which company distributed this 1977 American animated film produced by Walt Disney Productions for which Sherman Brothers wrote songs?', 'answer': 'Buena Vista Distribution'}) (input_keys={'question'}): Both structured output format and JSON mode failed. Please choose a model that supports `response_format` argument. Original error: litellm.RateLimitError: litellm.RateLimitError: VertexAIException - {\n",
            "  \"error\": {\n",
            "    \"code\": 429,\n",
            "    \"message\": \"You exceeded your current quota, please check your plan and billing details. For more information on this error, head to: https://ai.google.dev/gemini-api/docs/rate-limits.\",\n",
            "    \"status\": \"RESOURCE_EXHAUSTED\",\n",
            "    \"details\": [\n",
            "      {\n",
            "        \"@type\": \"type.googleapis.com/google.rpc.QuotaFailure\",\n",
            "        \"violations\": [\n",
            "          {\n",
            "            \"quotaMetric\": \"generativelanguage.googleapis.com/generate_content_free_tier_requests\",\n",
            "            \"quotaId\": \"GenerateRequestsPerMinutePerProjectPerModel-FreeTier\",\n",
            "            \"quotaDimensions\": {\n",
            "              \"location\": \"global\",\n",
            "              \"model\": \"gemini-2.0-flash\"\n",
            "            },\n",
            "            \"quotaValue\": \"15\"\n",
            "          }\n",
            "        ]\n",
            "      },\n",
            "      {\n",
            "        \"@type\": \"type.googleapis.com/google.rpc.Help\",\n",
            "        \"links\": [\n",
            "          {\n",
            "            \"description\": \"Learn more about Gemini API quotas\",\n",
            "            \"url\": \"https://ai.google.dev/gemini-api/docs/rate-limits\"\n",
            "          }\n",
            "        ]\n",
            "      },\n",
            "      {\n",
            "        \"@type\": \"type.googleapis.com/google.rpc.RetryInfo\",\n",
            "        \"retryDelay\": \"59s\"\n",
            "      }\n",
            "    ]\n",
            "  }\n",
            "}\n",
            ". Set `provide_traceback=True` for traceback.\n"
          ]
        },
        {
          "output_type": "stream",
          "name": "stdout",
          "text": [
            "Average Metric: 0.00 / 1 (0.0%):  90%|█████████ | 9/10 [00:14<00:00,  1.64it/s]"
          ]
        },
        {
          "output_type": "stream",
          "name": "stderr",
          "text": [
            "2025/05/26 12:04:01 WARNING dspy.adapters.json_adapter: Failed to use structured output format, falling back to JSON mode.\n",
            "2025/05/26 12:04:05 ERROR dspy.utils.parallelizer: Error for Example({'question': 'How old is the fossil record of the order that contains the only strictly marine herbivorous mammal?', 'answer': '50-million-year-old fossil record'}) (input_keys={'question'}): Both structured output format and JSON mode failed. Please choose a model that supports `response_format` argument. Original error: litellm.RateLimitError: litellm.RateLimitError: VertexAIException - {\n",
            "  \"error\": {\n",
            "    \"code\": 429,\n",
            "    \"message\": \"You exceeded your current quota, please check your plan and billing details. For more information on this error, head to: https://ai.google.dev/gemini-api/docs/rate-limits.\",\n",
            "    \"status\": \"RESOURCE_EXHAUSTED\",\n",
            "    \"details\": [\n",
            "      {\n",
            "        \"@type\": \"type.googleapis.com/google.rpc.QuotaFailure\",\n",
            "        \"violations\": [\n",
            "          {\n",
            "            \"quotaMetric\": \"generativelanguage.googleapis.com/generate_content_free_tier_requests\",\n",
            "            \"quotaId\": \"GenerateRequestsPerMinutePerProjectPerModel-FreeTier\",\n",
            "            \"quotaDimensions\": {\n",
            "              \"location\": \"global\",\n",
            "              \"model\": \"gemini-2.0-flash\"\n",
            "            },\n",
            "            \"quotaValue\": \"15\"\n",
            "          }\n",
            "        ]\n",
            "      },\n",
            "      {\n",
            "        \"@type\": \"type.googleapis.com/google.rpc.Help\",\n",
            "        \"links\": [\n",
            "          {\n",
            "            \"description\": \"Learn more about Gemini API quotas\",\n",
            "            \"url\": \"https://ai.google.dev/gemini-api/docs/rate-limits\"\n",
            "          }\n",
            "        ]\n",
            "      },\n",
            "      {\n",
            "        \"@type\": \"type.googleapis.com/google.rpc.RetryInfo\",\n",
            "        \"retryDelay\": \"54s\"\n",
            "      }\n",
            "    ]\n",
            "  }\n",
            "}\n",
            ". Set `provide_traceback=True` for traceback.\n"
          ]
        },
        {
          "output_type": "stream",
          "name": "stdout",
          "text": [
            "Average Metric: 0.00 / 1 (0.0%): 100%|██████████| 10/10 [00:20<00:00,  2.00s/it]"
          ]
        },
        {
          "output_type": "stream",
          "name": "stderr",
          "text": [
            "2025/05/26 12:04:05 INFO dspy.evaluate.evaluate: Average Metric: 0.0 / 10 (0.0%)\n",
            "2025/05/26 12:04:05 INFO dspy.teleprompt.mipro_optimizer_v2: Score: 0.0 on minibatch of size 10 with parameters ['Predictor 0: Instruction 0', 'Predictor 0: Few-Shot Set 1'].\n",
            "2025/05/26 12:04:05 INFO dspy.teleprompt.mipro_optimizer_v2: Minibatch scores so far: [50.0, 40.0, 50.0, 40.0, 0.0]\n",
            "2025/05/26 12:04:05 INFO dspy.teleprompt.mipro_optimizer_v2: Full eval scores so far: [44.0]\n",
            "2025/05/26 12:04:05 INFO dspy.teleprompt.mipro_optimizer_v2: Best full score so far: 44.0\n",
            "2025/05/26 12:04:05 INFO dspy.teleprompt.mipro_optimizer_v2: =========================================\n",
            "\n",
            "\n",
            "2025/05/26 12:04:05 INFO dspy.teleprompt.mipro_optimizer_v2: ===== Trial 7 / 13 - Full Evaluation =====\n",
            "2025/05/26 12:04:05 INFO dspy.teleprompt.mipro_optimizer_v2: Doing full eval on next top averaging program (Avg Score: 50.0) from minibatch trials...\n"
          ]
        },
        {
          "output_type": "stream",
          "name": "stdout",
          "text": [
            "\n",
            "[Trial] Q: What is the code name for the German offensive that started this Second World War engagement on the Eastern Front (a few hundred kilometers from Moscow) between Soviet and German forces, which included 102nd Infantry Division? | Pred: operation citadel | GT: operation citadel | Score: 1\n",
            "[Trial] Q: Who acted in the shot film The Shore and is also the youngest actress ever to play Ophelia in a Royal Shakespeare Company production of \"Hamlet.\" ? | Pred: kerry condon | GT: kerry condon | Score: 1\n",
            "[Trial] Q: Having the combination of excellent foot speed and bat speed helped Eric Davis, create what kind of outfield for the Los Angeles Dodgers?  | Pred: outfield of dreams | GT: \"outfield of dreams\" | Score: 0\n",
            "[Trial] Q: Which Pakistani cricket umpire who won 3 consecutive ICC umpire of the year awards in 2009, 2010, and 2011 will be in the ICC World Twenty20? | Pred: aleem dar | GT: aleem sarwar dar | Score: 0\n",
            "[Trial] Q: \"Everything Has Changed\" is a song from an album released under which record label ? | Pred: big machine records | GT: big machine records | Score: 1\n",
            "Average Metric: 3.00 / 5 (60.0%):  16%|█▌        | 4/25 [00:00<00:00, 320.66it/s] [Trial] Q: This American guitarist best known for her work with the Iron Maidens is an ancestor of a composer who was known as what? | Pred: johann strauss ii | GT: the waltz king | Score: 0\n",
            "[Trial] Q: Who was the Tennis Masters Cup champion in 2000, Gustavo Kuerten or Stan Wawrinka? | Pred: neither | GT: gustavo kuerten | Score: 0\n",
            "Average Metric: 3.00 / 7 (42.9%):  24%|██▍       | 6/25 [00:00<00:00, 140.71it/s][Trial] Q: Samantha Cristoforetti and Mark Shuttleworth are both best known for being first in their field to go where?  | Pred: space | GT: space | Score: 1\n",
            "[Trial] Q: Are Baltasar Kormákur and John G. Avildsen both film producers? | Pred: cannot be determined | GT: no | Score: 0\n",
            "[Trial] Q: What head of state position was held by Harry S Truman when he gave Harold E Wilson the Medal of Honor? | Pred: president | GT: president of the united states | Score: 0\n",
            "Average Metric: 4.00 / 10 (40.0%):  36%|███▌      | 9/25 [00:04<00:09,  1.73it/s][Trial] Q: The Organisation that allows a community to influence their operation or use and to enjoy the benefits arisingwas founded in what year? | Pred: unknown | GT: 2010 | Score: 0\n",
            "[Trial] Q: What evening cable television station programming block has a show with Ashley Holliday as a cast member? | Pred: nick at nite | GT: nick at nite | Score: 1\n",
            "Average Metric: 5.00 / 12 (41.7%):  44%|████▍     | 11/25 [00:05<00:06,  2.26it/s]"
          ]
        },
        {
          "output_type": "stream",
          "name": "stderr",
          "text": [
            "2025/05/26 12:04:11 WARNING dspy.adapters.json_adapter: Failed to use structured output format, falling back to JSON mode.\n"
          ]
        },
        {
          "output_type": "stream",
          "name": "stdout",
          "text": [
            "[Trial] Q: Do Stu Block and Johnny Bonnel's bands play the same type of music? | Pred: no | GT: no | Score: 1\n",
            "Average Metric: 6.00 / 13 (46.2%):  48%|████▊     | 12/25 [00:06<00:05,  2.26it/s][Trial] Q: What person does Wormholes in fiction and Nathan Rosen have in common? | Pred: einstein-rosen bridge | GT: einstein | Score: 0\n",
            "Average Metric: 6.00 / 14 (42.9%):  52%|█████▏    | 13/25 [00:06<00:05,  2.24it/s][Trial] Q: Which American actress who made their film debut in the 1995 teen drama \"Kids\" was the co-founder of Voto Latino? | Pred: rosario dawson | GT: rosario dawson | Score: 1\n",
            "Average Metric: 7.00 / 15 (46.7%):  60%|██████    | 15/25 [00:06<00:03,  2.91it/s][Trial] Q: Who composed \"Sunflower Slow Drag\" with the King of Ragtime? | Pred: scott hayden | GT: scott hayden | Score: 1\n",
            "Average Metric: 8.00 / 16 (50.0%):  60%|██████    | 15/25 [00:06<00:03,  2.91it/s][Trial] Q: Who is older, Aleksandr Danilovich Aleksandrov or Anatoly Fomenko? | Pred: cannot determine | GT: aleksandr danilovich aleksandrov | Score: 0\n",
            "Average Metric: 8.00 / 17 (47.1%):  68%|██████▊   | 17/25 [00:06<00:02,  3.59it/s][Trial] Q: On the coast of what ocean is the birthplace of Diogal Sakho? | Pred: atlantic ocean | GT: atlantic | Score: 0\n",
            "Average Metric: 8.00 / 18 (44.4%):  72%|███████▏  | 18/25 [00:06<00:01,  3.60it/s][Trial] Q: Which company distributed this 1977 American animated film produced by Walt Disney Productions for which Sherman Brothers wrote songs? | Pred: buena vista distribution company | GT: buena vista distribution | Score: 0\n",
            "Average Metric: 8.00 / 19 (42.1%):  76%|███████▌  | 19/25 [00:06<00:01,  3.71it/s][Trial] Q: Tombstone stared an actor born May 17, 1955 known as who? | Pred: no information provided. | GT: bill paxton | Score: 0\n",
            "Average Metric: 8.00 / 20 (40.0%):  80%|████████  | 20/25 [00:07<00:01,  3.28it/s][Trial] Q: Who was coach of the No. 9-ranked team that was upset in the NCAA Tournament by the 2014-15 UAB Blazers men's basketball team?   | Pred: not mentioned in context. | GT: fred hoiberg | Score: 0\n",
            "Average Metric: 8.00 / 21 (38.1%):  80%|████████  | 20/25 [00:07<00:01,  3.28it/s][Trial] Q: Which band had a longer hiatus, Juliette and the Licks or The Last Shadow Puppets? | Pred: the last shadow puppets | GT: the last shadow puppets | Score: 1\n",
            "Average Metric: 9.00 / 22 (40.9%):  84%|████████▍ | 21/25 [00:07<00:01,  3.28it/s][Trial] Q: Which movie was released first, Son of Flubber or Davy Crockett, King of the Wild Frontier? | Pred: davy crockett, king of the wild frontier | GT: davy crockett, king of the wild frontier | Score: 1\n",
            "Average Metric: 10.00 / 23 (43.5%):  92%|█████████▏| 23/25 [00:07<00:00,  5.37it/s][Trial] Q: Remember Me Ballin' is a CD single by Indo G that features an American rapper born in what year? | Pred: cannot answer. | GT: 1979 | Score: 0\n",
            "Average Metric: 10.00 / 24 (41.7%):  92%|█████████▏| 23/25 [00:07<00:00,  5.37it/s][Trial] Q: How old is the fossil record of the order that contains the only strictly marine herbivorous mammal? | Pred: 50 million years old | GT: 50-million-year-old fossil record | Score: 0\n",
            "Average Metric: 10.00 / 25 (40.0%): 100%|██████████| 25/25 [00:07<00:00,  3.29it/s]"
          ]
        },
        {
          "output_type": "stream",
          "name": "stderr",
          "text": [
            "2025/05/26 12:04:13 INFO dspy.evaluate.evaluate: Average Metric: 10 / 25 (40.0%)\n",
            "2025/05/26 12:04:13 INFO dspy.teleprompt.mipro_optimizer_v2: Full eval scores so far: [44.0, 40.0]\n",
            "2025/05/26 12:04:13 INFO dspy.teleprompt.mipro_optimizer_v2: Best full score so far: 44.0\n",
            "2025/05/26 12:04:13 INFO dspy.teleprompt.mipro_optimizer_v2: =======================\n",
            "2025/05/26 12:04:13 INFO dspy.teleprompt.mipro_optimizer_v2: \n",
            "\n",
            "2025/05/26 12:04:13 INFO dspy.teleprompt.mipro_optimizer_v2: == Trial 8 / 13 - Minibatch ==\n"
          ]
        },
        {
          "output_type": "stream",
          "name": "stdout",
          "text": [
            "\n",
            "[Trial] Q: Which movie was released first, Son of Flubber or Davy Crockett, King of the Wild Frontier? | Pred: davy crockett, king of the wild frontier | GT: davy crockett, king of the wild frontier | Score: 1\n",
            "[Trial] Q: What evening cable television station programming block has a show with Ashley Holliday as a cast member? | Pred: nick at nite | GT: nick at nite | Score: 1\n",
            "[Trial] Q: Who composed \"Sunflower Slow Drag\" with the King of Ragtime? | Pred: scott hayden | GT: scott hayden | Score: 1\n",
            "[Trial] Q: Who is older, Aleksandr Danilovich Aleksandrov or Anatoly Fomenko? | Pred: cannot determine | GT: aleksandr danilovich aleksandrov | Score: 0\n",
            "[Trial] Q: Which American actress who made their film debut in the 1995 teen drama \"Kids\" was the co-founder of Voto Latino? | Pred: rosario dawson | GT: rosario dawson | Score: 1\n",
            "[Trial] Q: What is the code name for the German offensive that started this Second World War engagement on the Eastern Front (a few hundred kilometers from Moscow) between Soviet and German forces, which included 102nd Infantry Division? | Pred: operation citadel | GT: operation citadel | Score: 1\n",
            "[Trial] Q: What person does Wormholes in fiction and Nathan Rosen have in common? | Pred: einstein-rosen bridge | GT: einstein | Score: 0\n",
            "[Trial] Q: Who was coach of the No. 9-ranked team that was upset in the NCAA Tournament by the 2014-15 UAB Blazers men's basketball team?   | Pred: cannot answer. | GT: fred hoiberg | Score: 0\n",
            "[Trial] Q: Which company distributed this 1977 American animated film produced by Walt Disney Productions for which Sherman Brothers wrote songs? | Pred: buena vista distribution company | GT: buena vista distribution | Score: 0\n",
            "Average Metric: 5.00 / 9 (55.6%):  80%|████████  | 8/10 [00:00<00:00, 303.07it/s][Trial] Q: Having the combination of excellent foot speed and bat speed helped Eric Davis, create what kind of outfield for the Los Angeles Dodgers?  | Pred: outfield of dreams | GT: \"outfield of dreams\" | Score: 0\n",
            "Average Metric: 5.00 / 10 (50.0%): 100%|██████████| 10/10 [00:01<00:00,  7.87it/s]"
          ]
        },
        {
          "output_type": "stream",
          "name": "stderr",
          "text": [
            "2025/05/26 12:04:14 INFO dspy.evaluate.evaluate: Average Metric: 5 / 10 (50.0%)\n",
            "2025/05/26 12:04:14 INFO dspy.teleprompt.mipro_optimizer_v2: Score: 50.0 on minibatch of size 10 with parameters ['Predictor 0: Instruction 1', 'Predictor 0: Few-Shot Set 0'].\n",
            "2025/05/26 12:04:14 INFO dspy.teleprompt.mipro_optimizer_v2: Minibatch scores so far: [50.0, 40.0, 50.0, 40.0, 0.0, 50.0]\n",
            "2025/05/26 12:04:14 INFO dspy.teleprompt.mipro_optimizer_v2: Full eval scores so far: [44.0, 40.0]\n",
            "2025/05/26 12:04:14 INFO dspy.teleprompt.mipro_optimizer_v2: Best full score so far: 44.0\n",
            "2025/05/26 12:04:14 INFO dspy.teleprompt.mipro_optimizer_v2: =========================================\n",
            "\n",
            "\n",
            "2025/05/26 12:04:14 INFO dspy.teleprompt.mipro_optimizer_v2: == Trial 9 / 13 - Minibatch ==\n"
          ]
        },
        {
          "output_type": "stream",
          "name": "stdout",
          "text": [
            "\n",
            "[Trial] Q: What evening cable television station programming block has a show with Ashley Holliday as a cast member? | Pred: nick at nite | GT: nick at nite | Score: 1\n",
            "[Trial] Q: Are Baltasar Kormákur and John G. Avildsen both film producers? | Pred: cannot determine | GT: no | Score: 0\n",
            "[Trial] Q: How old is the fossil record of the order that contains the only strictly marine herbivorous mammal? | Pred: 50 million years old | GT: 50-million-year-old fossil record | Score: 0\n",
            "[Trial] Q: Who was the Tennis Masters Cup champion in 2000, Gustavo Kuerten or Stan Wawrinka? | Pred: gustavo kuerten | GT: gustavo kuerten | Score: 1\n",
            "[Trial] Q: What is the code name for the German offensive that started this Second World War engagement on the Eastern Front (a few hundred kilometers from Moscow) between Soviet and German forces, which included 102nd Infantry Division? | Pred: operation citadel | GT: operation citadel | Score: 1\n",
            "[Trial] Q: This American guitarist best known for her work with the Iron Maidens is an ancestor of a composer who was known as what? | Pred: johann strauss ii | GT: the waltz king | Score: 0\n",
            "[Trial] Q: Remember Me Ballin' is a CD single by Indo G that features an American rapper born in what year? | Pred: cannot answer. | GT: 1979 | Score: 0\n",
            "[Trial] Q: What person does Wormholes in fiction and Nathan Rosen have in common? | Pred: nathan rosen | GT: einstein | Score: 0\n",
            "[Trial] Q: Which company distributed this 1977 American animated film produced by Walt Disney Productions for which Sherman Brothers wrote songs? | Pred: buena vista distribution company | GT: buena vista distribution | Score: 0\n",
            "[Trial] Q: Having the combination of excellent foot speed and bat speed helped Eric Davis, create what kind of outfield for the Los Angeles Dodgers?  | Pred: outfield of dreams | GT: \"outfield of dreams\" | Score: 0\n",
            "Average Metric: 3.00 / 10 (30.0%): 100%|██████████| 10/10 [00:00<00:00, 871.00it/s]"
          ]
        },
        {
          "output_type": "stream",
          "name": "stderr",
          "text": [
            "2025/05/26 12:04:14 INFO dspy.evaluate.evaluate: Average Metric: 3 / 10 (30.0%)\n",
            "2025/05/26 12:04:14 INFO dspy.teleprompt.mipro_optimizer_v2: Score: 30.0 on minibatch of size 10 with parameters ['Predictor 0: Instruction 0', 'Predictor 0: Few-Shot Set 0'].\n",
            "2025/05/26 12:04:14 INFO dspy.teleprompt.mipro_optimizer_v2: Minibatch scores so far: [50.0, 40.0, 50.0, 40.0, 0.0, 50.0, 30.0]\n",
            "2025/05/26 12:04:14 INFO dspy.teleprompt.mipro_optimizer_v2: Full eval scores so far: [44.0, 40.0]\n",
            "2025/05/26 12:04:14 INFO dspy.teleprompt.mipro_optimizer_v2: Best full score so far: 44.0\n",
            "2025/05/26 12:04:14 INFO dspy.teleprompt.mipro_optimizer_v2: =========================================\n",
            "\n",
            "\n",
            "2025/05/26 12:04:14 INFO dspy.teleprompt.mipro_optimizer_v2: == Trial 10 / 13 - Minibatch ==\n"
          ]
        },
        {
          "output_type": "stream",
          "name": "stdout",
          "text": [
            "\n",
            "[Trial] Q: Samantha Cristoforetti and Mark Shuttleworth are both best known for being first in their field to go where?  | Pred: space | GT: space | Score: 1\n",
            "[Trial] Q: Tombstone stared an actor born May 17, 1955 known as who? | Pred: no information provided. | GT: bill paxton | Score: 0\n",
            "[Trial] Q: What person does Wormholes in fiction and Nathan Rosen have in common? | Pred: einstein-rosen bridge | GT: einstein | Score: 0\n",
            "[Trial] Q: The Organisation that allows a community to influence their operation or use and to enjoy the benefits arisingwas founded in what year? | Pred: unknown | GT: 2010 | Score: 0\n",
            "[Trial] Q: Who composed \"Sunflower Slow Drag\" with the King of Ragtime? | Pred: scott hayden | GT: scott hayden | Score: 1\n",
            "[Trial] Q: Remember Me Ballin' is a CD single by Indo G that features an American rapper born in what year? | Pred: cannot answer. | GT: 1979 | Score: 0\n",
            "[Trial] Q: How old is the fossil record of the order that contains the only strictly marine herbivorous mammal? | Pred: 50 million years old | GT: 50-million-year-old fossil record | Score: 0\n",
            "[Trial] Q: Which band had a longer hiatus, Juliette and the Licks or The Last Shadow Puppets? | Pred: the last shadow puppets | GT: the last shadow puppets | Score: 1\n",
            "[Trial] Q: Which company distributed this 1977 American animated film produced by Walt Disney Productions for which Sherman Brothers wrote songs? | Pred: buena vista distribution company | GT: buena vista distribution | Score: 0\n",
            "[Trial] Q: Who acted in the shot film The Shore and is also the youngest actress ever to play Ophelia in a Royal Shakespeare Company production of \"Hamlet.\" ? | Pred: kerry condon | GT: kerry condon | Score: 1\n",
            "Average Metric: 4.00 / 10 (40.0%): 100%|██████████| 10/10 [00:00<00:00, 1129.51it/s]"
          ]
        },
        {
          "output_type": "stream",
          "name": "stderr",
          "text": [
            "2025/05/26 12:04:14 INFO dspy.evaluate.evaluate: Average Metric: 4 / 10 (40.0%)\n",
            "2025/05/26 12:04:15 INFO dspy.teleprompt.mipro_optimizer_v2: Score: 40.0 on minibatch of size 10 with parameters ['Predictor 0: Instruction 1', 'Predictor 0: Few-Shot Set 1'].\n",
            "2025/05/26 12:04:15 INFO dspy.teleprompt.mipro_optimizer_v2: Minibatch scores so far: [50.0, 40.0, 50.0, 40.0, 0.0, 50.0, 30.0, 40.0]\n",
            "2025/05/26 12:04:15 INFO dspy.teleprompt.mipro_optimizer_v2: Full eval scores so far: [44.0, 40.0]\n",
            "2025/05/26 12:04:15 INFO dspy.teleprompt.mipro_optimizer_v2: Best full score so far: 44.0\n",
            "2025/05/26 12:04:15 INFO dspy.teleprompt.mipro_optimizer_v2: ==========================================\n",
            "\n",
            "\n",
            "2025/05/26 12:04:15 INFO dspy.teleprompt.mipro_optimizer_v2: == Trial 11 / 13 - Minibatch ==\n"
          ]
        },
        {
          "output_type": "stream",
          "name": "stdout",
          "text": [
            "\n",
            "[Trial] Q: Who composed \"Sunflower Slow Drag\" with the King of Ragtime? | Pred: scott hayden | GT: scott hayden | Score: 1\n",
            "[Trial] Q: This American guitarist best known for her work with the Iron Maidens is an ancestor of a composer who was known as what? | Pred: austrian composer | GT: the waltz king | Score: 0\n",
            "[Trial] Q: What person does Wormholes in fiction and Nathan Rosen have in common? | Pred: einstein-rosen bridge | GT: einstein | Score: 0\n",
            "[Trial] Q: Tombstone stared an actor born May 17, 1955 known as who? | Pred: cannot answer. | GT: bill paxton | Score: 0\n",
            "[Trial] Q: What head of state position was held by Harry S Truman when he gave Harold E Wilson the Medal of Honor? | Pred: president of the united states | GT: president of the united states | Score: 1\n",
            "Average Metric: 2.00 / 5 (40.0%):  40%|████      | 4/10 [00:00<00:00, 241.54it/s]\n",
            "Average Metric: 3.00 / 6 (50.0%):  50%|█████     | 5/10 [00:00<00:00, 137.01it/s][Trial] Q: On the coast of what ocean is the birthplace of Diogal Sakho? | Pred: atlantic ocean | GT: atlantic | Score: 0\n",
            "Average Metric: 3.00 / 7 (42.9%):  70%|███████   | 7/10 [00:01<00:00,  4.86it/s][Trial] Q: Samantha Cristoforetti and Mark Shuttleworth are both best known for being first in their field to go where?  | Pred: space | GT: space | Score: 1\n",
            "Average Metric: 4.00 / 8 (50.0%):  80%|████████  | 8/10 [00:01<00:00,  5.05it/s]"
          ]
        },
        {
          "output_type": "stream",
          "name": "stderr",
          "text": [
            "2025/05/26 12:04:20 WARNING dspy.adapters.json_adapter: Failed to use structured output format, falling back to JSON mode.\n",
            "2025/05/26 12:04:20 WARNING dspy.adapters.json_adapter: Failed to use structured output format, falling back to JSON mode.\n",
            "2025/05/26 12:04:24 ERROR dspy.utils.parallelizer: Error for Example({'question': 'Which band had a longer hiatus, Juliette and the Licks or The Last Shadow Puppets?', 'answer': 'The Last Shadow Puppets'}) (input_keys={'question'}): Both structured output format and JSON mode failed. Please choose a model that supports `response_format` argument. Original error: litellm.RateLimitError: litellm.RateLimitError: VertexAIException - {\n",
            "  \"error\": {\n",
            "    \"code\": 429,\n",
            "    \"message\": \"You exceeded your current quota, please check your plan and billing details. For more information on this error, head to: https://ai.google.dev/gemini-api/docs/rate-limits.\",\n",
            "    \"status\": \"RESOURCE_EXHAUSTED\",\n",
            "    \"details\": [\n",
            "      {\n",
            "        \"@type\": \"type.googleapis.com/google.rpc.QuotaFailure\",\n",
            "        \"violations\": [\n",
            "          {\n",
            "            \"quotaMetric\": \"generativelanguage.googleapis.com/generate_content_free_tier_requests\",\n",
            "            \"quotaId\": \"GenerateRequestsPerMinutePerProjectPerModel-FreeTier\",\n",
            "            \"quotaDimensions\": {\n",
            "              \"model\": \"gemini-2.0-flash\",\n",
            "              \"location\": \"global\"\n",
            "            },\n",
            "            \"quotaValue\": \"15\"\n",
            "          }\n",
            "        ]\n",
            "      },\n",
            "      {\n",
            "        \"@type\": \"type.googleapis.com/google.rpc.Help\",\n",
            "        \"links\": [\n",
            "          {\n",
            "            \"description\": \"Learn more about Gemini API quotas\",\n",
            "            \"url\": \"https://ai.google.dev/gemini-api/docs/rate-limits\"\n",
            "          }\n",
            "        ]\n",
            "      },\n",
            "      {\n",
            "        \"@type\": \"type.googleapis.com/google.rpc.RetryInfo\",\n",
            "        \"retryDelay\": \"35s\"\n",
            "      }\n",
            "    ]\n",
            "  }\n",
            "}\n",
            ". Set `provide_traceback=True` for traceback.\n"
          ]
        },
        {
          "output_type": "stream",
          "name": "stdout",
          "text": [
            "Average Metric: 4.00 / 8 (50.0%):  90%|█████████ | 9/10 [00:09<00:01,  1.74s/it]"
          ]
        },
        {
          "output_type": "stream",
          "name": "stderr",
          "text": [
            "2025/05/26 12:04:25 ERROR dspy.utils.parallelizer: Error for Example({'question': 'Which Pakistani cricket umpire who won 3 consecutive ICC umpire of the year awards in 2009, 2010, and 2011 will be in the ICC World Twenty20?', 'answer': 'Aleem Sarwar Dar'}) (input_keys={'question'}): Both structured output format and JSON mode failed. Please choose a model that supports `response_format` argument. Original error: litellm.RateLimitError: litellm.RateLimitError: VertexAIException - {\n",
            "  \"error\": {\n",
            "    \"code\": 429,\n",
            "    \"message\": \"You exceeded your current quota, please check your plan and billing details. For more information on this error, head to: https://ai.google.dev/gemini-api/docs/rate-limits.\",\n",
            "    \"status\": \"RESOURCE_EXHAUSTED\",\n",
            "    \"details\": [\n",
            "      {\n",
            "        \"@type\": \"type.googleapis.com/google.rpc.QuotaFailure\",\n",
            "        \"violations\": [\n",
            "          {\n",
            "            \"quotaMetric\": \"generativelanguage.googleapis.com/generate_content_free_tier_requests\",\n",
            "            \"quotaId\": \"GenerateRequestsPerMinutePerProjectPerModel-FreeTier\",\n",
            "            \"quotaDimensions\": {\n",
            "              \"model\": \"gemini-2.0-flash\",\n",
            "              \"location\": \"global\"\n",
            "            },\n",
            "            \"quotaValue\": \"15\"\n",
            "          }\n",
            "        ]\n",
            "      },\n",
            "      {\n",
            "        \"@type\": \"type.googleapis.com/google.rpc.Help\",\n",
            "        \"links\": [\n",
            "          {\n",
            "            \"description\": \"Learn more about Gemini API quotas\",\n",
            "            \"url\": \"https://ai.google.dev/gemini-api/docs/rate-limits\"\n",
            "          }\n",
            "        ]\n",
            "      },\n",
            "      {\n",
            "        \"@type\": \"type.googleapis.com/google.rpc.RetryInfo\",\n",
            "        \"retryDelay\": \"34s\"\n",
            "      }\n",
            "    ]\n",
            "  }\n",
            "}\n",
            ". Set `provide_traceback=True` for traceback.\n"
          ]
        },
        {
          "output_type": "stream",
          "name": "stdout",
          "text": [
            "Average Metric: 4.00 / 8 (50.0%): 100%|██████████| 10/10 [00:10<00:00,  1.00s/it]"
          ]
        },
        {
          "output_type": "stream",
          "name": "stderr",
          "text": [
            "2025/05/26 12:04:25 INFO dspy.evaluate.evaluate: Average Metric: 4.0 / 10 (40.0%)\n",
            "2025/05/26 12:04:25 INFO dspy.teleprompt.mipro_optimizer_v2: Score: 40.0 on minibatch of size 10 with parameters ['Predictor 0: Instruction 1', 'Predictor 0: Few-Shot Set 0'].\n",
            "2025/05/26 12:04:25 INFO dspy.teleprompt.mipro_optimizer_v2: Minibatch scores so far: [50.0, 40.0, 50.0, 40.0, 0.0, 50.0, 30.0, 40.0, 40.0]\n",
            "2025/05/26 12:04:25 INFO dspy.teleprompt.mipro_optimizer_v2: Full eval scores so far: [44.0, 40.0]\n",
            "2025/05/26 12:04:25 INFO dspy.teleprompt.mipro_optimizer_v2: Best full score so far: 44.0\n",
            "2025/05/26 12:04:25 INFO dspy.teleprompt.mipro_optimizer_v2: ==========================================\n",
            "\n",
            "\n",
            "2025/05/26 12:04:25 INFO dspy.teleprompt.mipro_optimizer_v2: == Trial 12 / 13 - Minibatch ==\n"
          ]
        },
        {
          "output_type": "stream",
          "name": "stdout",
          "text": [
            "\n",
            "[Trial] Q: On the coast of what ocean is the birthplace of Diogal Sakho? | Pred: atlantic ocean | GT: atlantic | Score: 0\n",
            "[Trial] Q: Who acted in the shot film The Shore and is also the youngest actress ever to play Ophelia in a Royal Shakespeare Company production of \"Hamlet.\" ? | Pred: kerry condon | GT: kerry condon | Score: 1\n",
            "[Trial] Q: What evening cable television station programming block has a show with Ashley Holliday as a cast member? | Pred: nick at nite | GT: nick at nite | Score: 1\n",
            "[Trial] Q: Having the combination of excellent foot speed and bat speed helped Eric Davis, create what kind of outfield for the Los Angeles Dodgers?  | Pred: outfield of dreams | GT: \"outfield of dreams\" | Score: 0\n",
            "[Trial] Q: This American guitarist best known for her work with the Iron Maidens is an ancestor of a composer who was known as what? | Pred: johann strauss ii | GT: the waltz king | Score: 0\n",
            "[Trial] Q: Which movie was released first, Son of Flubber or Davy Crockett, King of the Wild Frontier? | Pred: davy crockett, king of the wild frontier | GT: davy crockett, king of the wild frontier | Score: 1\n",
            "[Trial] Q: What person does Wormholes in fiction and Nathan Rosen have in common? | Pred: einstein-rosen bridge | GT: einstein | Score: 0\n",
            "[Trial] Q: Which American actress who made their film debut in the 1995 teen drama \"Kids\" was the co-founder of Voto Latino? | Pred: rosario dawson | GT: rosario dawson | Score: 1\n",
            "[Trial] Q: Who composed \"Sunflower Slow Drag\" with the King of Ragtime? | Pred: scott hayden | GT: scott hayden | Score: 1\n",
            "Average Metric: 5.00 / 9 (55.6%):  80%|████████  | 8/10 [00:00<00:00, 221.34it/s]"
          ]
        },
        {
          "output_type": "stream",
          "name": "stderr",
          "text": [
            "2025/05/26 12:04:29 WARNING dspy.adapters.json_adapter: Failed to use structured output format, falling back to JSON mode.\n"
          ]
        },
        {
          "output_type": "stream",
          "name": "stdout",
          "text": [
            "[Trial] Q: Do Stu Block and Johnny Bonnel's bands play the same type of music? | Pred: no | GT: no | Score: 1\n",
            "Average Metric: 6.00 / 10 (60.0%): 100%|██████████| 10/10 [00:04<00:00,  2.28it/s]"
          ]
        },
        {
          "output_type": "stream",
          "name": "stderr",
          "text": [
            "2025/05/26 12:04:29 INFO dspy.evaluate.evaluate: Average Metric: 6 / 10 (60.0%)\n",
            "2025/05/26 12:04:29 INFO dspy.teleprompt.mipro_optimizer_v2: Score: 60.0 on minibatch of size 10 with parameters ['Predictor 0: Instruction 1', 'Predictor 0: Few-Shot Set 1'].\n",
            "2025/05/26 12:04:29 INFO dspy.teleprompt.mipro_optimizer_v2: Minibatch scores so far: [50.0, 40.0, 50.0, 40.0, 0.0, 50.0, 30.0, 40.0, 40.0, 60.0]\n",
            "2025/05/26 12:04:29 INFO dspy.teleprompt.mipro_optimizer_v2: Full eval scores so far: [44.0, 40.0]\n",
            "2025/05/26 12:04:29 INFO dspy.teleprompt.mipro_optimizer_v2: Best full score so far: 44.0\n",
            "2025/05/26 12:04:29 INFO dspy.teleprompt.mipro_optimizer_v2: ==========================================\n",
            "\n",
            "\n",
            "2025/05/26 12:04:29 INFO dspy.teleprompt.mipro_optimizer_v2: ===== Trial 13 / 13 - Full Evaluation =====\n",
            "2025/05/26 12:04:29 INFO dspy.teleprompt.mipro_optimizer_v2: Doing full eval on next top averaging program (Avg Score: 45.0) from minibatch trials...\n"
          ]
        },
        {
          "output_type": "stream",
          "name": "stdout",
          "text": [
            "\n",
            "[Trial] Q: Tombstone stared an actor born May 17, 1955 known as who? | Pred: cannot answer. | GT: bill paxton | Score: 0\n",
            "[Trial] Q: What is the code name for the German offensive that started this Second World War engagement on the Eastern Front (a few hundred kilometers from Moscow) between Soviet and German forces, which included 102nd Infantry Division? | Pred: operation citadel | GT: operation citadel | Score: 1\n",
            "[Trial] Q: Who acted in the shot film The Shore and is also the youngest actress ever to play Ophelia in a Royal Shakespeare Company production of \"Hamlet.\" ? | Pred: kerry condon | GT: kerry condon | Score: 1\n",
            "[Trial] Q: Which company distributed this 1977 American animated film produced by Walt Disney Productions for which Sherman Brothers wrote songs? | Pred: buena vista distribution company | GT: buena vista distribution | Score: 0\n",
            "[Trial] Q: Samantha Cristoforetti and Mark Shuttleworth are both best known for being first in their field to go where?  | Pred: space | GT: space | Score: 1\n",
            "[Trial] Q: Which American actress who made their film debut in the 1995 teen drama \"Kids\" was the co-founder of Voto Latino? | Pred: rosario dawson | GT: rosario dawson | Score: 1\n",
            "[Trial] Q: Who is older, Aleksandr Danilovich Aleksandrov or Anatoly Fomenko? | Pred: cannot determine | GT: aleksandr danilovich aleksandrov | Score: 0\n",
            "[Trial] Q: On the coast of what ocean is the birthplace of Diogal Sakho? | Pred: atlantic ocean | GT: atlantic | Score: 0\n",
            "[Trial] Q: Having the combination of excellent foot speed and bat speed helped Eric Davis, create what kind of outfield for the Los Angeles Dodgers?  | Pred: outfield of dreams | GT: \"outfield of dreams\" | Score: 0\n",
            "[Trial] Q: This American guitarist best known for her work with the Iron Maidens is an ancestor of a composer who was known as what? | Pred: austrian composer | GT: the waltz king | Score: 0\n",
            "[Trial] Q: Who was the Tennis Masters Cup champion in 2000, Gustavo Kuerten or Stan Wawrinka? | Pred: stan wawrinka | GT: gustavo kuerten | Score: 0\n",
            "[Trial] Q: Are Baltasar Kormákur and John G. Avildsen both film producers? | Pred: i cannot answer. | GT: no | Score: 0\n",
            "[Trial] Q: Do Stu Block and Johnny Bonnel's bands play the same type of music? | Pred: no | GT: no | Score: 1\n",
            "[Trial] Q: What head of state position was held by Harry S Truman when he gave Harold E Wilson the Medal of Honor? | Pred: president of the united states | GT: president of the united states | Score: 1\n",
            "[Trial] Q: What evening cable television station programming block has a show with Ashley Holliday as a cast member? | Pred: nick at nite | GT: nick at nite | Score: 1\n",
            "[Trial] Q: What person does Wormholes in fiction and Nathan Rosen have in common? | Pred: einstein-rosen bridge | GT: einstein | Score: 0\n",
            "[Trial] Q: Who composed \"Sunflower Slow Drag\" with the King of Ragtime? | Pred: scott hayden | GT: scott hayden | Score: 1\n",
            "[Trial] Q: Who was coach of the No. 9-ranked team that was upset in the NCAA Tournament by the 2014-15 UAB Blazers men's basketball team?   | Pred: cannot answer. | GT: fred hoiberg | Score: 0\n",
            "[Trial] Q: Which movie was released first, Son of Flubber or Davy Crockett, King of the Wild Frontier? | Pred: davy crockett, king of the wild frontier | GT: davy crockett, king of the wild frontier | Score: 1\n",
            "Average Metric: 9.00 / 19 (47.4%):  72%|███████▏  | 18/25 [00:00<00:00, 249.84it/s][Trial] Q: Remember Me Ballin' is a CD single by Indo G that features an American rapper born in what year? | Pred: cannot be determined. | GT: 1979 | Score: 0\n",
            "Average Metric: 9.00 / 20 (45.0%):  80%|████████  | 20/25 [00:02<00:00,  9.17it/s]"
          ]
        },
        {
          "output_type": "stream",
          "name": "stderr",
          "text": [
            "2025/05/26 12:04:35 WARNING dspy.adapters.json_adapter: Failed to use structured output format, falling back to JSON mode.\n",
            "2025/05/26 12:04:35 WARNING dspy.adapters.json_adapter: Failed to use structured output format, falling back to JSON mode.\n",
            "2025/05/26 12:04:35 WARNING dspy.adapters.json_adapter: Failed to use structured output format, falling back to JSON mode.\n",
            "2025/05/26 12:04:35 WARNING dspy.adapters.json_adapter: Failed to use structured output format, falling back to JSON mode.\n",
            "2025/05/26 12:04:35 WARNING dspy.adapters.json_adapter: Failed to use structured output format, falling back to JSON mode.\n",
            "2025/05/26 12:04:40 ERROR dspy.utils.parallelizer: Error for Example({'question': 'Which band had a longer hiatus, Juliette and the Licks or The Last Shadow Puppets?', 'answer': 'The Last Shadow Puppets'}) (input_keys={'question'}): Both structured output format and JSON mode failed. Please choose a model that supports `response_format` argument. Original error: litellm.RateLimitError: litellm.RateLimitError: VertexAIException - {\n",
            "  \"error\": {\n",
            "    \"code\": 429,\n",
            "    \"message\": \"You exceeded your current quota, please check your plan and billing details. For more information on this error, head to: https://ai.google.dev/gemini-api/docs/rate-limits.\",\n",
            "    \"status\": \"RESOURCE_EXHAUSTED\",\n",
            "    \"details\": [\n",
            "      {\n",
            "        \"@type\": \"type.googleapis.com/google.rpc.QuotaFailure\",\n",
            "        \"violations\": [\n",
            "          {\n",
            "            \"quotaMetric\": \"generativelanguage.googleapis.com/generate_content_free_tier_requests\",\n",
            "            \"quotaId\": \"GenerateRequestsPerMinutePerProjectPerModel-FreeTier\",\n",
            "            \"quotaDimensions\": {\n",
            "              \"location\": \"global\",\n",
            "              \"model\": \"gemini-2.0-flash\"\n",
            "            },\n",
            "            \"quotaValue\": \"15\"\n",
            "          }\n",
            "        ]\n",
            "      },\n",
            "      {\n",
            "        \"@type\": \"type.googleapis.com/google.rpc.Help\",\n",
            "        \"links\": [\n",
            "          {\n",
            "            \"description\": \"Learn more about Gemini API quotas\",\n",
            "            \"url\": \"https://ai.google.dev/gemini-api/docs/rate-limits\"\n",
            "          }\n",
            "        ]\n",
            "      },\n",
            "      {\n",
            "        \"@type\": \"type.googleapis.com/google.rpc.RetryInfo\",\n",
            "        \"retryDelay\": \"19s\"\n",
            "      }\n",
            "    ]\n",
            "  }\n",
            "}\n",
            ". Set `provide_traceback=True` for traceback.\n"
          ]
        },
        {
          "output_type": "stream",
          "name": "stdout",
          "text": [
            "Average Metric: 9.00 / 20 (45.0%):  84%|████████▍ | 21/25 [00:10<00:02,  1.48it/s]"
          ]
        },
        {
          "output_type": "stream",
          "name": "stderr",
          "text": [
            "2025/05/26 12:04:40 ERROR dspy.utils.parallelizer: Error for Example({'question': '\"Everything Has Changed\" is a song from an album released under which record label ?', 'answer': 'Big Machine Records'}) (input_keys={'question'}): Both structured output format and JSON mode failed. Please choose a model that supports `response_format` argument. Original error: litellm.RateLimitError: litellm.RateLimitError: VertexAIException - {\n",
            "  \"error\": {\n",
            "    \"code\": 429,\n",
            "    \"message\": \"You exceeded your current quota, please check your plan and billing details. For more information on this error, head to: https://ai.google.dev/gemini-api/docs/rate-limits.\",\n",
            "    \"status\": \"RESOURCE_EXHAUSTED\",\n",
            "    \"details\": [\n",
            "      {\n",
            "        \"@type\": \"type.googleapis.com/google.rpc.QuotaFailure\",\n",
            "        \"violations\": [\n",
            "          {\n",
            "            \"quotaMetric\": \"generativelanguage.googleapis.com/generate_content_free_tier_requests\",\n",
            "            \"quotaId\": \"GenerateRequestsPerMinutePerProjectPerModel-FreeTier\",\n",
            "            \"quotaDimensions\": {\n",
            "              \"location\": \"global\",\n",
            "              \"model\": \"gemini-2.0-flash\"\n",
            "            },\n",
            "            \"quotaValue\": \"15\"\n",
            "          }\n",
            "        ]\n",
            "      },\n",
            "      {\n",
            "        \"@type\": \"type.googleapis.com/google.rpc.Help\",\n",
            "        \"links\": [\n",
            "          {\n",
            "            \"description\": \"Learn more about Gemini API quotas\",\n",
            "            \"url\": \"https://ai.google.dev/gemini-api/docs/rate-limits\"\n",
            "          }\n",
            "        ]\n",
            "      },\n",
            "      {\n",
            "        \"@type\": \"type.googleapis.com/google.rpc.RetryInfo\",\n",
            "        \"retryDelay\": \"19s\"\n",
            "      }\n",
            "    ]\n",
            "  }\n",
            "}\n",
            ". Set `provide_traceback=True` for traceback.\n"
          ]
        },
        {
          "output_type": "stream",
          "name": "stdout",
          "text": [
            "Average Metric: 9.00 / 20 (45.0%):  88%|████████▊ | 22/25 [00:11<00:01,  1.53it/s]"
          ]
        },
        {
          "output_type": "stream",
          "name": "stderr",
          "text": [
            "2025/05/26 12:04:41 ERROR dspy.utils.parallelizer: Error for Example({'question': 'Which Pakistani cricket umpire who won 3 consecutive ICC umpire of the year awards in 2009, 2010, and 2011 will be in the ICC World Twenty20?', 'answer': 'Aleem Sarwar Dar'}) (input_keys={'question'}): Both structured output format and JSON mode failed. Please choose a model that supports `response_format` argument. Original error: litellm.RateLimitError: litellm.RateLimitError: VertexAIException - {\n",
            "  \"error\": {\n",
            "    \"code\": 429,\n",
            "    \"message\": \"You exceeded your current quota, please check your plan and billing details. For more information on this error, head to: https://ai.google.dev/gemini-api/docs/rate-limits.\",\n",
            "    \"status\": \"RESOURCE_EXHAUSTED\",\n",
            "    \"details\": [\n",
            "      {\n",
            "        \"@type\": \"type.googleapis.com/google.rpc.QuotaFailure\",\n",
            "        \"violations\": [\n",
            "          {\n",
            "            \"quotaMetric\": \"generativelanguage.googleapis.com/generate_content_free_tier_requests\",\n",
            "            \"quotaId\": \"GenerateRequestsPerMinutePerProjectPerModel-FreeTier\",\n",
            "            \"quotaDimensions\": {\n",
            "              \"location\": \"global\",\n",
            "              \"model\": \"gemini-2.0-flash\"\n",
            "            },\n",
            "            \"quotaValue\": \"15\"\n",
            "          }\n",
            "        ]\n",
            "      },\n",
            "      {\n",
            "        \"@type\": \"type.googleapis.com/google.rpc.Help\",\n",
            "        \"links\": [\n",
            "          {\n",
            "            \"description\": \"Learn more about Gemini API quotas\",\n",
            "            \"url\": \"https://ai.google.dev/gemini-api/docs/rate-limits\"\n",
            "          }\n",
            "        ]\n",
            "      },\n",
            "      {\n",
            "        \"@type\": \"type.googleapis.com/google.rpc.RetryInfo\",\n",
            "        \"retryDelay\": \"19s\"\n",
            "      }\n",
            "    ]\n",
            "  }\n",
            "}\n",
            ". Set `provide_traceback=True` for traceback.\n"
          ]
        },
        {
          "output_type": "stream",
          "name": "stdout",
          "text": [
            "Average Metric: 9.00 / 20 (45.0%):  92%|█████████▏| 23/25 [00:11<00:01,  1.65it/s]"
          ]
        },
        {
          "output_type": "stream",
          "name": "stderr",
          "text": [
            "2025/05/26 12:04:41 ERROR dspy.utils.parallelizer: Error for Example({'question': 'How old is the fossil record of the order that contains the only strictly marine herbivorous mammal?', 'answer': '50-million-year-old fossil record'}) (input_keys={'question'}): Both structured output format and JSON mode failed. Please choose a model that supports `response_format` argument. Original error: litellm.RateLimitError: litellm.RateLimitError: VertexAIException - {\n",
            "  \"error\": {\n",
            "    \"code\": 429,\n",
            "    \"message\": \"You exceeded your current quota, please check your plan and billing details. For more information on this error, head to: https://ai.google.dev/gemini-api/docs/rate-limits.\",\n",
            "    \"status\": \"RESOURCE_EXHAUSTED\",\n",
            "    \"details\": [\n",
            "      {\n",
            "        \"@type\": \"type.googleapis.com/google.rpc.QuotaFailure\",\n",
            "        \"violations\": [\n",
            "          {\n",
            "            \"quotaMetric\": \"generativelanguage.googleapis.com/generate_content_free_tier_requests\",\n",
            "            \"quotaId\": \"GenerateRequestsPerMinutePerProjectPerModel-FreeTier\",\n",
            "            \"quotaDimensions\": {\n",
            "              \"location\": \"global\",\n",
            "              \"model\": \"gemini-2.0-flash\"\n",
            "            },\n",
            "            \"quotaValue\": \"15\"\n",
            "          }\n",
            "        ]\n",
            "      },\n",
            "      {\n",
            "        \"@type\": \"type.googleapis.com/google.rpc.Help\",\n",
            "        \"links\": [\n",
            "          {\n",
            "            \"description\": \"Learn more about Gemini API quotas\",\n",
            "            \"url\": \"https://ai.google.dev/gemini-api/docs/rate-limits\"\n",
            "          }\n",
            "        ]\n",
            "      },\n",
            "      {\n",
            "        \"@type\": \"type.googleapis.com/google.rpc.RetryInfo\",\n",
            "        \"retryDelay\": \"18s\"\n",
            "      }\n",
            "    ]\n",
            "  }\n",
            "}\n",
            ". Set `provide_traceback=True` for traceback.\n"
          ]
        },
        {
          "output_type": "stream",
          "name": "stdout",
          "text": [
            "Average Metric: 9.00 / 20 (45.0%):  96%|█████████▌| 24/25 [00:11<00:00,  1.82it/s]"
          ]
        },
        {
          "output_type": "stream",
          "name": "stderr",
          "text": [
            "2025/05/26 12:04:41 ERROR dspy.utils.parallelizer: Error for Example({'question': 'The Organisation that allows a community to influence their operation or use and to enjoy the benefits arisingwas founded in what year?', 'answer': '2010'}) (input_keys={'question'}): Both structured output format and JSON mode failed. Please choose a model that supports `response_format` argument. Original error: litellm.RateLimitError: litellm.RateLimitError: VertexAIException - {\n",
            "  \"error\": {\n",
            "    \"code\": 429,\n",
            "    \"message\": \"You exceeded your current quota, please check your plan and billing details. For more information on this error, head to: https://ai.google.dev/gemini-api/docs/rate-limits.\",\n",
            "    \"status\": \"RESOURCE_EXHAUSTED\",\n",
            "    \"details\": [\n",
            "      {\n",
            "        \"@type\": \"type.googleapis.com/google.rpc.QuotaFailure\",\n",
            "        \"violations\": [\n",
            "          {\n",
            "            \"quotaMetric\": \"generativelanguage.googleapis.com/generate_content_free_tier_requests\",\n",
            "            \"quotaId\": \"GenerateRequestsPerMinutePerProjectPerModel-FreeTier\",\n",
            "            \"quotaDimensions\": {\n",
            "              \"location\": \"global\",\n",
            "              \"model\": \"gemini-2.0-flash\"\n",
            "            },\n",
            "            \"quotaValue\": \"15\"\n",
            "          }\n",
            "        ]\n",
            "      },\n",
            "      {\n",
            "        \"@type\": \"type.googleapis.com/google.rpc.Help\",\n",
            "        \"links\": [\n",
            "          {\n",
            "            \"description\": \"Learn more about Gemini API quotas\",\n",
            "            \"url\": \"https://ai.google.dev/gemini-api/docs/rate-limits\"\n",
            "          }\n",
            "        ]\n",
            "      },\n",
            "      {\n",
            "        \"@type\": \"type.googleapis.com/google.rpc.RetryInfo\",\n",
            "        \"retryDelay\": \"18s\"\n",
            "      }\n",
            "    ]\n",
            "  }\n",
            "}\n",
            ". Set `provide_traceback=True` for traceback.\n"
          ]
        },
        {
          "output_type": "stream",
          "name": "stdout",
          "text": [
            "Average Metric: 9.00 / 20 (45.0%): 100%|██████████| 25/25 [00:11<00:00,  2.15it/s]"
          ]
        },
        {
          "output_type": "stream",
          "name": "stderr",
          "text": [
            "2025/05/26 12:04:41 INFO dspy.evaluate.evaluate: Average Metric: 9.0 / 25 (36.0%)\n",
            "2025/05/26 12:04:41 INFO dspy.teleprompt.mipro_optimizer_v2: Full eval scores so far: [44.0, 40.0, 36.0]\n",
            "2025/05/26 12:04:41 INFO dspy.teleprompt.mipro_optimizer_v2: Best full score so far: 44.0\n",
            "2025/05/26 12:04:41 INFO dspy.teleprompt.mipro_optimizer_v2: =======================\n",
            "2025/05/26 12:04:41 INFO dspy.teleprompt.mipro_optimizer_v2: \n",
            "\n",
            "2025/05/26 12:04:41 INFO dspy.teleprompt.mipro_optimizer_v2: Returning best identified program with score 44.0!\n"
          ]
        },
        {
          "output_type": "stream",
          "name": "stdout",
          "text": [
            "\n"
          ]
        }
      ]
    },
    {
      "cell_type": "code",
      "source": [
        "from pprint import pprint\n",
        "pprint(trial_logs[:3])"
      ],
      "metadata": {
        "colab": {
          "base_uri": "https://localhost:8080/"
        },
        "id": "6VpBwgccwm3w",
        "outputId": "1b75eec2-3a3e-4ab4-8c13-59d83c87948c"
      },
      "execution_count": 11,
      "outputs": [
        {
          "output_type": "stream",
          "name": "stdout",
          "text": [
            "[{'input': {'context': '',\n",
            "            'question': 'Which American actress who made their film debut in '\n",
            "                        'the 1995 teen drama \"Kids\" was the co-founder of Voto '\n",
            "                        'Latino?'},\n",
            "  'optimizer_name': 'MIPROv2',\n",
            "  'output': {'answer': 'rosario dawson'},\n",
            "  'score': 1,\n",
            "  'trace': {'_completions': None,\n",
            "            '_lm_usage': None,\n",
            "            '_store': {'answer': 'Rosario Dawson',\n",
            "                       'context': ['Rosario Dawson | Rosario Isabel Dawson '\n",
            "                                   '(born May 9, 1979) is an American actress, '\n",
            "                                   'producer, singer, comic book writer, and '\n",
            "                                   'political activist. She made her film '\n",
            "                                   'debut in the 1995 teen drama \"Kids\". Her '\n",
            "                                   'subsequent film roles include \"He Got '\n",
            "                                   'Game\", \"Men in Black II\", \"25th Hour\", '\n",
            "                                   '\"Rent\", \"Sin City\", \"Death Proof\", \"Seven '\n",
            "                                   'Pounds\", \"\", and \"Top Five\". Dawson has '\n",
            "                                   'also provided voice-over work for Disney '\n",
            "                                   'and DC.',\n",
            "                                   'Sarai Gonzalez | Sarai Isaura Gonzalez '\n",
            "                                   '(born 2005) is an American Latina child '\n",
            "                                   'actress who made her professional debut at '\n",
            "                                   'the age of 11 on the Spanish-language '\n",
            "                                   '\"\"Soy Yo\"\" (\"That\\'s Me\") music video by '\n",
            "                                   'Bomba Estéreo. Cast as a \"nerdy\" tween '\n",
            "                                   'with a \"sassy\" and \"confident\" attitude, '\n",
            "                                   'her performance turned her into a \"Latina '\n",
            "                                   'icon\" for \"female empowerment, identity '\n",
            "                                   'and self-worth\". She subsequently appeared '\n",
            "                                   'in two get out the vote videos for Latinos '\n",
            "                                   'in advance of the 2016 United States '\n",
            "                                   'elections.',\n",
            "                                   'Gabriela (2001 film) | Gabriela is a 2001 '\n",
            "                                   'American romance film, starring Seidy '\n",
            "                                   'Lopez in the title role alongside Jaime '\n",
            "                                   'Gomez as her admirer Mike. The film has '\n",
            "                                   'been cited as an inspiration behind the '\n",
            "                                   'Premiere Weekend Club, which supports '\n",
            "                                   'Latino film-making.'],\n",
            "                       'reasoning': 'The context mentions that Rosario Dawson '\n",
            "                                    'made her film debut in the 1995 teen '\n",
            "                                    'drama \"Kids\". The context does not '\n",
            "                                    'mention anything about Voto Latino. '\n",
            "                                    'However, based on general knowledge, '\n",
            "                                    'Rosario Dawson is the co-founder of Voto '\n",
            "                                    'Latino.'}}},\n",
            " {'input': {'context': '',\n",
            "            'question': 'Tombstone stared an actor born May 17, 1955 known as '\n",
            "                        'who?'},\n",
            "  'optimizer_name': 'MIPROv2',\n",
            "  'output': {'answer': 'unknown'},\n",
            "  'score': 0,\n",
            "  'trace': {'_completions': None,\n",
            "            '_lm_usage': None,\n",
            "            '_store': {'answer': 'Unknown',\n",
            "                       'context': ['Michael Biehn | Michael Connell Biehn '\n",
            "                                   '(born July 31, 1956) is an American actor, '\n",
            "                                   'primarily known for his military roles in '\n",
            "                                   'science fiction films directed by James '\n",
            "                                   'Cameron; as Sgt. Kyle Reese in \"The '\n",
            "                                   'Terminator\" (1984), Cpl. Dwayne Hicks in '\n",
            "                                   '\"Aliens\" (1986) and Lt. Coffey in \"The '\n",
            "                                   'Abyss\" (1989). He was nominated for the '\n",
            "                                   'Saturn Award for Best Actor for \"Aliens.\" '\n",
            "                                   'His other films include \"The Fan\" (1981), '\n",
            "                                   '\"K2\" (1991), \"Tombstone\" (1993), \"The '\n",
            "                                   'Rock\" (1996), \"\" (2001) and \"Planet '\n",
            "                                   'Terror\" (2007). On television, he has '\n",
            "                                   'appeared in \"Hill Street Blues\" (1984) and '\n",
            "                                   '\"Adventure Inc.\" (2002-03).',\n",
            "                                   'Quintin Sondergaard | Quentin Charles '\n",
            "                                   'Sondergaard, known primarily as Quintin '\n",
            "                                   'Sondergaard (January 11, 1925 – February '\n",
            "                                   '15, 1984), was an American actor '\n",
            "                                   'principally active on television westerns '\n",
            "                                   'from 1957-70. He had a supporting role '\n",
            "                                   'with eleven appearances as \"Deputy Quint\" '\n",
            "                                   'on the series \"Tombstone Territory\", with '\n",
            "                                   'co-stars Pat Conway, Richard Eastham, and '\n",
            "                                   'Gilman Rankin. \"Tombstone Territory\" began '\n",
            "                                   'in 1957 on ABC and then switched to '\n",
            "                                   'syndication in 1959.',\n",
            "                                   'John Philbin | John Philbin (born April '\n",
            "                                   '27, 1960) is an American actor who is best '\n",
            "                                   'known for his appearances in the films '\n",
            "                                   '\"Return of the Living Dead\", \"Point Break\" '\n",
            "                                   'and \"Tombstone\".'],\n",
            "                       'reasoning': 'The provided context mentions three '\n",
            "                                    'actors who appeared in the movie '\n",
            "                                    '\"Tombstone\": Michael Biehn, Quintin '\n",
            "                                    'Sondergaard, and John Philbin. Their '\n",
            "                                    'birthdates are July 31, 1956, January 11, '\n",
            "                                    '1925, and April 27, 1960, respectively. '\n",
            "                                    'None of them match the birthdate of May '\n",
            "                                    '17, 1955. Therefore, the answer is '\n",
            "                                    '\"unknown\".'}}},\n",
            " {'input': {'context': '',\n",
            "            'question': 'What is the code name for the German offensive that '\n",
            "                        'started this Second World War engagement on the '\n",
            "                        'Eastern Front (a few hundred kilometers from Moscow) '\n",
            "                        'between Soviet and German forces, which included '\n",
            "                        '102nd Infantry Division?'},\n",
            "  'optimizer_name': 'MIPROv2',\n",
            "  'output': {'answer': 'operation citadel'},\n",
            "  'score': 1,\n",
            "  'trace': {'_completions': None,\n",
            "            '_lm_usage': None,\n",
            "            '_store': {'answer': 'Operation Citadel',\n",
            "                       'context': ['Battle of Kursk | The Battle of Kursk was '\n",
            "                                   'a Second World War engagement between '\n",
            "                                   'German and Soviet forces on the Eastern '\n",
            "                                   'Front near Kursk (450 km south-west of '\n",
            "                                   'Moscow) in the Soviet Union during July '\n",
            "                                   'and August 1943. The battle began with the '\n",
            "                                   'launch of the German offensive, Operation '\n",
            "                                   'Citadel (German: \"Unternehmen Zitadelle\" '\n",
            "                                   '), on 5 July, which had the objective of '\n",
            "                                   'pinching off the Kursk salient with '\n",
            "                                   'attacks on the base of the salient from '\n",
            "                                   'north and south simultaneously. After the '\n",
            "                                   'German offensive stalled on the northern '\n",
            "                                   'side of the salient, on 12 July the '\n",
            "                                   'Soviets commenced their Kursk Strategic '\n",
            "                                   'Offensive Operation with the launch of '\n",
            "                                   'Operation Kutuzov (Russian: Кутузов ) '\n",
            "                                   'against the rear of the German forces in '\n",
            "                                   'the northern side. On the southern side, '\n",
            "                                   'the Soviets also launched powerful '\n",
            "                                   'counterattacks the same day, one of which '\n",
            "                                   'led to a large armoured clash, the Battle '\n",
            "                                   'of Prokhorovka. On 3 August, the Soviets '\n",
            "                                   'began the second phase of the Kursk '\n",
            "                                   'Strategic Offensive Operation with the '\n",
            "                                   'launch of Operation Polkovodets Rumyantsev '\n",
            "                                   '(Russian: Полководец Румянцев ) against '\n",
            "                                   'the German forces in the southern side of '\n",
            "                                   'the Kursk salient.',\n",
            "                                   'Operation Mars | Operation Mars, also '\n",
            "                                   'known as the Second Rzhev-Sychevka '\n",
            "                                   'Offensive Operation (Russian: Вторая '\n",
            "                                   'Ржевско-Сычёвская наступательная '\n",
            "                                   'операция), was the codename for an '\n",
            "                                   'offensive launched by Soviet forces '\n",
            "                                   'against German forces during World War II. '\n",
            "                                   'It took place between 25 November and 20 '\n",
            "                                   'December 1942 around the Rzhev salient in '\n",
            "                                   'the vicinity of Moscow.',\n",
            "                                   'Kholm Pocket | The Kholm Pocket (German: '\n",
            "                                   '\"Kessel von Cholm\" ; Russian: Холмский '\n",
            "                                   'котёл ) was the name given for the '\n",
            "                                   'encirclement of German troops by the Red '\n",
            "                                   'Army around Kholm south of Leningrad, '\n",
            "                                   'during World War II on the Eastern Front, '\n",
            "                                   'from 23 January 1942 until 5 May 1942. A '\n",
            "                                   'much larger pocket was simultaneously '\n",
            "                                   'surrounded in Demyansk, about 100 km to '\n",
            "                                   'the northeast. These were the results of '\n",
            "                                   'German retreat following their defeat '\n",
            "                                   'during the Battle of Moscow.'],\n",
            "                       'reasoning': 'The question asks for the codename of the '\n",
            "                                    'German offensive that started the Second '\n",
            "                                    'World War engagement on the Eastern Front '\n",
            "                                    'near Kursk.\\n'\n",
            "                                    'Context [1] mentions the Battle of Kursk, '\n",
            "                                    'a Second World War engagement between '\n",
            "                                    'German and Soviet forces on the Eastern '\n",
            "                                    'Front near Kursk. It also mentions that '\n",
            "                                    'the battle began with the launch of the '\n",
            "                                    'German offensive, Operation Citadel.\\n'\n",
            "                                    'Therefore, the answer is Operation '\n",
            "                                    'Citadel.'}}}]\n"
          ]
        }
      ]
    },
    {
      "cell_type": "code",
      "source": [
        "import json\n",
        "\n",
        "with open(\"langwatch_logs.json\", \"w\") as f:\n",
        "    json.dump(trial_logs, f, indent=2)"
      ],
      "metadata": {
        "id": "AWL9TTIAe14k"
      },
      "execution_count": 12,
      "outputs": []
    }
  ]
}
