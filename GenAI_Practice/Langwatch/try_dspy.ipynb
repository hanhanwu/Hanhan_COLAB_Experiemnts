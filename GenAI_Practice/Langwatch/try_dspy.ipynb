{
  "nbformat": 4,
  "nbformat_minor": 0,
  "metadata": {
    "colab": {
      "provenance": [],
      "authorship_tag": "ABX9TyPtTYrw0DrHO9YufRoca8Wv",
      "include_colab_link": true
    },
    "kernelspec": {
      "name": "python3",
      "display_name": "Python 3"
    },
    "language_info": {
      "name": "python"
    }
  },
  "cells": [
    {
      "cell_type": "markdown",
      "metadata": {
        "id": "view-in-github",
        "colab_type": "text"
      },
      "source": [
        "<a href=\"https://colab.research.google.com/github/hanhanwu/Hanhan_COLAB_Experiemnts/blob/master/GenAI_Practice/Langwatch/try_dspy.ipynb\" target=\"_parent\"><img src=\"https://colab.research.google.com/assets/colab-badge.svg\" alt=\"Open In Colab\"/></a>"
      ]
    },
    {
      "cell_type": "markdown",
      "source": [
        "# Try DsPy for RAG Prompt Optimization\n",
        "\n",
        "* https://github.com/hanhanwu/Hanhan_COLAB_Experiemnts/blob/master/GenAI_Practice/Langwatch/dspy_prompt_optimization_online_dashboard.ipynb\n",
        "* https://dspy.ai/tutorials/rag/"
      ],
      "metadata": {
        "id": "vtMIgQScxn3z"
      }
    },
    {
      "cell_type": "code",
      "execution_count": 2,
      "metadata": {
        "id": "bv95l62uxm4-"
      },
      "outputs": [],
      "source": [
        "%%capture --no-stderr\n",
        "!pip install --upgrade nbformat\n",
        "%pip install -U --quiet dspy"
      ]
    },
    {
      "cell_type": "code",
      "source": [],
      "metadata": {
        "id": "wt49L6d9yCBt"
      },
      "execution_count": null,
      "outputs": []
    }
  ]
}