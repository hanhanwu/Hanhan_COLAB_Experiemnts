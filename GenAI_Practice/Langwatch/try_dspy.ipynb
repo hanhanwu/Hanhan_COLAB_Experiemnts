{
  "nbformat": 4,
  "nbformat_minor": 0,
  "metadata": {
    "colab": {
      "provenance": [],
      "authorship_tag": "ABX9TyNZGaEHd46xlboMi+7SzyNf",
      "include_colab_link": true
    },
    "kernelspec": {
      "name": "python3",
      "display_name": "Python 3"
    },
    "language_info": {
      "name": "python"
    }
  },
  "cells": [
    {
      "cell_type": "markdown",
      "metadata": {
        "id": "view-in-github",
        "colab_type": "text"
      },
      "source": [
        "<a href=\"https://colab.research.google.com/github/hanhanwu/Hanhan_COLAB_Experiemnts/blob/master/GenAI_Practice/Langwatch/try_dspy.ipynb\" target=\"_parent\"><img src=\"https://colab.research.google.com/assets/colab-badge.svg\" alt=\"Open In Colab\"/></a>"
      ]
    },
    {
      "cell_type": "markdown",
      "source": [
        "# Try DsPy for RAG Prompt Optimization\n",
        "\n",
        "* https://github.com/hanhanwu/Hanhan_COLAB_Experiemnts/blob/master/GenAI_Practice/Langwatch/dspy_prompt_optimization_online_dashboard.ipynb\n",
        "* https://dspy.ai/tutorials/rag/"
      ],
      "metadata": {
        "id": "vtMIgQScxn3z"
      }
    },
    {
      "cell_type": "code",
      "execution_count": 1,
      "metadata": {
        "id": "bv95l62uxm4-"
      },
      "outputs": [],
      "source": [
        "%%capture --no-stderr\n",
        "!pip install --upgrade nbformat\n",
        "%pip install -U --quiet dspy"
      ]
    },
    {
      "cell_type": "markdown",
      "source": [
        "## Prepare LLM"
      ],
      "metadata": {
        "id": "PTn0H1e35Gn9"
      }
    },
    {
      "cell_type": "code",
      "source": [
        "import os\n",
        "from getpass import getpass\n",
        "import dspy\n",
        "from google.colab import userdata\n",
        "\n",
        "\n",
        "# OPENAI_API_KEY = userdata.get('OPENAI_API_KEY')\n",
        "# llm = dspy.LM(\"openai/gpt-4.1-nano\", api_key=OPENAI_API_KEY)\n",
        "\n",
        "GOOGLE_AI_API_KEY = userdata.get('GOOGLE_AI_API_KEY')\n",
        "llm = dspy.LM(\"gemini/gemini-2.0-flash\", api_key=GOOGLE_AI_API_KEY)\n",
        "print(\"LLM test response:\", llm(\"Where's Silicon Valley?\"))\n",
        "\n",
        "# the retrieval model\n",
        "colbertv2_wiki17_abstracts = dspy.ColBERTv2(\n",
        "    url=\"http://20.102.90.50:2017/wiki17_abstracts\"\n",
        ")\n",
        "dspy.settings.configure(lm=llm, rm=colbertv2_wiki17_abstracts)"
      ],
      "metadata": {
        "id": "wt49L6d9yCBt",
        "outputId": "fe14f7b1-d8dc-42d3-a127-944e55ec5726",
        "colab": {
          "base_uri": "https://localhost:8080/"
        }
      },
      "execution_count": 3,
      "outputs": [
        {
          "output_type": "stream",
          "name": "stdout",
          "text": [
            "LLM test response: ['Silicon Valley is located in the southern part of the San Francisco Bay Area in **Northern California, United States**.\\n']\n"
          ]
        }
      ]
    },
    {
      "cell_type": "code",
      "source": [],
      "metadata": {
        "id": "EREveLxr5FJN"
      },
      "execution_count": null,
      "outputs": []
    }
  ]
}