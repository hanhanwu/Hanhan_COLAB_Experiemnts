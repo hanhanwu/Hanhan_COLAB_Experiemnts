{
  "nbformat": 4,
  "nbformat_minor": 0,
  "metadata": {
    "colab": {
      "provenance": [],
      "authorship_tag": "ABX9TyOzaeOpiP3PY11CP/P65g4i",
      "include_colab_link": true
    },
    "kernelspec": {
      "name": "python3",
      "display_name": "Python 3"
    },
    "language_info": {
      "name": "python"
    }
  },
  "cells": [
    {
      "cell_type": "markdown",
      "metadata": {
        "id": "view-in-github",
        "colab_type": "text"
      },
      "source": [
        "<a href=\"https://colab.research.google.com/github/hanhanwu/Hanhan_COLAB_Experiemnts/blob/master/optimization_practice/job_shop_scheduling.ipynb\" target=\"_parent\"><img src=\"https://colab.research.google.com/assets/colab-badge.svg\" alt=\"Open In Colab\"/></a>"
      ]
    },
    {
      "cell_type": "markdown",
      "source": [
        "# Job shop Scheduling\n",
        "\n",
        "* [Problem Statement][1]\n",
        "* Minimizing the makespan\n",
        "* Some jobs have to be scheduled in order\n",
        "* No delay in each job\n",
        "\n",
        "[1]:https://github.com/jckantor/ND-Pyomo-Cookbook/blob/main/notebooks/04.03-Job-Shop-Scheduling.ipynb"
      ],
      "metadata": {
        "id": "P9V7QkeKgkwT"
      }
    },
    {
      "cell_type": "code",
      "execution_count": 1,
      "metadata": {
        "colab": {
          "base_uri": "https://localhost:8080/"
        },
        "id": "WrtQCzUXUsxG",
        "outputId": "32d9fa7e-b92c-4bac-a2b0-9f867b9a7218"
      },
      "outputs": [
        {
          "output_type": "stream",
          "name": "stdout",
          "text": [
            "\u001b[2K     \u001b[90m━━━━━━━━━━━━━━━━━━━━━━━━━━━━━━━━━━━━━━━━\u001b[0m \u001b[32m11.2/11.2 MB\u001b[0m \u001b[31m26.3 MB/s\u001b[0m eta \u001b[36m0:00:00\u001b[0m\n",
            "\u001b[2K     \u001b[90m━━━━━━━━━━━━━━━━━━━━━━━━━━━━━━━━━━━━━━━━\u001b[0m \u001b[32m49.6/49.6 KB\u001b[0m \u001b[31m3.0 MB/s\u001b[0m eta \u001b[36m0:00:00\u001b[0m\n",
            "\u001b[?25hSelecting previously unselected package coinor-libcoinutils3v5.\n",
            "(Reading database ... 128208 files and directories currently installed.)\n",
            "Preparing to unpack .../0-coinor-libcoinutils3v5_2.11.4+repack1-1_amd64.deb ...\n",
            "Unpacking coinor-libcoinutils3v5 (2.11.4+repack1-1) ...\n",
            "Selecting previously unselected package coinor-libosi1v5.\n",
            "Preparing to unpack .../1-coinor-libosi1v5_0.108.6+repack1-1_amd64.deb ...\n",
            "Unpacking coinor-libosi1v5 (0.108.6+repack1-1) ...\n",
            "Selecting previously unselected package coinor-libclp1.\n",
            "Preparing to unpack .../2-coinor-libclp1_1.17.5+repack1-1_amd64.deb ...\n",
            "Unpacking coinor-libclp1 (1.17.5+repack1-1) ...\n",
            "Selecting previously unselected package coinor-libcgl1.\n",
            "Preparing to unpack .../3-coinor-libcgl1_0.60.3+repack1-2_amd64.deb ...\n",
            "Unpacking coinor-libcgl1 (0.60.3+repack1-2) ...\n",
            "Selecting previously unselected package coinor-libcbc3.\n",
            "Preparing to unpack .../4-coinor-libcbc3_2.10.3+repack1-1build1_amd64.deb ...\n",
            "Unpacking coinor-libcbc3 (2.10.3+repack1-1build1) ...\n",
            "Selecting previously unselected package coinor-cbc.\n",
            "Preparing to unpack .../5-coinor-cbc_2.10.3+repack1-1build1_amd64.deb ...\n",
            "Unpacking coinor-cbc (2.10.3+repack1-1build1) ...\n",
            "Setting up coinor-libcoinutils3v5 (2.11.4+repack1-1) ...\n",
            "Setting up coinor-libosi1v5 (0.108.6+repack1-1) ...\n",
            "Setting up coinor-libclp1 (1.17.5+repack1-1) ...\n",
            "Setting up coinor-libcgl1 (0.60.3+repack1-2) ...\n",
            "Setting up coinor-libcbc3 (2.10.3+repack1-1build1) ...\n",
            "Setting up coinor-cbc (2.10.3+repack1-1build1) ...\n",
            "Processing triggers for man-db (2.9.1-1) ...\n",
            "Processing triggers for libc-bin (2.31-0ubuntu9.9) ...\n",
            "Looking in indexes: https://pypi.org/simple, https://us-python.pkg.dev/colab-wheels/public/simple/\n",
            "Collecting gurobipy\n",
            "  Downloading gurobipy-10.0.1-cp38-cp38-manylinux2014_x86_64.whl (12.8 MB)\n",
            "\u001b[2K     \u001b[90m━━━━━━━━━━━━━━━━━━━━━━━━━━━━━━━━━━━━━━━━\u001b[0m \u001b[32m12.8/12.8 MB\u001b[0m \u001b[31m73.9 MB/s\u001b[0m eta \u001b[36m0:00:00\u001b[0m\n",
            "\u001b[?25hInstalling collected packages: gurobipy\n",
            "Successfully installed gurobipy-10.0.1\n"
          ]
        }
      ],
      "source": [
        "%matplotlib inline\n",
        "import matplotlib.pyplot as plt\n",
        "import matplotlib as mpl\n",
        "import pandas as pd\n",
        "\n",
        "import shutil\n",
        "import sys\n",
        "import os.path\n",
        "\n",
        "if not shutil.which(\"pyomo\"):\n",
        "    !pip install -q pyomo\n",
        "    assert(shutil.which(\"pyomo\"))\n",
        "\n",
        "if not (shutil.which(\"cbc\") or os.path.isfile(\"cbc\")):\n",
        "    if \"google.colab\" in sys.modules:\n",
        "        !apt-get install -y -qq coinor-cbc\n",
        "    else:\n",
        "        try:\n",
        "            !conda install -c conda-forge coincbc \n",
        "        except:\n",
        "            pass\n",
        "\n",
        "assert(shutil.which(\"cbc\") or os.path.isfile(\"cbc\"))\n",
        "\n",
        "!python -m pip install gurobipy\n",
        "\n",
        "from pyomo.environ import *\n",
        "from pyomo.gdp import *"
      ]
    },
    {
      "cell_type": "code",
      "source": [
        "def visualize(results):\n",
        "    \n",
        "    schedule = pd.DataFrame(results)\n",
        "    JOBS = sorted(list(schedule['Job'].unique()))\n",
        "    MACHINES = sorted(list(schedule['Machine'].unique()))\n",
        "    makespan = schedule['Finish'].max()\n",
        "    \n",
        "    bar_style = {'alpha':1.0, 'lw':25, 'solid_capstyle':'butt'}\n",
        "    text_style = {'color':'white', 'weight':'bold', 'ha':'center', 'va':'center'}\n",
        "    colors = ['darkorange', 'deeppink', 'forestgreen', 'deepskyblue', 'darkorchid']\n",
        "\n",
        "    schedule.sort_values(by=['Job', 'Start'])\n",
        "    schedule.set_index(['Job', 'Machine'], inplace=True)\n",
        "\n",
        "    fig, ax = plt.subplots(2,1, figsize=(12, 5+(len(JOBS)+len(MACHINES))/4))\n",
        "\n",
        "    for jdx, j in enumerate(JOBS, 1):\n",
        "        for mdx, m in enumerate(MACHINES, 1):\n",
        "            if (j,m) in schedule.index:\n",
        "                xs = schedule.loc[(j,m), 'Start']\n",
        "                xf = schedule.loc[(j,m), 'Finish']\n",
        "                ax[0].plot([xs, xf], [jdx]*2, c=colors[mdx%len(colors)], **bar_style)\n",
        "                ax[0].text((xs + xf)/2, jdx, m, **text_style)\n",
        "                ax[1].plot([xs, xf], [mdx]*2, c=colors[jdx%len(colors)], **bar_style)\n",
        "                ax[1].text((xs + xf)/2, mdx, j, **text_style)\n",
        "                \n",
        "    ax[0].set_title('Job Schedule')\n",
        "    ax[0].set_ylabel('Job')\n",
        "    ax[1].set_title('Machine Schedule')\n",
        "    ax[1].set_ylabel('Machine')\n",
        "    \n",
        "    for idx, s in enumerate([JOBS, MACHINES]):\n",
        "        ax[idx].set_ylim(0.5, len(s) + 0.5)\n",
        "        ax[idx].set_yticks(range(1, 1 + len(s)))\n",
        "        ax[idx].set_yticklabels(s)\n",
        "        ax[idx].text(makespan, ax[idx].get_ylim()[0]-0.2, \"{0:0.1f}\".format(makespan), ha='center', va='top')\n",
        "        ax[idx].plot([makespan]*2, ax[idx].get_ylim(), 'r--')\n",
        "        ax[idx].set_xlabel('Time')\n",
        "        ax[idx].grid(True)\n",
        "        \n",
        "    fig.tight_layout()"
      ],
      "metadata": {
        "id": "xefrj4gCi5MO"
      },
      "execution_count": 28,
      "outputs": []
    },
    {
      "cell_type": "code",
      "source": [
        "TASKS = {\n",
        "    ('Paper_1','Blue')   : {'dur': 45, 'prec': None},\n",
        "    ('Paper_1','Yellow') : {'dur': 10, 'prec': ('Paper_1','Blue')},\n",
        "    ('Paper_2','Blue')   : {'dur': 20, 'prec': ('Paper_2','Green')},\n",
        "    ('Paper_2','Green')  : {'dur': 10, 'prec': None},\n",
        "    ('Paper_2','Yellow') : {'dur': 34, 'prec': ('Paper_2','Blue')},\n",
        "    ('Paper_3','Blue')   : {'dur': 12, 'prec': ('Paper_3','Yellow')},\n",
        "    ('Paper_3','Green')  : {'dur': 17, 'prec': ('Paper_3','Blue')},\n",
        "    ('Paper_3','Yellow') : {'dur': 28, 'prec': None},   \n",
        "}"
      ],
      "metadata": {
        "id": "7M4Y9Ik4goMz"
      },
      "execution_count": 3,
      "outputs": []
    },
    {
      "cell_type": "code",
      "source": [
        "model = ConcreteModel()\n",
        "\n",
        "model.JM = Set(initialize=TASKS.keys(), dimen=2)\n",
        "model.J = Set(initialize=list(set(t[0] for t in TASKS.keys())))  # jobs\n",
        "model.M = Set(initialize=list(set(t[1] for t in TASKS.keys())))  # machines\n",
        "model.PAIRS = Set(initialize=model.JM * model.JM, dimen=4, filter=lambda model, j, m, k, n: TASKS[(j, m)]['prec'] == (k, n))\n",
        "model.DIST = Set(initialize=model.J * model.J * model.M, dimen=3, filter=lambda model, i, j, m: i < j and (i, m) in model.JM and (j, m) in model.JM)\n",
        "\n",
        "longest_process_time = sum([t['dur'] for t in TASKS.values()])\n",
        "model.makespan = Var(domain=NonNegativeReals, bounds=(0, longest_process_time))\n",
        "model.start = Var(model.JM, domain=NonNegativeReals, bounds=(0, longest_process_time))\n",
        "\n",
        "model.obj = Objective(expr=model.makespan, sense=minimize)\n",
        "\n",
        "# constraints\n",
        "model.c1 = Constraint(model.JM, rule=lambda model, j, m: model.start[j, m] + TASKS[j, m]['dur'] <= model.makespan)\n",
        "model.c2 = Constraint(model.PAIRS, rule=lambda model, j, m, k, n: model.start[k, n] + TASKS[k, n]['dur'] <= model.start[j, m])\n",
        "model.c3 = Disjunction(model.DIST, rule=lambda model, i, j, m: [model.start[i, m] + TASKS[i, m]['dur'] <= model.start[j, m],\n",
        "                                                 model.start[j, m] + TASKS[j, m]['dur'] <= model.start[i, m]])\n",
        "\n",
        "TransformationFactory('gdp.hull').apply_to(model)\n",
        "SolverFactory('gurobi').solve(model).write()"
      ],
      "metadata": {
        "colab": {
          "base_uri": "https://localhost:8080/"
        },
        "id": "TfVvrJDdoiBP",
        "outputId": "78ca4a95-c1dd-4a55-e143-38cb130cbb2f"
      },
      "execution_count": 35,
      "outputs": [
        {
          "output_type": "stream",
          "name": "stdout",
          "text": [
            "# ==========================================================\n",
            "# = Solver Results                                         =\n",
            "# ==========================================================\n",
            "# ----------------------------------------------------------\n",
            "#   Problem Information\n",
            "# ----------------------------------------------------------\n",
            "Problem: \n",
            "- Name: x52\n",
            "  Lower bound: 96.99999999999986\n",
            "  Upper bound: 96.99999999999986\n",
            "  Number of objectives: 1\n",
            "  Number of constraints: 77\n",
            "  Number of variables: 52\n",
            "  Number of binary variables: 14\n",
            "  Number of integer variables: 14\n",
            "  Number of continuous variables: 38\n",
            "  Number of nonzeros: 181\n",
            "  Sense: minimize\n",
            "# ----------------------------------------------------------\n",
            "#   Solver Information\n",
            "# ----------------------------------------------------------\n",
            "Solver: \n",
            "- Status: ok\n",
            "  Return code: 0\n",
            "  Message: Model was solved to optimality (subject to tolerances), and an optimal solution is available.\n",
            "  Termination condition: optimal\n",
            "  Termination message: Model was solved to optimality (subject to tolerances), and an optimal solution is available.\n",
            "  Wall time: 0.0038499832153320312\n",
            "  Error rc: 0\n",
            "  Time: 0.09319949150085449\n",
            "# ----------------------------------------------------------\n",
            "#   Solution Information\n",
            "# ----------------------------------------------------------\n",
            "Solution: \n",
            "- number of solutions: 0\n",
            "  number of solutions displayed: 0\n"
          ]
        }
      ]
    },
    {
      "cell_type": "code",
      "source": [
        "results = [{'Job': j,\n",
        "            'Machine': m,\n",
        "            'Start': model.start[j, m](), \n",
        "            'Duration': TASKS[j, m]['dur'], \n",
        "            'Finish': model.start[(j, m)]() + TASKS[j, m]['dur']}\n",
        "            for j,m in model.JM]\n",
        "            \n",
        "visualize(results)"
      ],
      "metadata": {
        "colab": {
          "base_uri": "https://localhost:8080/",
          "height": 477
        },
        "id": "g7ib3djwGFPC",
        "outputId": "43fb2732-a0cc-4b44-d725-4216f479f3ce"
      },
      "execution_count": 36,
      "outputs": [
        {
          "output_type": "display_data",
          "data": {
            "text/plain": [
              "<Figure size 864x468 with 2 Axes>"
            ],
            "image/png": "[encoded data removed]"
          },
          "metadata": {
            "needs_background": "light"
          }
        }
      ]
    }
  ]
}