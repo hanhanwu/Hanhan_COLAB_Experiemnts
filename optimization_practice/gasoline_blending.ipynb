{
  "nbformat": 4,
  "nbformat_minor": 0,
  "metadata": {
    "colab": {
      "provenance": [],
      "authorship_tag": "ABX9TyOO5+UFa4u+PipuZf1WhU9V",
      "include_colab_link": true
    },
    "kernelspec": {
      "name": "python3",
      "display_name": "Python 3"
    },
    "language_info": {
      "name": "python"
    }
  },
  "cells": [
    {
      "cell_type": "markdown",
      "metadata": {
        "id": "view-in-github",
        "colab_type": "text"
      },
      "source": [
        "<a href=\"https://colab.research.google.com/github/hanhanwu/Hanhan_COLAB_Experiemnts/blob/master/optimization_practice/gasoline_blending.ipynb\" target=\"_parent\"><img src=\"https://colab.research.google.com/assets/colab-badge.svg\" alt=\"Open In Colab\"/></a>"
      ]
    },
    {
      "cell_type": "markdown",
      "source": [
        "# Gasoline Blending\n",
        "\n",
        "* [Problem Statement][1]\n",
        "* Practice 2 dimensional variable\n",
        "\n",
        "[1]:https://github.com/jckantor/ND-Pyomo-Cookbook/blob/main/notebooks/02.05-Gasoline-Blending.ipynb"
      ],
      "metadata": {
        "id": "B4RCHFcZSWxn"
      }
    },
    {
      "cell_type": "code",
      "execution_count": 1,
      "metadata": {
        "colab": {
          "base_uri": "https://localhost:8080/"
        },
        "id": "H20Wr0ucR_JB",
        "outputId": "70ad2591-3c65-42b8-bae6-2529a423d271"
      },
      "outputs": [
        {
          "output_type": "stream",
          "name": "stdout",
          "text": [
            "\u001b[2K     \u001b[90m━━━━━━━━━━━━━━━━━━━━━━━━━━━━━━━━━━━━━━━━\u001b[0m \u001b[32m11.1/11.1 MB\u001b[0m \u001b[31m16.3 MB/s\u001b[0m eta \u001b[36m0:00:00\u001b[0m\n",
            "\u001b[2K     \u001b[90m━━━━━━━━━━━━━━━━━━━━━━━━━━━━━━━━━━━━━━━━\u001b[0m \u001b[32m49.6/49.6 KB\u001b[0m \u001b[31m1.3 MB/s\u001b[0m eta \u001b[36m0:00:00\u001b[0m\n",
            "\u001b[?25hSelecting previously unselected package coinor-libcoinutils3v5.\n",
            "(Reading database ... 128097 files and directories currently installed.)\n",
            "Preparing to unpack .../0-coinor-libcoinutils3v5_2.11.4+repack1-1_amd64.deb ...\n",
            "Unpacking coinor-libcoinutils3v5 (2.11.4+repack1-1) ...\n",
            "Selecting previously unselected package coinor-libosi1v5.\n",
            "Preparing to unpack .../1-coinor-libosi1v5_0.108.6+repack1-1_amd64.deb ...\n",
            "Unpacking coinor-libosi1v5 (0.108.6+repack1-1) ...\n",
            "Selecting previously unselected package coinor-libclp1.\n",
            "Preparing to unpack .../2-coinor-libclp1_1.17.5+repack1-1_amd64.deb ...\n",
            "Unpacking coinor-libclp1 (1.17.5+repack1-1) ...\n",
            "Selecting previously unselected package coinor-libcgl1.\n",
            "Preparing to unpack .../3-coinor-libcgl1_0.60.3+repack1-2_amd64.deb ...\n",
            "Unpacking coinor-libcgl1 (0.60.3+repack1-2) ...\n",
            "Selecting previously unselected package coinor-libcbc3.\n",
            "Preparing to unpack .../4-coinor-libcbc3_2.10.3+repack1-1build1_amd64.deb ...\n",
            "Unpacking coinor-libcbc3 (2.10.3+repack1-1build1) ...\n",
            "Selecting previously unselected package coinor-cbc.\n",
            "Preparing to unpack .../5-coinor-cbc_2.10.3+repack1-1build1_amd64.deb ...\n",
            "Unpacking coinor-cbc (2.10.3+repack1-1build1) ...\n",
            "Setting up coinor-libcoinutils3v5 (2.11.4+repack1-1) ...\n",
            "Setting up coinor-libosi1v5 (0.108.6+repack1-1) ...\n",
            "Setting up coinor-libclp1 (1.17.5+repack1-1) ...\n",
            "Setting up coinor-libcgl1 (0.60.3+repack1-2) ...\n",
            "Setting up coinor-libcbc3 (2.10.3+repack1-1build1) ...\n",
            "Setting up coinor-cbc (2.10.3+repack1-1build1) ...\n",
            "Processing triggers for man-db (2.9.1-1) ...\n",
            "Processing triggers for libc-bin (2.31-0ubuntu9.9) ...\n"
          ]
        }
      ],
      "source": [
        "import pandas as pd\n",
        "\n",
        "import shutil\n",
        "import sys\n",
        "import os.path\n",
        "\n",
        "if not shutil.which(\"pyomo\"):\n",
        "    !pip install -q pyomo\n",
        "    assert(shutil.which(\"pyomo\"))\n",
        "\n",
        "if not (shutil.which(\"cbc\") or os.path.isfile(\"cbc\")):\n",
        "    if \"google.colab\" in sys.modules:\n",
        "        !apt-get install -y -qq coinor-cbc\n",
        "    else:\n",
        "        try:\n",
        "            !conda install -c conda-forge coincbc \n",
        "        except:\n",
        "            pass\n",
        "\n",
        "assert(shutil.which(\"cbc\") or os.path.isfile(\"cbc\"))\n",
        "\n",
        "import pyomo.environ as pyomo"
      ]
    },
    {
      "cell_type": "code",
      "source": [
        "products = {\n",
        "    'Regular' : {'price': 2.75, 'octane': 87, 'RVPmin': 0.0, 'RVPmax': 15.0, 'benzene': 1.1},\n",
        "    'Premium' : {'price': 2.85, 'octane': 91, 'RVPmin': 0.0, 'RVPmax': 15.0, 'benzene': 1.1},\n",
        "}\n",
        "\n",
        "streams = {\n",
        "    'Butane'       : {'RON': 93.0, 'MON': 92.0, 'RVP': 54.0, 'benzene': 0.00, 'cost': 0.85, 'avail': 30000},\n",
        "    'LSR'          : {'RON': 78.0, 'MON': 76.0, 'RVP': 11.2, 'benzene': 0.73, 'cost': 2.05, 'avail': 35000},\n",
        "    'Isomerate'    : {'RON': 83.0, 'MON': 81.1, 'RVP': 13.5, 'benzene': 0.00, 'cost': 2.20, 'avail': 0},\n",
        "    'Reformate'    : {'RON':100.0, 'MON': 88.2, 'RVP':  3.2, 'benzene': 1.85, 'cost': 2.80, 'avail': 60000},\n",
        "    'Reformate LB' : {'RON': 93.7, 'MON': 84.0, 'RVP':  2.8, 'benzene': 0.12, 'cost': 2.75, 'avail': 0},\n",
        "    'FCC Naphtha'  : {'RON': 92.1, 'MON': 77.1, 'RVP':  1.4, 'benzene': 1.06, 'cost': 2.60, 'avail': 70000},\n",
        "    'Alkylate'     : {'RON': 97.3, 'MON': 95.9, 'RVP':  4.6, 'benzene': 0.00, 'cost': 2.75, 'avail': 40000},\n",
        "}\n",
        "for s in streams.keys():\n",
        "  streams[s]['octane'] = (streams[s]['RON'] + streams[s]['MON'])/2"
      ],
      "metadata": {
        "id": "5gKhRC_MSro5"
      },
      "execution_count": 3,
      "outputs": []
    },
    {
      "cell_type": "code",
      "source": [
        "model = pyomo.ConcreteModel()\n",
        "P = products.keys()\n",
        "S = streams.keys()\n",
        "model.x = pyomo.Var(S, P, domain=pyomo.NonNegativeReals)\n",
        "\n",
        "revenue = sum(sum(model.x[s, p] * products[p]['price'] for p in P) for s in S)\n",
        "cost = sum(sum(model.x[s, p] * streams[s]['cost'] for s in S) for p in P)\n",
        "model.profit = pyomo.Objective(expr = revenue - cost, sense=pyomo.maximize)\n",
        "\n",
        "model.consts = pyomo.ConstraintList()\n",
        "for s in S:\n",
        "  model.consts.add(sum(model.x[s, p] for p in P) <= streams[s]['avail'])\n",
        "model.consts.add(sum(model.x[s, p] * (streams[s]['octane'] - products[p]['octane']) for s in S for p in P) >= 0)\n",
        "model.consts.add(sum(model.x[s, p] * (streams[s]['benzene'] - products[p]['benzene']) for s in S for p in P) <= 0)\n",
        "model.consts.add(sum(model.x[s, p] * (streams[s]['RVP'] **1.25 - products[p]['RVPmin']**1.25) for s in S for p in P) >= 0)\n",
        "model.consts.add(sum(model.x[s, p] * (streams[s]['RVP'] **1.25 - products[p]['RVPmax']**1.25) for s in S for p in P) <= 0)\n",
        "\n",
        "solver = pyomo.SolverFactory('cbc')\n",
        "solver.solve(model)"
      ],
      "metadata": {
        "colab": {
          "base_uri": "https://localhost:8080/"
        },
        "id": "Ct5ZHidmS6MX",
        "outputId": "4ec6265e-aa75-4c9d-fcf3-acd14d32a368"
      },
      "execution_count": 13,
      "outputs": [
        {
          "output_type": "execute_result",
          "data": {
            "text/plain": [
              "{'Problem': [{'Name': 'unknown', 'Lower bound': 100425.0, 'Upper bound': 100425.0, 'Number of objectives': 1, 'Number of constraints': 12, 'Number of variables': 15, 'Number of nonzeros': 9, 'Sense': 'maximize'}], 'Solver': [{'Status': 'ok', 'User time': -1.0, 'System time': 0.0, 'Wallclock time': 0.0, 'Termination condition': 'optimal', 'Termination message': 'Model was solved to optimality (subject to tolerances), and an optimal solution is available.', 'Statistics': {'Branch and bound': {'Number of bounded subproblems': None, 'Number of created subproblems': None}, 'Black box': {'Number of iterations': 8}}, 'Error rc': 0, 'Time': 0.022835731506347656}], 'Solution': [OrderedDict([('number of solutions', 0), ('number of solutions displayed', 0)])]}"
            ]
          },
          "metadata": {},
          "execution_count": 13
        }
      ]
    },
    {
      "cell_type": "code",
      "source": [
        "total_profit = round(model.profit(), 2)\n",
        "print(f'Optimized Total Profit: {total_profit} dollars')\n",
        "total_vol = round(sum(model.x[s, p]() for s in S for p in P), 2)\n",
        "print(f'Total Volume: {total_vol} gallon')\n",
        "print(f'Profit per gallon: {round(total_profit*100/total_vol, 2)} cents per gallon')"
      ],
      "metadata": {
        "colab": {
          "base_uri": "https://localhost:8080/"
        },
        "id": "PgL3_r9VXNfN",
        "outputId": "7637e121-2a6a-4381-efa7-90453d8bc045"
      },
      "execution_count": 19,
      "outputs": [
        {
          "output_type": "stream",
          "name": "stdout",
          "text": [
            "Optimized Total Profit: 100425.0 dollars\n",
            "Total Volume: 235000.0 gallon\n",
            "Profit per gallon: 42.73 cents per gallon\n"
          ]
        }
      ]
    },
    {
      "cell_type": "code",
      "source": [
        "df = pd.DataFrame()\n",
        "\n",
        "for s in S:\n",
        "  for p in P:\n",
        "    df.loc[s, p] = model.x[s, p]() \n",
        "  df.loc[s,'total_avil'] = streams[s]['avail']\n",
        "\n",
        "df['Total_vol'] = sum(df[p] for p in P)\n",
        "df"
      ],
      "metadata": {
        "colab": {
          "base_uri": "https://localhost:8080/",
          "height": 269
        },
        "id": "hwn9TN76Z2Zl",
        "outputId": "41501c55-cf7f-45e0-fd88-84fe53877ea9"
      },
      "execution_count": 23,
      "outputs": [
        {
          "output_type": "execute_result",
          "data": {
            "text/plain": [
              "              Regular  Premium  total_avil  Total_vol\n",
              "Butane        30000.0      0.0     30000.0    30000.0\n",
              "LSR           35000.0      0.0     35000.0    35000.0\n",
              "Isomerate         0.0      0.0         0.0        0.0\n",
              "Reformate     55750.0   4250.0     60000.0    60000.0\n",
              "Reformate LB      0.0      0.0         0.0        0.0\n",
              "FCC Naphtha       0.0  70000.0     70000.0    70000.0\n",
              "Alkylate          0.0  40000.0     40000.0    40000.0"
            ],
            "text/html": [
              "\n",
              "  <div id=\"df-6c0ce199-76cf-4ab6-8c26-7501d78a13b1\">\n",
              "    <div class=\"colab-df-container\">\n",
              "      <div>\n",
              "<style scoped>\n",
              "    .dataframe tbody tr th:only-of-type {\n",
              "        vertical-align: middle;\n",
              "    }\n",
              "\n",
              "    .dataframe tbody tr th {\n",
              "        vertical-align: top;\n",
              "    }\n",
              "\n",
              "    .dataframe thead th {\n",
              "        text-align: right;\n",
              "    }\n",
              "</style>\n",
              "<table border=\"1\" class=\"dataframe\">\n",
              "  <thead>\n",
              "    <tr style=\"text-align: right;\">\n",
              "      <th></th>\n",
              "      <th>Regular</th>\n",
              "      <th>Premium</th>\n",
              "      <th>total_avil</th>\n",
              "      <th>Total_vol</th>\n",
              "    </tr>\n",
              "  </thead>\n",
              "  <tbody>\n",
              "    <tr>\n",
              "      <th>Butane</th>\n",
              "      <td>30000.0</td>\n",
              "      <td>0.0</td>\n",
              "      <td>30000.0</td>\n",
              "      <td>30000.0</td>\n",
              "    </tr>\n",
              "    <tr>\n",
              "      <th>LSR</th>\n",
              "      <td>35000.0</td>\n",
              "      <td>0.0</td>\n",
              "      <td>35000.0</td>\n",
              "      <td>35000.0</td>\n",
              "    </tr>\n",
              "    <tr>\n",
              "      <th>Isomerate</th>\n",
              "      <td>0.0</td>\n",
              "      <td>0.0</td>\n",
              "      <td>0.0</td>\n",
              "      <td>0.0</td>\n",
              "    </tr>\n",
              "    <tr>\n",
              "      <th>Reformate</th>\n",
              "      <td>55750.0</td>\n",
              "      <td>4250.0</td>\n",
              "      <td>60000.0</td>\n",
              "      <td>60000.0</td>\n",
              "    </tr>\n",
              "    <tr>\n",
              "      <th>Reformate LB</th>\n",
              "      <td>0.0</td>\n",
              "      <td>0.0</td>\n",
              "      <td>0.0</td>\n",
              "      <td>0.0</td>\n",
              "    </tr>\n",
              "    <tr>\n",
              "      <th>FCC Naphtha</th>\n",
              "      <td>0.0</td>\n",
              "      <td>70000.0</td>\n",
              "      <td>70000.0</td>\n",
              "      <td>70000.0</td>\n",
              "    </tr>\n",
              "    <tr>\n",
              "      <th>Alkylate</th>\n",
              "      <td>0.0</td>\n",
              "      <td>40000.0</td>\n",
              "      <td>40000.0</td>\n",
              "      <td>40000.0</td>\n",
              "    </tr>\n",
              "  </tbody>\n",
              "</table>\n",
              "</div>\n",
              "      <button class=\"colab-df-convert\" onclick=\"convertToInteractive('df-6c0ce199-76cf-4ab6-8c26-7501d78a13b1')\"\n",
              "              title=\"Convert this dataframe to an interactive table.\"\n",
              "              style=\"display:none;\">\n",
              "        \n",
              "  <svg xmlns=\"http://www.w3.org/2000/svg\" height=\"24px\"viewBox=\"0 0 24 24\"\n",
              "       width=\"24px\">\n",
              "    <path d=\"M0 0h24v24H0V0z\" fill=\"none\"/>\n",
              "    <path d=\"M18.56 5.44l.94 2.06.94-2.06 2.06-.94-2.06-.94-.94-2.06-.94 2.06-2.06.94zm-11 1L8.5 8.5l.94-2.06 2.06-.94-2.06-.94L8.5 2.5l-.94 2.06-2.06.94zm10 10l.94 2.06.94-2.06 2.06-.94-2.06-.94-.94-2.06-.94 2.06-2.06.94z\"/><path d=\"M17.41 7.96l-1.37-1.37c-.4-.4-.92-.59-1.43-.59-.52 0-1.04.2-1.43.59L10.3 9.45l-7.72 7.72c-.78.78-.78 2.05 0 2.83L4 21.41c.39.39.9.59 1.41.59.51 0 1.02-.2 1.41-.59l7.78-7.78 2.81-2.81c.8-.78.8-2.07 0-2.86zM5.41 20L4 18.59l7.72-7.72 1.47 1.35L5.41 20z\"/>\n",
              "  </svg>\n",
              "      </button>\n",
              "      \n",
              "  <style>\n",
              "    .colab-df-container {\n",
              "      display:flex;\n",
              "      flex-wrap:wrap;\n",
              "      gap: 12px;\n",
              "    }\n",
              "\n",
              "    .colab-df-convert {\n",
              "      background-color: #E8F0FE;\n",
              "      border: none;\n",
              "      border-radius: 50%;\n",
              "      cursor: pointer;\n",
              "      display: none;\n",
              "      fill: #1967D2;\n",
              "      height: 32px;\n",
              "      padding: 0 0 0 0;\n",
              "      width: 32px;\n",
              "    }\n",
              "\n",
              "    .colab-df-convert:hover {\n",
              "      background-color: #E2EBFA;\n",
              "      box-shadow: 0px 1px 2px rgba(60, 64, 67, 0.3), 0px 1px 3px 1px rgba(60, 64, 67, 0.15);\n",
              "      fill: #174EA6;\n",
              "    }\n",
              "\n",
              "    [theme=dark] .colab-df-convert {\n",
              "      background-color: #3B4455;\n",
              "      fill: #D2E3FC;\n",
              "    }\n",
              "\n",
              "    [theme=dark] .colab-df-convert:hover {\n",
              "      background-color: #434B5C;\n",
              "      box-shadow: 0px 1px 3px 1px rgba(0, 0, 0, 0.15);\n",
              "      filter: drop-shadow(0px 1px 2px rgba(0, 0, 0, 0.3));\n",
              "      fill: #FFFFFF;\n",
              "    }\n",
              "  </style>\n",
              "\n",
              "      <script>\n",
              "        const buttonEl =\n",
              "          document.querySelector('#df-6c0ce199-76cf-4ab6-8c26-7501d78a13b1 button.colab-df-convert');\n",
              "        buttonEl.style.display =\n",
              "          google.colab.kernel.accessAllowed ? 'block' : 'none';\n",
              "\n",
              "        async function convertToInteractive(key) {\n",
              "          const element = document.querySelector('#df-6c0ce199-76cf-4ab6-8c26-7501d78a13b1');\n",
              "          const dataTable =\n",
              "            await google.colab.kernel.invokeFunction('convertToInteractive',\n",
              "                                                     [key], {});\n",
              "          if (!dataTable) return;\n",
              "\n",
              "          const docLinkHtml = 'Like what you see? Visit the ' +\n",
              "            '<a target=\"_blank\" href=https://colab.research.google.com/notebooks/data_table.ipynb>data table notebook</a>'\n",
              "            + ' to learn more about interactive tables.';\n",
              "          element.innerHTML = '';\n",
              "          dataTable['output_type'] = 'display_data';\n",
              "          await google.colab.output.renderOutput(dataTable, element);\n",
              "          const docLink = document.createElement('div');\n",
              "          docLink.innerHTML = docLinkHtml;\n",
              "          element.appendChild(docLink);\n",
              "        }\n",
              "      </script>\n",
              "    </div>\n",
              "  </div>\n",
              "  "
            ]
          },
          "metadata": {},
          "execution_count": 23
        }
      ]
    }
  ]
}