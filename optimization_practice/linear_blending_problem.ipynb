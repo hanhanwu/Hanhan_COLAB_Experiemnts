{
  "nbformat": 4,
  "nbformat_minor": 0,
  "metadata": {
    "colab": {
      "provenance": [],
      "authorship_tag": "ABX9TyOOD38wNg+02EAIv9yWrhYo",
      "include_colab_link": true
    },
    "kernelspec": {
      "name": "python3",
      "display_name": "Python 3"
    },
    "language_info": {
      "name": "python"
    }
  },
  "cells": [
    {
      "cell_type": "markdown",
      "metadata": {
        "id": "view-in-github",
        "colab_type": "text"
      },
      "source": [
        "<a href=\"https://colab.research.google.com/github/hanhanwu/Hanhan_COLAB_Experiemnts/blob/master/optimization_practice/linear_blending_problem.ipynb\" target=\"_parent\"><img src=\"https://colab.research.google.com/assets/colab-badge.svg\" alt=\"Open In Colab\"/></a>"
      ]
    },
    {
      "cell_type": "markdown",
      "source": [
        "# Practice Linear Blending Problem\n",
        "\n",
        "* [Problem Statement][1]\n",
        "* Practice with my solution.\n",
        "\n",
        "[1]:https://github.com/jckantor/ND-Pyomo-Cookbook/blob/main/notebooks/02.03-Linear-Blending-Problem.ipynb"
      ],
      "metadata": {
        "id": "rVrZY0stBIIk"
      }
    },
    {
      "cell_type": "code",
      "execution_count": 1,
      "metadata": {
        "colab": {
          "base_uri": "https://localhost:8080/"
        },
        "id": "cb7QzuPdAnA8",
        "outputId": "ec790ae0-3ed9-4724-9f5e-55189acf9bc9"
      },
      "outputs": [
        {
          "output_type": "stream",
          "name": "stdout",
          "text": [
            "\u001b[2K     \u001b[90m━━━━━━━━━━━━━━━━━━━━━━━━━━━━━━━━━━━━━━━━\u001b[0m \u001b[32m11.1/11.1 MB\u001b[0m \u001b[31m32.9 MB/s\u001b[0m eta \u001b[36m0:00:00\u001b[0m\n",
            "\u001b[2K     \u001b[90m━━━━━━━━━━━━━━━━━━━━━━━━━━━━━━━━━━━━━━━━\u001b[0m \u001b[32m49.6/49.6 KB\u001b[0m \u001b[31m1.0 MB/s\u001b[0m eta \u001b[36m0:00:00\u001b[0m\n",
            "\u001b[?25hSelecting previously unselected package coinor-libcoinutils3v5.\n",
            "(Reading database ... 128048 files and directories currently installed.)\n",
            "Preparing to unpack .../0-coinor-libcoinutils3v5_2.11.4+repack1-1_amd64.deb ...\n",
            "Unpacking coinor-libcoinutils3v5 (2.11.4+repack1-1) ...\n",
            "Selecting previously unselected package coinor-libosi1v5.\n",
            "Preparing to unpack .../1-coinor-libosi1v5_0.108.6+repack1-1_amd64.deb ...\n",
            "Unpacking coinor-libosi1v5 (0.108.6+repack1-1) ...\n",
            "Selecting previously unselected package coinor-libclp1.\n",
            "Preparing to unpack .../2-coinor-libclp1_1.17.5+repack1-1_amd64.deb ...\n",
            "Unpacking coinor-libclp1 (1.17.5+repack1-1) ...\n",
            "Selecting previously unselected package coinor-libcgl1.\n",
            "Preparing to unpack .../3-coinor-libcgl1_0.60.3+repack1-2_amd64.deb ...\n",
            "Unpacking coinor-libcgl1 (0.60.3+repack1-2) ...\n",
            "Selecting previously unselected package coinor-libcbc3.\n",
            "Preparing to unpack .../4-coinor-libcbc3_2.10.3+repack1-1build1_amd64.deb ...\n",
            "Unpacking coinor-libcbc3 (2.10.3+repack1-1build1) ...\n",
            "Selecting previously unselected package coinor-cbc.\n",
            "Preparing to unpack .../5-coinor-cbc_2.10.3+repack1-1build1_amd64.deb ...\n",
            "Unpacking coinor-cbc (2.10.3+repack1-1build1) ...\n",
            "Setting up coinor-libcoinutils3v5 (2.11.4+repack1-1) ...\n",
            "Setting up coinor-libosi1v5 (0.108.6+repack1-1) ...\n",
            "Setting up coinor-libclp1 (1.17.5+repack1-1) ...\n",
            "Setting up coinor-libcgl1 (0.60.3+repack1-2) ...\n",
            "Setting up coinor-libcbc3 (2.10.3+repack1-1build1) ...\n",
            "Setting up coinor-cbc (2.10.3+repack1-1build1) ...\n",
            "Processing triggers for man-db (2.9.1-1) ...\n",
            "Processing triggers for libc-bin (2.31-0ubuntu9.9) ...\n"
          ]
        }
      ],
      "source": [
        "%matplotlib inline\n",
        "import matplotlib.pyplot as plt\n",
        "import numpy as np\n",
        "import pandas as pd\n",
        "\n",
        "import shutil\n",
        "import sys\n",
        "import os.path\n",
        "\n",
        "if not shutil.which(\"pyomo\"):\n",
        "    !pip install -q pyomo\n",
        "    assert(shutil.which(\"pyomo\"))\n",
        "\n",
        "if not (shutil.which(\"cbc\") or os.path.isfile(\"cbc\")):\n",
        "    if \"google.colab\" in sys.modules:\n",
        "        !apt-get install -y -qq coinor-cbc\n",
        "    else:\n",
        "        try:\n",
        "            !conda install -c conda-forge coincbc \n",
        "        except:\n",
        "            pass\n",
        "\n",
        "assert(shutil.which(\"cbc\") or os.path.isfile(\"cbc\"))\n",
        "\n",
        "import pyomo.environ as pyomo"
      ]
    },
    {
      "cell_type": "code",
      "source": [
        "data = {\n",
        "    'A': {'abv': 0.045, 'cost': 0.32},\n",
        "    'B': {'abv': 0.037, 'cost': 0.25},\n",
        "    'W': {'abv': 0.000, 'cost': 0.05},\n",
        "}\n",
        "\n",
        "total_vol = 100\n",
        "total_abv = 0.040"
      ],
      "metadata": {
        "id": "50U_4sG6AukZ"
      },
      "execution_count": 2,
      "outputs": []
    },
    {
      "cell_type": "code",
      "source": [
        "elems = data.keys()\n",
        "model = pyomo.ConcreteModel()\n",
        "model.vol = pyomo.Var(elems, domain=pyomo.NonNegativeReals)  # this will be the list of volumes of each element\n",
        "print(model.vol.extract_values())\n",
        "print()\n",
        "\n",
        "model.cost = pyomo.Objective(expr = sum(model.vol[e] * data[e]['cost'] for e in elems))\n",
        "model.tot_abv = pyomo.Constraint(expr = total_vol * total_abv == sum(model.vol[e] * data[e]['abv'] for e in elems))\n",
        "model.tot_vol = pyomo.Constraint(expr = total_vol == sum(model.vol[e] for e in elems))\n",
        "\n",
        "solver = pyomo.SolverFactory('cbc')\n",
        "solver.solve(model)\n",
        "\n",
        "print('Optimal Blend')\n",
        "for e in elems:\n",
        "  print(f'{e}: {model.vol[e]()} gallons')\n",
        "print()\n",
        "print(f'Totoal Cost: {model.cost()}')"
      ],
      "metadata": {
        "colab": {
          "base_uri": "https://localhost:8080/"
        },
        "id": "7yR9AMgTBl9q",
        "outputId": "5747c784-07e3-481d-8e33-c6daa42f142f"
      },
      "execution_count": 14,
      "outputs": [
        {
          "output_type": "stream",
          "name": "stdout",
          "text": [
            "{'A': None, 'W': None, 'B': None}\n",
            "\n",
            "Optimal Blend\n",
            "A: 37.5 gallons\n",
            "B: 62.5 gallons\n",
            "W: 0.0 gallons\n",
            "\n",
            "Totoal Cost: 27.625\n"
          ]
        }
      ]
    }
  ]
}