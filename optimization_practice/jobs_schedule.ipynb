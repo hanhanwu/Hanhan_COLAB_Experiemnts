{
  "nbformat": 4,
  "nbformat_minor": 0,
  "metadata": {
    "colab": {
      "provenance": [],
      "authorship_tag": "ABX9TyNCqsEs7EhBSnQ8cBbjJizn",
      "include_colab_link": true
    },
    "kernelspec": {
      "name": "python3",
      "display_name": "Python 3"
    },
    "language_info": {
      "name": "python"
    }
  },
  "cells": [
    {
      "cell_type": "markdown",
      "metadata": {
        "id": "view-in-github",
        "colab_type": "text"
      },
      "source": [
        "<a href=\"https://colab.research.google.com/github/hanhanwu/Hanhan_COLAB_Experiemnts/blob/master/optimization_practice/jobs_schedule.ipynb\" target=\"_parent\"><img src=\"https://colab.research.google.com/assets/colab-badge.svg\" alt=\"Open In Colab\"/></a>"
      ]
    },
    {
      "cell_type": "markdown",
      "source": [
        "# Optimize Job Schedules\n",
        "\n",
        "* [Problem Statement][1]\n",
        "* Learn to use disjunctive in pyomo, try out my solutions\n",
        "\n",
        "[1]:https://github.com/jckantor/ND-Pyomo-Cookbook/blob/main/notebooks/04.02-Machine-Bottleneck.ipynb"
      ],
      "metadata": {
        "id": "v2KPhwEn15aL"
      }
    },
    {
      "cell_type": "code",
      "execution_count": 1,
      "metadata": {
        "colab": {
          "base_uri": "https://localhost:8080/"
        },
        "id": "wPUNQM9Z104Y",
        "outputId": "d3ee7e1b-ddec-4b27-b2fb-d5cf647ef72b"
      },
      "outputs": [
        {
          "output_type": "stream",
          "name": "stdout",
          "text": [
            "\u001b[2K     \u001b[90m━━━━━━━━━━━━━━━━━━━━━━━━━━━━━━━━━━━━━━━━\u001b[0m \u001b[32m11.2/11.2 MB\u001b[0m \u001b[31m45.8 MB/s\u001b[0m eta \u001b[36m0:00:00\u001b[0m\n",
            "\u001b[2K     \u001b[90m━━━━━━━━━━━━━━━━━━━━━━━━━━━━━━━━━━━━━━━━\u001b[0m \u001b[32m49.6/49.6 KB\u001b[0m \u001b[31m2.4 MB/s\u001b[0m eta \u001b[36m0:00:00\u001b[0m\n",
            "\u001b[?25hSelecting previously unselected package coinor-libcoinutils3v5.\n",
            "(Reading database ... 128126 files and directories currently installed.)\n",
            "Preparing to unpack .../0-coinor-libcoinutils3v5_2.11.4+repack1-1_amd64.deb ...\n",
            "Unpacking coinor-libcoinutils3v5 (2.11.4+repack1-1) ...\n",
            "Selecting previously unselected package coinor-libosi1v5.\n",
            "Preparing to unpack .../1-coinor-libosi1v5_0.108.6+repack1-1_amd64.deb ...\n",
            "Unpacking coinor-libosi1v5 (0.108.6+repack1-1) ...\n",
            "Selecting previously unselected package coinor-libclp1.\n",
            "Preparing to unpack .../2-coinor-libclp1_1.17.5+repack1-1_amd64.deb ...\n",
            "Unpacking coinor-libclp1 (1.17.5+repack1-1) ...\n",
            "Selecting previously unselected package coinor-libcgl1.\n",
            "Preparing to unpack .../3-coinor-libcgl1_0.60.3+repack1-2_amd64.deb ...\n",
            "Unpacking coinor-libcgl1 (0.60.3+repack1-2) ...\n",
            "Selecting previously unselected package coinor-libcbc3.\n",
            "Preparing to unpack .../4-coinor-libcbc3_2.10.3+repack1-1build1_amd64.deb ...\n",
            "Unpacking coinor-libcbc3 (2.10.3+repack1-1build1) ...\n",
            "Selecting previously unselected package coinor-cbc.\n",
            "Preparing to unpack .../5-coinor-cbc_2.10.3+repack1-1build1_amd64.deb ...\n",
            "Unpacking coinor-cbc (2.10.3+repack1-1build1) ...\n",
            "Setting up coinor-libcoinutils3v5 (2.11.4+repack1-1) ...\n",
            "Setting up coinor-libosi1v5 (0.108.6+repack1-1) ...\n",
            "Setting up coinor-libclp1 (1.17.5+repack1-1) ...\n",
            "Setting up coinor-libcgl1 (0.60.3+repack1-2) ...\n",
            "Setting up coinor-libcbc3 (2.10.3+repack1-1build1) ...\n",
            "Setting up coinor-cbc (2.10.3+repack1-1build1) ...\n",
            "Processing triggers for man-db (2.9.1-1) ...\n",
            "Processing triggers for libc-bin (2.31-0ubuntu9.9) ...\n"
          ]
        }
      ],
      "source": [
        "%matplotlib inline\n",
        "import matplotlib.pyplot as plt\n",
        "from IPython.display import display\n",
        "import pandas as pd\n",
        "\n",
        "import shutil\n",
        "import sys\n",
        "import os.path\n",
        "\n",
        "if not shutil.which(\"pyomo\"):\n",
        "    !pip install -q pyomo\n",
        "    assert(shutil.which(\"pyomo\"))\n",
        "\n",
        "if not (shutil.which(\"cbc\") or os.path.isfile(\"cbc\")):\n",
        "    if \"google.colab\" in sys.modules:\n",
        "        !apt-get install -y -qq coinor-cbc\n",
        "    else:\n",
        "        try:\n",
        "            !conda install -c conda-forge coincbc \n",
        "        except:\n",
        "            pass\n",
        "\n",
        "assert(shutil.which(\"cbc\") or os.path.isfile(\"cbc\"))\n",
        "\n",
        "from pyomo.environ import *\n",
        "from pyomo.gdp import *"
      ]
    },
    {
      "cell_type": "code",
      "source": [
        "# GANTT graph drawing copied from https://github.com/jckantor/ND-Pyomo-Cookbook/blob/main/notebooks/04.02-Machine-Bottleneck.ipynb\n",
        "def gantt(JOBS, SCHEDULE={}):\n",
        "    bw = 0.3\n",
        "    plt.figure(figsize=(12, 0.7*(len(JOBS.keys()))))\n",
        "    idx = 0\n",
        "    for j in sorted(JOBS.keys()):\n",
        "        x = JOBS[j]['release']\n",
        "        y = JOBS[j]['due']\n",
        "        plt.fill_between([x,y],[idx-bw,idx-bw],[idx+bw,idx+bw], color='green', alpha=0.7)\n",
        "        if j in SCHEDULE.keys():\n",
        "            x = SCHEDULE[j]['start']\n",
        "            y = SCHEDULE[j]['finish']\n",
        "            plt.fill_between([x,y],[idx-bw,idx-bw],[idx+bw,idx+bw], color='deeppink', alpha=0.9)\n",
        "            plt.plot([x,y,y,x,x], [idx-bw,idx-bw,idx+bw,idx+bw,idx-bw],color='k')\n",
        "            plt.text((SCHEDULE[j]['start'] + SCHEDULE[j]['finish'])/2.0,idx,\n",
        "                'Job ' + j, color='white', weight='bold',\n",
        "                horizontalalignment='center', verticalalignment='center')\n",
        "        idx += 1\n",
        "\n",
        "    plt.ylim(-0.5, idx-0.5)\n",
        "    plt.title('Job Schedule')\n",
        "    plt.xlabel('Time')\n",
        "    plt.ylabel('Jobs')\n",
        "    plt.yticks(range(len(JOBS)), JOBS.keys())\n",
        "    plt.grid()\n",
        "    xlim = plt.xlim()\n",
        "    \n",
        "    if SCHEDULE:\n",
        "        for j in SCHEDULE.keys():\n",
        "            if 'machine' not in SCHEDULE[j].keys():\n",
        "                SCHEDULE[j]['machine'] = 1\n",
        "        MACHINES = sorted(set([SCHEDULE[j]['machine'] for j in SCHEDULE.keys()]))\n",
        "\n",
        "        plt.figure(figsize=(12, 0.7*len(MACHINES)))\n",
        "        for j in sorted(SCHEDULE.keys()):\n",
        "            idx = MACHINES.index(SCHEDULE[j]['machine'])\n",
        "            x = SCHEDULE[j]['start']\n",
        "            y = SCHEDULE[j]['finish']\n",
        "            plt.fill_between([x,y],[idx-bw,idx-bw],[idx+bw,idx+bw], color='mediumorchid')\n",
        "            plt.plot([x,y,y,x,x], [idx-bw,idx-bw,idx+bw,idx+bw,idx-bw],color='k')\n",
        "            plt.text((SCHEDULE[j]['start'] + SCHEDULE[j]['finish'])/2.0,idx,\n",
        "                'Job ' + j, color='white', weight='bold',\n",
        "                horizontalalignment='center', verticalalignment='center')\n",
        "        plt.xlim(xlim)\n",
        "        plt.ylim(-0.5, len(MACHINES)-0.5)\n",
        "        plt.title('Machine Schedule')\n",
        "        plt.yticks(range(len(MACHINES)), MACHINES)\n",
        "        plt.ylabel('Machines')\n",
        "        plt.grid()"
      ],
      "metadata": {
        "id": "fNriGmLq2wxf"
      },
      "execution_count": 2,
      "outputs": []
    },
    {
      "cell_type": "code",
      "source": [
        "JOBS = {\n",
        "    'A': {'release': 2, 'duration': 5, 'due': 10},\n",
        "    'B': {'release': 5, 'duration': 6, 'due': 21},\n",
        "    'C': {'release': 4, 'duration': 8, 'due': 15},\n",
        "    'D': {'release': 0, 'duration': 4, 'due': 10},\n",
        "    'E': {'release': 0, 'duration': 2, 'due':  5},\n",
        "    'F': {'release': 8, 'duration': 3, 'due': 15},\n",
        "    'G': {'release': 9, 'duration': 2, 'due': 22},\n",
        "}"
      ],
      "metadata": {
        "id": "kUF979lT3E5l"
      },
      "execution_count": 3,
      "outputs": []
    },
    {
      "cell_type": "code",
      "source": [
        "# do 1 job at a time, finish 1 after another with optimization\n",
        "def schedule(JOBS, order=sorted(JOBS.keys())):\n",
        "    \"\"\"Schedule a dictionary of JOBS on a single machine in a specified order.\"\"\"\n",
        "    start = 0\n",
        "    finish = 0\n",
        "    SCHEDULE = {}\n",
        "    for job in order:\n",
        "        start = max(JOBS[job]['release'], finish)\n",
        "        finish = start + JOBS[job]['duration']\n",
        "        SCHEDULE[job] = {'start': start, 'finish': finish}\n",
        "    return SCHEDULE   \n",
        "\n",
        "SCHEDULE = schedule(JOBS)\n",
        "gantt(JOBS, SCHEDULE)"
      ],
      "metadata": {
        "colab": {
          "base_uri": "https://localhost:8080/",
          "height": 429
        },
        "id": "-w1pkk2r3bHV",
        "outputId": "3bbe3a2a-d837-4797-9c56-71a7a12e75b7"
      },
      "execution_count": 4,
      "outputs": [
        {
          "output_type": "display_data",
          "data": {
            "text/plain": [
              "<Figure size 864x352.8 with 1 Axes>"
            ],
            "image/png": "[encoded data removed]"
          },
          "metadata": {
            "needs_background": "light"
          }
        },
        {
          "output_type": "display_data",
          "data": {
            "text/plain": [
              "<Figure size 864x50.4 with 1 Axes>"
            ],
            "image/png": "[encoded data removed]"
          },
          "metadata": {
            "needs_background": "light"
          }
        }
      ]
    },
    {
      "cell_type": "code",
      "source": [
        "def opt_output(JOBS, SCHEDULE):\n",
        "  output = {}\n",
        "  output['total_span'] = max(SCHEDULE[job]['finish'] for job in SCHEDULE.keys())\n",
        "  overdue_lst = [SCHEDULE[job]['finish'] - JOBS[job]['due'] for job in SCHEDULE.keys()]\n",
        "  output['max_overdue'] = max(overdue_lst)\n",
        "  output['total_overdue'] = sum([overdue for overdue in overdue_lst if overdue > 0])\n",
        "  output['overdue_ct'] = sum([overdue > 0 for overdue in overdue_lst])\n",
        "  output['ontime_ct'] = sum([overdue <= 0 for overdue in overdue_lst])\n",
        "\n",
        "  return output"
      ],
      "metadata": {
        "id": "JDsKKf4VR3YM"
      },
      "execution_count": 11,
      "outputs": []
    },
    {
      "cell_type": "markdown",
      "source": [
        "## Single Thread\n",
        "\n",
        "* All jobs are execuated by 1 thread\n",
        "\n",
        "#### Lessons Learned\n",
        "* To minimize overdue means to minimize the sum of positive overdues. We can replace variable `early` with negative overdue but this could make the objective become a nonlinear problem.\n",
        "* Sometimes, to bring in a new variable while adjusting the domain of these variables, might convert a nonlinear problem to linear, such as bring in `early` and have nonnegative overdue only."
      ],
      "metadata": {
        "id": "dlEw7alkHPkI"
      }
    },
    {
      "cell_type": "code",
      "source": [
        "m = ConcreteModel()\n",
        "m.J = Set(initialize=JOBS.keys())\n",
        "m.PAIRS = Set(initialize=m.J * m.J, dimen=2, filter=lambda m, j, k: j < k)\n",
        "\n",
        "max_time = max(JOBS[j]['release'] for j in m.J) + sum(JOBS[j]['duration'] for j in m.J)  # upper bound to finish all jobs\n",
        "\n",
        "m.start = Var(m.J, domain=NonNegativeReals, bounds=(0, max_time))\n",
        "m.overdue = Var(m.J, domain=Reals, bounds=(0, max_time))\n",
        "m.early = Var(m.J, domain=NonNegativeReals, bounds=(0, max_time))\n",
        "\n",
        "m.obj = Objective(expr = sum(m.overdue[j] for j in m.J), sense=minimize)\n",
        "\n",
        "m.c1 = Constraint(m.J, rule=lambda m, j: m.start[j] >= JOBS[j]['release'])\n",
        "m.c2 = Constraint(m.J, rule=lambda m, j: m.start[j] + JOBS[j]['duration'] + m.early[j] == JOBS[j]['due'] + m.overdue[j])\n",
        "m.c3 = Constraint(m.J, rule=lambda m, j: m.start[j] + JOBS[j]['duration'] <= max_time)\n",
        "m.c4 = Disjunction(m.PAIRS, rule=lambda m, j, k: [m.start[j] + JOBS[j]['duration'] <= m.start[k],\n",
        "                                                m.start[k] + JOBS[k]['duration'] <= m.start[j]])  # only 1 job each time\n",
        "\n",
        "TransformationFactory('gdp.chull').apply_to(m)\n",
        "SolverFactory('cbc').solve(m).write()"
      ],
      "metadata": {
        "colab": {
          "base_uri": "https://localhost:8080/"
        },
        "id": "LZqIqiCS3fUF",
        "outputId": "813c493d-1be6-4a6f-bb85-74daa88bfd1d"
      },
      "execution_count": 31,
      "outputs": [
        {
          "output_type": "stream",
          "name": "stdout",
          "text": [
            "# ==========================================================\n",
            "# = Solver Results                                         =\n",
            "# ==========================================================\n",
            "# ----------------------------------------------------------\n",
            "#   Problem Information\n",
            "# ----------------------------------------------------------\n",
            "Problem: \n",
            "- Name: unknown\n",
            "  Lower bound: 16.0\n",
            "  Upper bound: 16.0\n",
            "  Number of objectives: 1\n",
            "  Number of constraints: 133\n",
            "  Number of variables: 77\n",
            "  Number of binary variables: 42\n",
            "  Number of integer variables: 42\n",
            "  Number of nonzeros: 7\n",
            "  Sense: minimize\n",
            "# ----------------------------------------------------------\n",
            "#   Solver Information\n",
            "# ----------------------------------------------------------\n",
            "Solver: \n",
            "- Status: ok\n",
            "  User time: -1.0\n",
            "  System time: 0.64\n",
            "  Wallclock time: 0.66\n",
            "  Termination condition: optimal\n",
            "  Termination message: Model was solved to optimality (subject to tolerances), and an optimal solution is available.\n",
            "  Statistics: \n",
            "    Branch and bound: \n",
            "      Number of bounded subproblems: 30\n",
            "      Number of created subproblems: 30\n",
            "    Black box: \n",
            "      Number of iterations: 6632\n",
            "  Error rc: 0\n",
            "  Time: 0.6821155548095703\n",
            "# ----------------------------------------------------------\n",
            "#   Solution Information\n",
            "# ----------------------------------------------------------\n",
            "Solution: \n",
            "- number of solutions: 0\n",
            "  number of solutions displayed: 0\n"
          ]
        }
      ]
    },
    {
      "cell_type": "code",
      "source": [
        "SCHEDULE = {}\n",
        "for j in m.J:\n",
        "  SCHEDULE[j] = {'thread': 1, 'start': m.start[j](), 'finish': m.start[j]() + JOBS[j]['duration']}\n",
        "\n",
        "gantt(JOBS, SCHEDULE)\n",
        "opt_output(JOBS, SCHEDULE)"
      ],
      "metadata": {
        "colab": {
          "base_uri": "https://localhost:8080/",
          "height": 516
        },
        "id": "no9hgq7fIJG8",
        "outputId": "1c12f443-0ac5-447d-dc70-4ba06c4725ec"
      },
      "execution_count": 33,
      "outputs": [
        {
          "output_type": "execute_result",
          "data": {
            "text/plain": [
              "{'total_span': 30.0,\n",
              " 'max_overdue': 15.0,\n",
              " 'total_overdue': 16.0,\n",
              " 'overdue_ct': 2,\n",
              " 'ontime_ct': 5}"
            ]
          },
          "metadata": {},
          "execution_count": 33
        },
        {
          "output_type": "display_data",
          "data": {
            "text/plain": [
              "<Figure size 864x352.8 with 1 Axes>"
            ],
            "image/png": "[encoded data removed]"
          },
          "metadata": {
            "needs_background": "light"
          }
        },
        {
          "output_type": "display_data",
          "data": {
            "text/plain": [
              "<Figure size 864x50.4 with 1 Axes>"
            ],
            "image/png": "[encoded data removed]"
          },
          "metadata": {
            "needs_background": "light"
          }
        }
      ]
    },
    {
      "cell_type": "code",
      "source": [],
      "metadata": {
        "id": "atTYYdRAYkPV"
      },
      "execution_count": null,
      "outputs": []
    }
  ]
}