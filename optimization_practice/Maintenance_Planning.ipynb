{
  "nbformat": 4,
  "nbformat_minor": 0,
  "metadata": {
    "colab": {
      "provenance": [],
      "authorship_tag": "ABX9TyOvZ751SwugoOafLbWc8lRn",
      "include_colab_link": true
    },
    "kernelspec": {
      "name": "python3",
      "display_name": "Python 3"
    },
    "language_info": {
      "name": "python"
    }
  },
  "cells": [
    {
      "cell_type": "markdown",
      "metadata": {
        "id": "view-in-github",
        "colab_type": "text"
      },
      "source": [
        "<a href=\"https://colab.research.google.com/github/hanhanwu/Hanhan_COLAB_Experiemnts/blob/master/optimization_practice/Maintenance_Planning.ipynb\" target=\"_parent\"><img src=\"https://colab.research.google.com/assets/colab-badge.svg\" alt=\"Open In Colab\"/></a>"
      ]
    },
    {
      "cell_type": "markdown",
      "source": [
        "# Maintenance Planning\n",
        "\n",
        "* [Problem Statement][1]\n",
        "\n",
        "[1]:https://github.com/jckantor/ND-Pyomo-Cookbook/blob/main/notebooks/04.04-Maintenance-Planning.ipynb"
      ],
      "metadata": {
        "id": "WxJhIy7SHbXN"
      }
    },
    {
      "cell_type": "code",
      "execution_count": 4,
      "metadata": {
        "colab": {
          "base_uri": "https://localhost:8080/"
        },
        "id": "PYUdmhVpFp7u",
        "outputId": "74746146-77e4-49f4-8b30-db5cbe7f702e"
      },
      "outputs": [
        {
          "output_type": "stream",
          "name": "stdout",
          "text": [
            "Looking in indexes: https://pypi.org/simple, https://us-python.pkg.dev/colab-wheels/public/simple/\n",
            "Collecting gurobipy\n",
            "  Downloading gurobipy-10.0.1-cp38-cp38-manylinux2014_x86_64.whl (12.8 MB)\n",
            "\u001b[2K     \u001b[90m━━━━━━━━━━━━━━━━━━━━━━━━━━━━━━━━━━━━━━━━\u001b[0m \u001b[32m12.8/12.8 MB\u001b[0m \u001b[31m66.4 MB/s\u001b[0m eta \u001b[36m0:00:00\u001b[0m\n",
            "\u001b[?25hInstalling collected packages: gurobipy\n",
            "Successfully installed gurobipy-10.0.1\n"
          ]
        }
      ],
      "source": [
        "%matplotlib inline\n",
        "import matplotlib.pyplot as plt\n",
        "import numpy as np\n",
        "import pandas as pd\n",
        "from IPython.display import display, HTML\n",
        "\n",
        "import shutil\n",
        "import sys\n",
        "import os.path\n",
        "\n",
        "if not shutil.which(\"pyomo\"):\n",
        "    !pip install -q pyomo\n",
        "    assert(shutil.which(\"pyomo\"))\n",
        "\n",
        "if not (shutil.which(\"cbc\") or os.path.isfile(\"cbc\")):\n",
        "    if \"google.colab\" in sys.modules:\n",
        "        !apt-get install -y -qq coinor-cbc\n",
        "    else:\n",
        "        try:\n",
        "            !conda install -c conda-forge coincbc \n",
        "        except:\n",
        "            pass\n",
        "\n",
        "assert(shutil.which(\"cbc\") or os.path.isfile(\"cbc\"))\n",
        "\n",
        "!python -m pip install gurobipy\n",
        "\n",
        "from pyomo.environ import *\n",
        "from pyomo.gdp import *"
      ]
    },
    {
      "cell_type": "markdown",
      "source": [
        "## Situation 1\n",
        "\n",
        "* Disjunctions are 2 binaries\n",
        "\n",
        "### NOTES\n",
        "* It seems that different solver can get different optimization results 🤨"
      ],
      "metadata": {
        "id": "7lS-n0ypICU5"
      }
    },
    {
      "cell_type": "code",
      "source": [
        "np.random.seed(10)\n",
        "\n",
        "# problem parameters\n",
        "T = 90        # planning period from 1..T\n",
        "M = 3         # length of maintenance period\n",
        "P = 4         # number of maintenance periods\n",
        "\n",
        "# daily profits\n",
        "c = {k:np.random.uniform() for k in range(1, T+1)}\n",
        "print(c)\n",
        "\n",
        "\n",
        "# Plot function refered from https://github.com/jckantor/ND-Pyomo-Cookbook/blob/main/notebooks/04.04-Maintenance-Planning.ipynb\n",
        "def plot_schedule(model):\n",
        "    fig,ax = plt.subplots(3,1, figsize=(9,4))\n",
        "    \n",
        "    ax[0].bar(model.T, [model.c[t] for t in model.T], color='g')\n",
        "    ax[0].set_title('daily profit $c_t$')\n",
        "    \n",
        "    ax[1].bar(model.T, [model.work[t]() for t in model.T], label='normal operation', color='g')\n",
        "    ax[1].set_title('unit operating schedule $x_t$')\n",
        "    \n",
        "    ax[2].bar(model.MT, [model.maintain[t]() for t in model.MT], color='g')\n",
        "    ax[2].set_title(str(P) + ' maintenance starts $y_t$')\n",
        "    for a in ax:\n",
        "        a.set_xlim(0.1, len(model.T)+0.9)\n",
        "        \n",
        "    plt.tight_layout()"
      ],
      "metadata": {
        "colab": {
          "base_uri": "https://localhost:8080/"
        },
        "id": "TRZGv0CgHaU1",
        "outputId": "24860aa5-a7e7-40d3-ba0c-590663b44c6f"
      },
      "execution_count": 24,
      "outputs": [
        {
          "output_type": "stream",
          "name": "stdout",
          "text": [
            "{1: 0.771320643266746, 2: 0.0207519493594015, 3: 0.6336482349262754, 4: 0.7488038825386119, 5: 0.4985070123025904, 6: 0.22479664553084766, 7: 0.19806286475962398, 8: 0.7605307121989587, 9: 0.16911083656253545, 10: 0.08833981417401027, 11: 0.6853598183677972, 12: 0.9533933461949365, 13: 0.003948266327914451, 14: 0.5121922633857766, 15: 0.8126209616521135, 16: 0.6125260668293881, 17: 0.7217553174317995, 18: 0.29187606817063316, 19: 0.9177741225129434, 20: 0.7145757833976906, 21: 0.5425443680112613, 22: 0.14217004760152696, 23: 0.3733407600514692, 24: 0.6741336150663453, 25: 0.4418331744229961, 26: 0.4340139933332937, 27: 0.6177669784693172, 28: 0.5131382425543909, 29: 0.6503971819314672, 30: 0.6010389534045444, 31: 0.8052231968327465, 32: 0.5216471523936341, 33: 0.9086488808086682, 34: 0.3192360889885453, 35: 0.09045934927090737, 36: 0.30070005663620336, 37: 0.11398436186354977, 38: 0.8286813263076767, 39: 0.04689631938924976, 40: 0.6262871483113925, 41: 0.5475861559192435, 42: 0.8192869956700687, 43: 0.1989475396788123, 44: 0.8568503024577332, 45: 0.3516526394320879, 46: 0.7546476915298572, 47: 0.2959617068796787, 48: 0.8839364795611863, 49: 0.3255116378322488, 50: 0.16501589771914849, 51: 0.3925292439465873, 52: 0.0934603745586503, 53: 0.8211056578369285, 54: 0.15115201964256386, 55: 0.3841144486921996, 56: 0.9442607122388011, 57: 0.9876254749018722, 58: 0.4563045470947841, 59: 0.8261228438427398, 60: 0.25137413420705934, 61: 0.5973716482308843, 62: 0.9028317603316274, 63: 0.5345579488018151, 64: 0.5902013629854229, 65: 0.03928176722538734, 66: 0.3571817586345363, 67: 0.07961309015596418, 68: 0.30545991834281827, 69: 0.330719311982132, 70: 0.7738302962105958, 71: 0.039959208689977266, 72: 0.42949217843163834, 73: 0.3149268718426883, 74: 0.6364911430675446, 75: 0.34634715008003303, 76: 0.04309735620499444, 77: 0.879915174517916, 78: 0.763240587143681, 79: 0.8780966427248583, 80: 0.41750914383926696, 81: 0.6055775643937568, 82: 0.5134666274082884, 83: 0.5978366479629736, 84: 0.2622156611319503, 85: 0.30087130894070724, 86: 0.025399782050106068, 87: 0.30306256065103476, 88: 0.24207587540352737, 89: 0.5575781886626442, 90: 0.5655070198881675}\n"
          ]
        }
      ]
    },
    {
      "cell_type": "code",
      "source": [
        "model = ConcreteModel()\n",
        "\n",
        "model.T = RangeSet(1, T)\n",
        "model.MT = RangeSet(1, T-M+1)\n",
        "model.N = RangeSet(0, M-1)\n",
        "\n",
        "model.c = Param(model.T, initialize=c)\n",
        "\n",
        "model.work = Var(model.T, domain=Binary)  # indicate whether on date t will work\n",
        "model.maintain = Var(model.T, domain=Binary)  # indicate the whether date t is the first maintenance date\n",
        "\n",
        "model.Obj = Objective(expr=sum(model.c[t] * model.work[t] for t in model.T), sense=maximize)\n",
        "\n",
        "model.c1 = Constraint(expr=sum(model.maintain[t] for t in model.MT) == P)  # total number of maintenance is P\n",
        "model.c2 = Constraint(model.MT, rule=lambda model, t: sum(model.maintain[t+n] for n in model.N) <= 1) # Within each maintenance period, there's only 1 maintenace happen\n",
        "model.c3 = Disjunction(model.MT, rule=lambda model, t: [model.maintain[t]==0, sum(model.work[t+n] for n in model.N)==0])\n",
        "\n",
        "\n",
        "SolverFactory('cbc').solve(model).write()\n",
        "print(f'Max Profit is: {model.Obj()}')\n",
        "plot_schedule(model)"
      ],
      "metadata": {
        "colab": {
          "base_uri": "https://localhost:8080/",
          "height": 1000
        },
        "id": "TKUk64tzIVcB",
        "outputId": "6be7f4ce-af28-452b-dad4-2e947d174b02"
      },
      "execution_count": 32,
      "outputs": [
        {
          "output_type": "stream",
          "name": "stdout",
          "text": [
            "# ==========================================================\n",
            "# = Solver Results                                         =\n",
            "# ==========================================================\n",
            "# ----------------------------------------------------------\n",
            "#   Problem Information\n",
            "# ----------------------------------------------------------\n",
            "Problem: \n",
            "- Name: unknown\n",
            "  Lower bound: 43.63319787\n",
            "  Upper bound: 43.63319787\n",
            "  Number of objectives: 1\n",
            "  Number of constraints: 88\n",
            "  Number of variables: 88\n",
            "  Number of binary variables: 180\n",
            "  Number of integer variables: 180\n",
            "  Number of nonzeros: 0\n",
            "  Sense: maximize\n",
            "# ----------------------------------------------------------\n",
            "#   Solver Information\n",
            "# ----------------------------------------------------------\n",
            "Solver: \n",
            "- Status: ok\n",
            "  User time: -1.0\n",
            "  System time: 0.01\n",
            "  Wallclock time: 0.01\n",
            "  Termination condition: optimal\n",
            "  Termination message: Model was solved to optimality (subject to tolerances), and an optimal solution is available.\n",
            "  Statistics: \n",
            "    Branch and bound: \n",
            "      Number of bounded subproblems: 0\n",
            "      Number of created subproblems: 0\n",
            "    Black box: \n",
            "      Number of iterations: 0\n",
            "  Error rc: 0\n",
            "  Time: 0.0320277214050293\n",
            "# ----------------------------------------------------------\n",
            "#   Solution Information\n",
            "# ----------------------------------------------------------\n",
            "Solution: \n",
            "- number of solutions: 0\n",
            "  number of solutions displayed: 0\n",
            "Max Profit is: 43.63319786511899\n"
          ]
        },
        {
          "output_type": "display_data",
          "data": {
            "text/plain": [
              "<Figure size 648x288 with 3 Axes>"
            ],
            "image/png": "[encoded data removed]"
          },
          "metadata": {
            "needs_background": "light"
          }
        }
      ]
    },
    {
      "cell_type": "code",
      "source": [
        "TransformationFactory('gdp.hull').apply_to(model)\n",
        "SolverFactory('gurobi').solve(model).write()\n",
        "print(f'Max Profit is: {model.Obj()}')\n",
        "plot_schedule(model)"
      ],
      "metadata": {
        "colab": {
          "base_uri": "https://localhost:8080/",
          "height": 980
        },
        "id": "LqsaRSW_PFjd",
        "outputId": "d0d7002d-3f87-480a-903b-447928db33e0"
      },
      "execution_count": 31,
      "outputs": [
        {
          "output_type": "stream",
          "name": "stdout",
          "text": [
            "# ==========================================================\n",
            "# = Solver Results                                         =\n",
            "# ==========================================================\n",
            "# ----------------------------------------------------------\n",
            "#   Problem Information\n",
            "# ----------------------------------------------------------\n",
            "Problem: \n",
            "- Name: x1061\n",
            "  Lower bound: 41.43043374700336\n",
            "  Upper bound: 41.43043374700338\n",
            "  Number of objectives: 1\n",
            "  Number of constraints: 1322\n",
            "  Number of variables: 973\n",
            "  Number of binary variables: 356\n",
            "  Number of integer variables: 356\n",
            "  Number of continuous variables: 617\n",
            "  Number of nonzeros: 3081\n",
            "  Sense: maximize\n",
            "# ----------------------------------------------------------\n",
            "#   Solver Information\n",
            "# ----------------------------------------------------------\n",
            "Solver: \n",
            "- Status: ok\n",
            "  Return code: 0\n",
            "  Message: Model was solved to optimality (subject to tolerances), and an optimal solution is available.\n",
            "  Termination condition: optimal\n",
            "  Termination message: Model was solved to optimality (subject to tolerances), and an optimal solution is available.\n",
            "  Wall time: 0.006280183792114258\n",
            "  Error rc: 0\n",
            "  Time: 0.16552233695983887\n",
            "# ----------------------------------------------------------\n",
            "#   Solution Information\n",
            "# ----------------------------------------------------------\n",
            "Solution: \n",
            "- number of solutions: 0\n",
            "  number of solutions displayed: 0\n",
            "Max Profit is: 41.43043374700337\n"
          ]
        },
        {
          "output_type": "display_data",
          "data": {
            "text/plain": [
              "<Figure size 648x288 with 3 Axes>"
            ],
            "image/png": "[encoded data removed]"
          },
          "metadata": {
            "needs_background": "light"
          }
        }
      ]
    }
  ]
}