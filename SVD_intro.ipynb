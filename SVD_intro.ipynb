{
  "nbformat": 4,
  "nbformat_minor": 0,
  "metadata": {
    "colab": {
      "name": "SVD_intro.ipynb",
      "version": "0.3.2",
      "provenance": [],
      "collapsed_sections": [],
      "include_colab_link": true
    },
    "kernelspec": {
      "name": "python3",
      "display_name": "Python 3"
    }
  },
  "cells": [
    {
      "cell_type": "markdown",
      "metadata": {
        "id": "view-in-github",
        "colab_type": "text"
      },
      "source": [
        "<a href=\"https://colab.research.google.com/github/hanhanwu/Hanhan_COLAB_Experiemnts/blob/master/SVD_intro.ipynb\" target=\"_parent\"><img src=\"https://colab.research.google.com/assets/colab-badge.svg\" alt=\"Open In Colab\"/></a>"
      ]
    },
    {
      "cell_type": "markdown",
      "metadata": {
        "id": "OytKlCUFfKQN",
        "colab_type": "text"
      },
      "source": [
        "# About SVD\n",
        "\n",
        "* If the dimensions of A are m x n:\n",
        "  * U is an m x m matrix of Left Singular Vectors\n",
        "  * S is an m x n rectangular diagonal matrix of Singular Values arranged in decreasing order\n",
        "  * V is an n x n matrix of Right Singular Vectors\n",
        "  \n",
        "\n",
        "* decomposition: `A = U*S*VT`\n",
        "  * The decomposition allows us to express our original matrix as a linear combination of low-rank matrices.\n",
        "  \n",
        "* SVD in Dimensional Reduction\n",
        "  * Using SVD, we are able to represent our large matrix A by 3 smaller matrices U, S and V\n",
        "  * This is helpful in large computations. We can obtain a k-rank approximation of A, by selecting the first k singular values and truncate the 3 matrices accordingly\n",
        "  * The Rank of Matrix - The number of INDEPENDENT columns in a matrix, and none of them can be expressed as a linear function of one or more of other columns.\n",
        "    * <b>The rank of a matrix can be thought of as a representative of the amount of unique information represented by the matrix. Higher the rank, higher the information.</b>\n",
        "\n",
        "* The code below is showing 3 types of python SVD\n",
        "\n",
        "\n",
        "* Reference: https://www.analyticsvidhya.com/blog/2019/08/5-applications-singular-value-decomposition-svd-data-science/?utm_source=feedburner&utm_medium=email&utm_campaign=Feed%3A+AnalyticsVidhya+%28Analytics+Vidhya%29"
      ]
    },
    {
      "cell_type": "markdown",
      "metadata": {
        "id": "5Y168marVDa7",
        "colab_type": "text"
      },
      "source": [
        "## Type 1 Python SVD\n",
        "\n",
        "* This method allows you to get complete S, U, V"
      ]
    },
    {
      "cell_type": "code",
      "metadata": {
        "id": "OsqGqedlUzBa",
        "colab_type": "code",
        "colab": {}
      },
      "source": [
        "import numpy as np\n",
        "from numpy.linalg import svd"
      ],
      "execution_count": 0,
      "outputs": []
    },
    {
      "cell_type": "code",
      "metadata": {
        "id": "ntNGmWFNU7tu",
        "colab_type": "code",
        "colab": {}
      },
      "source": [
        "# this matrix has rank=2, since col3 = col1+co2, \n",
        "## but col1 and col2 are independent from each other\n",
        "\n",
        "A = np.array([[1,2,3], [4,5,6], [5,7,9]])\n",
        "\n",
        "U, S, VT = svd(A)"
      ],
      "execution_count": 0,
      "outputs": []
    },
    {
      "cell_type": "code",
      "metadata": {
        "id": "wor44QZrV6hv",
        "colab_type": "code",
        "outputId": "cf51ebd5-7dc0-4e2e-9480-2e43cc214a0c",
        "colab": {
          "base_uri": "https://localhost:8080/",
          "height": 221
        }
      },
      "source": [
        "print(\"Left Singular Vectors:\")\n",
        "print(U)\n",
        "print(\"Singular Values:\") \n",
        "print(np.diag(S))\n",
        "print(\"Right Singular Vectors:\") \n",
        "print(VT)"
      ],
      "execution_count": 0,
      "outputs": [
        {
          "output_type": "stream",
          "text": [
            "Left Singular Vectors:\n",
            "[[-0.2354116   0.78182354 -0.57735027]\n",
            " [-0.55937325 -0.5947842  -0.57735027]\n",
            " [-0.79478485  0.18703934  0.57735027]]\n",
            "Singular Values:\n",
            "[[1.56633231e+01 0.00000000e+00 0.00000000e+00]\n",
            " [0.00000000e+00 8.12593979e-01 0.00000000e+00]\n",
            " [0.00000000e+00 0.00000000e+00 1.17807579e-15]]\n",
            "Right Singular Vectors:\n",
            "[[-0.41158755 -0.56381288 -0.71603821]\n",
            " [-0.8148184  -0.12429146  0.56623547]\n",
            " [-0.40824829  0.81649658 -0.40824829]]\n"
          ],
          "name": "stdout"
        }
      ]
    },
    {
      "cell_type": "code",
      "metadata": {
        "id": "6RwW7b6qWBCC",
        "colab_type": "code",
        "outputId": "1fd83a52-c0aa-456b-97f4-068617fd268c",
        "colab": {
          "base_uri": "https://localhost:8080/",
          "height": 68
        }
      },
      "source": [
        "# Return the original matrix A\n",
        "# @ is used for matrix multiplication in Py3, use np.matmul with Py2\n",
        "print(U @ np.diag(S) @ VT)"
      ],
      "execution_count": 0,
      "outputs": [
        {
          "output_type": "stream",
          "text": [
            "[[1. 2. 3.]\n",
            " [4. 5. 6.]\n",
            " [5. 7. 9.]]\n"
          ],
          "name": "stdout"
        }
      ]
    },
    {
      "cell_type": "markdown",
      "metadata": {
        "id": "xoGBhme2ax5U",
        "colab_type": "text"
      },
      "source": [
        "## Type 2 Pyhton SVD\n",
        "\n",
        "* Sklearn Truncated SVD - This is used for dimensional reduction directly"
      ]
    },
    {
      "cell_type": "code",
      "metadata": {
        "id": "3i-RzGbaWIBN",
        "colab_type": "code",
        "colab": {}
      },
      "source": [
        "import numpy as np\n",
        "from sklearn.decomposition import TruncatedSVD"
      ],
      "execution_count": 0,
      "outputs": []
    },
    {
      "cell_type": "code",
      "metadata": {
        "id": "py1zQcnngqD4",
        "colab_type": "code",
        "colab": {
          "base_uri": "https://localhost:8080/",
          "height": 85
        },
        "outputId": "559b2a63-c369-4ea5-96fc-3372bf21a326"
      },
      "source": [
        "A = np.array([[1,2,3], [4,5,6], [5,7,9]])\n",
        "print(\"Original Matrix:\")\n",
        "A"
      ],
      "execution_count": 12,
      "outputs": [
        {
          "output_type": "stream",
          "text": [
            "Original Matrix:\n"
          ],
          "name": "stdout"
        },
        {
          "output_type": "execute_result",
          "data": {
            "text/plain": [
              "array([[1, 2, 3],\n",
              "       [4, 5, 6],\n",
              "       [5, 7, 9]])"
            ]
          },
          "metadata": {
            "tags": []
          },
          "execution_count": 12
        }
      ]
    },
    {
      "cell_type": "code",
      "metadata": {
        "id": "SFN8yYuHgsih",
        "colab_type": "code",
        "colab": {
          "base_uri": "https://localhost:8080/",
          "height": 136
        },
        "outputId": "91da7edf-77b3-46be-8636-c8fd233e1f71"
      },
      "source": [
        "svd =  TruncatedSVD(n_components = 2)  # reduce to 2 features\n",
        "A_transf = svd.fit_transform(A)\n",
        "\n",
        "print(\"Singular values:\")\n",
        "print(svd.singular_values_)\n",
        "print()\n",
        "\n",
        "print(\"Transformed Matrix after reducing to 2 features:\")\n",
        "print(A_transf)"
      ],
      "execution_count": 13,
      "outputs": [
        {
          "output_type": "stream",
          "text": [
            "Singular values:\n",
            "[15.66332312  0.81259398]\n",
            "\n",
            "Transformed Matrix after reducing to 2 features:\n",
            "[[ 3.68732795  0.6353051 ]\n",
            " [ 8.76164389 -0.48331806]\n",
            " [12.44897184  0.15198704]]\n"
          ],
          "name": "stdout"
        }
      ]
    },
    {
      "cell_type": "markdown",
      "metadata": {
        "id": "X9PtjTWMhJGh",
        "colab_type": "text"
      },
      "source": [
        "## Type 3 Python SVD\n",
        "\n",
        "* Randomized SVD\n",
        "  * It returns S, U, V too\n",
        "  * It returns the same results as Truncatsed SVD, but faster\n",
        "    * Truncated SVD uses an exact solver ARPACK, Randomized SVD uses approximation techniques.\n",
        "    * ARPACK, the ARnoldi PACKage, is a numericalsoftware library written in FORTRAN 77 for solving large scale eigenvalue problems in the matrix-free fashion"
      ]
    },
    {
      "cell_type": "code",
      "metadata": {
        "id": "oEwpgrvigwoZ",
        "colab_type": "code",
        "colab": {}
      },
      "source": [
        "import numpy as np\n",
        "from sklearn.utils.extmath import randomized_svd"
      ],
      "execution_count": 0,
      "outputs": []
    },
    {
      "cell_type": "code",
      "metadata": {
        "id": "IrBmh4v8iIiz",
        "colab_type": "code",
        "colab": {
          "base_uri": "https://localhost:8080/",
          "height": 187
        },
        "outputId": "817da7a4-b044-44b7-869d-152f4e400f53"
      },
      "source": [
        "A = np.array([[1,2,3], [4,5,6], [5,7,9]])\n",
        "u, s, vt = randomized_svd(A, n_components = 2)  # reduce to 2 features\n",
        "\n",
        "print(\"Left Singular Vectors:\")\n",
        "print(u)\n",
        "\n",
        "print(\"Singular Values:\") \n",
        "print(np.diag(s))\n",
        "\n",
        "print(\"Right Singular Vectors:\") \n",
        "print(vt)"
      ],
      "execution_count": 16,
      "outputs": [
        {
          "output_type": "stream",
          "text": [
            "Left Singular Vectors:\n",
            "[[ 0.2354116   0.78182354]\n",
            " [ 0.55937325 -0.5947842 ]\n",
            " [ 0.79478485  0.18703934]]\n",
            "Singular Values:\n",
            "[[15.66332312  0.        ]\n",
            " [ 0.          0.81259398]]\n",
            "Right Singular Vectors:\n",
            "[[ 0.41158755  0.56381288  0.71603821]\n",
            " [-0.8148184  -0.12429146  0.56623547]]\n"
          ],
          "name": "stdout"
        }
      ]
    },
    {
      "cell_type": "code",
      "metadata": {
        "id": "pwq9fTHYiVvF",
        "colab_type": "code",
        "colab": {
          "base_uri": "https://localhost:8080/",
          "height": 85
        },
        "outputId": "1a5fdda9-dead-452e-9146-cb9c3d21aa26"
      },
      "source": [
        "# Return the reduced matrix\n",
        "# @ is used for matrix multiplication in Py3, use np.matmul with Py2\n",
        "print('Reduced matrix:')\n",
        "print(u @ np.diag(s) @ vt)"
      ],
      "execution_count": 17,
      "outputs": [
        {
          "output_type": "stream",
          "text": [
            "Reduced matrix:\n",
            "[[1. 2. 3.]\n",
            " [4. 5. 6.]\n",
            " [5. 7. 9.]]\n"
          ],
          "name": "stdout"
        }
      ]
    },
    {
      "cell_type": "markdown",
      "metadata": {
        "id": "XyjOMVDYi8V4",
        "colab_type": "text"
      },
      "source": [
        "As we can see from above, even tough randomized SVD has reduced the features into 2, the generated U, S, V can still return the original matrix"
      ]
    }
  ]
}