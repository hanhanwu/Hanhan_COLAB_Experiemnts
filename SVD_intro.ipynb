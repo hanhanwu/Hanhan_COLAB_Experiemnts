{
  "nbformat": 4,
  "nbformat_minor": 0,
  "metadata": {
    "colab": {
      "name": "SVD_intro.ipynb",
      "version": "0.3.2",
      "provenance": [],
      "collapsed_sections": [],
      "include_colab_link": true
    },
    "kernelspec": {
      "name": "python3",
      "display_name": "Python 3"
    }
  },
  "cells": [
    {
      "cell_type": "markdown",
      "metadata": {
        "id": "view-in-github",
        "colab_type": "text"
      },
      "source": [
        "<a href=\"https://colab.research.google.com/github/hanhanwu/Hanhan_COLAB_Experiemnts/blob/master/SVD_intro.ipynb\" target=\"_parent\"><img src=\"https://colab.research.google.com/assets/colab-badge.svg\" alt=\"Open In Colab\"/></a>"
      ]
    },
    {
      "cell_type": "markdown",
      "metadata": {
        "id": "5Y168marVDa7",
        "colab_type": "text"
      },
      "source": [
        "## Type 1 Python SVD\n",
        "\n",
        "* This method allows you to get complete S, U, V"
      ]
    },
    {
      "cell_type": "code",
      "metadata": {
        "id": "OsqGqedlUzBa",
        "colab_type": "code",
        "colab": {}
      },
      "source": [
        "import numpy as np\n",
        "from numpy.linalg import svd"
      ],
      "execution_count": 0,
      "outputs": []
    },
    {
      "cell_type": "code",
      "metadata": {
        "id": "ntNGmWFNU7tu",
        "colab_type": "code",
        "colab": {}
      },
      "source": [
        "A = np.array([[1,2,3], [4,5,6], [5,7,9]])\n",
        "\n",
        "U, S, VT = svd(A)"
      ],
      "execution_count": 0,
      "outputs": []
    },
    {
      "cell_type": "code",
      "metadata": {
        "id": "wor44QZrV6hv",
        "colab_type": "code",
        "outputId": "cf51ebd5-7dc0-4e2e-9480-2e43cc214a0c",
        "colab": {
          "base_uri": "https://localhost:8080/",
          "height": 221
        }
      },
      "source": [
        "print(\"Left Singular Vectors:\")\n",
        "print(U)\n",
        "print(\"Singular Values:\") \n",
        "print(np.diag(S))\n",
        "print(\"Right Singular Vectors:\") \n",
        "print(VT)"
      ],
      "execution_count": 0,
      "outputs": [
        {
          "output_type": "stream",
          "text": [
            "Left Singular Vectors:\n",
            "[[-0.2354116   0.78182354 -0.57735027]\n",
            " [-0.55937325 -0.5947842  -0.57735027]\n",
            " [-0.79478485  0.18703934  0.57735027]]\n",
            "Singular Values:\n",
            "[[1.56633231e+01 0.00000000e+00 0.00000000e+00]\n",
            " [0.00000000e+00 8.12593979e-01 0.00000000e+00]\n",
            " [0.00000000e+00 0.00000000e+00 1.17807579e-15]]\n",
            "Right Singular Vectors:\n",
            "[[-0.41158755 -0.56381288 -0.71603821]\n",
            " [-0.8148184  -0.12429146  0.56623547]\n",
            " [-0.40824829  0.81649658 -0.40824829]]\n"
          ],
          "name": "stdout"
        }
      ]
    },
    {
      "cell_type": "code",
      "metadata": {
        "id": "6RwW7b6qWBCC",
        "colab_type": "code",
        "outputId": "1fd83a52-c0aa-456b-97f4-068617fd268c",
        "colab": {
          "base_uri": "https://localhost:8080/",
          "height": 68
        }
      },
      "source": [
        "# Return the original matrix A\n",
        "# @ is used for matrix multiplication in Py3, use np.matmul with Py2\n",
        "print(U @ np.diag(S) @ VT)"
      ],
      "execution_count": 0,
      "outputs": [
        {
          "output_type": "stream",
          "text": [
            "[[1. 2. 3.]\n",
            " [4. 5. 6.]\n",
            " [5. 7. 9.]]\n"
          ],
          "name": "stdout"
        }
      ]
    },
    {
      "cell_type": "markdown",
      "metadata": {
        "id": "xoGBhme2ax5U",
        "colab_type": "text"
      },
      "source": [
        "## Type 2 Pyhton SVD\n",
        "\n",
        "* This is ised for dimensional reduction directly"
      ]
    },
    {
      "cell_type": "code",
      "metadata": {
        "id": "3i-RzGbaWIBN",
        "colab_type": "code",
        "colab": {}
      },
      "source": [
        ""
      ],
      "execution_count": 0,
      "outputs": []
    }
  ]
}